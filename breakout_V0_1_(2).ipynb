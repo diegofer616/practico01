{
  "cells": [
    {
      "cell_type": "markdown",
      "metadata": {
        "id": "view-in-github",
        "colab_type": "text"
      },
      "source": [
        "<a href=\"https://colab.research.google.com/github/diegofer616/practico01/blob/main/breakout_V0_1_(2).ipynb\" target=\"_parent\"><img src=\"https://colab.research.google.com/assets/colab-badge.svg\" alt=\"Open In Colab\"/></a>"
      ]
    },
    {
      "cell_type": "code",
      "source": [
        "!pip install gymnasium\n",
        "!pip install ale-py\n",
        "!pip install gym"
      ],
      "metadata": {
        "colab": {
          "base_uri": "https://localhost:8080/"
        },
        "id": "KNKek5QihiHG",
        "outputId": "a4c27e5b-d70d-460a-842d-355b56ba2029"
      },
      "execution_count": 2,
      "outputs": [
        {
          "output_type": "stream",
          "name": "stdout",
          "text": [
            "Collecting gymnasium\n",
            "  Downloading gymnasium-1.0.0-py3-none-any.whl.metadata (9.5 kB)\n",
            "Requirement already satisfied: numpy>=1.21.0 in /usr/local/lib/python3.10/dist-packages (from gymnasium) (1.26.4)\n",
            "Requirement already satisfied: cloudpickle>=1.2.0 in /usr/local/lib/python3.10/dist-packages (from gymnasium) (3.1.0)\n",
            "Requirement already satisfied: typing-extensions>=4.3.0 in /usr/local/lib/python3.10/dist-packages (from gymnasium) (4.12.2)\n",
            "Collecting farama-notifications>=0.0.1 (from gymnasium)\n",
            "  Downloading Farama_Notifications-0.0.4-py3-none-any.whl.metadata (558 bytes)\n",
            "Downloading gymnasium-1.0.0-py3-none-any.whl (958 kB)\n",
            "\u001b[2K   \u001b[90m━━━━━━━━━━━━━━━━━━━━━━━━━━━━━━━━━━━━━━━━\u001b[0m \u001b[32m958.1/958.1 kB\u001b[0m \u001b[31m11.6 MB/s\u001b[0m eta \u001b[36m0:00:00\u001b[0m\n",
            "\u001b[?25hDownloading Farama_Notifications-0.0.4-py3-none-any.whl (2.5 kB)\n",
            "Installing collected packages: farama-notifications, gymnasium\n",
            "Successfully installed farama-notifications-0.0.4 gymnasium-1.0.0\n",
            "Collecting ale-py\n",
            "  Downloading ale_py-0.10.1-cp310-cp310-manylinux_2_17_x86_64.manylinux2014_x86_64.whl.metadata (7.6 kB)\n",
            "Requirement already satisfied: numpy>1.20 in /usr/local/lib/python3.10/dist-packages (from ale-py) (1.26.4)\n",
            "Requirement already satisfied: typing-extensions in /usr/local/lib/python3.10/dist-packages (from ale-py) (4.12.2)\n",
            "Downloading ale_py-0.10.1-cp310-cp310-manylinux_2_17_x86_64.manylinux2014_x86_64.whl (2.1 MB)\n",
            "\u001b[2K   \u001b[90m━━━━━━━━━━━━━━━━━━━━━━━━━━━━━━━━━━━━━━━━\u001b[0m \u001b[32m2.1/2.1 MB\u001b[0m \u001b[31m16.7 MB/s\u001b[0m eta \u001b[36m0:00:00\u001b[0m\n",
            "\u001b[?25hInstalling collected packages: ale-py\n",
            "Successfully installed ale-py-0.10.1\n",
            "Requirement already satisfied: gym in /usr/local/lib/python3.10/dist-packages (0.25.2)\n",
            "Requirement already satisfied: numpy>=1.18.0 in /usr/local/lib/python3.10/dist-packages (from gym) (1.26.4)\n",
            "Requirement already satisfied: cloudpickle>=1.2.0 in /usr/local/lib/python3.10/dist-packages (from gym) (3.1.0)\n",
            "Requirement already satisfied: gym-notices>=0.0.4 in /usr/local/lib/python3.10/dist-packages (from gym) (0.0.8)\n"
          ]
        }
      ]
    },
    {
      "cell_type": "code",
      "execution_count": 3,
      "metadata": {
        "id": "igQC9jj8fXpS"
      },
      "outputs": [],
      "source": [
        "\n",
        "import gymnasium as gym\n",
        "import numpy as np\n",
        "from numpy import asarray\n",
        "import matplotlib.pyplot as plt\n",
        "import datetime\n",
        "from collections import deque\n",
        "import time\n",
        "import random\n",
        "from tqdm import tqdm\n",
        "from PIL import Image\n",
        "import cv2\n",
        "import os\n",
        "import sys\n",
        "\n",
        "\n",
        "import tensorflow as tf\n",
        "from tensorflow import keras\n",
        "import keras.backend as backend\n",
        "\n",
        "from tensorflow.keras.models import Sequential\n",
        "from tensorflow.keras.layers import Dense, Dropout, Conv2D, MaxPooling2D, Activation, Flatten\n",
        "from tensorflow.keras.optimizers import Adam\n",
        "\n",
        "from tensorflow.python.framework.ops import disable_eager_execution\n",
        "from tensorflow.python.framework.ops import enable_eager_execution\n",
        "\n",
        "from functools import partial\n",
        "print= partial(print, flush=True)"
      ]
    },
    {
      "cell_type": "code",
      "execution_count": 4,
      "metadata": {
        "id": "A4ZTunZbgOAa"
      },
      "outputs": [],
      "source": [
        "# @title Texto de título predeterminado\n",
        "import ale_py\n",
        "gym.register_envs(ale_py)\n",
        "env = gym.make(\"ALE/Breakout-v5\", render_mode=\"rgb_array\")"
      ]
    },
    {
      "cell_type": "code",
      "execution_count": 16,
      "metadata": {
        "colab": {
          "base_uri": "https://localhost:8080/"
        },
        "id": "4ho7pNoFhCBa",
        "outputId": "7ac6dcd5-9484-45a4-e729-1f789bc6171a"
      },
      "outputs": [
        {
          "output_type": "stream",
          "name": "stdout",
          "text": [
            "Set parameters\n"
          ]
        }
      ],
      "source": [
        "print('Set parameters')\n",
        "DEBUG = False\n",
        "SHOW_EVERY = 200\n",
        "\n",
        "DISCOUNT = 0.99                 # Discount factor gamma used in the Q-learning update\n",
        "LEARNING_RATE = 0.00025         # 0.00001   0.00025 Mnih et all 2015\n",
        "                                  # Hessel et al. 2017 used 0.0000625\n",
        "                                # in Pong use 0.00025\n",
        "REPLAY_MEMORY_SIZE = 1000000      #100000  # How many last steps to keep in memory for model training\n",
        "\n",
        "MIN_REPLAY_MEMORY_SIZE = 50000   #50000  # Minimum number of random steps before to start training with the memory\n",
        "                                # This is also the Number of completely random actions before the agent starts learning\n",
        "MAX_FRAMES = 25000000           #50milion # Total number of frames the agent sees during training\n",
        "MINIBATCH_SIZE = 32             # How many steps (samples) to use for training\n",
        "UPDATE_TARGET_MODEL =10000       #10000 # Number of chosen actions between updating the target network.\n",
        "\n",
        "                                       # According to Mnih et al. 2015 this is measured in the number of\n",
        "                                       # parameter updates (every four actions), however, in the\n",
        "                                       # DeepMind code, it is clearly measured in the number\n",
        "                                       # of actions the agent choses\n",
        "UPDATE_MODEL = 4\n",
        "\n",
        "MODEL_NAME = 'DQN_DeepMind'\n",
        "MIN_REWARD = -200  # For model save\n",
        "\n",
        "#EPISODES = 20000   # number of match played in total during training\n",
        "EPISODES = 500   # number of match played in total during training\n",
        "\n",
        "SAVE_EPISODE_EVERY= int(EPISODES/10)#save model 10 times in the whole run\n"
      ]
    },
    {
      "cell_type": "code",
      "execution_count": 6,
      "metadata": {
        "id": "eoCvtAi8hFeY"
      },
      "outputs": [],
      "source": [
        "# Exploration annealing settings\n",
        "epsilon = 1  # not a constant, going to be decayed\n",
        "MIN_EPSILON = 0.01\n",
        "MAX_EPSILON = 1.00\n",
        "MID_EPSILON = 0.1\n",
        "\n",
        "EPSILON_DECAY_1 = (MAX_EPSILON-MID_EPSILON)/(REPLAY_MEMORY_SIZE-MIN_REPLAY_MEMORY_SIZE)\n",
        "EPSILON_DECAY_2 = (MID_EPSILON-MIN_EPSILON)/(MAX_FRAMES-REPLAY_MEMORY_SIZE)\n",
        "\n",
        "#  Stats settings\n",
        "AGGREGATE_STATS_EVERY = 10  # episodes/match"
      ]
    },
    {
      "cell_type": "code",
      "execution_count": 7,
      "metadata": {
        "id": "fYakBJtBhZcQ"
      },
      "outputs": [],
      "source": [
        "class DQNAgent():\n",
        "    def __init__(self):\n",
        "        # Main model\n",
        "        self.model = self.create_model()\n",
        "        print(self.model.summary())\n",
        "\n",
        "        # Target network\n",
        "        self.target_model = self.create_model()\n",
        "        self.target_model.set_weights(self.model.get_weights())\n",
        "\n",
        "        # Used to count when to update target network with main network's weights\n",
        "        self.target_update_counter = 0\n",
        "\n",
        "    def create_model(self):\n",
        "        model = Sequential()\n",
        "\n",
        "        model.add(Conv2D(32, (8, 8), input_shape=[84, 84, 4], strides=4,\n",
        "                         kernel_initializer=keras.initializers.VarianceScaling(scale=2.0)))  # 4 frame greyscale 84x84\n",
        "        model.add(Activation('relu'))\n",
        "        #model.add(MaxPooling2D(pool_size=(2, 2)))\n",
        "        model.add(Dropout(0.4))\n",
        "\n",
        "        model.add(Conv2D(64, (4, 4), strides=2, kernel_initializer=keras.initializers.VarianceScaling(scale=2.0)))\n",
        "        model.add(Activation('relu'))\n",
        "        #model.add(MaxPooling2D(pool_size=(2, 2)))\n",
        "        model.add(Dropout(0.2))\n",
        "\n",
        "        model.add(Conv2D(64, (3, 3), strides=1, kernel_initializer=keras.initializers.VarianceScaling(scale=2.0)))\n",
        "        model.add(Activation('relu'))\n",
        "        #model.add(MaxPooling2D(pool_size=(2, 2)))\n",
        "        model.add(Dropout(0.2))\n",
        "\n",
        "        model.add(Flatten())  # this converts our 3D feature maps to 1D feature vectors\n",
        "        model.add(Dense(512, kernel_initializer=keras.initializers.VarianceScaling(scale=2.0), activation='relu'))\n",
        "\n",
        "        model.add(Dense(env.action_space.n, activation='linear',\n",
        "                        kernel_initializer=keras.initializers.VarianceScaling(scale=2.0)))  # action_space = how many choices (2)\n",
        "        #model.compile(loss=\"mse\", optimizer=Adam(lr=0.00025), metrics=['accuracy'])\n",
        "        model.compile(loss=tf.keras.losses.Huber(), optimizer=Adam(learning_rate=LEARNING_RATE), metrics=['accuracy'])\n",
        "        return model\n",
        "\n",
        "    def train(self, minibatch):\n",
        "        # Get current states from minibatch, then query NN model for Q values\n",
        "        current_states = np.array(minibatch[0])/255\n",
        "        current_qs_list = self.model.predict(current_states, verbose=0)\n",
        "\n",
        "        # Get future states from minibatch, then query NN model for Q values\n",
        "        new_current_states = np.array(minibatch[3])/255\n",
        "        future_qs_list = self.target_model.predict(new_current_states, verbose=0)\n",
        "\n",
        "        X = []\n",
        "        Y = []\n",
        "\n",
        "        # Now we need to enumerate our batches\n",
        "        for ii in range(MINIBATCH_SIZE):\n",
        "            current_state = minibatch[0][ii]\n",
        "            action = minibatch[1][ii]\n",
        "            reward = minibatch[2][ii]\n",
        "            new_current_state = minibatch[3][ii]\n",
        "            done = minibatch[4][ii]\n",
        "\n",
        "            # Bellman equation.  Q = r + gamma*max Q',\n",
        "            # If not a terminal state, get new q from future states, otherwise set it to 0\n",
        "            # almost like with Q Learning, but we use just part of equation here\n",
        "            if not done:\n",
        "                new_q = reward + DISCOUNT * np.max(future_qs_list[ii])\n",
        "            else:\n",
        "                new_q = reward\n",
        "\n",
        "            # Update Q value for given state\n",
        "            current_qs = current_qs_list[ii]\n",
        "            current_qs[action] = new_q\n",
        "\n",
        "            # And append to our training data\n",
        "            X.append(current_state)\n",
        "            Y.append(current_qs)\n",
        "\n",
        "        # Fit on all samples as one batch, NO log file saved. Quicker simulation\n",
        "        # Note : not need to shuffle, this is already done in the get_minibatch part\n",
        "        self.model.fit(np.array(X), np.array(Y), batch_size=MINIBATCH_SIZE,\n",
        "                       verbose=0, epochs=1, shuffle=False)\n",
        "\n",
        "    def update_target_model(self):\n",
        "        self.target_model.set_weights(self.model.get_weights())\n",
        "        self.target_update_counter = 0\n",
        "\n",
        "    def get_qs(self, state):\n",
        "        return self.model.predict(np.array(state).reshape(-1, *state.shape)/255, verbose=0)[0]\n",
        "\n"
      ]
    },
    {
      "cell_type": "code",
      "execution_count": 8,
      "metadata": {
        "id": "ylbKdrEZhbqQ"
      },
      "outputs": [],
      "source": [
        " # Trains main network every step during episode\n",
        "def train(self, minibatch):\n",
        "\n",
        "        # Get current states from minibatch, then query NN model for Q values\n",
        "        current_states = np.array(minibatch[0])/255\n",
        "        current_qs_list = self.model.predict(current_states,verbose=0)\n",
        "\n",
        "        # Get future states from minibatch, then query NN model for Q values\n",
        "        new_current_states = np.array(minibatch[3])/255\n",
        "        future_qs_list = self.target_model.predict(new_current_states,verbose=0)\n",
        "\n",
        "        X = []\n",
        "        Y = []\n",
        "\n",
        "        # Now we need to enumerate our batches\n",
        "        for ii in range(MINIBATCH_SIZE):\n",
        "            current_state     = minibatch[0][ii]\n",
        "            action            = minibatch[1][ii]\n",
        "            reward            = minibatch[2][ii]\n",
        "            new_current_state = minibatch[3][ii]\n",
        "            done              = minibatch[4][ii]\n",
        "\n",
        "            # Bellman equation.  Q = r + gamma*max Q',\n",
        "            # If not a terminal state, get new q from future states, otherwise set it to 0\n",
        "            # almost like with Q Learning, but we use just part of equation here\n",
        "            if not done:\n",
        "                new_q = reward + DISCOUNT * np.max(future_qs_list[ii])\n",
        "            else:\n",
        "                new_q = reward\n",
        "\n",
        "            # Update Q value for given state\n",
        "            current_qs = current_qs_list[ii]\n",
        "            current_qs[action] = new_q\n",
        "\n",
        "            # And append to our training data\n",
        "            X.append(current_state)\n",
        "            Y.append(current_qs)\n",
        "\n",
        "        # Fit on all samples as one batch, NO log file saved. Quicker simulation\n",
        "        # Note : not need to shuffle, this is already done in the get_minibatch part\n",
        "        self.model.fit(np.array(X), np.array(Y), batch_size=MINIBATCH_SIZE,\n",
        "                       verbose=0, epochs=1,shuffle=False)\n"
      ]
    },
    {
      "cell_type": "code",
      "execution_count": 9,
      "metadata": {
        "id": "xJmaxzg1h2Xv"
      },
      "outputs": [],
      "source": [
        "# update target model function frames as verified into main (9*)\n",
        "def update_target_model(self):\n",
        "        self.target_model.set_weights(self.model.get_weights())\n",
        "        self.target_update_counter = 0\n"
      ]
    },
    {
      "cell_type": "code",
      "execution_count": 10,
      "metadata": {
        "id": "TuZrYyMjiAYI"
      },
      "outputs": [],
      "source": [
        "# Queries main network for Q values given current observation space (environment state)\n",
        "def get_qs(self, state):\n",
        "        return self.model.predict(np.array(state).reshape(-1, *state.shape)/255,verbose=0)[0]"
      ]
    },
    {
      "cell_type": "code",
      "execution_count": 11,
      "metadata": {
        "id": "lOgqOULvhLho"
      },
      "outputs": [],
      "source": [
        "class ReplayMemory(object):  # derived from https://github.com/fg91/Deep-Q-Learning/blob/master/DQN.ipynb\n",
        "    \"\"\"Replay Memory that stores the last \"size\" transitions\n",
        "    \"\"\"\n",
        "\n",
        "    def __init__(self, size=1000, frame_height=84, frame_width=84,\n",
        "                 agent_history_length=4, batch_size=32):\n",
        "        \"\"\"\n",
        "        Args:\n",
        "            size: Integer, Number of stored transitions\n",
        "            frame_height: Integer, Height of a frame of an Atari game\n",
        "            frame_width: Integer, Width of a frame of an Atari game\n",
        "            agent_history_length: Integer, Number of frames stacked together to create a state\n",
        "            batch_size: Integer, Number if transitions returned in a minibatch\n",
        "        \"\"\"\n",
        "        self.size = size\n",
        "        self.frame_height = frame_height\n",
        "        self.frame_width = frame_width\n",
        "        self.agent_history_length = agent_history_length\n",
        "        self.batch_size = batch_size\n",
        "        self.count = 0\n",
        "        self.current = 0\n",
        "         # Pre-allocate memory\n",
        "        self.actions = np.empty(self.size, dtype=np.int32)\n",
        "        self.rewards = np.empty(self.size, dtype=np.float32)\n",
        "        self.frames = np.empty((self.size, self.frame_height, self.frame_width), dtype=np.uint8)\n",
        "        self.terminal_flags = np.empty(self.size, dtype=bool)\n",
        "\n",
        "        # Pre-allocate memory for the states and new_states in a minibatch\n",
        "        self.states = np.empty((self.batch_size, self.agent_history_length,\n",
        "                                self.frame_height, self.frame_width), dtype=np.uint8)\n",
        "        self.new_states = np.empty((self.batch_size, self.agent_history_length,\n",
        "                                    self.frame_height, self.frame_width), dtype=np.uint8)\n",
        "        self.indices = np.empty(self.batch_size, dtype=np.int32)\n",
        "\n",
        "    def add_experience(self, action, frame, reward, terminal):\n",
        "        \"\"\"\n",
        "        Args:\n",
        "            action: An integer between 0 and env.action_space.n - 1\n",
        "                determining the action the agent performed  [a_t]\n",
        "            frame: A (84, 84, 1) frame of an Atari game in grayscale reached due to the action [s_t+1]\n",
        "            reward: A float determining the reward the agent received for performing an action [r_t]\n",
        "            terminal: A bool stating whether the episode terminated\n",
        "        \"\"\"\n",
        "        if frame.shape != (self.frame_height, self.frame_width):\n",
        "            raise ValueError('Dimension of frame is wrong!')\n",
        "        self.actions[self.current] = action\n",
        "        self.frames[self.current, ...] = frame\n",
        "        self.rewards[self.current] = reward\n",
        "        self.terminal_flags[self.current] = terminal\n",
        "        self.count = max(self.count, self.current + 1)\n",
        "        self.current = (self.current + 1) % self.size  # overwrite replay buffer if necessary\n",
        "\n",
        "    def _get_state(self, index):\n",
        "        if self.count == 0:\n",
        "            raise ValueError(\"The replay memory is empty!\")\n",
        "        if index < self.agent_history_length - 1:\n",
        "            raise ValueError(\"Index must be min 3\")\n",
        "        return self.frames[index - self.agent_history_length + 1:index + 1, ...]\n",
        "\n",
        "    def _get_valid_indices(self):\n",
        "        \"\"\"\n",
        "        We store all frames the agent sees in self.frames.\n",
        "        When a game terminates (terminal=True) at index i, frame at index i belongs\n",
        "        to a different episode than the frame at i+1. We want to avoid creating a state\n",
        "        with frames from two different episodes.\n",
        "        Finally we need to make sure that an index is not smaller than the number of\n",
        "        frames stacked together to create a state (self.agent_history_length=4),\n",
        "        so that a state and new_state can be sliced out of the array.\n",
        "        \"\"\"\n",
        "\n",
        "        for i in range(self.batch_size):\n",
        "            while True:\n",
        "                index = random.randint(self.agent_history_length, self.count - 1)\n",
        "                if index < self.agent_history_length:\n",
        "                    continue\n",
        "                if index >= self.current and index - self.agent_history_length <= self.current:\n",
        "                    continue\n",
        "                if self.terminal_flags[index - self.agent_history_length:index].any():\n",
        "                    continue\n",
        "                break\n",
        "            self.indices[i] = index\n",
        "\n",
        "    def get_minibatch(self):\n",
        "        \"\"\"\n",
        "        Returns a minibatch of self.batch_size = 32 transitions\n",
        "        \"\"\"\n",
        "        if self.count < self.agent_history_length:\n",
        "            raise ValueError('Not enough memories to get a minibatch')\n",
        "\n",
        "        self._get_valid_indices()\n",
        "\n",
        "        for i, idx in enumerate(self.indices):\n",
        "            self.states[i] = self._get_state(idx - 1)\n",
        "            self.new_states[i] = self._get_state(idx)\n",
        "\n",
        "        minibatch = (np.transpose(self.states, axes=(0, 2, 3, 1)), self.actions[self.indices], self.rewards[\n",
        "                     self.indices], np.transpose(self.new_states, axes=(0, 2, 3, 1)), self.terminal_flags[self.indices])\n",
        "        return minibatch"
      ]
    },
    {
      "cell_type": "code",
      "execution_count": 12,
      "metadata": {
        "id": "iC_YIupDjwRI"
      },
      "outputs": [],
      "source": [
        "\"\"\"## Pre-processing utility\"\"\"\n",
        "\n",
        "def pre_processing (frame):\n",
        "    # single Frame Processor from 210x160x3 to 84x84x1\n",
        "    frame_gray = np.dot(frame, [0.299, 0.587, 0.114])  # 210x160  convert gray scale\n",
        "    #plt.imshow(np.array(np.squeeze(frame_gray)), cmap='gray')\n",
        "    #plt.show()\n",
        "    frame_gray = frame_gray[31:195, 0:160]  # crop off upper score (31 lines) and below black area (15 lines)\n",
        "    #resized_img0 = Image.fromarray(frame_gray).resize(size=(84, 84), resample=Image.BILINEAR)  # 84x84x1\n",
        "    resized_img0 = Image.fromarray(frame_gray).resize(size=(84, 84), resample=Image.NEAREST)  # 84x84x1\n",
        "    #plt.imshow(np.array(np.squeeze(resized_img0)), cmap='gray')\n",
        "    #plt.show()\n",
        "    return asarray(resized_img0, dtype=np.uint8)"
      ]
    },
    {
      "cell_type": "code",
      "execution_count": 14,
      "metadata": {
        "id": "oxe2L5K4kb7o"
      },
      "outputs": [],
      "source": [
        "# Reset environment and get initial state\n",
        "reset_output = env.reset()\n",
        "\n",
        "# Handle different possible outputs of env.reset()\n",
        "if isinstance(reset_output, tuple):\n",
        "    current_frame = reset_output[0]\n",
        "else:\n",
        "    current_frame = reset_output\n",
        "\n",
        "# Preprocess the current frame\n",
        "current_frame = pre_processing(current_frame)\n",
        "current_state = np.dstack((current_frame, current_frame, current_frame, current_frame))  # create imm 84x84 grouping in 4 frames"
      ]
    },
    {
      "cell_type": "code",
      "execution_count": null,
      "metadata": {
        "colab": {
          "base_uri": "https://localhost:8080/",
          "height": 1000
        },
        "id": "6M-8mygSlBjQ",
        "outputId": "85531664-e4bf-48ec-82fb-f542426d5db3"
      },
      "outputs": [
        {
          "metadata": {
            "tags": null
          },
          "name": "stdout",
          "output_type": "stream",
          "text": [
            "main training loop\n"
          ]
        },
        {
          "data": {
            "text/html": [
              "<pre style=\"white-space:pre;overflow-x:auto;line-height:normal;font-family:Menlo,'DejaVu Sans Mono',consolas,'Courier New',monospace\"><span style=\"font-weight: bold\">Model: \"sequential_6\"</span>\n",
              "</pre>\n"
            ],
            "text/plain": [
              "\u001b[1mModel: \"sequential_6\"\u001b[0m\n"
            ]
          },
          "metadata": {},
          "output_type": "display_data"
        },
        {
          "data": {
            "text/html": [
              "<pre style=\"white-space:pre;overflow-x:auto;line-height:normal;font-family:Menlo,'DejaVu Sans Mono',consolas,'Courier New',monospace\">┏━━━━━━━━━━━━━━━━━━━━━━━━━━━━━━━━━━━━━━┳━━━━━━━━━━━━━━━━━━━━━━━━━━━━━┳━━━━━━━━━━━━━━━━━┓\n",
              "┃<span style=\"font-weight: bold\"> Layer (type)                         </span>┃<span style=\"font-weight: bold\"> Output Shape                </span>┃<span style=\"font-weight: bold\">         Param # </span>┃\n",
              "┡━━━━━━━━━━━━━━━━━━━━━━━━━━━━━━━━━━━━━━╇━━━━━━━━━━━━━━━━━━━━━━━━━━━━━╇━━━━━━━━━━━━━━━━━┩\n",
              "│ conv2d_18 (<span style=\"color: #0087ff; text-decoration-color: #0087ff\">Conv2D</span>)                   │ (<span style=\"color: #00d7ff; text-decoration-color: #00d7ff\">None</span>, <span style=\"color: #00af00; text-decoration-color: #00af00\">20</span>, <span style=\"color: #00af00; text-decoration-color: #00af00\">20</span>, <span style=\"color: #00af00; text-decoration-color: #00af00\">32</span>)          │           <span style=\"color: #00af00; text-decoration-color: #00af00\">8,224</span> │\n",
              "├──────────────────────────────────────┼─────────────────────────────┼─────────────────┤\n",
              "│ activation_18 (<span style=\"color: #0087ff; text-decoration-color: #0087ff\">Activation</span>)           │ (<span style=\"color: #00d7ff; text-decoration-color: #00d7ff\">None</span>, <span style=\"color: #00af00; text-decoration-color: #00af00\">20</span>, <span style=\"color: #00af00; text-decoration-color: #00af00\">20</span>, <span style=\"color: #00af00; text-decoration-color: #00af00\">32</span>)          │               <span style=\"color: #00af00; text-decoration-color: #00af00\">0</span> │\n",
              "├──────────────────────────────────────┼─────────────────────────────┼─────────────────┤\n",
              "│ dropout_18 (<span style=\"color: #0087ff; text-decoration-color: #0087ff\">Dropout</span>)                 │ (<span style=\"color: #00d7ff; text-decoration-color: #00d7ff\">None</span>, <span style=\"color: #00af00; text-decoration-color: #00af00\">20</span>, <span style=\"color: #00af00; text-decoration-color: #00af00\">20</span>, <span style=\"color: #00af00; text-decoration-color: #00af00\">32</span>)          │               <span style=\"color: #00af00; text-decoration-color: #00af00\">0</span> │\n",
              "├──────────────────────────────────────┼─────────────────────────────┼─────────────────┤\n",
              "│ conv2d_19 (<span style=\"color: #0087ff; text-decoration-color: #0087ff\">Conv2D</span>)                   │ (<span style=\"color: #00d7ff; text-decoration-color: #00d7ff\">None</span>, <span style=\"color: #00af00; text-decoration-color: #00af00\">9</span>, <span style=\"color: #00af00; text-decoration-color: #00af00\">9</span>, <span style=\"color: #00af00; text-decoration-color: #00af00\">64</span>)            │          <span style=\"color: #00af00; text-decoration-color: #00af00\">32,832</span> │\n",
              "├──────────────────────────────────────┼─────────────────────────────┼─────────────────┤\n",
              "│ activation_19 (<span style=\"color: #0087ff; text-decoration-color: #0087ff\">Activation</span>)           │ (<span style=\"color: #00d7ff; text-decoration-color: #00d7ff\">None</span>, <span style=\"color: #00af00; text-decoration-color: #00af00\">9</span>, <span style=\"color: #00af00; text-decoration-color: #00af00\">9</span>, <span style=\"color: #00af00; text-decoration-color: #00af00\">64</span>)            │               <span style=\"color: #00af00; text-decoration-color: #00af00\">0</span> │\n",
              "├──────────────────────────────────────┼─────────────────────────────┼─────────────────┤\n",
              "│ dropout_19 (<span style=\"color: #0087ff; text-decoration-color: #0087ff\">Dropout</span>)                 │ (<span style=\"color: #00d7ff; text-decoration-color: #00d7ff\">None</span>, <span style=\"color: #00af00; text-decoration-color: #00af00\">9</span>, <span style=\"color: #00af00; text-decoration-color: #00af00\">9</span>, <span style=\"color: #00af00; text-decoration-color: #00af00\">64</span>)            │               <span style=\"color: #00af00; text-decoration-color: #00af00\">0</span> │\n",
              "├──────────────────────────────────────┼─────────────────────────────┼─────────────────┤\n",
              "│ conv2d_20 (<span style=\"color: #0087ff; text-decoration-color: #0087ff\">Conv2D</span>)                   │ (<span style=\"color: #00d7ff; text-decoration-color: #00d7ff\">None</span>, <span style=\"color: #00af00; text-decoration-color: #00af00\">7</span>, <span style=\"color: #00af00; text-decoration-color: #00af00\">7</span>, <span style=\"color: #00af00; text-decoration-color: #00af00\">64</span>)            │          <span style=\"color: #00af00; text-decoration-color: #00af00\">36,928</span> │\n",
              "├──────────────────────────────────────┼─────────────────────────────┼─────────────────┤\n",
              "│ activation_20 (<span style=\"color: #0087ff; text-decoration-color: #0087ff\">Activation</span>)           │ (<span style=\"color: #00d7ff; text-decoration-color: #00d7ff\">None</span>, <span style=\"color: #00af00; text-decoration-color: #00af00\">7</span>, <span style=\"color: #00af00; text-decoration-color: #00af00\">7</span>, <span style=\"color: #00af00; text-decoration-color: #00af00\">64</span>)            │               <span style=\"color: #00af00; text-decoration-color: #00af00\">0</span> │\n",
              "├──────────────────────────────────────┼─────────────────────────────┼─────────────────┤\n",
              "│ dropout_20 (<span style=\"color: #0087ff; text-decoration-color: #0087ff\">Dropout</span>)                 │ (<span style=\"color: #00d7ff; text-decoration-color: #00d7ff\">None</span>, <span style=\"color: #00af00; text-decoration-color: #00af00\">7</span>, <span style=\"color: #00af00; text-decoration-color: #00af00\">7</span>, <span style=\"color: #00af00; text-decoration-color: #00af00\">64</span>)            │               <span style=\"color: #00af00; text-decoration-color: #00af00\">0</span> │\n",
              "├──────────────────────────────────────┼─────────────────────────────┼─────────────────┤\n",
              "│ flatten_6 (<span style=\"color: #0087ff; text-decoration-color: #0087ff\">Flatten</span>)                  │ (<span style=\"color: #00d7ff; text-decoration-color: #00d7ff\">None</span>, <span style=\"color: #00af00; text-decoration-color: #00af00\">3136</span>)                │               <span style=\"color: #00af00; text-decoration-color: #00af00\">0</span> │\n",
              "├──────────────────────────────────────┼─────────────────────────────┼─────────────────┤\n",
              "│ dense_12 (<span style=\"color: #0087ff; text-decoration-color: #0087ff\">Dense</span>)                     │ (<span style=\"color: #00d7ff; text-decoration-color: #00d7ff\">None</span>, <span style=\"color: #00af00; text-decoration-color: #00af00\">512</span>)                 │       <span style=\"color: #00af00; text-decoration-color: #00af00\">1,606,144</span> │\n",
              "├──────────────────────────────────────┼─────────────────────────────┼─────────────────┤\n",
              "│ dense_13 (<span style=\"color: #0087ff; text-decoration-color: #0087ff\">Dense</span>)                     │ (<span style=\"color: #00d7ff; text-decoration-color: #00d7ff\">None</span>, <span style=\"color: #00af00; text-decoration-color: #00af00\">4</span>)                   │           <span style=\"color: #00af00; text-decoration-color: #00af00\">2,052</span> │\n",
              "└──────────────────────────────────────┴─────────────────────────────┴─────────────────┘\n",
              "</pre>\n"
            ],
            "text/plain": [
              "┏━━━━━━━━━━━━━━━━━━━━━━━━━━━━━━━━━━━━━━┳━━━━━━━━━━━━━━━━━━━━━━━━━━━━━┳━━━━━━━━━━━━━━━━━┓\n",
              "┃\u001b[1m \u001b[0m\u001b[1mLayer (type)                        \u001b[0m\u001b[1m \u001b[0m┃\u001b[1m \u001b[0m\u001b[1mOutput Shape               \u001b[0m\u001b[1m \u001b[0m┃\u001b[1m \u001b[0m\u001b[1m        Param #\u001b[0m\u001b[1m \u001b[0m┃\n",
              "┡━━━━━━━━━━━━━━━━━━━━━━━━━━━━━━━━━━━━━━╇━━━━━━━━━━━━━━━━━━━━━━━━━━━━━╇━━━━━━━━━━━━━━━━━┩\n",
              "│ conv2d_18 (\u001b[38;5;33mConv2D\u001b[0m)                   │ (\u001b[38;5;45mNone\u001b[0m, \u001b[38;5;34m20\u001b[0m, \u001b[38;5;34m20\u001b[0m, \u001b[38;5;34m32\u001b[0m)          │           \u001b[38;5;34m8,224\u001b[0m │\n",
              "├──────────────────────────────────────┼─────────────────────────────┼─────────────────┤\n",
              "│ activation_18 (\u001b[38;5;33mActivation\u001b[0m)           │ (\u001b[38;5;45mNone\u001b[0m, \u001b[38;5;34m20\u001b[0m, \u001b[38;5;34m20\u001b[0m, \u001b[38;5;34m32\u001b[0m)          │               \u001b[38;5;34m0\u001b[0m │\n",
              "├──────────────────────────────────────┼─────────────────────────────┼─────────────────┤\n",
              "│ dropout_18 (\u001b[38;5;33mDropout\u001b[0m)                 │ (\u001b[38;5;45mNone\u001b[0m, \u001b[38;5;34m20\u001b[0m, \u001b[38;5;34m20\u001b[0m, \u001b[38;5;34m32\u001b[0m)          │               \u001b[38;5;34m0\u001b[0m │\n",
              "├──────────────────────────────────────┼─────────────────────────────┼─────────────────┤\n",
              "│ conv2d_19 (\u001b[38;5;33mConv2D\u001b[0m)                   │ (\u001b[38;5;45mNone\u001b[0m, \u001b[38;5;34m9\u001b[0m, \u001b[38;5;34m9\u001b[0m, \u001b[38;5;34m64\u001b[0m)            │          \u001b[38;5;34m32,832\u001b[0m │\n",
              "├──────────────────────────────────────┼─────────────────────────────┼─────────────────┤\n",
              "│ activation_19 (\u001b[38;5;33mActivation\u001b[0m)           │ (\u001b[38;5;45mNone\u001b[0m, \u001b[38;5;34m9\u001b[0m, \u001b[38;5;34m9\u001b[0m, \u001b[38;5;34m64\u001b[0m)            │               \u001b[38;5;34m0\u001b[0m │\n",
              "├──────────────────────────────────────┼─────────────────────────────┼─────────────────┤\n",
              "│ dropout_19 (\u001b[38;5;33mDropout\u001b[0m)                 │ (\u001b[38;5;45mNone\u001b[0m, \u001b[38;5;34m9\u001b[0m, \u001b[38;5;34m9\u001b[0m, \u001b[38;5;34m64\u001b[0m)            │               \u001b[38;5;34m0\u001b[0m │\n",
              "├──────────────────────────────────────┼─────────────────────────────┼─────────────────┤\n",
              "│ conv2d_20 (\u001b[38;5;33mConv2D\u001b[0m)                   │ (\u001b[38;5;45mNone\u001b[0m, \u001b[38;5;34m7\u001b[0m, \u001b[38;5;34m7\u001b[0m, \u001b[38;5;34m64\u001b[0m)            │          \u001b[38;5;34m36,928\u001b[0m │\n",
              "├──────────────────────────────────────┼─────────────────────────────┼─────────────────┤\n",
              "│ activation_20 (\u001b[38;5;33mActivation\u001b[0m)           │ (\u001b[38;5;45mNone\u001b[0m, \u001b[38;5;34m7\u001b[0m, \u001b[38;5;34m7\u001b[0m, \u001b[38;5;34m64\u001b[0m)            │               \u001b[38;5;34m0\u001b[0m │\n",
              "├──────────────────────────────────────┼─────────────────────────────┼─────────────────┤\n",
              "│ dropout_20 (\u001b[38;5;33mDropout\u001b[0m)                 │ (\u001b[38;5;45mNone\u001b[0m, \u001b[38;5;34m7\u001b[0m, \u001b[38;5;34m7\u001b[0m, \u001b[38;5;34m64\u001b[0m)            │               \u001b[38;5;34m0\u001b[0m │\n",
              "├──────────────────────────────────────┼─────────────────────────────┼─────────────────┤\n",
              "│ flatten_6 (\u001b[38;5;33mFlatten\u001b[0m)                  │ (\u001b[38;5;45mNone\u001b[0m, \u001b[38;5;34m3136\u001b[0m)                │               \u001b[38;5;34m0\u001b[0m │\n",
              "├──────────────────────────────────────┼─────────────────────────────┼─────────────────┤\n",
              "│ dense_12 (\u001b[38;5;33mDense\u001b[0m)                     │ (\u001b[38;5;45mNone\u001b[0m, \u001b[38;5;34m512\u001b[0m)                 │       \u001b[38;5;34m1,606,144\u001b[0m │\n",
              "├──────────────────────────────────────┼─────────────────────────────┼─────────────────┤\n",
              "│ dense_13 (\u001b[38;5;33mDense\u001b[0m)                     │ (\u001b[38;5;45mNone\u001b[0m, \u001b[38;5;34m4\u001b[0m)                   │           \u001b[38;5;34m2,052\u001b[0m │\n",
              "└──────────────────────────────────────┴─────────────────────────────┴─────────────────┘\n"
            ]
          },
          "metadata": {},
          "output_type": "display_data"
        },
        {
          "data": {
            "text/html": [
              "<pre style=\"white-space:pre;overflow-x:auto;line-height:normal;font-family:Menlo,'DejaVu Sans Mono',consolas,'Courier New',monospace\"><span style=\"font-weight: bold\"> Total params: </span><span style=\"color: #00af00; text-decoration-color: #00af00\">1,686,180</span> (6.43 MB)\n",
              "</pre>\n"
            ],
            "text/plain": [
              "\u001b[1m Total params: \u001b[0m\u001b[38;5;34m1,686,180\u001b[0m (6.43 MB)\n"
            ]
          },
          "metadata": {},
          "output_type": "display_data"
        },
        {
          "data": {
            "text/html": [
              "<pre style=\"white-space:pre;overflow-x:auto;line-height:normal;font-family:Menlo,'DejaVu Sans Mono',consolas,'Courier New',monospace\"><span style=\"font-weight: bold\"> Trainable params: </span><span style=\"color: #00af00; text-decoration-color: #00af00\">1,686,180</span> (6.43 MB)\n",
              "</pre>\n"
            ],
            "text/plain": [
              "\u001b[1m Trainable params: \u001b[0m\u001b[38;5;34m1,686,180\u001b[0m (6.43 MB)\n"
            ]
          },
          "metadata": {},
          "output_type": "display_data"
        },
        {
          "data": {
            "text/html": [
              "<pre style=\"white-space:pre;overflow-x:auto;line-height:normal;font-family:Menlo,'DejaVu Sans Mono',consolas,'Courier New',monospace\"><span style=\"font-weight: bold\"> Non-trainable params: </span><span style=\"color: #00af00; text-decoration-color: #00af00\">0</span> (0.00 B)\n",
              "</pre>\n"
            ],
            "text/plain": [
              "\u001b[1m Non-trainable params: \u001b[0m\u001b[38;5;34m0\u001b[0m (0.00 B)\n"
            ]
          },
          "metadata": {},
          "output_type": "display_data"
        },
        {
          "metadata": {
            "tags": null
          },
          "name": "stdout",
          "output_type": "stream",
          "text": [
            "None\n",
            "The environment has the following 4 actions: ['NOOP', 'FIRE', 'RIGHT', 'LEFT']\n"
          ]
        },
        {
          "metadata": {
            "tags": null
          },
          "name": "stderr",
          "output_type": "stream",
          "text": [
            "\r  0%|          | 0/500 [00:00<?, ?episodes/s]"
          ]
        },
        {
          "metadata": {
            "tags": null
          },
          "name": "stdout",
          "output_type": "stream",
          "text": [
            "main training loop\n"
          ]
        },
        {
          "data": {
            "text/html": [
              "<pre style=\"white-space:pre;overflow-x:auto;line-height:normal;font-family:Menlo,'DejaVu Sans Mono',consolas,'Courier New',monospace\"><span style=\"font-weight: bold\">Model: \"sequential_8\"</span>\n",
              "</pre>\n"
            ],
            "text/plain": [
              "\u001b[1mModel: \"sequential_8\"\u001b[0m\n"
            ]
          },
          "metadata": {},
          "output_type": "display_data"
        },
        {
          "data": {
            "text/html": [
              "<pre style=\"white-space:pre;overflow-x:auto;line-height:normal;font-family:Menlo,'DejaVu Sans Mono',consolas,'Courier New',monospace\">┏━━━━━━━━━━━━━━━━━━━━━━━━━━━━━━━━━━━━━━┳━━━━━━━━━━━━━━━━━━━━━━━━━━━━━┳━━━━━━━━━━━━━━━━━┓\n",
              "┃<span style=\"font-weight: bold\"> Layer (type)                         </span>┃<span style=\"font-weight: bold\"> Output Shape                </span>┃<span style=\"font-weight: bold\">         Param # </span>┃\n",
              "┡━━━━━━━━━━━━━━━━━━━━━━━━━━━━━━━━━━━━━━╇━━━━━━━━━━━━━━━━━━━━━━━━━━━━━╇━━━━━━━━━━━━━━━━━┩\n",
              "│ conv2d_24 (<span style=\"color: #0087ff; text-decoration-color: #0087ff\">Conv2D</span>)                   │ (<span style=\"color: #00d7ff; text-decoration-color: #00d7ff\">None</span>, <span style=\"color: #00af00; text-decoration-color: #00af00\">20</span>, <span style=\"color: #00af00; text-decoration-color: #00af00\">20</span>, <span style=\"color: #00af00; text-decoration-color: #00af00\">32</span>)          │           <span style=\"color: #00af00; text-decoration-color: #00af00\">8,224</span> │\n",
              "├──────────────────────────────────────┼─────────────────────────────┼─────────────────┤\n",
              "│ activation_24 (<span style=\"color: #0087ff; text-decoration-color: #0087ff\">Activation</span>)           │ (<span style=\"color: #00d7ff; text-decoration-color: #00d7ff\">None</span>, <span style=\"color: #00af00; text-decoration-color: #00af00\">20</span>, <span style=\"color: #00af00; text-decoration-color: #00af00\">20</span>, <span style=\"color: #00af00; text-decoration-color: #00af00\">32</span>)          │               <span style=\"color: #00af00; text-decoration-color: #00af00\">0</span> │\n",
              "├──────────────────────────────────────┼─────────────────────────────┼─────────────────┤\n",
              "│ dropout_24 (<span style=\"color: #0087ff; text-decoration-color: #0087ff\">Dropout</span>)                 │ (<span style=\"color: #00d7ff; text-decoration-color: #00d7ff\">None</span>, <span style=\"color: #00af00; text-decoration-color: #00af00\">20</span>, <span style=\"color: #00af00; text-decoration-color: #00af00\">20</span>, <span style=\"color: #00af00; text-decoration-color: #00af00\">32</span>)          │               <span style=\"color: #00af00; text-decoration-color: #00af00\">0</span> │\n",
              "├──────────────────────────────────────┼─────────────────────────────┼─────────────────┤\n",
              "│ conv2d_25 (<span style=\"color: #0087ff; text-decoration-color: #0087ff\">Conv2D</span>)                   │ (<span style=\"color: #00d7ff; text-decoration-color: #00d7ff\">None</span>, <span style=\"color: #00af00; text-decoration-color: #00af00\">9</span>, <span style=\"color: #00af00; text-decoration-color: #00af00\">9</span>, <span style=\"color: #00af00; text-decoration-color: #00af00\">64</span>)            │          <span style=\"color: #00af00; text-decoration-color: #00af00\">32,832</span> │\n",
              "├──────────────────────────────────────┼─────────────────────────────┼─────────────────┤\n",
              "│ activation_25 (<span style=\"color: #0087ff; text-decoration-color: #0087ff\">Activation</span>)           │ (<span style=\"color: #00d7ff; text-decoration-color: #00d7ff\">None</span>, <span style=\"color: #00af00; text-decoration-color: #00af00\">9</span>, <span style=\"color: #00af00; text-decoration-color: #00af00\">9</span>, <span style=\"color: #00af00; text-decoration-color: #00af00\">64</span>)            │               <span style=\"color: #00af00; text-decoration-color: #00af00\">0</span> │\n",
              "├──────────────────────────────────────┼─────────────────────────────┼─────────────────┤\n",
              "│ dropout_25 (<span style=\"color: #0087ff; text-decoration-color: #0087ff\">Dropout</span>)                 │ (<span style=\"color: #00d7ff; text-decoration-color: #00d7ff\">None</span>, <span style=\"color: #00af00; text-decoration-color: #00af00\">9</span>, <span style=\"color: #00af00; text-decoration-color: #00af00\">9</span>, <span style=\"color: #00af00; text-decoration-color: #00af00\">64</span>)            │               <span style=\"color: #00af00; text-decoration-color: #00af00\">0</span> │\n",
              "├──────────────────────────────────────┼─────────────────────────────┼─────────────────┤\n",
              "│ conv2d_26 (<span style=\"color: #0087ff; text-decoration-color: #0087ff\">Conv2D</span>)                   │ (<span style=\"color: #00d7ff; text-decoration-color: #00d7ff\">None</span>, <span style=\"color: #00af00; text-decoration-color: #00af00\">7</span>, <span style=\"color: #00af00; text-decoration-color: #00af00\">7</span>, <span style=\"color: #00af00; text-decoration-color: #00af00\">64</span>)            │          <span style=\"color: #00af00; text-decoration-color: #00af00\">36,928</span> │\n",
              "├──────────────────────────────────────┼─────────────────────────────┼─────────────────┤\n",
              "│ activation_26 (<span style=\"color: #0087ff; text-decoration-color: #0087ff\">Activation</span>)           │ (<span style=\"color: #00d7ff; text-decoration-color: #00d7ff\">None</span>, <span style=\"color: #00af00; text-decoration-color: #00af00\">7</span>, <span style=\"color: #00af00; text-decoration-color: #00af00\">7</span>, <span style=\"color: #00af00; text-decoration-color: #00af00\">64</span>)            │               <span style=\"color: #00af00; text-decoration-color: #00af00\">0</span> │\n",
              "├──────────────────────────────────────┼─────────────────────────────┼─────────────────┤\n",
              "│ dropout_26 (<span style=\"color: #0087ff; text-decoration-color: #0087ff\">Dropout</span>)                 │ (<span style=\"color: #00d7ff; text-decoration-color: #00d7ff\">None</span>, <span style=\"color: #00af00; text-decoration-color: #00af00\">7</span>, <span style=\"color: #00af00; text-decoration-color: #00af00\">7</span>, <span style=\"color: #00af00; text-decoration-color: #00af00\">64</span>)            │               <span style=\"color: #00af00; text-decoration-color: #00af00\">0</span> │\n",
              "├──────────────────────────────────────┼─────────────────────────────┼─────────────────┤\n",
              "│ flatten_8 (<span style=\"color: #0087ff; text-decoration-color: #0087ff\">Flatten</span>)                  │ (<span style=\"color: #00d7ff; text-decoration-color: #00d7ff\">None</span>, <span style=\"color: #00af00; text-decoration-color: #00af00\">3136</span>)                │               <span style=\"color: #00af00; text-decoration-color: #00af00\">0</span> │\n",
              "├──────────────────────────────────────┼─────────────────────────────┼─────────────────┤\n",
              "│ dense_16 (<span style=\"color: #0087ff; text-decoration-color: #0087ff\">Dense</span>)                     │ (<span style=\"color: #00d7ff; text-decoration-color: #00d7ff\">None</span>, <span style=\"color: #00af00; text-decoration-color: #00af00\">512</span>)                 │       <span style=\"color: #00af00; text-decoration-color: #00af00\">1,606,144</span> │\n",
              "├──────────────────────────────────────┼─────────────────────────────┼─────────────────┤\n",
              "│ dense_17 (<span style=\"color: #0087ff; text-decoration-color: #0087ff\">Dense</span>)                     │ (<span style=\"color: #00d7ff; text-decoration-color: #00d7ff\">None</span>, <span style=\"color: #00af00; text-decoration-color: #00af00\">4</span>)                   │           <span style=\"color: #00af00; text-decoration-color: #00af00\">2,052</span> │\n",
              "└──────────────────────────────────────┴─────────────────────────────┴─────────────────┘\n",
              "</pre>\n"
            ],
            "text/plain": [
              "┏━━━━━━━━━━━━━━━━━━━━━━━━━━━━━━━━━━━━━━┳━━━━━━━━━━━━━━━━━━━━━━━━━━━━━┳━━━━━━━━━━━━━━━━━┓\n",
              "┃\u001b[1m \u001b[0m\u001b[1mLayer (type)                        \u001b[0m\u001b[1m \u001b[0m┃\u001b[1m \u001b[0m\u001b[1mOutput Shape               \u001b[0m\u001b[1m \u001b[0m┃\u001b[1m \u001b[0m\u001b[1m        Param #\u001b[0m\u001b[1m \u001b[0m┃\n",
              "┡━━━━━━━━━━━━━━━━━━━━━━━━━━━━━━━━━━━━━━╇━━━━━━━━━━━━━━━━━━━━━━━━━━━━━╇━━━━━━━━━━━━━━━━━┩\n",
              "│ conv2d_24 (\u001b[38;5;33mConv2D\u001b[0m)                   │ (\u001b[38;5;45mNone\u001b[0m, \u001b[38;5;34m20\u001b[0m, \u001b[38;5;34m20\u001b[0m, \u001b[38;5;34m32\u001b[0m)          │           \u001b[38;5;34m8,224\u001b[0m │\n",
              "├──────────────────────────────────────┼─────────────────────────────┼─────────────────┤\n",
              "│ activation_24 (\u001b[38;5;33mActivation\u001b[0m)           │ (\u001b[38;5;45mNone\u001b[0m, \u001b[38;5;34m20\u001b[0m, \u001b[38;5;34m20\u001b[0m, \u001b[38;5;34m32\u001b[0m)          │               \u001b[38;5;34m0\u001b[0m │\n",
              "├──────────────────────────────────────┼─────────────────────────────┼─────────────────┤\n",
              "│ dropout_24 (\u001b[38;5;33mDropout\u001b[0m)                 │ (\u001b[38;5;45mNone\u001b[0m, \u001b[38;5;34m20\u001b[0m, \u001b[38;5;34m20\u001b[0m, \u001b[38;5;34m32\u001b[0m)          │               \u001b[38;5;34m0\u001b[0m │\n",
              "├──────────────────────────────────────┼─────────────────────────────┼─────────────────┤\n",
              "│ conv2d_25 (\u001b[38;5;33mConv2D\u001b[0m)                   │ (\u001b[38;5;45mNone\u001b[0m, \u001b[38;5;34m9\u001b[0m, \u001b[38;5;34m9\u001b[0m, \u001b[38;5;34m64\u001b[0m)            │          \u001b[38;5;34m32,832\u001b[0m │\n",
              "├──────────────────────────────────────┼─────────────────────────────┼─────────────────┤\n",
              "│ activation_25 (\u001b[38;5;33mActivation\u001b[0m)           │ (\u001b[38;5;45mNone\u001b[0m, \u001b[38;5;34m9\u001b[0m, \u001b[38;5;34m9\u001b[0m, \u001b[38;5;34m64\u001b[0m)            │               \u001b[38;5;34m0\u001b[0m │\n",
              "├──────────────────────────────────────┼─────────────────────────────┼─────────────────┤\n",
              "│ dropout_25 (\u001b[38;5;33mDropout\u001b[0m)                 │ (\u001b[38;5;45mNone\u001b[0m, \u001b[38;5;34m9\u001b[0m, \u001b[38;5;34m9\u001b[0m, \u001b[38;5;34m64\u001b[0m)            │               \u001b[38;5;34m0\u001b[0m │\n",
              "├──────────────────────────────────────┼─────────────────────────────┼─────────────────┤\n",
              "│ conv2d_26 (\u001b[38;5;33mConv2D\u001b[0m)                   │ (\u001b[38;5;45mNone\u001b[0m, \u001b[38;5;34m7\u001b[0m, \u001b[38;5;34m7\u001b[0m, \u001b[38;5;34m64\u001b[0m)            │          \u001b[38;5;34m36,928\u001b[0m │\n",
              "├──────────────────────────────────────┼─────────────────────────────┼─────────────────┤\n",
              "│ activation_26 (\u001b[38;5;33mActivation\u001b[0m)           │ (\u001b[38;5;45mNone\u001b[0m, \u001b[38;5;34m7\u001b[0m, \u001b[38;5;34m7\u001b[0m, \u001b[38;5;34m64\u001b[0m)            │               \u001b[38;5;34m0\u001b[0m │\n",
              "├──────────────────────────────────────┼─────────────────────────────┼─────────────────┤\n",
              "│ dropout_26 (\u001b[38;5;33mDropout\u001b[0m)                 │ (\u001b[38;5;45mNone\u001b[0m, \u001b[38;5;34m7\u001b[0m, \u001b[38;5;34m7\u001b[0m, \u001b[38;5;34m64\u001b[0m)            │               \u001b[38;5;34m0\u001b[0m │\n",
              "├──────────────────────────────────────┼─────────────────────────────┼─────────────────┤\n",
              "│ flatten_8 (\u001b[38;5;33mFlatten\u001b[0m)                  │ (\u001b[38;5;45mNone\u001b[0m, \u001b[38;5;34m3136\u001b[0m)                │               \u001b[38;5;34m0\u001b[0m │\n",
              "├──────────────────────────────────────┼─────────────────────────────┼─────────────────┤\n",
              "│ dense_16 (\u001b[38;5;33mDense\u001b[0m)                     │ (\u001b[38;5;45mNone\u001b[0m, \u001b[38;5;34m512\u001b[0m)                 │       \u001b[38;5;34m1,606,144\u001b[0m │\n",
              "├──────────────────────────────────────┼─────────────────────────────┼─────────────────┤\n",
              "│ dense_17 (\u001b[38;5;33mDense\u001b[0m)                     │ (\u001b[38;5;45mNone\u001b[0m, \u001b[38;5;34m4\u001b[0m)                   │           \u001b[38;5;34m2,052\u001b[0m │\n",
              "└──────────────────────────────────────┴─────────────────────────────┴─────────────────┘\n"
            ]
          },
          "metadata": {},
          "output_type": "display_data"
        },
        {
          "data": {
            "text/html": [
              "<pre style=\"white-space:pre;overflow-x:auto;line-height:normal;font-family:Menlo,'DejaVu Sans Mono',consolas,'Courier New',monospace\"><span style=\"font-weight: bold\"> Total params: </span><span style=\"color: #00af00; text-decoration-color: #00af00\">1,686,180</span> (6.43 MB)\n",
              "</pre>\n"
            ],
            "text/plain": [
              "\u001b[1m Total params: \u001b[0m\u001b[38;5;34m1,686,180\u001b[0m (6.43 MB)\n"
            ]
          },
          "metadata": {},
          "output_type": "display_data"
        },
        {
          "data": {
            "text/html": [
              "<pre style=\"white-space:pre;overflow-x:auto;line-height:normal;font-family:Menlo,'DejaVu Sans Mono',consolas,'Courier New',monospace\"><span style=\"font-weight: bold\"> Trainable params: </span><span style=\"color: #00af00; text-decoration-color: #00af00\">1,686,180</span> (6.43 MB)\n",
              "</pre>\n"
            ],
            "text/plain": [
              "\u001b[1m Trainable params: \u001b[0m\u001b[38;5;34m1,686,180\u001b[0m (6.43 MB)\n"
            ]
          },
          "metadata": {},
          "output_type": "display_data"
        },
        {
          "data": {
            "text/html": [
              "<pre style=\"white-space:pre;overflow-x:auto;line-height:normal;font-family:Menlo,'DejaVu Sans Mono',consolas,'Courier New',monospace\"><span style=\"font-weight: bold\"> Non-trainable params: </span><span style=\"color: #00af00; text-decoration-color: #00af00\">0</span> (0.00 B)\n",
              "</pre>\n"
            ],
            "text/plain": [
              "\u001b[1m Non-trainable params: \u001b[0m\u001b[38;5;34m0\u001b[0m (0.00 B)\n"
            ]
          },
          "metadata": {},
          "output_type": "display_data"
        },
        {
          "metadata": {
            "tags": null
          },
          "name": "stdout",
          "output_type": "stream",
          "text": [
            "None\n",
            "The environment has the following 4 actions: ['NOOP', 'FIRE', 'RIGHT', 'LEFT']\n"
          ]
        },
        {
          "metadata": {
            "tags": null
          },
          "name": "stderr",
          "output_type": "stream",
          "text": [
            "\n",
            "  0%|          | 0/500 [00:00<?, ?episodes/s]\u001b[A\n",
            "  0%|          | 1/500 [00:00<04:20,  1.92episodes/s]\u001b[A\n",
            "  0%|          | 2/500 [00:00<03:04,  2.70episodes/s]\u001b[A\n",
            "  1%|          | 3/500 [00:01<03:44,  2.21episodes/s]\u001b[A\n",
            "  1%|          | 4/500 [00:01<04:22,  1.89episodes/s]\u001b[A\n",
            "  1%|1         | 5/500 [00:02<05:01,  1.64episodes/s]\u001b[A\n",
            "  1%|1         | 6/500 [00:03<04:56,  1.67episodes/s]\u001b[A\n",
            "  1%|1         | 7/500 [00:03<04:39,  1.76episodes/s]\u001b[A\n",
            "  2%|1         | 8/500 [00:04<04:54,  1.67episodes/s]\u001b[A\n",
            "  2%|1         | 9/500 [00:04<04:31,  1.81episodes/s]\u001b[A\n",
            "  2%|2         | 10/500 [00:05<04:00,  2.04episodes/s]\u001b[A\n",
            "  2%|2         | 11/500 [00:05<03:28,  2.35episodes/s]\u001b[A\n",
            "  2%|2         | 12/500 [00:06<03:31,  2.30episodes/s]\u001b[A\n",
            "  3%|2         | 13/500 [00:06<03:32,  2.29episodes/s]\u001b[A\n",
            "  3%|2         | 14/500 [00:06<03:17,  2.46episodes/s]\u001b[A\n",
            "  3%|3         | 15/500 [00:07<03:13,  2.51episodes/s]\u001b[A\n",
            "  3%|3         | 16/500 [00:07<03:10,  2.54episodes/s]\u001b[A\n",
            "  3%|3         | 17/500 [00:07<02:53,  2.78episodes/s]\u001b[A\n",
            "  4%|3         | 18/500 [00:08<03:07,  2.57episodes/s]\u001b[A\n",
            "  4%|3         | 19/500 [00:08<03:00,  2.67episodes/s]\u001b[A"
          ]
        },
        {
          "metadata": {
            "tags": null
          },
          "name": "stdout",
          "output_type": "stream",
          "text": [
            "Episode:   20, frame_number:   3602, avg rew: 1.0, max rew: 2.0, min rew: 0.0, current epsilon:0.97142\n"
          ]
        },
        {
          "metadata": {
            "tags": null
          },
          "name": "stderr",
          "output_type": "stream",
          "text": [
            "\n",
            "  4%|4         | 20/500 [00:08<02:50,  2.81episodes/s]\u001b[A\n",
            "  4%|4         | 21/500 [00:09<02:52,  2.78episodes/s]\u001b[A\n",
            "  4%|4         | 22/500 [00:09<02:46,  2.87episodes/s]\u001b[A\n",
            "  5%|4         | 23/500 [00:09<02:38,  3.01episodes/s]\u001b[A\n",
            "  5%|4         | 24/500 [00:10<03:13,  2.46episodes/s]\u001b[A\n",
            "  5%|5         | 25/500 [00:10<03:20,  2.37episodes/s]\u001b[A\n",
            "  5%|5         | 26/500 [00:11<03:32,  2.23episodes/s]\u001b[A\n",
            "  5%|5         | 27/500 [00:11<03:07,  2.53episodes/s]\u001b[A\n",
            "  6%|5         | 28/500 [00:26<37:23,  4.75s/episodes]\u001b[A\n",
            "  6%|5         | 29/500 [00:45<1:10:05,  8.93s/episodes]\u001b[A"
          ]
        },
        {
          "metadata": {
            "tags": null
          },
          "name": "stdout",
          "output_type": "stream",
          "text": [
            "Episode:   30, frame_number:   5586, avg rew: 1.6, max rew: 4.0, min rew: 0.0, current epsilon:0.99646\n"
          ]
        },
        {
          "metadata": {
            "tags": null
          },
          "name": "stderr",
          "output_type": "stream",
          "text": [
            "\n",
            "  6%|6         | 30/500 [01:02<1:29:20, 11.41s/episodes]\u001b[A\n",
            "  6%|6         | 31/500 [01:20<1:43:35, 13.25s/episodes]\u001b[A\n",
            "  6%|6         | 32/500 [01:41<2:01:54, 15.63s/episodes]\u001b[A\n",
            "  7%|6         | 33/500 [01:56<1:59:33, 15.36s/episodes]\u001b[A\n",
            "  7%|6         | 34/500 [02:07<1:50:26, 14.22s/episodes]\u001b[A\n",
            "  7%|7         | 35/500 [02:31<2:13:32, 17.23s/episodes]\u001b[A\n",
            "  7%|7         | 36/500 [02:50<2:15:48, 17.56s/episodes]\u001b[A\n",
            "  7%|7         | 37/500 [03:06<2:13:45, 17.33s/episodes]\u001b[A\n",
            "  8%|7         | 38/500 [03:17<1:57:56, 15.32s/episodes]\u001b[A\n",
            "  8%|7         | 39/500 [03:37<2:07:30, 16.60s/episodes]\u001b[A"
          ]
        },
        {
          "metadata": {
            "tags": null
          },
          "name": "stdout",
          "output_type": "stream",
          "text": [
            "Episode:   40, frame_number:   7618, avg rew: 1.6, max rew: 3.0, min rew: 0.0, current epsilon:0.97737\n"
          ]
        },
        {
          "metadata": {
            "tags": null
          },
          "name": "stderr",
          "output_type": "stream",
          "text": [
            "\n",
            "  8%|8         | 40/500 [03:57<2:15:53, 17.73s/episodes]\u001b[A\n",
            "  8%|8         | 41/500 [04:14<2:14:12, 17.54s/episodes]\u001b[A\n",
            "  8%|8         | 42/500 [04:26<2:00:29, 15.78s/episodes]\u001b[A\n",
            "  9%|8         | 43/500 [04:42<2:01:48, 15.99s/episodes]\u001b[A\n",
            "  9%|8         | 44/500 [05:04<2:14:59, 17.76s/episodes]\u001b[A\n",
            "  9%|9         | 45/500 [05:18<2:06:02, 16.62s/episodes]\u001b[A\n",
            "  9%|9         | 46/500 [05:31<1:57:43, 15.56s/episodes]\u001b[A\n",
            "  9%|9         | 47/500 [05:42<1:47:15, 14.21s/episodes]\u001b[A\n",
            " 10%|9         | 48/500 [06:00<1:54:19, 15.18s/episodes]\u001b[A\n",
            " 10%|9         | 49/500 [06:18<2:01:35, 16.18s/episodes]\u001b[A"
          ]
        },
        {
          "metadata": {
            "tags": null
          },
          "name": "stdout",
          "output_type": "stream",
          "text": [
            "Episode:   50, frame_number:   9347, avg rew: 1.0, max rew: 3.0, min rew: 0.0, current epsilon:0.96042\n"
          ]
        },
        {
          "metadata": {
            "tags": null
          },
          "name": "stderr",
          "output_type": "stream",
          "text": [
            "\n",
            " 10%|#         | 50/500 [06:34<2:00:24, 16.06s/episodes]\u001b[A\n",
            " 10%|#         | 51/500 [06:52<2:05:11, 16.73s/episodes]\u001b[A\n",
            " 10%|#         | 52/500 [07:04<1:54:09, 15.29s/episodes]\u001b[A\n",
            " 11%|#         | 53/500 [07:20<1:54:25, 15.36s/episodes]\u001b[A\n",
            " 11%|#         | 54/500 [07:42<2:10:12, 17.52s/episodes]\u001b[A\n",
            " 11%|#1        | 55/500 [07:56<2:02:11, 16.47s/episodes]\u001b[A\n",
            " 11%|#1        | 56/500 [08:25<2:29:05, 20.15s/episodes]\u001b[A\n",
            " 11%|#1        | 57/500 [08:41<2:20:25, 19.02s/episodes]\u001b[A\n",
            " 12%|#1        | 58/500 [08:58<2:13:53, 18.17s/episodes]\u001b[A\n",
            " 12%|#1        | 59/500 [09:12<2:06:09, 17.16s/episodes]\u001b[A"
          ]
        },
        {
          "metadata": {
            "tags": null
          },
          "name": "stdout",
          "output_type": "stream",
          "text": [
            "Episode:   60, frame_number:  11289, avg rew: 1.2, max rew: 4.0, min rew: 0.0, current epsilon:0.94262\n"
          ]
        },
        {
          "metadata": {
            "tags": null
          },
          "name": "stderr",
          "output_type": "stream",
          "text": [
            "\n",
            " 12%|#2        | 60/500 [09:33<2:13:18, 18.18s/episodes]\u001b[A\n",
            " 12%|#2        | 61/500 [09:45<1:58:50, 16.24s/episodes]\u001b[A\n",
            " 12%|#2        | 62/500 [10:17<2:34:02, 21.10s/episodes]\u001b[A\n",
            " 13%|#2        | 63/500 [10:32<2:19:39, 19.18s/episodes]\u001b[A\n",
            " 13%|#2        | 64/500 [10:44<2:04:07, 17.08s/episodes]\u001b[A\n",
            " 13%|#3        | 65/500 [10:59<1:59:11, 16.44s/episodes]\u001b[A\n",
            " 13%|#3        | 66/500 [11:25<2:20:47, 19.46s/episodes]\u001b[A\n",
            " 13%|#3        | 67/500 [11:47<2:25:16, 20.13s/episodes]\u001b[A\n",
            " 14%|#3        | 68/500 [12:01<2:12:08, 18.35s/episodes]\u001b[A\n",
            " 14%|#3        | 69/500 [12:16<2:04:26, 17.32s/episodes]\u001b[A"
          ]
        },
        {
          "metadata": {
            "tags": null
          },
          "name": "stdout",
          "output_type": "stream",
          "text": [
            "Episode:   70, frame_number:  13211, avg rew: 1.3, max rew: 5.0, min rew: 0.0, current epsilon:0.92355\n"
          ]
        },
        {
          "metadata": {
            "tags": null
          },
          "name": "stderr",
          "output_type": "stream",
          "text": [
            "\n",
            " 14%|#4        | 70/500 [12:30<1:55:51, 16.17s/episodes]\u001b[A\n",
            " 14%|#4        | 71/500 [12:50<2:03:37, 17.29s/episodes]\u001b[A\n",
            " 14%|#4        | 72/500 [13:09<2:07:33, 17.88s/episodes]\u001b[A\n",
            " 15%|#4        | 73/500 [13:27<2:07:41, 17.94s/episodes]\u001b[A\n",
            " 15%|#4        | 74/500 [13:40<1:57:50, 16.60s/episodes]\u001b[A\n",
            " 15%|#5        | 75/500 [14:01<2:05:53, 17.77s/episodes]\u001b[A\n",
            " 15%|#5        | 76/500 [14:27<2:22:29, 20.16s/episodes]\u001b[A\n",
            " 15%|#5        | 77/500 [14:47<2:22:14, 20.18s/episodes]\u001b[A\n",
            " 16%|#5        | 78/500 [15:02<2:11:12, 18.65s/episodes]\u001b[A\n",
            " 16%|#5        | 79/500 [15:23<2:15:23, 19.30s/episodes]\u001b[A"
          ]
        },
        {
          "metadata": {
            "tags": null
          },
          "name": "stdout",
          "output_type": "stream",
          "text": [
            "Episode:   80, frame_number:  15218, avg rew: 1.7, max rew: 4.0, min rew: 0.0, current epsilon:0.90449\n"
          ]
        },
        {
          "metadata": {
            "tags": null
          },
          "name": "stderr",
          "output_type": "stream",
          "text": [
            "\n",
            " 16%|#6        | 80/500 [15:35<1:59:27, 17.07s/episodes]\u001b[A\n",
            " 16%|#6        | 81/500 [15:46<1:47:38, 15.41s/episodes]\u001b[A\n",
            " 16%|#6        | 82/500 [15:58<1:40:07, 14.37s/episodes]\u001b[A\n",
            " 17%|#6        | 83/500 [16:19<1:52:16, 16.15s/episodes]\u001b[A\n",
            " 17%|#6        | 84/500 [16:36<1:55:30, 16.66s/episodes]\u001b[A\n",
            " 17%|#7        | 85/500 [16:58<2:06:34, 18.30s/episodes]\u001b[A\n",
            " 17%|#7        | 86/500 [17:17<2:06:49, 18.38s/episodes]\u001b[A\n",
            " 17%|#7        | 87/500 [17:30<1:54:26, 16.62s/episodes]\u001b[A\n",
            " 18%|#7        | 88/500 [17:41<1:44:12, 15.18s/episodes]\u001b[A\n",
            " 18%|#7        | 89/500 [18:02<1:54:08, 16.66s/episodes]\u001b[A"
          ]
        },
        {
          "metadata": {
            "tags": null
          },
          "name": "stdout",
          "output_type": "stream",
          "text": [
            "Episode:   90, frame_number:  16901, avg rew: 0.9, max rew: 2.0, min rew: 0.0, current epsilon:0.88850\n"
          ]
        },
        {
          "metadata": {
            "tags": null
          },
          "name": "stderr",
          "output_type": "stream",
          "text": [
            "\n",
            " 18%|#8        | 90/500 [18:13<1:44:02, 15.23s/episodes]\u001b[A\n",
            " 18%|#8        | 91/500 [18:27<1:39:33, 14.61s/episodes]\u001b[A\n",
            " 18%|#8        | 92/500 [18:52<2:02:22, 18.00s/episodes]\u001b[A\n",
            " 19%|#8        | 93/500 [19:14<2:08:38, 18.96s/episodes]\u001b[A\n",
            " 19%|#8        | 94/500 [19:36<2:15:35, 20.04s/episodes]\u001b[A\n",
            " 19%|#9        | 95/500 [19:56<2:14:13, 19.89s/episodes]\u001b[A\n",
            " 19%|#9        | 96/500 [20:13<2:09:08, 19.18s/episodes]\u001b[A\n",
            " 19%|#9        | 97/500 [20:26<1:55:52, 17.25s/episodes]\u001b[A\n",
            " 20%|#9        | 98/500 [20:45<1:59:37, 17.86s/episodes]\u001b[A\n",
            " 20%|#9        | 99/500 [21:07<2:06:20, 18.90s/episodes]\u001b[A"
          ]
        },
        {
          "metadata": {
            "tags": null
          },
          "name": "stdout",
          "output_type": "stream",
          "text": [
            "Episode:  100, frame_number:  18912, avg rew: 1.7, max rew: 3.0, min rew: 0.0, current epsilon:0.87011\n"
          ]
        },
        {
          "metadata": {
            "tags": null
          },
          "name": "stderr",
          "output_type": "stream",
          "text": [
            "\n",
            " 20%|##        | 100/500 [21:27<2:07:59, 19.20s/episodes]\u001b[A\n",
            " 20%|##        | 101/500 [21:53<2:22:22, 21.41s/episodes]\u001b[A\n",
            " 20%|##        | 102/500 [22:20<2:32:18, 22.96s/episodes]\u001b[A\n",
            " 21%|##        | 103/500 [22:34<2:15:34, 20.49s/episodes]\u001b[A\n",
            " 21%|##        | 104/500 [22:58<2:20:58, 21.36s/episodes]\u001b[A\n",
            " 21%|##1       | 105/500 [23:27<2:36:31, 23.78s/episodes]\u001b[A\n",
            " 21%|##1       | 106/500 [23:46<2:27:11, 22.42s/episodes]\u001b[A\n",
            " 21%|##1       | 107/500 [24:08<2:25:13, 22.17s/episodes]\u001b[A\n",
            " 22%|##1       | 108/500 [24:27<2:19:08, 21.30s/episodes]\u001b[A\n",
            " 22%|##1       | 109/500 [24:40<2:02:53, 18.86s/episodes]\u001b[A"
          ]
        },
        {
          "metadata": {
            "tags": null
          },
          "name": "stdout",
          "output_type": "stream",
          "text": [
            "Episode:  110, frame_number:  21038, avg rew: 1.9, max rew: 4.0, min rew: 0.0, current epsilon:0.84936\n"
          ]
        },
        {
          "metadata": {
            "tags": null
          },
          "name": "stderr",
          "output_type": "stream",
          "text": [
            "\n",
            " 22%|##2       | 110/500 [24:54<1:52:10, 17.26s/episodes]\u001b[A\n",
            " 22%|##2       | 111/500 [25:18<2:05:09, 19.30s/episodes]\u001b[A\n",
            " 22%|##2       | 112/500 [25:38<2:05:40, 19.43s/episodes]\u001b[A\n",
            " 23%|##2       | 113/500 [25:59<2:09:03, 20.01s/episodes]\u001b[A\n",
            " 23%|##2       | 114/500 [26:23<2:16:40, 21.25s/episodes]\u001b[A\n",
            " 23%|##3       | 115/500 [26:50<2:26:47, 22.88s/episodes]\u001b[A\n",
            " 23%|##3       | 116/500 [27:10<2:21:46, 22.15s/episodes]\u001b[A\n",
            " 23%|##3       | 117/500 [27:23<2:03:33, 19.36s/episodes]\u001b[A\n",
            " 24%|##3       | 118/500 [27:37<1:51:31, 17.52s/episodes]\u001b[A\n",
            " 24%|##3       | 119/500 [27:50<1:43:29, 16.30s/episodes]\u001b[A"
          ]
        },
        {
          "metadata": {
            "tags": null
          },
          "name": "stdout",
          "output_type": "stream",
          "text": [
            "Episode:  120, frame_number:  22979, avg rew: 1.4, max rew: 3.0, min rew: 0.0, current epsilon:0.83136\n"
          ]
        },
        {
          "metadata": {
            "tags": null
          },
          "name": "stderr",
          "output_type": "stream",
          "text": [
            "\n",
            " 24%|##4       | 120/500 [28:06<1:43:23, 16.32s/episodes]\u001b[A\n",
            " 24%|##4       | 121/500 [28:28<1:53:22, 17.95s/episodes]\u001b[A\n",
            " 24%|##4       | 122/500 [28:41<1:42:53, 16.33s/episodes]\u001b[A\n",
            " 25%|##4       | 123/500 [29:00<1:47:29, 17.11s/episodes]\u001b[A\n",
            " 25%|##4       | 124/500 [29:28<2:09:17, 20.63s/episodes]\u001b[A\n",
            " 25%|##5       | 125/500 [29:53<2:16:49, 21.89s/episodes]\u001b[A\n",
            " 25%|##5       | 126/500 [30:10<2:07:35, 20.47s/episodes]\u001b[A\n",
            " 25%|##5       | 127/500 [30:33<2:11:29, 21.15s/episodes]\u001b[A\n",
            " 26%|##5       | 128/500 [30:49<2:01:11, 19.55s/episodes]\u001b[A\n",
            " 26%|##5       | 129/500 [31:03<1:51:34, 18.04s/episodes]\u001b[A"
          ]
        },
        {
          "metadata": {
            "tags": null
          },
          "name": "stdout",
          "output_type": "stream",
          "text": [
            "Episode:  130, frame_number:  24977, avg rew: 1.8, max rew: 4.0, min rew: 0.0, current epsilon:0.81266\n"
          ]
        },
        {
          "metadata": {
            "tags": null
          },
          "name": "stderr",
          "output_type": "stream",
          "text": [
            "\n",
            " 26%|##6       | 130/500 [31:23<1:54:03, 18.50s/episodes]\u001b[A\n",
            " 26%|##6       | 131/500 [31:50<2:08:36, 20.91s/episodes]\u001b[A\n",
            " 26%|##6       | 132/500 [32:08<2:03:39, 20.16s/episodes]\u001b[A\n",
            " 27%|##6       | 133/500 [32:54<2:50:37, 27.90s/episodes]\u001b[A\n",
            " 27%|##6       | 134/500 [33:28<3:00:55, 29.66s/episodes]\u001b[A\n",
            " 27%|##7       | 135/500 [33:41<2:30:00, 24.66s/episodes]\u001b[A\n",
            " 27%|##7       | 136/500 [33:57<2:13:47, 22.05s/episodes]\u001b[A\n",
            " 27%|##7       | 137/500 [34:22<2:19:06, 22.99s/episodes]\u001b[A\n",
            " 28%|##7       | 138/500 [34:41<2:12:07, 21.90s/episodes]\u001b[A\n",
            " 28%|##7       | 139/500 [35:01<2:07:53, 21.26s/episodes]\u001b[A"
          ]
        },
        {
          "metadata": {
            "tags": null
          },
          "name": "stdout",
          "output_type": "stream",
          "text": [
            "Episode:  140, frame_number:  27230, avg rew: 2.5, max rew: 9.0, min rew: 0.0, current epsilon:0.79059\n"
          ]
        },
        {
          "metadata": {
            "tags": null
          },
          "name": "stderr",
          "output_type": "stream",
          "text": [
            "\n",
            " 28%|##8       | 140/500 [35:14<1:52:33, 18.76s/episodes]\u001b[A\n",
            " 28%|##8       | 141/500 [35:31<1:49:28, 18.30s/episodes]\u001b[A\n",
            " 28%|##8       | 142/500 [35:44<1:39:48, 16.73s/episodes]\u001b[A\n",
            " 29%|##8       | 143/500 [35:58<1:35:08, 15.99s/episodes]\u001b[A\n",
            " 29%|##8       | 144/500 [36:19<1:43:06, 17.38s/episodes]\u001b[A\n",
            " 29%|##9       | 145/500 [36:32<1:35:43, 16.18s/episodes]\u001b[A\n",
            " 29%|##9       | 146/500 [36:49<1:36:02, 16.28s/episodes]\u001b[A\n",
            " 29%|##9       | 147/500 [37:03<1:31:54, 15.62s/episodes]\u001b[A\n",
            " 30%|##9       | 148/500 [37:29<1:50:11, 18.78s/episodes]\u001b[A\n",
            " 30%|##9       | 149/500 [37:51<1:55:41, 19.78s/episodes]\u001b[A"
          ]
        },
        {
          "metadata": {
            "tags": null
          },
          "name": "stdout",
          "output_type": "stream",
          "text": [
            "Episode:  150, frame_number:  28887, avg rew: 0.9, max rew: 3.0, min rew: 0.0, current epsilon:0.77501\n"
          ]
        },
        {
          "metadata": {
            "tags": null
          },
          "name": "stderr",
          "output_type": "stream",
          "text": [
            "\n",
            " 30%|###       | 150/500 [38:05<1:44:49, 17.97s/episodes]\u001b[A\n",
            " 30%|###       | 151/500 [38:28<1:52:39, 19.37s/episodes]\u001b[A\n",
            " 30%|###       | 152/500 [39:00<2:14:32, 23.20s/episodes]\u001b[A\n",
            " 31%|###       | 153/500 [39:14<1:57:57, 20.40s/episodes]\u001b[A\n",
            " 31%|###       | 154/500 [39:28<1:47:34, 18.66s/episodes]\u001b[A\n",
            " 31%|###1      | 155/500 [39:57<2:04:42, 21.69s/episodes]\u001b[A\n",
            " 31%|###1      | 156/500 [40:20<2:07:09, 22.18s/episodes]\u001b[A\n",
            " 31%|###1      | 157/500 [40:47<2:14:11, 23.47s/episodes]\u001b[A\n",
            " 32%|###1      | 158/500 [41:08<2:09:55, 22.80s/episodes]\u001b[A\n",
            " 32%|###1      | 159/500 [41:39<2:23:48, 25.30s/episodes]\u001b[A"
          ]
        },
        {
          "metadata": {
            "tags": null
          },
          "name": "stdout",
          "output_type": "stream",
          "text": [
            "Episode:  160, frame_number:  31112, avg rew: 2.1, max rew: 4.0, min rew: 0.0, current epsilon:0.75432\n"
          ]
        },
        {
          "metadata": {
            "tags": null
          },
          "name": "stderr",
          "output_type": "stream",
          "text": [
            "\n",
            " 32%|###2      | 160/500 [41:59<2:13:40, 23.59s/episodes]\u001b[A\n",
            " 32%|###2      | 161/500 [42:15<2:00:26, 21.32s/episodes]\u001b[A\n",
            " 32%|###2      | 162/500 [42:29<1:48:19, 19.23s/episodes]\u001b[A\n",
            " 33%|###2      | 163/500 [42:54<1:57:33, 20.93s/episodes]\u001b[A\n",
            " 33%|###2      | 164/500 [43:15<1:57:14, 20.93s/episodes]\u001b[A\n",
            " 33%|###3      | 165/500 [43:35<1:55:46, 20.74s/episodes]\u001b[A\n",
            " 33%|###3      | 166/500 [43:58<1:57:58, 21.19s/episodes]\u001b[A\n",
            " 33%|###3      | 167/500 [44:13<1:47:16, 19.33s/episodes]\u001b[A\n",
            " 34%|###3      | 168/500 [44:54<2:24:19, 26.08s/episodes]\u001b[A\n",
            " 34%|###3      | 169/500 [45:12<2:09:21, 23.45s/episodes]\u001b[A"
          ]
        },
        {
          "metadata": {
            "tags": null
          },
          "name": "stdout",
          "output_type": "stream",
          "text": [
            "Episode:  170, frame_number:  33047, avg rew: 1.3, max rew: 6.0, min rew: 0.0, current epsilon:0.73585\n"
          ]
        },
        {
          "metadata": {
            "tags": null
          },
          "name": "stderr",
          "output_type": "stream",
          "text": [
            "\n",
            " 34%|###4      | 170/500 [45:28<1:57:51, 21.43s/episodes]\u001b[A\n",
            " 34%|###4      | 171/500 [45:44<1:48:10, 19.73s/episodes]\u001b[A\n",
            " 34%|###4      | 172/500 [46:21<2:15:06, 24.72s/episodes]\u001b[A\n",
            " 35%|###4      | 173/500 [46:46<2:16:37, 25.07s/episodes]\u001b[A\n",
            " 35%|###4      | 174/500 [47:15<2:22:42, 26.27s/episodes]\u001b[A\n",
            " 35%|###5      | 175/500 [47:43<2:24:22, 26.65s/episodes]\u001b[A\n",
            " 35%|###5      | 176/500 [47:57<2:03:05, 22.80s/episodes]\u001b[A\n",
            " 35%|###5      | 177/500 [48:11<1:48:04, 20.08s/episodes]\u001b[A\n",
            " 36%|###5      | 178/500 [48:26<1:40:59, 18.82s/episodes]\u001b[A\n",
            " 36%|###5      | 179/500 [48:56<1:57:25, 21.95s/episodes]\u001b[A"
          ]
        },
        {
          "metadata": {
            "tags": null
          },
          "name": "stdout",
          "output_type": "stream",
          "text": [
            "Episode:  180, frame_number:  35117, avg rew: 1.8, max rew: 5.0, min rew: 0.0, current epsilon:0.71624\n"
          ]
        },
        {
          "metadata": {
            "tags": null
          },
          "name": "stderr",
          "output_type": "stream",
          "text": [
            "\n",
            " 36%|###6      | 180/500 [49:13<1:48:51, 20.41s/episodes]\u001b[A\n",
            " 36%|###6      | 181/500 [49:26<1:37:30, 18.34s/episodes]\u001b[A\n",
            " 36%|###6      | 182/500 [49:58<1:59:15, 22.50s/episodes]\u001b[A\n",
            " 37%|###6      | 183/500 [50:17<1:52:25, 21.28s/episodes]\u001b[A\n",
            " 37%|###6      | 184/500 [50:34<1:45:35, 20.05s/episodes]\u001b[A\n",
            " 37%|###7      | 185/500 [50:53<1:43:03, 19.63s/episodes]\u001b[A\n",
            " 37%|###7      | 186/500 [51:12<1:42:37, 19.61s/episodes]\u001b[A\n",
            " 37%|###7      | 187/500 [51:28<1:36:19, 18.47s/episodes]\u001b[A\n",
            " 38%|###7      | 188/500 [51:43<1:31:07, 17.52s/episodes]\u001b[A\n",
            " 38%|###7      | 189/500 [51:58<1:26:34, 16.70s/episodes]\u001b[A"
          ]
        },
        {
          "metadata": {
            "tags": null
          },
          "name": "stdout",
          "output_type": "stream",
          "text": [
            "Episode:  190, frame_number:  36722, avg rew: 0.9, max rew: 4.0, min rew: 0.0, current epsilon:0.70068\n"
          ]
        },
        {
          "metadata": {
            "tags": null
          },
          "name": "stderr",
          "output_type": "stream",
          "text": [
            "\n",
            " 38%|###8      | 190/500 [52:11<1:20:51, 15.65s/episodes]\u001b[A\n",
            " 38%|###8      | 191/500 [52:28<1:22:09, 15.95s/episodes]\u001b[A\n",
            " 38%|###8      | 192/500 [52:40<1:16:47, 14.96s/episodes]\u001b[A\n",
            " 39%|###8      | 193/500 [53:08<1:35:11, 18.60s/episodes]\u001b[A\n",
            " 39%|###8      | 194/500 [53:35<1:48:21, 21.25s/episodes]\u001b[A\n",
            " 39%|###9      | 195/500 [53:56<1:48:07, 21.27s/episodes]\u001b[A\n",
            " 39%|###9      | 196/500 [54:16<1:45:19, 20.79s/episodes]\u001b[A\n",
            " 39%|###9      | 197/500 [54:36<1:43:09, 20.43s/episodes]\u001b[A\n",
            " 40%|###9      | 198/500 [55:00<1:48:07, 21.48s/episodes]\u001b[A\n",
            " 40%|###9      | 199/500 [55:19<1:44:45, 20.88s/episodes]\u001b[A"
          ]
        },
        {
          "metadata": {
            "tags": null
          },
          "name": "stdout",
          "output_type": "stream",
          "text": [
            "Episode:  200, frame_number:  38695, avg rew: 1.8, max rew: 3.0, min rew: 0.0, current epsilon:0.68318\n"
          ]
        },
        {
          "metadata": {
            "tags": null
          },
          "name": "stderr",
          "output_type": "stream",
          "text": [
            "\n",
            " 40%|####      | 200/500 [55:47<1:55:30, 23.10s/episodes]\u001b[A\n",
            " 40%|####      | 201/500 [56:03<1:43:50, 20.84s/episodes]\u001b[A\n",
            " 40%|####      | 202/500 [56:27<1:48:29, 21.84s/episodes]\u001b[A\n",
            " 41%|####      | 203/500 [56:50<1:49:34, 22.14s/episodes]\u001b[A\n",
            " 41%|####      | 204/500 [57:19<1:59:43, 24.27s/episodes]\u001b[A\n",
            " 41%|####1     | 205/500 [57:49<2:06:58, 25.83s/episodes]\u001b[A\n",
            " 41%|####1     | 206/500 [58:19<2:12:41, 27.08s/episodes]\u001b[A\n",
            " 41%|####1     | 207/500 [58:47<2:14:47, 27.60s/episodes]\u001b[A\n",
            " 42%|####1     | 208/500 [59:13<2:10:48, 26.88s/episodes]\u001b[A\n",
            " 42%|####1     | 209/500 [59:36<2:05:23, 25.85s/episodes]\u001b[A"
          ]
        },
        {
          "metadata": {
            "tags": null
          },
          "name": "stdout",
          "output_type": "stream",
          "text": [
            "Episode:  210, frame_number:  40969, avg rew: 2.4, max rew: 4.0, min rew: 0.0, current epsilon:0.66150\n"
          ]
        },
        {
          "metadata": {
            "tags": null
          },
          "name": "stderr",
          "output_type": "stream",
          "text": [
            "\n",
            " 42%|####2     | 210/500 [1:00:04<2:07:32, 26.39s/episodes]\u001b[A\n",
            " 42%|####2     | 211/500 [1:00:24<1:58:50, 24.67s/episodes]\u001b[A\n",
            " 42%|####2     | 212/500 [1:01:05<2:22:11, 29.62s/episodes]\u001b[A\n",
            " 43%|####2     | 213/500 [1:01:32<2:17:49, 28.81s/episodes]\u001b[A\n",
            " 43%|####2     | 214/500 [1:01:53<2:05:49, 26.40s/episodes]\u001b[A\n",
            " 43%|####3     | 215/500 [1:02:16<1:59:47, 25.22s/episodes]\u001b[A\n",
            " 43%|####3     | 216/500 [1:02:38<1:54:39, 24.22s/episodes]\u001b[A\n",
            " 43%|####3     | 217/500 [1:02:53<1:41:19, 21.48s/episodes]\u001b[A\n",
            " 44%|####3     | 218/500 [1:03:15<1:42:19, 21.77s/episodes]\u001b[A\n",
            " 44%|####3     | 219/500 [1:03:40<1:46:43, 22.79s/episodes]\u001b[A"
          ]
        },
        {
          "metadata": {
            "tags": null
          },
          "name": "stdout",
          "output_type": "stream",
          "text": [
            "Episode:  220, frame_number:  43145, avg rew: 1.9, max rew: 5.0, min rew: 0.0, current epsilon:0.64135\n"
          ]
        },
        {
          "metadata": {
            "tags": null
          },
          "name": "stderr",
          "output_type": "stream",
          "text": [
            "\n",
            " 44%|####4     | 220/500 [1:04:12<1:58:45, 25.45s/episodes]\u001b[A\n",
            " 44%|####4     | 221/500 [1:04:45<2:08:24, 27.61s/episodes]\u001b[A\n",
            " 44%|####4     | 222/500 [1:05:07<2:00:40, 26.04s/episodes]\u001b[A\n",
            " 45%|####4     | 223/500 [1:05:35<2:03:19, 26.71s/episodes]\u001b[A\n",
            " 45%|####4     | 224/500 [1:06:03<2:04:35, 27.09s/episodes]\u001b[A\n",
            " 45%|####5     | 225/500 [1:06:22<1:52:22, 24.52s/episodes]\u001b[A\n",
            " 45%|####5     | 226/500 [1:06:38<1:40:52, 22.09s/episodes]\u001b[A\n",
            " 45%|####5     | 227/500 [1:07:09<1:51:52, 24.59s/episodes]\u001b[A\n",
            " 46%|####5     | 228/500 [1:07:31<1:48:49, 24.01s/episodes]\u001b[A\n",
            " 46%|####5     | 229/500 [1:07:55<1:48:40, 24.06s/episodes]\u001b[A"
          ]
        },
        {
          "metadata": {
            "tags": null
          },
          "name": "stdout",
          "output_type": "stream",
          "text": [
            "Episode:  230, frame_number:  45294, avg rew: 2.2, max rew: 4.0, min rew: 0.0, current epsilon:0.62016\n"
          ]
        },
        {
          "metadata": {
            "tags": null
          },
          "name": "stderr",
          "output_type": "stream",
          "text": [
            "\n",
            " 46%|####6     | 230/500 [1:08:17<1:45:32, 23.45s/episodes]\u001b[A\n",
            " 46%|####6     | 231/500 [1:08:40<1:43:40, 23.13s/episodes]\u001b[A\n",
            " 46%|####6     | 232/500 [1:09:11<1:53:55, 25.50s/episodes]\u001b[A\n",
            " 47%|####6     | 233/500 [1:09:41<2:00:07, 26.99s/episodes]\u001b[A\n",
            " 47%|####6     | 234/500 [1:10:00<1:48:43, 24.53s/episodes]\u001b[A\n",
            " 47%|####6     | 235/500 [1:10:26<1:49:46, 24.86s/episodes]\u001b[A\n",
            " 47%|####7     | 236/500 [1:11:04<2:07:45, 29.04s/episodes]\u001b[A\n",
            " 47%|####7     | 237/500 [1:11:36<2:09:57, 29.65s/episodes]\u001b[A\n",
            " 48%|####7     | 238/500 [1:11:53<1:53:44, 26.05s/episodes]\u001b[A\n",
            " 48%|####7     | 239/500 [1:12:19<1:52:26, 25.85s/episodes]\u001b[A"
          ]
        },
        {
          "metadata": {
            "tags": null
          },
          "name": "stdout",
          "output_type": "stream",
          "text": [
            "Episode:  240, frame_number:  47565, avg rew: 2.3, max rew: 4.0, min rew: 0.0, current epsilon:0.59881\n"
          ]
        },
        {
          "metadata": {
            "tags": null
          },
          "name": "stderr",
          "output_type": "stream",
          "text": [
            "\n",
            " 48%|####8     | 240/500 [1:12:44<1:51:43, 25.78s/episodes]\u001b[A\n",
            " 48%|####8     | 241/500 [1:13:16<1:58:49, 27.53s/episodes]\u001b[A\n",
            " 48%|####8     | 242/500 [1:13:34<1:45:51, 24.62s/episodes]\u001b[A\n",
            " 49%|####8     | 243/500 [1:13:58<1:45:05, 24.54s/episodes]\u001b[A\n",
            " 49%|####8     | 244/500 [1:14:32<1:57:18, 27.50s/episodes]\u001b[A\n",
            " 49%|####9     | 245/500 [1:14:57<1:53:35, 26.73s/episodes]\u001b[A\n",
            " 49%|####9     | 246/500 [1:15:29<1:59:35, 28.25s/episodes]\u001b[A\n",
            " 49%|####9     | 247/500 [1:15:52<1:52:53, 26.77s/episodes]\u001b[A\n",
            " 50%|####9     | 248/500 [1:16:36<2:13:41, 31.83s/episodes]\u001b[A\n",
            " 50%|####9     | 249/500 [1:17:28<2:38:57, 38.00s/episodes]\u001b[A"
          ]
        },
        {
          "metadata": {
            "tags": null
          },
          "name": "stdout",
          "output_type": "stream",
          "text": [
            "Episode:  250, frame_number:  50085, avg rew: 3.1, max rew: 7.0, min rew: 0.0, current epsilon:0.57495\n"
          ]
        },
        {
          "metadata": {
            "tags": null
          },
          "name": "stderr",
          "output_type": "stream",
          "text": [
            "\n",
            " 50%|#####     | 250/500 [1:17:56<2:24:39, 34.72s/episodes]\u001b[A\n",
            " 50%|#####     | 251/500 [1:18:24<2:16:29, 32.89s/episodes]\u001b[A\n",
            " 50%|#####     | 252/500 [1:18:44<2:00:11, 29.08s/episodes]\u001b[A\n",
            " 51%|#####     | 253/500 [1:19:05<1:49:11, 26.53s/episodes]\u001b[A\n",
            " 51%|#####     | 254/500 [1:19:19<1:33:52, 22.90s/episodes]\u001b[A\n",
            " 51%|#####1    | 255/500 [1:19:52<1:45:22, 25.81s/episodes]\u001b[A\n",
            " 51%|#####1    | 256/500 [1:20:11<1:37:12, 23.90s/episodes]\u001b[A\n",
            " 51%|#####1    | 257/500 [1:20:38<1:39:33, 24.58s/episodes]\u001b[A\n",
            " 52%|#####1    | 258/500 [1:21:08<1:45:40, 26.20s/episodes]\u001b[A\n",
            " 52%|#####1    | 259/500 [1:21:25<1:35:11, 23.70s/episodes]\u001b[A"
          ]
        },
        {
          "metadata": {
            "tags": null
          },
          "name": "stdout",
          "output_type": "stream",
          "text": [
            "Episode:  260, frame_number:  51943, avg rew: 1.3, max rew: 4.0, min rew: 0.0, current epsilon:0.55644\n"
          ]
        },
        {
          "metadata": {
            "tags": null
          },
          "name": "stderr",
          "output_type": "stream",
          "text": [
            "\n",
            " 52%|#####2    | 260/500 [1:21:40<1:24:02, 21.01s/episodes]\u001b[A\n",
            " 52%|#####2    | 261/500 [1:22:03<1:25:51, 21.56s/episodes]\u001b[A\n",
            " 52%|#####2    | 262/500 [1:22:41<1:44:58, 26.46s/episodes]\u001b[A\n",
            " 53%|#####2    | 263/500 [1:23:06<1:43:14, 26.14s/episodes]\u001b[A\n",
            " 53%|#####2    | 264/500 [1:23:28<1:37:43, 24.84s/episodes]\u001b[A\n",
            " 53%|#####3    | 265/500 [1:23:47<1:30:43, 23.16s/episodes]\u001b[A\n",
            " 53%|#####3    | 266/500 [1:24:02<1:19:51, 20.48s/episodes]\u001b[A\n",
            " 53%|#####3    | 267/500 [1:24:17<1:13:30, 18.93s/episodes]\u001b[A\n",
            " 54%|#####3    | 268/500 [1:24:47<1:25:54, 22.22s/episodes]\u001b[A\n",
            " 54%|#####3    | 269/500 [1:25:17<1:34:55, 24.65s/episodes]\u001b[A"
          ]
        },
        {
          "metadata": {
            "tags": null
          },
          "name": "stdout",
          "output_type": "stream",
          "text": [
            "Episode:  270, frame_number:  53988, avg rew: 1.8, max rew: 5.0, min rew: 0.0, current epsilon:0.53815\n"
          ]
        },
        {
          "metadata": {
            "tags": null
          },
          "name": "stderr",
          "output_type": "stream",
          "text": [
            "\n",
            " 54%|#####4    | 270/500 [1:25:44<1:37:08, 25.34s/episodes]\u001b[A\n",
            " 54%|#####4    | 271/500 [1:26:14<1:42:10, 26.77s/episodes]\u001b[A\n",
            " 54%|#####4    | 272/500 [1:26:45<1:45:57, 27.88s/episodes]\u001b[A\n",
            " 55%|#####4    | 273/500 [1:27:12<1:44:39, 27.66s/episodes]\u001b[A\n",
            " 55%|#####4    | 274/500 [1:27:32<1:35:32, 25.37s/episodes]\u001b[A\n",
            " 55%|#####5    | 275/500 [1:27:51<1:28:04, 23.49s/episodes]\u001b[A\n",
            " 55%|#####5    | 276/500 [1:28:30<1:44:47, 28.07s/episodes]\u001b[A\n",
            " 55%|#####5    | 277/500 [1:28:59<1:45:23, 28.36s/episodes]\u001b[A\n",
            " 56%|#####5    | 278/500 [1:29:25<1:42:43, 27.76s/episodes]\u001b[A\n",
            " 56%|#####5    | 279/500 [1:29:48<1:36:46, 26.28s/episodes]\u001b[A"
          ]
        },
        {
          "metadata": {
            "tags": null
          },
          "name": "stdout",
          "output_type": "stream",
          "text": [
            "Episode:  280, frame_number:  56112, avg rew: 1.9, max rew: 4.0, min rew: 0.0, current epsilon:0.51738\n"
          ]
        },
        {
          "metadata": {
            "tags": null
          },
          "name": "stderr",
          "output_type": "stream",
          "text": [
            "\n",
            " 56%|#####6    | 280/500 [1:30:09<1:30:51, 24.78s/episodes]\u001b[A\n",
            " 56%|#####6    | 281/500 [1:30:46<1:43:41, 28.41s/episodes]\u001b[A\n",
            " 56%|#####6    | 282/500 [1:31:24<1:54:11, 31.43s/episodes]\u001b[A\n",
            " 57%|#####6    | 283/500 [1:31:50<1:46:59, 29.59s/episodes]\u001b[A\n",
            " 57%|#####6    | 284/500 [1:32:18<1:44:47, 29.11s/episodes]\u001b[A\n",
            " 57%|#####6    | 285/500 [1:32:44<1:41:11, 28.24s/episodes]\u001b[A\n",
            " 57%|#####7    | 286/500 [1:33:03<1:31:13, 25.58s/episodes]\u001b[A\n",
            " 57%|#####7    | 287/500 [1:33:18<1:19:25, 22.37s/episodes]\u001b[A\n",
            " 58%|#####7    | 288/500 [1:33:45<1:23:17, 23.57s/episodes]\u001b[A\n",
            " 58%|#####7    | 289/500 [1:34:04<1:18:03, 22.19s/episodes]\u001b[A"
          ]
        },
        {
          "metadata": {
            "tags": null
          },
          "name": "stdout",
          "output_type": "stream",
          "text": [
            "Episode:  290, frame_number:  58207, avg rew: 2.2, max rew: 5.0, min rew: 0.0, current epsilon:0.49810\n"
          ]
        },
        {
          "metadata": {
            "tags": null
          },
          "name": "stderr",
          "output_type": "stream",
          "text": [
            "\n",
            " 58%|#####8    | 290/500 [1:34:32<1:23:58, 23.99s/episodes]\u001b[A\n",
            " 58%|#####8    | 291/500 [1:34:58<1:25:28, 24.54s/episodes]\u001b[A\n",
            " 58%|#####8    | 292/500 [1:35:27<1:29:59, 25.96s/episodes]\u001b[A\n",
            " 59%|#####8    | 293/500 [1:35:42<1:18:39, 22.80s/episodes]\u001b[A\n",
            " 59%|#####8    | 294/500 [1:35:58<1:10:46, 20.61s/episodes]\u001b[A\n",
            " 59%|#####8    | 295/500 [1:36:19<1:11:29, 20.93s/episodes]\u001b[A\n",
            " 59%|#####9    | 296/500 [1:36:42<1:12:48, 21.42s/episodes]\u001b[A\n",
            " 59%|#####9    | 297/500 [1:37:07<1:15:51, 22.42s/episodes]\u001b[A\n",
            " 60%|#####9    | 298/500 [1:37:35<1:21:45, 24.29s/episodes]\u001b[A\n",
            " 60%|#####9    | 299/500 [1:38:01<1:22:30, 24.63s/episodes]\u001b[A"
          ]
        },
        {
          "metadata": {
            "tags": null
          },
          "name": "stdout",
          "output_type": "stream",
          "text": [
            "Episode:  300, frame_number:  60006, avg rew: 1.3, max rew: 3.0, min rew: 0.0, current epsilon:0.48009\n"
          ]
        },
        {
          "metadata": {
            "tags": null
          },
          "name": "stderr",
          "output_type": "stream",
          "text": [
            "\n",
            " 60%|######    | 300/500 [1:38:16<1:12:27, 21.74s/episodes]\u001b[A\n",
            " 60%|######    | 301/500 [1:38:38<1:12:17, 21.80s/episodes]\u001b[A\n",
            " 60%|######    | 302/500 [1:38:54<1:06:38, 20.19s/episodes]\u001b[A\n",
            " 61%|######    | 303/500 [1:39:10<1:01:47, 18.82s/episodes]\u001b[A\n",
            " 61%|######    | 304/500 [1:39:54<1:26:02, 26.34s/episodes]\u001b[A\n",
            " 61%|######1   | 305/500 [1:40:30<1:34:54, 29.21s/episodes]\u001b[A\n",
            " 61%|######1   | 306/500 [1:40:54<1:29:47, 27.77s/episodes]\u001b[A\n",
            " 61%|######1   | 307/500 [1:41:11<1:18:28, 24.39s/episodes]\u001b[A\n",
            " 62%|######1   | 308/500 [1:41:30<1:12:51, 22.77s/episodes]\u001b[A\n",
            " 62%|######1   | 309/500 [1:41:58<1:17:55, 24.48s/episodes]\u001b[A"
          ]
        },
        {
          "metadata": {
            "tags": null
          },
          "name": "stdout",
          "output_type": "stream",
          "text": [
            "Episode:  310, frame_number:  61892, avg rew: 1.4, max rew: 5.0, min rew: 0.0, current epsilon:0.46221\n"
          ]
        },
        {
          "metadata": {
            "tags": null
          },
          "name": "stderr",
          "output_type": "stream",
          "text": [
            "\n",
            " 62%|######2   | 310/500 [1:42:15<1:10:03, 22.13s/episodes]\u001b[A\n",
            " 62%|######2   | 311/500 [1:42:42<1:14:16, 23.58s/episodes]\u001b[A\n",
            " 62%|######2   | 312/500 [1:43:09<1:17:12, 24.64s/episodes]\u001b[A\n",
            " 63%|######2   | 313/500 [1:43:33<1:15:59, 24.38s/episodes]\u001b[A\n",
            " 63%|######2   | 314/500 [1:43:50<1:09:20, 22.37s/episodes]\u001b[A\n",
            " 63%|######3   | 315/500 [1:44:09<1:06:00, 21.41s/episodes]\u001b[A\n",
            " 63%|######3   | 316/500 [1:44:31<1:06:10, 21.58s/episodes]\u001b[A\n",
            " 63%|######3   | 317/500 [1:44:49<1:01:54, 20.30s/episodes]\u001b[A\n",
            " 64%|######3   | 318/500 [1:45:08<1:00:18, 19.88s/episodes]\u001b[A\n",
            " 64%|######3   | 319/500 [1:45:41<1:12:21, 23.99s/episodes]\u001b[A"
          ]
        },
        {
          "metadata": {
            "tags": null
          },
          "name": "stdout",
          "output_type": "stream",
          "text": [
            "Episode:  320, frame_number:  63758, avg rew: 0.8, max rew: 2.0, min rew: 0.0, current epsilon:0.44582\n"
          ]
        },
        {
          "metadata": {
            "tags": null
          },
          "name": "stderr",
          "output_type": "stream",
          "text": [
            "\n",
            " 64%|######4   | 320/500 [1:46:14<1:19:59, 26.66s/episodes]\u001b[A\n",
            " 64%|######4   | 321/500 [1:46:42<1:20:23, 26.95s/episodes]\u001b[A\n",
            " 64%|######4   | 322/500 [1:47:13<1:23:41, 28.21s/episodes]\u001b[A\n",
            " 65%|######4   | 323/500 [1:47:34<1:17:02, 26.11s/episodes]\u001b[A\n",
            " 65%|######4   | 324/500 [1:48:07<1:23:00, 28.30s/episodes]\u001b[A\n",
            " 65%|######5   | 325/500 [1:48:39<1:25:23, 29.28s/episodes]\u001b[A\n",
            " 65%|######5   | 326/500 [1:49:12<1:27:47, 30.27s/episodes]\u001b[A\n",
            " 65%|######5   | 327/500 [1:49:44<1:28:52, 30.83s/episodes]\u001b[A\n",
            " 66%|######5   | 328/500 [1:50:12<1:25:53, 29.96s/episodes]\u001b[A\n",
            " 66%|######5   | 329/500 [1:50:47<1:29:51, 31.53s/episodes]\u001b[A"
          ]
        },
        {
          "metadata": {
            "tags": null
          },
          "name": "stdout",
          "output_type": "stream",
          "text": [
            "Episode:  330, frame_number:  66084, avg rew: 2.0, max rew: 3.0, min rew: 1.0, current epsilon:0.42346\n"
          ]
        },
        {
          "metadata": {
            "tags": null
          },
          "name": "stderr",
          "output_type": "stream",
          "text": [
            "\n",
            " 66%|######6   | 330/500 [1:51:16<1:27:10, 30.77s/episodes]\u001b[A\n",
            " 66%|######6   | 331/500 [1:51:40<1:21:08, 28.81s/episodes]\u001b[A\n",
            " 66%|######6   | 332/500 [1:52:18<1:28:37, 31.65s/episodes]\u001b[A\n",
            " 67%|######6   | 333/500 [1:52:53<1:30:50, 32.64s/episodes]\u001b[A\n",
            " 67%|######6   | 334/500 [1:53:22<1:27:12, 31.52s/episodes]\u001b[A\n",
            " 67%|######7   | 335/500 [1:53:55<1:27:47, 31.92s/episodes]\u001b[A\n",
            " 67%|######7   | 336/500 [1:54:23<1:24:21, 30.86s/episodes]\u001b[A\n",
            " 67%|######7   | 337/500 [1:54:46<1:17:08, 28.40s/episodes]\u001b[A\n",
            " 68%|######7   | 338/500 [1:55:06<1:09:40, 25.80s/episodes]\u001b[A\n",
            " 68%|######7   | 339/500 [1:55:41<1:16:57, 28.68s/episodes]\u001b[A"
          ]
        },
        {
          "metadata": {
            "tags": null
          },
          "name": "stdout",
          "output_type": "stream",
          "text": [
            "Episode:  340, frame_number:  68442, avg rew: 2.1, max rew: 4.0, min rew: 0.0, current epsilon:0.40216\n"
          ]
        },
        {
          "metadata": {
            "tags": null
          },
          "name": "stderr",
          "output_type": "stream",
          "text": [
            "\n",
            " 68%|######8   | 340/500 [1:56:28<1:30:45, 34.03s/episodes]\u001b[A\n",
            " 68%|######8   | 341/500 [1:57:02<1:29:58, 33.95s/episodes]\u001b[A\n",
            " 68%|######8   | 342/500 [1:57:35<1:29:01, 33.81s/episodes]\u001b[A\n",
            " 69%|######8   | 343/500 [1:58:36<1:49:38, 41.90s/episodes]\u001b[A\n",
            " 69%|######8   | 344/500 [1:59:09<1:41:52, 39.19s/episodes]\u001b[A\n",
            " 69%|######9   | 345/500 [1:59:45<1:38:51, 38.27s/episodes]\u001b[A\n",
            " 69%|######9   | 346/500 [2:00:24<1:39:10, 38.64s/episodes]\u001b[A\n",
            " 69%|######9   | 347/500 [2:01:09<1:42:58, 40.38s/episodes]\u001b[A\n",
            " 70%|######9   | 348/500 [2:01:56<1:47:15, 42.34s/episodes]\u001b[A\n",
            " 70%|######9   | 349/500 [2:02:35<1:44:09, 41.39s/episodes]\u001b[A"
          ]
        },
        {
          "metadata": {
            "tags": null
          },
          "name": "stdout",
          "output_type": "stream",
          "text": [
            "Episode:  350, frame_number:  71483, avg rew: 4.2, max rew: 8.0, min rew: 2.0, current epsilon:0.37365\n"
          ]
        },
        {
          "metadata": {
            "tags": null
          },
          "name": "stderr",
          "output_type": "stream",
          "text": [
            "\n",
            " 70%|#######   | 350/500 [2:03:23<1:48:49, 43.53s/episodes]\u001b[A\n",
            " 70%|#######   | 351/500 [2:04:05<1:46:57, 43.07s/episodes]\u001b[A\n",
            " 70%|#######   | 352/500 [2:04:22<1:26:49, 35.20s/episodes]\u001b[A\n",
            " 71%|#######   | 353/500 [2:04:59<1:27:32, 35.73s/episodes]\u001b[A\n",
            " 71%|#######   | 354/500 [2:05:32<1:25:13, 35.02s/episodes]\u001b[A\n",
            " 71%|#######1  | 355/500 [2:05:53<1:14:02, 30.64s/episodes]\u001b[A\n",
            " 71%|#######1  | 356/500 [2:06:22<1:12:06, 30.05s/episodes]\u001b[A\n",
            " 71%|#######1  | 357/500 [2:06:53<1:12:55, 30.59s/episodes]\u001b[A\n",
            " 72%|#######1  | 358/500 [2:07:10<1:02:33, 26.43s/episodes]\u001b[A\n",
            " 72%|#######1  | 359/500 [2:07:37<1:02:12, 26.47s/episodes]\u001b[A"
          ]
        },
        {
          "metadata": {
            "tags": null
          },
          "name": "stdout",
          "output_type": "stream",
          "text": [
            "Episode:  360, frame_number:  73611, avg rew: 2.1, max rew: 5.0, min rew: 0.0, current epsilon:0.35258\n"
          ]
        },
        {
          "metadata": {
            "tags": null
          },
          "name": "stderr",
          "output_type": "stream",
          "text": [
            "\n",
            " 72%|#######2  | 360/500 [2:08:13<1:08:45, 29.47s/episodes]\u001b[A\n",
            " 72%|#######2  | 361/500 [2:08:37<1:04:40, 27.92s/episodes]\u001b[A\n",
            " 72%|#######2  | 362/500 [2:08:55<56:44, 24.67s/episodes]  \u001b[A\n",
            " 73%|#######2  | 363/500 [2:09:31<1:04:12, 28.12s/episodes]\u001b[A\n",
            " 73%|#######2  | 364/500 [2:10:02<1:06:00, 29.12s/episodes]\u001b[A\n",
            " 73%|#######3  | 365/500 [2:10:35<1:07:50, 30.15s/episodes]\u001b[A\n",
            " 73%|#######3  | 366/500 [2:11:08<1:09:34, 31.15s/episodes]\u001b[A\n",
            " 73%|#######3  | 367/500 [2:11:48<1:14:45, 33.73s/episodes]\u001b[A\n",
            " 74%|#######3  | 368/500 [2:12:19<1:12:15, 32.84s/episodes]\u001b[A\n",
            " 74%|#######3  | 369/500 [2:13:10<1:24:03, 38.50s/episodes]\u001b[A"
          ]
        },
        {
          "metadata": {
            "tags": null
          },
          "name": "stdout",
          "output_type": "stream",
          "text": [
            "Episode:  370, frame_number:  76126, avg rew: 2.7, max rew: 4.0, min rew: 0.0, current epsilon:0.32947\n"
          ]
        },
        {
          "metadata": {
            "tags": null
          },
          "name": "stderr",
          "output_type": "stream",
          "text": [
            "\n",
            " 74%|#######4  | 370/500 [2:13:57<1:28:48, 40.99s/episodes]\u001b[A\n",
            " 74%|#######4  | 371/500 [2:14:41<1:29:44, 41.74s/episodes]\u001b[A\n",
            " 74%|#######4  | 372/500 [2:15:14<1:23:24, 39.10s/episodes]\u001b[A\n",
            " 75%|#######4  | 373/500 [2:15:49<1:20:32, 38.05s/episodes]\u001b[A\n",
            " 75%|#######4  | 374/500 [2:16:11<1:09:56, 33.31s/episodes]\u001b[A\n",
            " 75%|#######5  | 375/500 [2:16:30<1:00:24, 29.00s/episodes]\u001b[A\n",
            " 75%|#######5  | 376/500 [2:16:53<56:02, 27.12s/episodes]  \u001b[A\n",
            " 75%|#######5  | 377/500 [2:17:21<56:03, 27.34s/episodes]\u001b[A\n",
            " 76%|#######5  | 378/500 [2:17:54<59:10, 29.10s/episodes]\u001b[A\n",
            " 76%|#######5  | 379/500 [2:18:29<1:02:24, 30.95s/episodes]\u001b[A"
          ]
        },
        {
          "metadata": {
            "tags": null
          },
          "name": "stdout",
          "output_type": "stream",
          "text": [
            "Episode:  380, frame_number:  78349, avg rew: 2.2, max rew: 4.0, min rew: 0.0, current epsilon:0.30792\n"
          ]
        },
        {
          "metadata": {
            "tags": null
          },
          "name": "stderr",
          "output_type": "stream",
          "text": [
            "\n",
            " 76%|#######6  | 380/500 [2:19:13<1:09:16, 34.63s/episodes]\u001b[A\n",
            " 76%|#######6  | 381/500 [2:19:50<1:10:08, 35.36s/episodes]\u001b[A\n",
            " 76%|#######6  | 382/500 [2:20:44<1:20:34, 40.97s/episodes]\u001b[A\n",
            " 77%|#######6  | 383/500 [2:21:19<1:16:32, 39.26s/episodes]\u001b[A\n",
            " 77%|#######6  | 384/500 [2:22:06<1:20:06, 41.43s/episodes]\u001b[A\n",
            " 77%|#######7  | 385/500 [2:22:45<1:18:17, 40.85s/episodes]\u001b[A\n",
            " 77%|#######7  | 386/500 [2:23:11<1:09:20, 36.50s/episodes]\u001b[A\n",
            " 77%|#######7  | 387/500 [2:24:03<1:17:27, 41.13s/episodes]\u001b[A\n",
            " 78%|#######7  | 388/500 [2:24:37<1:12:48, 39.00s/episodes]\u001b[A\n",
            " 78%|#######7  | 389/500 [2:25:25<1:16:39, 41.43s/episodes]\u001b[A"
          ]
        },
        {
          "metadata": {
            "tags": null
          },
          "name": "stdout",
          "output_type": "stream",
          "text": [
            "Episode:  390, frame_number:  81387, avg rew: 3.0, max rew: 5.0, min rew: 0.0, current epsilon:0.28002\n"
          ]
        },
        {
          "metadata": {
            "tags": null
          },
          "name": "stderr",
          "output_type": "stream",
          "text": [
            "\n",
            " 78%|#######8  | 390/500 [2:26:20<1:23:27, 45.53s/episodes]\u001b[A\n",
            " 78%|#######8  | 391/500 [2:27:02<1:21:15, 44.73s/episodes]\u001b[A\n",
            " 78%|#######8  | 392/500 [2:27:54<1:24:05, 46.71s/episodes]\u001b[A\n",
            " 79%|#######8  | 393/500 [2:28:40<1:22:53, 46.48s/episodes]\u001b[A\n",
            " 79%|#######8  | 394/500 [2:29:31<1:24:36, 47.90s/episodes]\u001b[A\n",
            " 79%|#######9  | 395/500 [2:30:08<1:18:02, 44.60s/episodes]\u001b[A\n",
            " 79%|#######9  | 396/500 [2:30:49<1:15:21, 43.47s/episodes]\u001b[A\n",
            " 79%|#######9  | 397/500 [2:31:17<1:06:49, 38.93s/episodes]\u001b[A\n",
            " 80%|#######9  | 398/500 [2:31:41<58:31, 34.43s/episodes]  \u001b[A\n",
            " 80%|#######9  | 399/500 [2:32:09<54:29, 32.37s/episodes]\u001b[A"
          ]
        },
        {
          "metadata": {
            "tags": null
          },
          "name": "stdout",
          "output_type": "stream",
          "text": [
            "Episode:  400, frame_number:  84067, avg rew: 3.1, max rew: 6.0, min rew: 1.0, current epsilon:0.25279\n"
          ]
        },
        {
          "metadata": {
            "tags": null
          },
          "name": "stderr",
          "output_type": "stream",
          "text": [
            "\n",
            " 80%|########  | 400/500 [2:32:37<51:49, 31.10s/episodes]\u001b[A\n",
            " 80%|########  | 401/500 [2:33:17<55:50, 33.84s/episodes]\u001b[A\n",
            " 80%|########  | 402/500 [2:33:41<50:18, 30.80s/episodes]\u001b[A\n",
            " 81%|########  | 403/500 [2:33:57<42:48, 26.48s/episodes]\u001b[A\n",
            " 81%|########  | 404/500 [2:34:21<41:24, 25.88s/episodes]\u001b[A\n",
            " 81%|########1 | 405/500 [2:34:44<39:30, 24.95s/episodes]\u001b[A\n",
            " 81%|########1 | 406/500 [2:35:06<37:42, 24.07s/episodes]\u001b[A\n",
            " 81%|########1 | 407/500 [2:35:39<41:30, 26.78s/episodes]\u001b[A\n",
            " 82%|########1 | 408/500 [2:36:19<46:49, 30.54s/episodes]\u001b[A\n",
            " 82%|########1 | 409/500 [2:36:56<49:33, 32.68s/episodes]\u001b[A"
          ]
        },
        {
          "metadata": {
            "tags": null
          },
          "name": "stdout",
          "output_type": "stream",
          "text": [
            "Episode:  410, frame_number:  86212, avg rew: 1.8, max rew: 4.0, min rew: 0.0, current epsilon:0.23362\n"
          ]
        },
        {
          "metadata": {
            "tags": null
          },
          "name": "stderr",
          "output_type": "stream",
          "text": [
            "\n",
            " 82%|########2 | 410/500 [2:37:42<54:45, 36.51s/episodes]\u001b[A\n",
            " 82%|########2 | 411/500 [2:38:53<1:09:39, 46.97s/episodes]\u001b[A\n",
            " 82%|########2 | 412/500 [2:39:38<1:08:09, 46.47s/episodes]\u001b[A\n",
            " 83%|########2 | 413/500 [2:40:06<59:15, 40.87s/episodes]  \u001b[A\n",
            " 83%|########2 | 414/500 [2:40:24<48:36, 33.92s/episodes]\u001b[A\n",
            " 83%|########2 | 415/500 [2:40:50<44:31, 31.43s/episodes]\u001b[A\n",
            " 83%|########3 | 416/500 [2:41:33<48:51, 34.90s/episodes]\u001b[A\n",
            " 83%|########3 | 417/500 [2:41:57<43:58, 31.79s/episodes]\u001b[A\n",
            " 84%|########3 | 418/500 [2:42:31<44:24, 32.49s/episodes]\u001b[A\n",
            " 84%|########3 | 419/500 [2:43:11<46:53, 34.74s/episodes]\u001b[A"
          ]
        },
        {
          "metadata": {
            "tags": null
          },
          "name": "stdout",
          "output_type": "stream",
          "text": [
            "Episode:  420, frame_number:  88639, avg rew: 2.2, max rew: 6.0, min rew: 0.0, current epsilon:0.20881\n"
          ]
        },
        {
          "metadata": {
            "tags": null
          },
          "name": "stderr",
          "output_type": "stream",
          "text": [
            "\n",
            " 84%|########4 | 420/500 [2:43:31<40:19, 30.24s/episodes]\u001b[A\n",
            " 84%|########4 | 421/500 [2:44:18<46:26, 35.28s/episodes]\u001b[A\n",
            " 84%|########4 | 422/500 [2:44:48<43:46, 33.67s/episodes]\u001b[A\n",
            " 85%|########4 | 423/500 [2:45:39<49:46, 38.78s/episodes]\u001b[A\n",
            " 85%|########4 | 424/500 [2:46:31<54:07, 42.73s/episodes]\u001b[A\n",
            " 85%|########5 | 425/500 [2:47:06<50:40, 40.53s/episodes]\u001b[A\n",
            " 85%|########5 | 426/500 [2:47:51<51:34, 41.82s/episodes]\u001b[A\n",
            " 85%|########5 | 427/500 [2:48:58<1:00:11, 49.48s/episodes]\u001b[A\n",
            " 86%|########5 | 428/500 [2:49:48<59:36, 49.68s/episodes]  \u001b[A\n",
            " 86%|########5 | 429/500 [2:50:27<54:49, 46.33s/episodes]\u001b[A"
          ]
        },
        {
          "metadata": {
            "tags": null
          },
          "name": "stdout",
          "output_type": "stream",
          "text": [
            "Episode:  430, frame_number:  91845, avg rew: 3.5, max rew: 5.0, min rew: 1.0, current epsilon:0.18060\n"
          ]
        },
        {
          "metadata": {
            "tags": null
          },
          "name": "stderr",
          "output_type": "stream",
          "text": [
            "\n",
            " 86%|########6 | 430/500 [2:51:20<56:32, 48.46s/episodes]\u001b[A\n",
            " 86%|########6 | 431/500 [2:52:04<54:11, 47.12s/episodes]\u001b[A\n",
            " 86%|########6 | 432/500 [2:52:53<53:59, 47.64s/episodes]\u001b[A\n",
            " 87%|########6 | 433/500 [2:53:45<54:45, 49.03s/episodes]\u001b[A\n",
            " 87%|########6 | 434/500 [2:54:33<53:31, 48.65s/episodes]\u001b[A\n",
            " 87%|########7 | 435/500 [2:55:23<53:04, 49.00s/episodes]\u001b[A\n",
            " 87%|########7 | 436/500 [2:56:02<49:01, 45.95s/episodes]\u001b[A\n",
            " 87%|########7 | 437/500 [2:57:26<1:00:11, 57.33s/episodes]\u001b[A\n",
            " 88%|########7 | 438/500 [2:58:11<55:21, 53.57s/episodes]  \u001b[A\n",
            " 88%|########7 | 439/500 [2:59:01<53:22, 52.50s/episodes]\u001b[A"
          ]
        },
        {
          "metadata": {
            "tags": null
          },
          "name": "stdout",
          "output_type": "stream",
          "text": [
            "Episode:  440, frame_number:  95178, avg rew: 3.3, max rew: 5.0, min rew: 2.0, current epsilon:0.15049\n"
          ]
        },
        {
          "metadata": {
            "tags": null
          },
          "name": "stderr",
          "output_type": "stream",
          "text": [
            "\n",
            " 88%|########8 | 440/500 [3:00:18<59:58, 59.98s/episodes]\u001b[A\n",
            " 88%|########8 | 441/500 [3:00:49<50:26, 51.29s/episodes]\u001b[A\n",
            " 88%|########8 | 442/500 [3:01:38<48:51, 50.54s/episodes]\u001b[A\n",
            " 89%|########8 | 443/500 [3:02:12<43:27, 45.74s/episodes]\u001b[A\n",
            " 89%|########8 | 444/500 [3:02:47<39:30, 42.33s/episodes]\u001b[A\n",
            " 89%|########9 | 445/500 [3:03:09<33:12, 36.22s/episodes]\u001b[A\n",
            " 89%|########9 | 446/500 [3:03:52<34:27, 38.28s/episodes]\u001b[A\n",
            " 89%|########9 | 447/500 [3:04:52<39:32, 44.76s/episodes]\u001b[A\n",
            " 90%|########9 | 448/500 [3:05:29<36:47, 42.44s/episodes]\u001b[A\n",
            " 90%|########9 | 449/500 [3:06:44<44:21, 52.19s/episodes]\u001b[A"
          ]
        },
        {
          "metadata": {
            "tags": null
          },
          "name": "stdout",
          "output_type": "stream",
          "text": [
            "Episode:  450, frame_number:  98083, avg rew: 1.4, max rew: 4.0, min rew: 0.0, current epsilon:0.12170\n"
          ]
        },
        {
          "metadata": {
            "tags": null
          },
          "name": "stderr",
          "output_type": "stream",
          "text": [
            "\n",
            " 90%|######### | 450/500 [3:07:41<44:52, 53.85s/episodes]\u001b[A\n",
            " 90%|######### | 451/500 [3:08:25<41:26, 50.74s/episodes]\u001b[A\n",
            " 90%|######### | 452/500 [3:09:18<41:08, 51.44s/episodes]\u001b[A\n",
            " 91%|######### | 453/500 [3:10:41<47:43, 60.93s/episodes]\u001b[A\n",
            " 91%|######### | 454/500 [3:11:29<43:49, 57.16s/episodes]\u001b[A\n",
            " 91%|#########1| 455/500 [3:12:25<42:30, 56.67s/episodes]\u001b[A\n",
            " 91%|#########1| 456/500 [3:13:22<41:39, 56.80s/episodes]\u001b[A\n",
            " 91%|#########1| 457/500 [3:14:05<37:45, 52.68s/episodes]\u001b[A\n",
            " 92%|#########1| 458/500 [3:15:18<41:05, 58.69s/episodes]\u001b[A\n",
            " 92%|#########1| 459/500 [3:16:20<40:45, 59.64s/episodes]\u001b[A"
          ]
        },
        {
          "metadata": {
            "tags": null
          },
          "name": "stdout",
          "output_type": "stream",
          "text": [
            "Episode:  460, frame_number: 101833, avg rew: 2.6, max rew: 4.0, min rew: 1.0, current epsilon:0.10000\n"
          ]
        },
        {
          "metadata": {
            "tags": null
          },
          "name": "stderr",
          "output_type": "stream",
          "text": [
            "\n",
            " 92%|#########2| 460/500 [3:17:36<43:03, 64.59s/episodes]\u001b[A\n",
            " 92%|#########2| 461/500 [3:18:31<40:12, 61.86s/episodes]\u001b[A\n",
            " 92%|#########2| 462/500 [3:19:31<38:52, 61.37s/episodes]\u001b[A\n",
            " 93%|#########2| 463/500 [3:20:26<36:38, 59.43s/episodes]\u001b[A\n",
            " 93%|#########2| 464/500 [3:21:32<36:49, 61.37s/episodes]\u001b[A\n",
            " 93%|#########3| 465/500 [3:22:05<30:49, 52.86s/episodes]\u001b[A\n",
            " 93%|#########3| 466/500 [3:22:45<27:43, 48.92s/episodes]\u001b[A\n",
            " 93%|#########3| 467/500 [3:23:09<22:51, 41.57s/episodes]\u001b[A\n",
            " 94%|#########3| 468/500 [3:23:45<21:15, 39.86s/episodes]\u001b[A\n",
            " 94%|#########3| 469/500 [3:24:04<17:22, 33.64s/episodes]\u001b[A"
          ]
        },
        {
          "metadata": {
            "tags": null
          },
          "name": "stdout",
          "output_type": "stream",
          "text": [
            "Episode:  470, frame_number: 104397, avg rew: 2.4, max rew: 4.0, min rew: 0.0, current epsilon:0.09998\n"
          ]
        },
        {
          "metadata": {
            "tags": null
          },
          "name": "stderr",
          "output_type": "stream",
          "text": [
            "\n",
            " 94%|#########3| 470/500 [3:24:25<14:49, 29.65s/episodes]\u001b[A\n",
            " 94%|#########4| 471/500 [3:24:44<12:50, 26.58s/episodes]\u001b[A\n",
            " 94%|#########4| 472/500 [3:25:16<13:05, 28.05s/episodes]\u001b[A\n",
            " 95%|#########4| 473/500 [3:25:48<13:14, 29.42s/episodes]\u001b[A\n",
            " 95%|#########4| 474/500 [3:26:08<11:31, 26.58s/episodes]\u001b[A\n",
            " 95%|#########5| 475/500 [3:26:51<13:02, 31.31s/episodes]\u001b[A\n",
            " 95%|#########5| 476/500 [3:28:04<17:36, 44.04s/episodes]\u001b[A\n",
            " 95%|#########5| 477/500 [3:29:02<18:24, 48.04s/episodes]\u001b[A\n",
            " 96%|#########5| 478/500 [3:30:23<21:15, 57.97s/episodes]\u001b[A\n",
            " 96%|#########5| 479/500 [3:31:10<19:11, 54.85s/episodes]\u001b[A"
          ]
        },
        {
          "metadata": {
            "tags": null
          },
          "name": "stdout",
          "output_type": "stream",
          "text": [
            "Episode:  480, frame_number: 107451, avg rew: 2.3, max rew: 4.0, min rew: 0.0, current epsilon:0.09997\n"
          ]
        },
        {
          "metadata": {
            "tags": null
          },
          "name": "stderr",
          "output_type": "stream",
          "text": [
            "\n",
            " 96%|#########6| 480/500 [3:32:17<19:26, 58.35s/episodes]\u001b[A\n",
            " 96%|#########6| 481/500 [3:32:57<16:43, 52.83s/episodes]\u001b[A\n",
            " 96%|#########6| 482/500 [3:33:46<15:33, 51.86s/episodes]\u001b[A\n",
            " 97%|#########6| 483/500 [3:35:16<17:52, 63.11s/episodes]\u001b[A\n",
            " 97%|#########6| 484/500 [3:36:04<15:39, 58.75s/episodes]\u001b[A\n",
            " 97%|#########7| 485/500 [3:37:12<15:22, 61.51s/episodes]\u001b[A\n",
            " 97%|#########7| 486/500 [3:38:21<14:51, 63.67s/episodes]\u001b[A\n",
            " 97%|#########7| 487/500 [3:39:27<13:57, 64.39s/episodes]\u001b[A\n",
            " 98%|#########7| 488/500 [3:39:57<10:50, 54.20s/episodes]\u001b[A\n",
            " 98%|#########7| 489/500 [3:40:33<08:54, 48.62s/episodes]\u001b[A"
          ]
        },
        {
          "metadata": {
            "tags": null
          },
          "name": "stdout",
          "output_type": "stream",
          "text": [
            "Episode:  490, frame_number: 110917, avg rew: 2.4, max rew: 5.0, min rew: 0.0, current epsilon:0.09996\n"
          ]
        },
        {
          "metadata": {
            "tags": null
          },
          "name": "stderr",
          "output_type": "stream",
          "text": [
            "\n",
            " 98%|#########8| 490/500 [3:41:14<07:43, 46.32s/episodes]\u001b[A\n",
            " 98%|#########8| 491/500 [3:41:58<06:49, 45.49s/episodes]\u001b[A\n",
            " 98%|#########8| 492/500 [3:42:43<06:02, 45.34s/episodes]\u001b[A\n",
            " 99%|#########8| 493/500 [3:43:31<05:24, 46.30s/episodes]\u001b[A\n",
            " 99%|#########8| 494/500 [3:44:26<04:52, 48.75s/episodes]\u001b[A\n",
            " 99%|#########9| 495/500 [3:44:58<03:38, 43.80s/episodes]\u001b[A\n",
            " 99%|#########9| 496/500 [3:45:33<02:44, 41.23s/episodes]\u001b[A\n",
            " 99%|#########9| 497/500 [3:46:07<01:56, 38.94s/episodes]\u001b[A\n",
            "100%|#########9| 498/500 [3:46:42<01:15, 37.85s/episodes]\u001b[A\n",
            "100%|#########9| 499/500 [3:48:15<00:54, 54.31s/episodes]\u001b[A"
          ]
        },
        {
          "metadata": {
            "tags": null
          },
          "name": "stdout",
          "output_type": "stream",
          "text": [
            "Episode:  500, frame_number: 114121, avg rew: 2.1, max rew: 5.0, min rew: 0.0, current epsilon:0.09995\n"
          ]
        },
        {
          "metadata": {
            "tags": null
          },
          "name": "stderr",
          "output_type": "stream",
          "text": [
            "\n",
            "100%|##########| 500/500 [3:49:39<00:00, 27.56s/episodes]\n"
          ]
        },
        {
          "data": {
            "image/png": "[encoded data removed]",
            "text/plain": [
              "<Figure size 640x480 with 1 Axes>"
            ]
          },
          "metadata": {},
          "output_type": "display_data"
        },
        {
          "metadata": {
            "tags": null
          },
          "name": "stderr",
          "output_type": "stream",
          "text": [
            "\r  0%|          | 1/500 [3:49:40<1910:06:26, 13780.33s/episodes]"
          ]
        },
        {
          "metadata": {
            "tags": null
          },
          "name": "stdout",
          "output_type": "stream",
          "text": [
            "main training loop\n"
          ]
        },
        {
          "metadata": {
            "tags": null
          },
          "name": "stderr",
          "output_type": "stream",
          "text": [
            "/usr/local/lib/python3.10/dist-packages/keras/src/layers/convolutional/base_conv.py:107: UserWarning: Do not pass an `input_shape`/`input_dim` argument to a layer. When using Sequential models, prefer using an `Input(shape)` object as the first layer in the model instead.\n",
            "  super().__init__(activity_regularizer=activity_regularizer, **kwargs)\n"
          ]
        },
        {
          "data": {
            "text/html": [
              "<pre style=\"white-space:pre;overflow-x:auto;line-height:normal;font-family:Menlo,'DejaVu Sans Mono',consolas,'Courier New',monospace\"><span style=\"font-weight: bold\">Model: \"sequential_10\"</span>\n",
              "</pre>\n"
            ],
            "text/plain": [
              "\u001b[1mModel: \"sequential_10\"\u001b[0m\n"
            ]
          },
          "metadata": {},
          "output_type": "display_data"
        },
        {
          "data": {
            "text/html": [
              "<pre style=\"white-space:pre;overflow-x:auto;line-height:normal;font-family:Menlo,'DejaVu Sans Mono',consolas,'Courier New',monospace\">┏━━━━━━━━━━━━━━━━━━━━━━━━━━━━━━━━━━━━━━┳━━━━━━━━━━━━━━━━━━━━━━━━━━━━━┳━━━━━━━━━━━━━━━━━┓\n",
              "┃<span style=\"font-weight: bold\"> Layer (type)                         </span>┃<span style=\"font-weight: bold\"> Output Shape                </span>┃<span style=\"font-weight: bold\">         Param # </span>┃\n",
              "┡━━━━━━━━━━━━━━━━━━━━━━━━━━━━━━━━━━━━━━╇━━━━━━━━━━━━━━━━━━━━━━━━━━━━━╇━━━━━━━━━━━━━━━━━┩\n",
              "│ conv2d_30 (<span style=\"color: #0087ff; text-decoration-color: #0087ff\">Conv2D</span>)                   │ (<span style=\"color: #00d7ff; text-decoration-color: #00d7ff\">None</span>, <span style=\"color: #00af00; text-decoration-color: #00af00\">20</span>, <span style=\"color: #00af00; text-decoration-color: #00af00\">20</span>, <span style=\"color: #00af00; text-decoration-color: #00af00\">32</span>)          │           <span style=\"color: #00af00; text-decoration-color: #00af00\">8,224</span> │\n",
              "├──────────────────────────────────────┼─────────────────────────────┼─────────────────┤\n",
              "│ activation_30 (<span style=\"color: #0087ff; text-decoration-color: #0087ff\">Activation</span>)           │ (<span style=\"color: #00d7ff; text-decoration-color: #00d7ff\">None</span>, <span style=\"color: #00af00; text-decoration-color: #00af00\">20</span>, <span style=\"color: #00af00; text-decoration-color: #00af00\">20</span>, <span style=\"color: #00af00; text-decoration-color: #00af00\">32</span>)          │               <span style=\"color: #00af00; text-decoration-color: #00af00\">0</span> │\n",
              "├──────────────────────────────────────┼─────────────────────────────┼─────────────────┤\n",
              "│ dropout_30 (<span style=\"color: #0087ff; text-decoration-color: #0087ff\">Dropout</span>)                 │ (<span style=\"color: #00d7ff; text-decoration-color: #00d7ff\">None</span>, <span style=\"color: #00af00; text-decoration-color: #00af00\">20</span>, <span style=\"color: #00af00; text-decoration-color: #00af00\">20</span>, <span style=\"color: #00af00; text-decoration-color: #00af00\">32</span>)          │               <span style=\"color: #00af00; text-decoration-color: #00af00\">0</span> │\n",
              "├──────────────────────────────────────┼─────────────────────────────┼─────────────────┤\n",
              "│ conv2d_31 (<span style=\"color: #0087ff; text-decoration-color: #0087ff\">Conv2D</span>)                   │ (<span style=\"color: #00d7ff; text-decoration-color: #00d7ff\">None</span>, <span style=\"color: #00af00; text-decoration-color: #00af00\">9</span>, <span style=\"color: #00af00; text-decoration-color: #00af00\">9</span>, <span style=\"color: #00af00; text-decoration-color: #00af00\">64</span>)            │          <span style=\"color: #00af00; text-decoration-color: #00af00\">32,832</span> │\n",
              "├──────────────────────────────────────┼─────────────────────────────┼─────────────────┤\n",
              "│ activation_31 (<span style=\"color: #0087ff; text-decoration-color: #0087ff\">Activation</span>)           │ (<span style=\"color: #00d7ff; text-decoration-color: #00d7ff\">None</span>, <span style=\"color: #00af00; text-decoration-color: #00af00\">9</span>, <span style=\"color: #00af00; text-decoration-color: #00af00\">9</span>, <span style=\"color: #00af00; text-decoration-color: #00af00\">64</span>)            │               <span style=\"color: #00af00; text-decoration-color: #00af00\">0</span> │\n",
              "├──────────────────────────────────────┼─────────────────────────────┼─────────────────┤\n",
              "│ dropout_31 (<span style=\"color: #0087ff; text-decoration-color: #0087ff\">Dropout</span>)                 │ (<span style=\"color: #00d7ff; text-decoration-color: #00d7ff\">None</span>, <span style=\"color: #00af00; text-decoration-color: #00af00\">9</span>, <span style=\"color: #00af00; text-decoration-color: #00af00\">9</span>, <span style=\"color: #00af00; text-decoration-color: #00af00\">64</span>)            │               <span style=\"color: #00af00; text-decoration-color: #00af00\">0</span> │\n",
              "├──────────────────────────────────────┼─────────────────────────────┼─────────────────┤\n",
              "│ conv2d_32 (<span style=\"color: #0087ff; text-decoration-color: #0087ff\">Conv2D</span>)                   │ (<span style=\"color: #00d7ff; text-decoration-color: #00d7ff\">None</span>, <span style=\"color: #00af00; text-decoration-color: #00af00\">7</span>, <span style=\"color: #00af00; text-decoration-color: #00af00\">7</span>, <span style=\"color: #00af00; text-decoration-color: #00af00\">64</span>)            │          <span style=\"color: #00af00; text-decoration-color: #00af00\">36,928</span> │\n",
              "├──────────────────────────────────────┼─────────────────────────────┼─────────────────┤\n",
              "│ activation_32 (<span style=\"color: #0087ff; text-decoration-color: #0087ff\">Activation</span>)           │ (<span style=\"color: #00d7ff; text-decoration-color: #00d7ff\">None</span>, <span style=\"color: #00af00; text-decoration-color: #00af00\">7</span>, <span style=\"color: #00af00; text-decoration-color: #00af00\">7</span>, <span style=\"color: #00af00; text-decoration-color: #00af00\">64</span>)            │               <span style=\"color: #00af00; text-decoration-color: #00af00\">0</span> │\n",
              "├──────────────────────────────────────┼─────────────────────────────┼─────────────────┤\n",
              "│ dropout_32 (<span style=\"color: #0087ff; text-decoration-color: #0087ff\">Dropout</span>)                 │ (<span style=\"color: #00d7ff; text-decoration-color: #00d7ff\">None</span>, <span style=\"color: #00af00; text-decoration-color: #00af00\">7</span>, <span style=\"color: #00af00; text-decoration-color: #00af00\">7</span>, <span style=\"color: #00af00; text-decoration-color: #00af00\">64</span>)            │               <span style=\"color: #00af00; text-decoration-color: #00af00\">0</span> │\n",
              "├──────────────────────────────────────┼─────────────────────────────┼─────────────────┤\n",
              "│ flatten_10 (<span style=\"color: #0087ff; text-decoration-color: #0087ff\">Flatten</span>)                 │ (<span style=\"color: #00d7ff; text-decoration-color: #00d7ff\">None</span>, <span style=\"color: #00af00; text-decoration-color: #00af00\">3136</span>)                │               <span style=\"color: #00af00; text-decoration-color: #00af00\">0</span> │\n",
              "├──────────────────────────────────────┼─────────────────────────────┼─────────────────┤\n",
              "│ dense_20 (<span style=\"color: #0087ff; text-decoration-color: #0087ff\">Dense</span>)                     │ (<span style=\"color: #00d7ff; text-decoration-color: #00d7ff\">None</span>, <span style=\"color: #00af00; text-decoration-color: #00af00\">512</span>)                 │       <span style=\"color: #00af00; text-decoration-color: #00af00\">1,606,144</span> │\n",
              "├──────────────────────────────────────┼─────────────────────────────┼─────────────────┤\n",
              "│ dense_21 (<span style=\"color: #0087ff; text-decoration-color: #0087ff\">Dense</span>)                     │ (<span style=\"color: #00d7ff; text-decoration-color: #00d7ff\">None</span>, <span style=\"color: #00af00; text-decoration-color: #00af00\">4</span>)                   │           <span style=\"color: #00af00; text-decoration-color: #00af00\">2,052</span> │\n",
              "└──────────────────────────────────────┴─────────────────────────────┴─────────────────┘\n",
              "</pre>\n"
            ],
            "text/plain": [
              "┏━━━━━━━━━━━━━━━━━━━━━━━━━━━━━━━━━━━━━━┳━━━━━━━━━━━━━━━━━━━━━━━━━━━━━┳━━━━━━━━━━━━━━━━━┓\n",
              "┃\u001b[1m \u001b[0m\u001b[1mLayer (type)                        \u001b[0m\u001b[1m \u001b[0m┃\u001b[1m \u001b[0m\u001b[1mOutput Shape               \u001b[0m\u001b[1m \u001b[0m┃\u001b[1m \u001b[0m\u001b[1m        Param #\u001b[0m\u001b[1m \u001b[0m┃\n",
              "┡━━━━━━━━━━━━━━━━━━━━━━━━━━━━━━━━━━━━━━╇━━━━━━━━━━━━━━━━━━━━━━━━━━━━━╇━━━━━━━━━━━━━━━━━┩\n",
              "│ conv2d_30 (\u001b[38;5;33mConv2D\u001b[0m)                   │ (\u001b[38;5;45mNone\u001b[0m, \u001b[38;5;34m20\u001b[0m, \u001b[38;5;34m20\u001b[0m, \u001b[38;5;34m32\u001b[0m)          │           \u001b[38;5;34m8,224\u001b[0m │\n",
              "├──────────────────────────────────────┼─────────────────────────────┼─────────────────┤\n",
              "│ activation_30 (\u001b[38;5;33mActivation\u001b[0m)           │ (\u001b[38;5;45mNone\u001b[0m, \u001b[38;5;34m20\u001b[0m, \u001b[38;5;34m20\u001b[0m, \u001b[38;5;34m32\u001b[0m)          │               \u001b[38;5;34m0\u001b[0m │\n",
              "├──────────────────────────────────────┼─────────────────────────────┼─────────────────┤\n",
              "│ dropout_30 (\u001b[38;5;33mDropout\u001b[0m)                 │ (\u001b[38;5;45mNone\u001b[0m, \u001b[38;5;34m20\u001b[0m, \u001b[38;5;34m20\u001b[0m, \u001b[38;5;34m32\u001b[0m)          │               \u001b[38;5;34m0\u001b[0m │\n",
              "├──────────────────────────────────────┼─────────────────────────────┼─────────────────┤\n",
              "│ conv2d_31 (\u001b[38;5;33mConv2D\u001b[0m)                   │ (\u001b[38;5;45mNone\u001b[0m, \u001b[38;5;34m9\u001b[0m, \u001b[38;5;34m9\u001b[0m, \u001b[38;5;34m64\u001b[0m)            │          \u001b[38;5;34m32,832\u001b[0m │\n",
              "├──────────────────────────────────────┼─────────────────────────────┼─────────────────┤\n",
              "│ activation_31 (\u001b[38;5;33mActivation\u001b[0m)           │ (\u001b[38;5;45mNone\u001b[0m, \u001b[38;5;34m9\u001b[0m, \u001b[38;5;34m9\u001b[0m, \u001b[38;5;34m64\u001b[0m)            │               \u001b[38;5;34m0\u001b[0m │\n",
              "├──────────────────────────────────────┼─────────────────────────────┼─────────────────┤\n",
              "│ dropout_31 (\u001b[38;5;33mDropout\u001b[0m)                 │ (\u001b[38;5;45mNone\u001b[0m, \u001b[38;5;34m9\u001b[0m, \u001b[38;5;34m9\u001b[0m, \u001b[38;5;34m64\u001b[0m)            │               \u001b[38;5;34m0\u001b[0m │\n",
              "├──────────────────────────────────────┼─────────────────────────────┼─────────────────┤\n",
              "│ conv2d_32 (\u001b[38;5;33mConv2D\u001b[0m)                   │ (\u001b[38;5;45mNone\u001b[0m, \u001b[38;5;34m7\u001b[0m, \u001b[38;5;34m7\u001b[0m, \u001b[38;5;34m64\u001b[0m)            │          \u001b[38;5;34m36,928\u001b[0m │\n",
              "├──────────────────────────────────────┼─────────────────────────────┼─────────────────┤\n",
              "│ activation_32 (\u001b[38;5;33mActivation\u001b[0m)           │ (\u001b[38;5;45mNone\u001b[0m, \u001b[38;5;34m7\u001b[0m, \u001b[38;5;34m7\u001b[0m, \u001b[38;5;34m64\u001b[0m)            │               \u001b[38;5;34m0\u001b[0m │\n",
              "├──────────────────────────────────────┼─────────────────────────────┼─────────────────┤\n",
              "│ dropout_32 (\u001b[38;5;33mDropout\u001b[0m)                 │ (\u001b[38;5;45mNone\u001b[0m, \u001b[38;5;34m7\u001b[0m, \u001b[38;5;34m7\u001b[0m, \u001b[38;5;34m64\u001b[0m)            │               \u001b[38;5;34m0\u001b[0m │\n",
              "├──────────────────────────────────────┼─────────────────────────────┼─────────────────┤\n",
              "│ flatten_10 (\u001b[38;5;33mFlatten\u001b[0m)                 │ (\u001b[38;5;45mNone\u001b[0m, \u001b[38;5;34m3136\u001b[0m)                │               \u001b[38;5;34m0\u001b[0m │\n",
              "├──────────────────────────────────────┼─────────────────────────────┼─────────────────┤\n",
              "│ dense_20 (\u001b[38;5;33mDense\u001b[0m)                     │ (\u001b[38;5;45mNone\u001b[0m, \u001b[38;5;34m512\u001b[0m)                 │       \u001b[38;5;34m1,606,144\u001b[0m │\n",
              "├──────────────────────────────────────┼─────────────────────────────┼─────────────────┤\n",
              "│ dense_21 (\u001b[38;5;33mDense\u001b[0m)                     │ (\u001b[38;5;45mNone\u001b[0m, \u001b[38;5;34m4\u001b[0m)                   │           \u001b[38;5;34m2,052\u001b[0m │\n",
              "└──────────────────────────────────────┴─────────────────────────────┴─────────────────┘\n"
            ]
          },
          "metadata": {},
          "output_type": "display_data"
        },
        {
          "data": {
            "text/html": [
              "<pre style=\"white-space:pre;overflow-x:auto;line-height:normal;font-family:Menlo,'DejaVu Sans Mono',consolas,'Courier New',monospace\"><span style=\"font-weight: bold\"> Total params: </span><span style=\"color: #00af00; text-decoration-color: #00af00\">1,686,180</span> (6.43 MB)\n",
              "</pre>\n"
            ],
            "text/plain": [
              "\u001b[1m Total params: \u001b[0m\u001b[38;5;34m1,686,180\u001b[0m (6.43 MB)\n"
            ]
          },
          "metadata": {},
          "output_type": "display_data"
        },
        {
          "data": {
            "text/html": [
              "<pre style=\"white-space:pre;overflow-x:auto;line-height:normal;font-family:Menlo,'DejaVu Sans Mono',consolas,'Courier New',monospace\"><span style=\"font-weight: bold\"> Trainable params: </span><span style=\"color: #00af00; text-decoration-color: #00af00\">1,686,180</span> (6.43 MB)\n",
              "</pre>\n"
            ],
            "text/plain": [
              "\u001b[1m Trainable params: \u001b[0m\u001b[38;5;34m1,686,180\u001b[0m (6.43 MB)\n"
            ]
          },
          "metadata": {},
          "output_type": "display_data"
        },
        {
          "data": {
            "text/html": [
              "<pre style=\"white-space:pre;overflow-x:auto;line-height:normal;font-family:Menlo,'DejaVu Sans Mono',consolas,'Courier New',monospace\"><span style=\"font-weight: bold\"> Non-trainable params: </span><span style=\"color: #00af00; text-decoration-color: #00af00\">0</span> (0.00 B)\n",
              "</pre>\n"
            ],
            "text/plain": [
              "\u001b[1m Non-trainable params: \u001b[0m\u001b[38;5;34m0\u001b[0m (0.00 B)\n"
            ]
          },
          "metadata": {},
          "output_type": "display_data"
        },
        {
          "metadata": {
            "tags": null
          },
          "name": "stdout",
          "output_type": "stream",
          "text": [
            "None\n",
            "The environment has the following 4 actions: ['NOOP', 'FIRE', 'RIGHT', 'LEFT']\n"
          ]
        },
        {
          "metadata": {
            "tags": null
          },
          "name": "stderr",
          "output_type": "stream",
          "text": [
            "\n",
            "  0%|          | 0/500 [00:00<?, ?episodes/s]\u001b[A\n",
            "  0%|          | 1/500 [00:00<05:38,  1.47episodes/s]\u001b[A\n",
            "  0%|          | 2/500 [00:01<04:27,  1.86episodes/s]\u001b[A\n",
            "  1%|          | 3/500 [00:01<04:17,  1.93episodes/s]\u001b[A\n",
            "  1%|          | 4/500 [00:01<03:33,  2.32episodes/s]\u001b[A\n",
            "  1%|1         | 5/500 [00:02<03:41,  2.23episodes/s]\u001b[A\n",
            "  1%|1         | 6/500 [00:02<03:11,  2.59episodes/s]\u001b[A\n",
            "  1%|1         | 7/500 [00:03<03:08,  2.62episodes/s]\u001b[A\n",
            "  2%|1         | 8/500 [00:03<03:02,  2.69episodes/s]\u001b[A\n",
            "  2%|1         | 9/500 [00:03<03:04,  2.66episodes/s]\u001b[A\n",
            "  2%|2         | 10/500 [00:04<02:55,  2.80episodes/s]\u001b[A\n",
            "  2%|2         | 11/500 [00:04<02:53,  2.82episodes/s]\u001b[A\n",
            "  2%|2         | 12/500 [00:04<03:12,  2.54episodes/s]\u001b[A\n",
            "  3%|2         | 13/500 [00:05<02:58,  2.73episodes/s]\u001b[A\n",
            "  3%|2         | 14/500 [00:05<03:27,  2.34episodes/s]\u001b[A\n",
            "  3%|3         | 15/500 [00:06<04:51,  1.66episodes/s]\u001b[A\n",
            "  3%|3         | 16/500 [00:07<05:19,  1.51episodes/s]\u001b[A\n",
            "  3%|3         | 17/500 [00:08<04:57,  1.63episodes/s]\u001b[A\n",
            "  4%|3         | 18/500 [00:08<05:19,  1.51episodes/s]\u001b[A\n",
            "  4%|3         | 19/500 [00:09<05:33,  1.44episodes/s]\u001b[A"
          ]
        },
        {
          "metadata": {
            "tags": null
          },
          "name": "stdout",
          "output_type": "stream",
          "text": [
            "Episode:   20, frame_number:   3968, avg rew: 1.6, max rew: 4.0, min rew: 0.0, current epsilon:0.09995\n"
          ]
        },
        {
          "metadata": {
            "tags": null
          },
          "name": "stderr",
          "output_type": "stream",
          "text": [
            "\n",
            "  4%|4         | 20/500 [00:09<04:30,  1.77episodes/s]\u001b[A\n",
            "  4%|4         | 21/500 [00:10<04:01,  1.98episodes/s]\u001b[A\n",
            "  4%|4         | 22/500 [00:10<03:42,  2.14episodes/s]\u001b[A\n",
            "  5%|4         | 23/500 [00:11<03:52,  2.05episodes/s]\u001b[A\n",
            "  5%|4         | 24/500 [00:11<03:23,  2.34episodes/s]\u001b[A\n",
            "  5%|5         | 25/500 [00:11<03:27,  2.28episodes/s]\u001b[A\n",
            "  5%|5         | 26/500 [00:36<1:01:26,  7.78s/episodes]\u001b[A\n",
            "  5%|5         | 27/500 [00:53<1:22:51, 10.51s/episodes]\u001b[A\n",
            "  6%|5         | 28/500 [01:20<2:01:09, 15.40s/episodes]\u001b[A\n",
            "  6%|5         | 29/500 [01:52<2:38:58, 20.25s/episodes]\u001b[A"
          ]
        },
        {
          "metadata": {
            "tags": null
          },
          "name": "stdout",
          "output_type": "stream",
          "text": [
            "Episode:   30, frame_number:   6198, avg rew: 2.1, max rew: 5.0, min rew: 0.0, current epsilon:0.99048\n"
          ]
        },
        {
          "metadata": {
            "tags": null
          },
          "name": "stderr",
          "output_type": "stream",
          "text": [
            "\n",
            "  6%|6         | 30/500 [02:08<2:29:42, 19.11s/episodes]\u001b[A\n",
            "  6%|6         | 31/500 [02:26<2:26:23, 18.73s/episodes]\u001b[A\n",
            "  6%|6         | 32/500 [02:40<2:15:03, 17.32s/episodes]\u001b[A\n",
            "  7%|6         | 33/500 [02:56<2:12:03, 16.97s/episodes]\u001b[A\n",
            "  7%|6         | 34/500 [03:11<2:06:50, 16.33s/episodes]\u001b[A\n",
            "  7%|7         | 35/500 [03:23<1:57:07, 15.11s/episodes]\u001b[A\n",
            "  7%|7         | 36/500 [03:50<2:23:43, 18.58s/episodes]\u001b[A\n",
            "  7%|7         | 37/500 [04:07<2:20:45, 18.24s/episodes]\u001b[A\n",
            "  8%|7         | 38/500 [04:23<2:15:05, 17.54s/episodes]\u001b[A\n",
            "  8%|7         | 39/500 [04:34<2:00:00, 15.62s/episodes]\u001b[A"
          ]
        },
        {
          "metadata": {
            "tags": null
          },
          "name": "stdout",
          "output_type": "stream",
          "text": [
            "Episode:   40, frame_number:   7982, avg rew: 1.0, max rew: 4.0, min rew: 0.0, current epsilon:0.97308\n"
          ]
        },
        {
          "metadata": {
            "tags": null
          },
          "name": "stderr",
          "output_type": "stream",
          "text": [
            "\n",
            "  8%|8         | 40/500 [04:47<1:52:57, 14.73s/episodes]\u001b[A\n",
            "  8%|8         | 41/500 [05:20<2:35:38, 20.35s/episodes]\u001b[A\n",
            "  8%|8         | 42/500 [05:37<2:26:00, 19.13s/episodes]\u001b[A\n",
            "  9%|8         | 43/500 [05:49<2:09:00, 16.94s/episodes]\u001b[A\n",
            "  9%|8         | 44/500 [06:04<2:05:03, 16.45s/episodes]\u001b[A\n",
            "  9%|9         | 45/500 [06:16<1:54:40, 15.12s/episodes]\u001b[A\n",
            "  9%|9         | 46/500 [06:33<1:59:14, 15.76s/episodes]\u001b[A\n",
            "  9%|9         | 47/500 [06:46<1:52:30, 14.90s/episodes]\u001b[A\n",
            " 10%|9         | 48/500 [07:00<1:50:35, 14.68s/episodes]\u001b[A\n",
            " 10%|9         | 49/500 [07:20<2:01:24, 16.15s/episodes]\u001b[A"
          ]
        },
        {
          "metadata": {
            "tags": null
          },
          "name": "stdout",
          "output_type": "stream",
          "text": [
            "Episode:   50, frame_number:   9841, avg rew: 1.3, max rew: 6.0, min rew: 0.0, current epsilon:0.95564\n"
          ]
        },
        {
          "metadata": {
            "tags": null
          },
          "name": "stderr",
          "output_type": "stream",
          "text": [
            "\n",
            " 10%|#         | 50/500 [07:34<1:57:51, 15.71s/episodes]\u001b[A\n",
            " 10%|#         | 51/500 [07:46<1:47:45, 14.40s/episodes]\u001b[A\n",
            " 10%|#         | 52/500 [07:58<1:42:31, 13.73s/episodes]\u001b[A\n",
            " 11%|#         | 53/500 [08:14<1:47:06, 14.38s/episodes]\u001b[A\n",
            " 11%|#         | 54/500 [08:29<1:48:35, 14.61s/episodes]\u001b[A\n",
            " 11%|#1        | 55/500 [08:50<2:02:04, 16.46s/episodes]\u001b[A\n",
            " 11%|#1        | 56/500 [09:07<2:03:13, 16.65s/episodes]\u001b[A\n",
            " 11%|#1        | 57/500 [09:30<2:16:34, 18.50s/episodes]\u001b[A\n",
            " 12%|#1        | 58/500 [09:45<2:08:28, 17.44s/episodes]\u001b[A\n",
            " 12%|#1        | 59/500 [10:06<2:15:55, 18.49s/episodes]\u001b[A"
          ]
        },
        {
          "metadata": {
            "tags": null
          },
          "name": "stdout",
          "output_type": "stream",
          "text": [
            "Episode:   60, frame_number:  11588, avg rew: 1.2, max rew: 3.0, min rew: 0.0, current epsilon:0.93883\n"
          ]
        },
        {
          "metadata": {
            "tags": null
          },
          "name": "stderr",
          "output_type": "stream",
          "text": [
            "\n",
            " 12%|#2        | 60/500 [10:18<2:01:11, 16.53s/episodes]\u001b[A\n",
            " 12%|#2        | 61/500 [10:31<1:53:06, 15.46s/episodes]\u001b[A\n",
            " 12%|#2        | 62/500 [11:03<2:30:13, 20.58s/episodes]\u001b[A\n",
            " 13%|#2        | 63/500 [11:16<2:12:37, 18.21s/episodes]\u001b[A\n",
            " 13%|#2        | 64/500 [11:32<2:08:31, 17.69s/episodes]\u001b[A\n",
            " 13%|#3        | 65/500 [11:46<2:00:23, 16.61s/episodes]\u001b[A\n",
            " 13%|#3        | 66/500 [12:04<2:02:38, 16.96s/episodes]\u001b[A\n",
            " 13%|#3        | 67/500 [12:19<1:57:23, 16.27s/episodes]\u001b[A\n",
            " 14%|#3        | 68/500 [12:38<2:04:22, 17.27s/episodes]\u001b[A\n",
            " 14%|#3        | 69/500 [12:56<2:04:40, 17.36s/episodes]\u001b[A"
          ]
        },
        {
          "metadata": {
            "tags": null
          },
          "name": "stdout",
          "output_type": "stream",
          "text": [
            "Episode:   70, frame_number:  13462, avg rew: 1.4, max rew: 5.0, min rew: 0.0, current epsilon:0.92133\n"
          ]
        },
        {
          "metadata": {
            "tags": null
          },
          "name": "stderr",
          "output_type": "stream",
          "text": [
            "\n",
            " 14%|#4        | 70/500 [13:11<1:58:47, 16.58s/episodes]\u001b[A\n",
            " 14%|#4        | 71/500 [13:24<1:50:59, 15.52s/episodes]\u001b[A\n",
            " 14%|#4        | 72/500 [13:43<1:57:50, 16.52s/episodes]\u001b[A\n",
            " 15%|#4        | 73/500 [13:55<1:49:15, 15.35s/episodes]\u001b[A\n",
            " 15%|#4        | 74/500 [14:14<1:57:22, 16.53s/episodes]\u001b[A\n",
            " 15%|#5        | 75/500 [14:29<1:51:54, 15.80s/episodes]\u001b[A\n",
            " 15%|#5        | 76/500 [14:43<1:49:33, 15.50s/episodes]\u001b[A\n",
            " 15%|#5        | 77/500 [14:55<1:41:22, 14.38s/episodes]\u001b[A\n",
            " 16%|#5        | 78/500 [15:11<1:45:00, 14.93s/episodes]\u001b[A\n",
            " 16%|#5        | 79/500 [15:32<1:57:00, 16.68s/episodes]\u001b[A"
          ]
        },
        {
          "metadata": {
            "tags": null
          },
          "name": "stdout",
          "output_type": "stream",
          "text": [
            "Episode:   80, frame_number:  15275, avg rew: 1.4, max rew: 5.0, min rew: 0.0, current epsilon:0.90559\n"
          ]
        },
        {
          "metadata": {
            "tags": null
          },
          "name": "stderr",
          "output_type": "stream",
          "text": [
            "\n",
            " 16%|#6        | 80/500 [16:01<2:22:39, 20.38s/episodes]\u001b[A\n",
            " 16%|#6        | 81/500 [16:16<2:09:58, 18.61s/episodes]\u001b[A\n",
            " 16%|#6        | 82/500 [16:39<2:20:12, 20.13s/episodes]\u001b[A\n",
            " 17%|#6        | 83/500 [17:09<2:38:59, 22.88s/episodes]\u001b[A\n",
            " 17%|#6        | 84/500 [17:23<2:20:43, 20.30s/episodes]\u001b[A\n",
            " 17%|#7        | 85/500 [17:46<2:26:11, 21.14s/episodes]\u001b[A\n",
            " 17%|#7        | 86/500 [17:59<2:08:47, 18.66s/episodes]\u001b[A\n",
            " 17%|#7        | 87/500 [18:26<2:26:18, 21.26s/episodes]\u001b[A\n",
            " 18%|#7        | 88/500 [18:39<2:08:55, 18.78s/episodes]\u001b[A\n",
            " 18%|#7        | 89/500 [19:02<2:17:08, 20.02s/episodes]\u001b[A"
          ]
        },
        {
          "metadata": {
            "tags": null
          },
          "name": "stdout",
          "output_type": "stream",
          "text": [
            "Episode:   90, frame_number:  17315, avg rew: 1.8, max rew: 5.0, min rew: 0.0, current epsilon:0.88484\n"
          ]
        },
        {
          "metadata": {
            "tags": null
          },
          "name": "stderr",
          "output_type": "stream",
          "text": [
            "\n",
            " 18%|#8        | 90/500 [19:17<2:07:15, 18.62s/episodes]\u001b[A\n",
            " 18%|#8        | 91/500 [19:32<1:59:08, 17.48s/episodes]\u001b[A\n",
            " 18%|#8        | 92/500 [19:50<1:59:34, 17.58s/episodes]\u001b[A\n",
            " 19%|#8        | 93/500 [20:10<2:04:31, 18.36s/episodes]\u001b[A\n",
            " 19%|#8        | 94/500 [20:27<2:01:46, 18.00s/episodes]\u001b[A\n",
            " 19%|#9        | 95/500 [20:43<1:56:37, 17.28s/episodes]\u001b[A\n",
            " 19%|#9        | 96/500 [21:05<2:05:18, 18.61s/episodes]\u001b[A\n",
            " 19%|#9        | 97/500 [21:18<1:54:40, 17.07s/episodes]\u001b[A\n",
            " 20%|#9        | 98/500 [21:33<1:50:45, 16.53s/episodes]\u001b[A\n",
            " 20%|#9        | 99/500 [21:50<1:51:16, 16.65s/episodes]\u001b[A"
          ]
        },
        {
          "metadata": {
            "tags": null
          },
          "name": "stdout",
          "output_type": "stream",
          "text": [
            "Episode:  100, frame_number:  19088, avg rew: 1.1, max rew: 2.0, min rew: 0.0, current epsilon:0.86831\n"
          ]
        },
        {
          "metadata": {
            "tags": null
          },
          "name": "stderr",
          "output_type": "stream",
          "text": [
            "\n",
            " 20%|##        | 100/500 [22:08<1:53:04, 16.96s/episodes]\u001b[A\n",
            " 20%|##        | 101/500 [22:21<1:44:47, 15.76s/episodes]\u001b[A\n",
            " 20%|##        | 102/500 [22:41<1:53:48, 17.16s/episodes]\u001b[A\n",
            " 21%|##        | 103/500 [22:57<1:50:36, 16.72s/episodes]\u001b[A\n",
            " 21%|##        | 104/500 [23:26<2:15:08, 20.48s/episodes]\u001b[A\n",
            " 21%|##1       | 105/500 [23:46<2:13:26, 20.27s/episodes]\u001b[A\n",
            " 21%|##1       | 106/500 [24:00<2:00:25, 18.34s/episodes]\u001b[A\n",
            " 21%|##1       | 107/500 [24:21<2:05:39, 19.19s/episodes]\u001b[A\n",
            " 22%|##1       | 108/500 [24:47<2:18:08, 21.14s/episodes]\u001b[A\n",
            " 22%|##1       | 109/500 [25:07<2:16:41, 20.98s/episodes]\u001b[A"
          ]
        },
        {
          "metadata": {
            "tags": null
          },
          "name": "stdout",
          "output_type": "stream",
          "text": [
            "Episode:  110, frame_number:  21102, avg rew: 1.7, max rew: 4.0, min rew: 0.0, current epsilon:0.84911\n"
          ]
        },
        {
          "metadata": {
            "tags": null
          },
          "name": "stderr",
          "output_type": "stream",
          "text": [
            "\n",
            " 22%|##2       | 110/500 [25:25<2:08:44, 19.81s/episodes]\u001b[A\n",
            " 22%|##2       | 111/500 [25:38<1:55:45, 17.85s/episodes]\u001b[A\n",
            " 22%|##2       | 112/500 [25:59<2:01:06, 18.73s/episodes]\u001b[A\n",
            " 23%|##2       | 113/500 [26:12<1:50:48, 17.18s/episodes]\u001b[A\n",
            " 23%|##2       | 114/500 [26:25<1:42:34, 15.94s/episodes]\u001b[A\n",
            " 23%|##3       | 115/500 [26:37<1:35:01, 14.81s/episodes]\u001b[A\n",
            " 23%|##3       | 116/500 [26:52<1:34:46, 14.81s/episodes]\u001b[A\n",
            " 23%|##3       | 117/500 [27:06<1:32:37, 14.51s/episodes]\u001b[A\n",
            " 24%|##3       | 118/500 [27:19<1:29:21, 14.03s/episodes]\u001b[A\n",
            " 24%|##3       | 119/500 [27:42<1:46:07, 16.71s/episodes]\u001b[A"
          ]
        },
        {
          "metadata": {
            "tags": null
          },
          "name": "stdout",
          "output_type": "stream",
          "text": [
            "Episode:  120, frame_number:  22629, avg rew: 0.6, max rew: 2.0, min rew: 0.0, current epsilon:0.83460\n"
          ]
        },
        {
          "metadata": {
            "tags": null
          },
          "name": "stderr",
          "output_type": "stream",
          "text": [
            "\n",
            " 24%|##4       | 120/500 [27:58<1:44:41, 16.53s/episodes]\u001b[A\n",
            " 24%|##4       | 121/500 [28:13<1:41:28, 16.06s/episodes]\u001b[A\n",
            " 24%|##4       | 122/500 [28:35<1:51:42, 17.73s/episodes]\u001b[A\n",
            " 25%|##4       | 123/500 [28:47<1:41:06, 16.09s/episodes]\u001b[A\n",
            " 25%|##4       | 124/500 [29:10<1:54:00, 18.19s/episodes]\u001b[A\n",
            " 25%|##5       | 125/500 [29:27<1:52:01, 17.92s/episodes]\u001b[A\n",
            " 25%|##5       | 126/500 [30:01<2:21:45, 22.74s/episodes]\u001b[A\n",
            " 25%|##5       | 127/500 [30:18<2:11:01, 21.08s/episodes]\u001b[A\n",
            " 26%|##5       | 128/500 [30:35<2:02:17, 19.72s/episodes]\u001b[A\n",
            " 26%|##5       | 129/500 [30:56<2:03:40, 20.00s/episodes]\u001b[A"
          ]
        },
        {
          "metadata": {
            "tags": null
          },
          "name": "stdout",
          "output_type": "stream",
          "text": [
            "Episode:  130, frame_number:  24749, avg rew: 1.9, max rew: 5.0, min rew: 0.0, current epsilon:0.81621\n"
          ]
        },
        {
          "metadata": {
            "tags": null
          },
          "name": "stderr",
          "output_type": "stream",
          "text": [
            "\n",
            " 26%|##6       | 130/500 [31:30<2:29:42, 24.28s/episodes]\u001b[A\n",
            " 26%|##6       | 131/500 [31:54<2:28:56, 24.22s/episodes]\u001b[A\n",
            " 26%|##6       | 132/500 [32:11<2:14:29, 21.93s/episodes]\u001b[A\n",
            " 27%|##6       | 133/500 [32:27<2:04:30, 20.36s/episodes]\u001b[A\n",
            " 27%|##6       | 134/500 [32:52<2:12:47, 21.77s/episodes]\u001b[A\n",
            " 27%|##7       | 135/500 [33:09<2:04:02, 20.39s/episodes]\u001b[A\n",
            " 27%|##7       | 136/500 [33:23<1:51:45, 18.42s/episodes]\u001b[A\n",
            " 27%|##7       | 137/500 [33:48<2:03:09, 20.36s/episodes]\u001b[A\n",
            " 28%|##7       | 138/500 [34:02<1:51:44, 18.52s/episodes]\u001b[A\n",
            " 28%|##7       | 139/500 [34:18<1:45:16, 17.50s/episodes]\u001b[A"
          ]
        },
        {
          "metadata": {
            "tags": null
          },
          "name": "stdout",
          "output_type": "stream",
          "text": [
            "Episode:  140, frame_number:  26571, avg rew: 1.3, max rew: 3.0, min rew: 0.0, current epsilon:0.79748\n"
          ]
        },
        {
          "metadata": {
            "tags": null
          },
          "name": "stderr",
          "output_type": "stream",
          "text": [
            "\n",
            " 28%|##8       | 140/500 [34:37<1:49:12, 18.20s/episodes]\u001b[A\n",
            " 28%|##8       | 141/500 [35:00<1:57:17, 19.60s/episodes]\u001b[A\n",
            " 28%|##8       | 142/500 [35:18<1:53:02, 18.95s/episodes]\u001b[A\n",
            " 29%|##8       | 143/500 [35:37<1:53:46, 19.12s/episodes]\u001b[A\n",
            " 29%|##8       | 144/500 [36:09<2:16:21, 22.98s/episodes]\u001b[A\n",
            " 29%|##9       | 145/500 [36:24<2:01:20, 20.51s/episodes]\u001b[A\n",
            " 29%|##9       | 146/500 [37:01<2:30:22, 25.49s/episodes]\u001b[A\n",
            " 29%|##9       | 147/500 [37:20<2:17:59, 23.45s/episodes]\u001b[A\n",
            " 30%|##9       | 148/500 [37:46<2:22:37, 24.31s/episodes]\u001b[A\n",
            " 30%|##9       | 149/500 [38:02<2:06:42, 21.66s/episodes]\u001b[A"
          ]
        },
        {
          "metadata": {
            "tags": null
          },
          "name": "stdout",
          "output_type": "stream",
          "text": [
            "Episode:  150, frame_number:  28719, avg rew: 1.8, max rew: 5.0, min rew: 0.0, current epsilon:0.77665\n"
          ]
        },
        {
          "metadata": {
            "tags": null
          },
          "name": "stderr",
          "output_type": "stream",
          "text": [
            "\n",
            " 30%|###       | 150/500 [38:17<1:54:50, 19.69s/episodes]\u001b[A\n",
            " 30%|###       | 151/500 [38:41<2:02:12, 21.01s/episodes]\u001b[A\n",
            " 30%|###       | 152/500 [39:01<2:01:09, 20.89s/episodes]\u001b[A\n",
            " 31%|###       | 153/500 [39:24<2:04:04, 21.45s/episodes]\u001b[A\n",
            " 31%|###       | 154/500 [39:53<2:16:54, 23.74s/episodes]\u001b[A\n",
            " 31%|###1      | 155/500 [40:08<2:00:50, 21.02s/episodes]\u001b[A\n",
            " 31%|###1      | 156/500 [40:44<2:26:20, 25.53s/episodes]\u001b[A\n",
            " 31%|###1      | 157/500 [40:59<2:08:00, 22.39s/episodes]\u001b[A\n",
            " 32%|###1      | 158/500 [41:21<2:06:21, 22.17s/episodes]\u001b[A\n",
            " 32%|###1      | 159/500 [41:40<2:01:22, 21.36s/episodes]\u001b[A"
          ]
        },
        {
          "metadata": {
            "tags": null
          },
          "name": "stdout",
          "output_type": "stream",
          "text": [
            "Episode:  160, frame_number:  30893, avg rew: 2.3, max rew: 6.0, min rew: 0.0, current epsilon:0.75658\n"
          ]
        },
        {
          "metadata": {
            "tags": null
          },
          "name": "stderr",
          "output_type": "stream",
          "text": [
            "\n",
            " 32%|###2      | 160/500 [42:02<2:01:58, 21.53s/episodes]\u001b[A\n",
            " 32%|###2      | 161/500 [42:26<2:05:49, 22.27s/episodes]\u001b[A\n",
            " 32%|###2      | 162/500 [42:47<2:03:34, 21.94s/episodes]\u001b[A\n",
            " 33%|###2      | 163/500 [43:07<1:59:25, 21.26s/episodes]\u001b[A\n",
            " 33%|###2      | 164/500 [43:21<1:47:44, 19.24s/episodes]\u001b[A\n",
            " 33%|###3      | 165/500 [43:36<1:39:01, 17.74s/episodes]\u001b[A\n",
            " 33%|###3      | 166/500 [44:01<1:52:23, 20.19s/episodes]\u001b[A\n",
            " 33%|###3      | 167/500 [44:16<1:42:02, 18.39s/episodes]\u001b[A\n",
            " 34%|###3      | 168/500 [44:37<1:47:03, 19.35s/episodes]\u001b[A\n",
            " 34%|###3      | 169/500 [45:03<1:57:20, 21.27s/episodes]\u001b[A"
          ]
        },
        {
          "metadata": {
            "tags": null
          },
          "name": "stdout",
          "output_type": "stream",
          "text": [
            "Episode:  170, frame_number:  32793, avg rew: 1.3, max rew: 3.0, min rew: 0.0, current epsilon:0.73845\n"
          ]
        },
        {
          "metadata": {
            "tags": null
          },
          "name": "stderr",
          "output_type": "stream",
          "text": [
            "\n",
            " 34%|###4      | 170/500 [45:23<1:54:33, 20.83s/episodes]\u001b[A\n",
            " 34%|###4      | 171/500 [45:45<1:56:28, 21.24s/episodes]\u001b[A\n",
            " 34%|###4      | 172/500 [46:03<1:50:33, 20.22s/episodes]\u001b[A\n",
            " 35%|###4      | 173/500 [46:25<1:53:38, 20.85s/episodes]\u001b[A\n",
            " 35%|###4      | 174/500 [46:53<2:04:43, 22.96s/episodes]\u001b[A\n",
            " 35%|###5      | 175/500 [47:18<2:08:07, 23.66s/episodes]\u001b[A\n",
            " 35%|###5      | 176/500 [47:47<2:15:04, 25.02s/episodes]\u001b[A\n",
            " 35%|###5      | 177/500 [48:12<2:15:21, 25.14s/episodes]\u001b[A\n",
            " 36%|###5      | 178/500 [48:35<2:12:08, 24.62s/episodes]\u001b[A\n",
            " 36%|###5      | 179/500 [48:57<2:06:16, 23.60s/episodes]\u001b[A"
          ]
        },
        {
          "metadata": {
            "tags": null
          },
          "name": "stdout",
          "output_type": "stream",
          "text": [
            "Episode:  180, frame_number:  35028, avg rew: 2.3, max rew: 3.0, min rew: 1.0, current epsilon:0.71789\n"
          ]
        },
        {
          "metadata": {
            "tags": null
          },
          "name": "stderr",
          "output_type": "stream",
          "text": [
            "\n",
            " 36%|###6      | 180/500 [49:23<2:10:02, 24.38s/episodes]\u001b[A\n",
            " 36%|###6      | 181/500 [49:49<2:12:01, 24.83s/episodes]\u001b[A\n",
            " 36%|###6      | 182/500 [50:06<2:00:16, 22.69s/episodes]\u001b[A\n",
            " 37%|###6      | 183/500 [50:36<2:10:12, 24.64s/episodes]\u001b[A\n",
            " 37%|###6      | 184/500 [50:56<2:03:55, 23.53s/episodes]\u001b[A\n",
            " 37%|###7      | 185/500 [51:30<2:19:21, 26.54s/episodes]\u001b[A\n",
            " 37%|###7      | 186/500 [51:56<2:17:28, 26.27s/episodes]\u001b[A\n",
            " 37%|###7      | 187/500 [52:20<2:13:29, 25.59s/episodes]\u001b[A\n",
            " 38%|###7      | 188/500 [52:47<2:16:19, 26.22s/episodes]\u001b[A\n",
            " 38%|###7      | 189/500 [53:16<2:19:18, 26.87s/episodes]\u001b[A"
          ]
        },
        {
          "metadata": {
            "tags": null
          },
          "name": "stdout",
          "output_type": "stream",
          "text": [
            "Episode:  190, frame_number:  37396, avg rew: 2.6, max rew: 4.0, min rew: 1.0, current epsilon:0.69528\n"
          ]
        },
        {
          "metadata": {
            "tags": null
          },
          "name": "stderr",
          "output_type": "stream",
          "text": [
            "\n",
            " 38%|###8      | 190/500 [53:41<2:16:59, 26.51s/episodes]\u001b[A\n",
            " 38%|###8      | 191/500 [54:02<2:07:40, 24.79s/episodes]\u001b[A\n",
            " 38%|###8      | 192/500 [54:23<2:01:43, 23.71s/episodes]\u001b[A\n",
            " 39%|###8      | 193/500 [54:38<1:47:53, 21.09s/episodes]\u001b[A\n",
            " 39%|###8      | 194/500 [54:57<1:44:29, 20.49s/episodes]\u001b[A\n",
            " 39%|###9      | 195/500 [55:11<1:34:00, 18.49s/episodes]\u001b[A\n",
            " 39%|###9      | 196/500 [55:25<1:26:49, 17.14s/episodes]\u001b[A\n",
            " 39%|###9      | 197/500 [55:54<1:43:58, 20.59s/episodes]\u001b[A\n",
            " 40%|###9      | 198/500 [56:34<2:12:57, 26.42s/episodes]\u001b[A\n",
            " 40%|###9      | 199/500 [57:04<2:18:19, 27.57s/episodes]\u001b[A"
          ]
        },
        {
          "metadata": {
            "tags": null
          },
          "name": "stdout",
          "output_type": "stream",
          "text": [
            "Episode:  200, frame_number:  39525, avg rew: 2.0, max rew: 6.0, min rew: 0.0, current epsilon:0.67529\n"
          ]
        },
        {
          "metadata": {
            "tags": null
          },
          "name": "stderr",
          "output_type": "stream",
          "text": [
            "\n",
            " 40%|####      | 200/500 [57:33<2:19:05, 27.82s/episodes]\u001b[A\n",
            " 40%|####      | 201/500 [57:47<1:58:35, 23.80s/episodes]\u001b[A\n",
            " 40%|####      | 202/500 [58:10<1:56:24, 23.44s/episodes]\u001b[A\n",
            " 41%|####      | 203/500 [58:37<2:01:06, 24.47s/episodes]\u001b[A\n",
            " 41%|####      | 204/500 [59:19<2:28:07, 30.03s/episodes]\u001b[A\n",
            " 41%|####1     | 205/500 [59:47<2:24:18, 29.35s/episodes]\u001b[A\n",
            " 41%|####1     | 206/500 [1:00:08<2:11:04, 26.75s/episodes]\u001b[A\n",
            " 41%|####1     | 207/500 [1:00:30<2:03:03, 25.20s/episodes]\u001b[A\n",
            " 42%|####1     | 208/500 [1:00:51<1:57:32, 24.15s/episodes]\u001b[A\n",
            " 42%|####1     | 209/500 [1:01:16<1:57:27, 24.22s/episodes]\u001b[A"
          ]
        },
        {
          "metadata": {
            "tags": null
          },
          "name": "stdout",
          "output_type": "stream",
          "text": [
            "Episode:  210, frame_number:  41676, avg rew: 2.3, max rew: 7.0, min rew: 0.0, current epsilon:0.65447\n"
          ]
        },
        {
          "metadata": {
            "tags": null
          },
          "name": "stderr",
          "output_type": "stream",
          "text": [
            "\n",
            " 42%|####2     | 210/500 [1:01:39<1:56:00, 24.00s/episodes]\u001b[A\n",
            " 42%|####2     | 211/500 [1:02:08<2:03:03, 25.55s/episodes]\u001b[A\n",
            " 42%|####2     | 212/500 [1:02:44<2:17:35, 28.67s/episodes]\u001b[A\n",
            " 43%|####2     | 213/500 [1:02:58<1:55:07, 24.07s/episodes]\u001b[A\n",
            " 43%|####2     | 214/500 [1:03:26<2:01:20, 25.45s/episodes]\u001b[A\n",
            " 43%|####3     | 215/500 [1:03:48<1:55:08, 24.24s/episodes]\u001b[A\n",
            " 43%|####3     | 216/500 [1:04:13<1:55:46, 24.46s/episodes]\u001b[A\n",
            " 43%|####3     | 217/500 [1:04:40<1:59:35, 25.36s/episodes]\u001b[A\n",
            " 44%|####3     | 218/500 [1:05:07<2:01:01, 25.75s/episodes]\u001b[A\n",
            " 44%|####3     | 219/500 [1:05:25<1:50:37, 23.62s/episodes]\u001b[A"
          ]
        },
        {
          "metadata": {
            "tags": null
          },
          "name": "stdout",
          "output_type": "stream",
          "text": [
            "Episode:  220, frame_number:  43827, avg rew: 1.9, max rew: 4.0, min rew: 0.0, current epsilon:0.63370\n"
          ]
        },
        {
          "metadata": {
            "tags": null
          },
          "name": "stderr",
          "output_type": "stream",
          "text": [
            "\n",
            " 44%|####4     | 220/500 [1:05:44<1:43:05, 22.09s/episodes]\u001b[A\n",
            " 44%|####4     | 221/500 [1:06:02<1:37:27, 20.96s/episodes]\u001b[A\n",
            " 44%|####4     | 222/500 [1:06:26<1:40:20, 21.66s/episodes]\u001b[A\n",
            " 45%|####4     | 223/500 [1:06:53<1:48:18, 23.46s/episodes]\u001b[A\n",
            " 45%|####4     | 224/500 [1:07:29<2:05:05, 27.19s/episodes]\u001b[A\n",
            " 45%|####5     | 225/500 [1:07:52<1:58:07, 25.77s/episodes]\u001b[A\n",
            " 45%|####5     | 226/500 [1:08:11<1:48:44, 23.81s/episodes]\u001b[A\n",
            " 45%|####5     | 227/500 [1:08:33<1:45:46, 23.25s/episodes]\u001b[A\n",
            " 46%|####5     | 228/500 [1:09:01<1:51:53, 24.68s/episodes]\u001b[A\n",
            " 46%|####5     | 229/500 [1:09:30<1:58:15, 26.18s/episodes]\u001b[A"
          ]
        },
        {
          "metadata": {
            "tags": null
          },
          "name": "stdout",
          "output_type": "stream",
          "text": [
            "Episode:  230, frame_number:  46279, avg rew: 2.3, max rew: 9.0, min rew: 0.0, current epsilon:0.61382\n"
          ]
        },
        {
          "metadata": {
            "tags": null
          },
          "name": "stderr",
          "output_type": "stream",
          "text": [
            "\n",
            " 46%|####6     | 230/500 [1:10:31<2:44:29, 36.55s/episodes]\u001b[A\n",
            " 46%|####6     | 231/500 [1:10:46<2:14:41, 30.04s/episodes]\u001b[A\n",
            " 46%|####6     | 232/500 [1:11:17<2:15:42, 30.38s/episodes]\u001b[A\n",
            " 47%|####6     | 233/500 [1:11:41<2:05:55, 28.30s/episodes]\u001b[A\n",
            " 47%|####6     | 234/500 [1:12:05<2:00:38, 27.21s/episodes]\u001b[A\n",
            " 47%|####6     | 235/500 [1:12:39<2:09:25, 29.30s/episodes]\u001b[A\n",
            " 47%|####7     | 236/500 [1:13:04<2:03:12, 28.00s/episodes]\u001b[A\n",
            " 47%|####7     | 237/500 [1:13:36<2:07:50, 29.16s/episodes]\u001b[A\n",
            " 48%|####7     | 238/500 [1:14:14<2:18:20, 31.68s/episodes]\u001b[A\n",
            " 48%|####7     | 239/500 [1:14:35<2:04:28, 28.61s/episodes]\u001b[A"
          ]
        },
        {
          "metadata": {
            "tags": null
          },
          "name": "stdout",
          "output_type": "stream",
          "text": [
            "Episode:  240, frame_number:  48588, avg rew: 2.8, max rew: 5.0, min rew: 0.0, current epsilon:0.58918\n"
          ]
        },
        {
          "metadata": {
            "tags": null
          },
          "name": "stderr",
          "output_type": "stream",
          "text": [
            "\n",
            " 48%|####8     | 240/500 [1:15:02<2:01:06, 27.95s/episodes]\u001b[A\n",
            " 48%|####8     | 241/500 [1:15:20<1:48:08, 25.05s/episodes]\u001b[A\n",
            " 48%|####8     | 242/500 [1:15:52<1:56:49, 27.17s/episodes]\u001b[A\n",
            " 49%|####8     | 243/500 [1:16:18<1:54:53, 26.82s/episodes]\u001b[A\n",
            " 49%|####8     | 244/500 [1:16:36<1:43:30, 24.26s/episodes]\u001b[A\n",
            " 49%|####9     | 245/500 [1:17:07<1:51:15, 26.18s/episodes]\u001b[A\n",
            " 49%|####9     | 246/500 [1:17:27<1:43:26, 24.43s/episodes]\u001b[A\n",
            " 49%|####9     | 247/500 [1:17:46<1:35:52, 22.74s/episodes]\u001b[A\n",
            " 50%|####9     | 248/500 [1:18:19<1:48:23, 25.81s/episodes]\u001b[A\n",
            " 50%|####9     | 249/500 [1:19:09<2:18:19, 33.07s/episodes]\u001b[A"
          ]
        },
        {
          "metadata": {
            "tags": null
          },
          "name": "stdout",
          "output_type": "stream",
          "text": [
            "Episode:  250, frame_number:  50903, avg rew: 2.6, max rew: 7.0, min rew: 0.0, current epsilon:0.56755\n"
          ]
        },
        {
          "metadata": {
            "tags": null
          },
          "name": "stderr",
          "output_type": "stream",
          "text": [
            "\n",
            " 50%|#####     | 250/500 [1:19:42<2:17:16, 32.95s/episodes]\u001b[A\n",
            " 50%|#####     | 251/500 [1:19:57<1:53:56, 27.46s/episodes]\u001b[A\n",
            " 50%|#####     | 252/500 [1:20:25<1:54:28, 27.70s/episodes]\u001b[A\n",
            " 51%|#####     | 253/500 [1:20:59<2:02:25, 29.74s/episodes]\u001b[A\n",
            " 51%|#####     | 254/500 [1:21:27<1:59:50, 29.23s/episodes]\u001b[A\n",
            " 51%|#####1    | 255/500 [1:21:47<1:47:17, 26.27s/episodes]\u001b[A\n",
            " 51%|#####1    | 256/500 [1:22:05<1:37:36, 24.00s/episodes]\u001b[A\n",
            " 51%|#####1    | 257/500 [1:22:22<1:28:04, 21.75s/episodes]\u001b[A\n",
            " 52%|#####1    | 258/500 [1:22:40<1:22:54, 20.56s/episodes]\u001b[A\n",
            " 52%|#####1    | 259/500 [1:23:10<1:34:06, 23.43s/episodes]\u001b[A"
          ]
        },
        {
          "metadata": {
            "tags": null
          },
          "name": "stdout",
          "output_type": "stream",
          "text": [
            "Episode:  260, frame_number:  53045, avg rew: 1.8, max rew: 7.0, min rew: 0.0, current epsilon:0.54863\n"
          ]
        },
        {
          "metadata": {
            "tags": null
          },
          "name": "stderr",
          "output_type": "stream",
          "text": [
            "\n",
            " 52%|#####2    | 260/500 [1:23:59<2:04:14, 31.06s/episodes]\u001b[A\n",
            " 52%|#####2    | 261/500 [1:24:29<2:03:20, 30.96s/episodes]\u001b[A\n",
            " 52%|#####2    | 262/500 [1:24:52<1:53:16, 28.56s/episodes]\u001b[A\n",
            " 53%|#####2    | 263/500 [1:25:26<1:59:18, 30.20s/episodes]\u001b[A\n",
            " 53%|#####2    | 264/500 [1:26:03<2:06:37, 32.19s/episodes]\u001b[A\n",
            " 53%|#####3    | 265/500 [1:26:30<1:59:19, 30.47s/episodes]\u001b[A\n",
            " 53%|#####3    | 266/500 [1:27:05<2:05:00, 32.05s/episodes]\u001b[A\n",
            " 53%|#####3    | 267/500 [1:27:35<2:01:17, 31.23s/episodes]\u001b[A\n",
            " 54%|#####3    | 268/500 [1:28:13<2:09:27, 33.48s/episodes]\u001b[A\n",
            " 54%|#####3    | 269/500 [1:28:41<2:02:06, 31.72s/episodes]\u001b[A"
          ]
        },
        {
          "metadata": {
            "tags": null
          },
          "name": "stdout",
          "output_type": "stream",
          "text": [
            "Episode:  270, frame_number:  55523, avg rew: 2.7, max rew: 5.0, min rew: 1.0, current epsilon:0.52309\n"
          ]
        },
        {
          "metadata": {
            "tags": null
          },
          "name": "stderr",
          "output_type": "stream",
          "text": [
            "\n",
            " 54%|#####4    | 270/500 [1:29:04<1:51:47, 29.16s/episodes]\u001b[A\n",
            " 54%|#####4    | 271/500 [1:29:38<1:56:08, 30.43s/episodes]\u001b[A\n",
            " 54%|#####4    | 272/500 [1:30:18<2:06:44, 33.35s/episodes]\u001b[A\n",
            " 55%|#####4    | 273/500 [1:30:50<2:04:42, 32.96s/episodes]\u001b[A\n",
            " 55%|#####4    | 274/500 [1:31:28<2:09:29, 34.38s/episodes]\u001b[A\n",
            " 55%|#####5    | 275/500 [1:31:46<1:51:10, 29.65s/episodes]\u001b[A\n",
            " 55%|#####5    | 276/500 [1:32:13<1:47:47, 28.87s/episodes]\u001b[A\n",
            " 55%|#####5    | 277/500 [1:32:35<1:39:32, 26.78s/episodes]\u001b[A\n",
            " 56%|#####5    | 278/500 [1:33:05<1:42:57, 27.83s/episodes]\u001b[A\n",
            " 56%|#####5    | 279/500 [1:33:32<1:41:09, 27.46s/episodes]\u001b[A"
          ]
        },
        {
          "metadata": {
            "tags": null
          },
          "name": "stdout",
          "output_type": "stream",
          "text": [
            "Episode:  280, frame_number:  57821, avg rew: 2.1, max rew: 5.0, min rew: 0.0, current epsilon:0.50141\n"
          ]
        },
        {
          "metadata": {
            "tags": null
          },
          "name": "stderr",
          "output_type": "stream",
          "text": [
            "\n",
            " 56%|#####6    | 280/500 [1:33:58<1:38:43, 26.93s/episodes]\u001b[A\n",
            " 56%|#####6    | 281/500 [1:34:21<1:34:06, 25.78s/episodes]\u001b[A\n",
            " 56%|#####6    | 282/500 [1:34:42<1:28:50, 24.45s/episodes]\u001b[A\n",
            " 57%|#####6    | 283/500 [1:35:08<1:29:30, 24.75s/episodes]\u001b[A\n",
            " 57%|#####6    | 284/500 [1:35:25<1:21:12, 22.56s/episodes]\u001b[A\n",
            " 57%|#####6    | 285/500 [1:35:57<1:31:19, 25.49s/episodes]\u001b[A\n",
            " 57%|#####7    | 286/500 [1:36:17<1:24:16, 23.63s/episodes]\u001b[A\n",
            " 57%|#####7    | 287/500 [1:36:34<1:16:57, 21.68s/episodes]\u001b[A\n",
            " 58%|#####7    | 288/500 [1:36:57<1:17:50, 22.03s/episodes]\u001b[A\n",
            " 58%|#####7    | 289/500 [1:37:26<1:25:17, 24.25s/episodes]\u001b[A"
          ]
        },
        {
          "metadata": {
            "tags": null
          },
          "name": "stdout",
          "output_type": "stream",
          "text": [
            "Episode:  290, frame_number:  59764, avg rew: 1.2, max rew: 4.0, min rew: 0.0, current epsilon:0.48395\n"
          ]
        },
        {
          "metadata": {
            "tags": null
          },
          "name": "stderr",
          "output_type": "stream",
          "text": [
            "\n",
            " 58%|#####8    | 290/500 [1:38:05<1:39:51, 28.53s/episodes]\u001b[A\n",
            " 58%|#####8    | 291/500 [1:38:47<1:54:04, 32.75s/episodes]\u001b[A\n",
            " 58%|#####8    | 292/500 [1:39:12<1:44:48, 30.23s/episodes]\u001b[A\n",
            " 59%|#####8    | 293/500 [1:39:32<1:34:15, 27.32s/episodes]\u001b[A\n",
            " 59%|#####8    | 294/500 [1:39:53<1:26:52, 25.30s/episodes]\u001b[A\n",
            " 59%|#####8    | 295/500 [1:40:22<1:30:10, 26.39s/episodes]\u001b[A\n",
            " 59%|#####9    | 296/500 [1:40:52<1:33:50, 27.60s/episodes]\u001b[A\n",
            " 59%|#####9    | 297/500 [1:41:24<1:37:21, 28.78s/episodes]\u001b[A\n",
            " 60%|#####9    | 298/500 [1:41:58<1:42:42, 30.51s/episodes]\u001b[A\n",
            " 60%|#####9    | 299/500 [1:42:45<1:58:53, 35.49s/episodes]\u001b[A"
          ]
        },
        {
          "metadata": {
            "tags": null
          },
          "name": "stdout",
          "output_type": "stream",
          "text": [
            "Episode:  300, frame_number:  62139, avg rew: 2.4, max rew: 6.0, min rew: 1.0, current epsilon:0.46061\n"
          ]
        },
        {
          "metadata": {
            "tags": null
          },
          "name": "stderr",
          "output_type": "stream",
          "text": [
            "\n",
            " 60%|######    | 300/500 [1:43:12<1:49:22, 32.81s/episodes]\u001b[A\n",
            " 60%|######    | 301/500 [1:43:30<1:34:46, 28.58s/episodes]\u001b[A\n",
            " 60%|######    | 302/500 [1:43:53<1:28:32, 26.83s/episodes]\u001b[A\n",
            " 61%|######    | 303/500 [1:44:22<1:30:20, 27.51s/episodes]\u001b[A\n",
            " 61%|######    | 304/500 [1:44:45<1:24:45, 25.94s/episodes]\u001b[A\n",
            " 61%|######1   | 305/500 [1:45:17<1:30:11, 27.75s/episodes]\u001b[A\n",
            " 61%|######1   | 306/500 [1:45:49<1:34:44, 29.30s/episodes]\u001b[A\n",
            " 61%|######1   | 307/500 [1:46:30<1:45:30, 32.80s/episodes]\u001b[A\n",
            " 62%|######1   | 308/500 [1:47:03<1:44:20, 32.61s/episodes]\u001b[A\n",
            " 62%|######1   | 309/500 [1:47:47<1:54:54, 36.10s/episodes]\u001b[A"
          ]
        },
        {
          "metadata": {
            "tags": null
          },
          "name": "stdout",
          "output_type": "stream",
          "text": [
            "Episode:  310, frame_number:  64533, avg rew: 2.4, max rew: 6.0, min rew: 0.0, current epsilon:0.43885\n"
          ]
        },
        {
          "metadata": {
            "tags": null
          },
          "name": "stderr",
          "output_type": "stream",
          "text": [
            "\n",
            " 62%|######2   | 310/500 [1:48:26<1:57:36, 37.14s/episodes]\u001b[A\n",
            " 62%|######2   | 311/500 [1:48:51<1:45:32, 33.50s/episodes]\u001b[A\n",
            " 62%|######2   | 312/500 [1:49:12<1:32:50, 29.63s/episodes]\u001b[A\n",
            " 63%|######2   | 313/500 [1:49:34<1:25:33, 27.45s/episodes]\u001b[A\n",
            " 63%|######2   | 314/500 [1:50:04<1:26:48, 28.00s/episodes]\u001b[A\n",
            " 63%|######3   | 315/500 [1:50:26<1:21:31, 26.44s/episodes]\u001b[A\n",
            " 63%|######3   | 316/500 [1:50:48<1:16:28, 24.94s/episodes]\u001b[A\n",
            " 63%|######3   | 317/500 [1:51:26<1:27:38, 28.74s/episodes]\u001b[A\n",
            " 64%|######3   | 318/500 [1:51:57<1:29:50, 29.62s/episodes]\u001b[A\n",
            " 64%|######3   | 319/500 [1:52:40<1:41:21, 33.60s/episodes]\u001b[A"
          ]
        },
        {
          "metadata": {
            "tags": null
          },
          "name": "stdout",
          "output_type": "stream",
          "text": [
            "Episode:  320, frame_number:  66663, avg rew: 1.4, max rew: 4.0, min rew: 0.0, current epsilon:0.41788\n"
          ]
        },
        {
          "metadata": {
            "tags": null
          },
          "name": "stderr",
          "output_type": "stream",
          "text": [
            "\n",
            " 64%|######4   | 320/500 [1:53:08<1:35:39, 31.89s/episodes]\u001b[A\n",
            " 64%|######4   | 321/500 [1:53:39<1:34:19, 31.62s/episodes]\u001b[A\n",
            " 64%|######4   | 322/500 [1:54:07<1:30:46, 30.60s/episodes]\u001b[A\n",
            " 65%|######4   | 323/500 [1:54:42<1:34:21, 31.99s/episodes]\u001b[A\n",
            " 65%|######4   | 324/500 [1:55:19<1:37:52, 33.37s/episodes]\u001b[A\n",
            " 65%|######5   | 325/500 [1:55:56<1:40:50, 34.58s/episodes]\u001b[A\n",
            " 65%|######5   | 326/500 [1:56:24<1:33:58, 32.41s/episodes]\u001b[A\n",
            " 65%|######5   | 327/500 [1:56:46<1:25:00, 29.48s/episodes]\u001b[A\n",
            " 66%|######5   | 328/500 [1:57:17<1:25:21, 29.78s/episodes]\u001b[A\n",
            " 66%|######5   | 329/500 [1:58:07<1:42:23, 35.93s/episodes]\u001b[A"
          ]
        },
        {
          "metadata": {
            "tags": null
          },
          "name": "stdout",
          "output_type": "stream",
          "text": [
            "Episode:  330, frame_number:  69124, avg rew: 2.5, max rew: 5.0, min rew: 0.0, current epsilon:0.39465\n"
          ]
        },
        {
          "metadata": {
            "tags": null
          },
          "name": "stderr",
          "output_type": "stream",
          "text": [
            "\n",
            " 66%|######6   | 330/500 [1:58:37<1:36:28, 34.05s/episodes]\u001b[A\n",
            " 66%|######6   | 331/500 [1:58:59<1:25:34, 30.38s/episodes]\u001b[A\n",
            " 66%|######6   | 332/500 [1:59:26<1:22:28, 29.46s/episodes]\u001b[A\n",
            " 67%|######6   | 333/500 [2:00:11<1:34:51, 34.08s/episodes]\u001b[A\n",
            " 67%|######6   | 334/500 [2:01:06<1:51:45, 40.40s/episodes]\u001b[A\n",
            " 67%|######7   | 335/500 [2:01:47<1:51:36, 40.58s/episodes]\u001b[A\n",
            " 67%|######7   | 336/500 [2:02:17<1:42:08, 37.37s/episodes]\u001b[A\n",
            " 67%|######7   | 337/500 [2:02:51<1:38:42, 36.33s/episodes]\u001b[A\n",
            " 68%|######7   | 338/500 [2:03:31<1:41:17, 37.51s/episodes]\u001b[A\n",
            " 68%|######7   | 339/500 [2:04:09<1:41:07, 37.68s/episodes]\u001b[A"
          ]
        },
        {
          "metadata": {
            "tags": null
          },
          "name": "stdout",
          "output_type": "stream",
          "text": [
            "Episode:  340, frame_number:  71840, avg rew: 3.1, max rew: 6.0, min rew: 0.0, current epsilon:0.36923\n"
          ]
        },
        {
          "metadata": {
            "tags": null
          },
          "name": "stderr",
          "output_type": "stream",
          "text": [
            "\n",
            " 68%|######8   | 340/500 [2:04:44<1:38:22, 36.89s/episodes]\u001b[A\n",
            " 68%|######8   | 341/500 [2:05:12<1:30:18, 34.08s/episodes]\u001b[A\n",
            " 68%|######8   | 342/500 [2:05:45<1:29:01, 33.81s/episodes]\u001b[A\n",
            " 69%|######8   | 343/500 [2:06:33<1:39:57, 38.20s/episodes]\u001b[A\n",
            " 69%|######8   | 344/500 [2:07:01<1:30:59, 35.00s/episodes]\u001b[A\n",
            " 69%|######9   | 345/500 [2:07:31<1:27:04, 33.71s/episodes]\u001b[A\n",
            " 69%|######9   | 346/500 [2:08:08<1:28:44, 34.58s/episodes]\u001b[A\n",
            " 69%|######9   | 347/500 [2:08:52<1:35:04, 37.28s/episodes]\u001b[A\n",
            " 70%|######9   | 348/500 [2:09:34<1:38:08, 38.74s/episodes]\u001b[A\n",
            " 70%|######9   | 349/500 [2:10:30<1:50:29, 43.90s/episodes]\u001b[A"
          ]
        },
        {
          "metadata": {
            "tags": null
          },
          "name": "stdout",
          "output_type": "stream",
          "text": [
            "Episode:  350, frame_number:  74586, avg rew: 3.1, max rew: 6.0, min rew: 0.0, current epsilon:0.34306\n"
          ]
        },
        {
          "metadata": {
            "tags": null
          },
          "name": "stderr",
          "output_type": "stream",
          "text": [
            "\n",
            " 70%|#######   | 350/500 [2:11:04<1:42:43, 41.09s/episodes]\u001b[A\n",
            " 70%|#######   | 351/500 [2:11:32<1:32:14, 37.15s/episodes]\u001b[A\n",
            " 70%|#######   | 352/500 [2:12:06<1:29:08, 36.14s/episodes]\u001b[A\n",
            " 71%|#######   | 353/500 [2:12:43<1:29:10, 36.40s/episodes]\u001b[A\n",
            " 71%|#######   | 354/500 [2:13:14<1:24:18, 34.65s/episodes]\u001b[A\n",
            " 71%|#######1  | 355/500 [2:14:08<1:38:11, 40.63s/episodes]\u001b[A\n",
            " 71%|#######1  | 356/500 [2:14:45<1:35:05, 39.62s/episodes]\u001b[A\n",
            " 71%|#######1  | 357/500 [2:15:30<1:38:08, 41.18s/episodes]\u001b[A\n",
            " 72%|#######1  | 358/500 [2:16:09<1:35:43, 40.45s/episodes]\u001b[A\n",
            " 72%|#######1  | 359/500 [2:16:50<1:35:21, 40.58s/episodes]\u001b[A"
          ]
        },
        {
          "metadata": {
            "tags": null
          },
          "name": "stdout",
          "output_type": "stream",
          "text": [
            "Episode:  360, frame_number:  77318, avg rew: 2.9, max rew: 6.0, min rew: 1.0, current epsilon:0.31727\n"
          ]
        },
        {
          "metadata": {
            "tags": null
          },
          "name": "stderr",
          "output_type": "stream",
          "text": [
            "\n",
            " 72%|#######2  | 360/500 [2:17:27<1:32:10, 39.51s/episodes]\u001b[A\n",
            " 72%|#######2  | 361/500 [2:17:49<1:19:34, 34.35s/episodes]\u001b[A\n",
            " 72%|#######2  | 362/500 [2:18:11<1:10:14, 30.54s/episodes]\u001b[A\n",
            " 73%|#######2  | 363/500 [2:18:33<1:03:58, 28.02s/episodes]\u001b[A\n",
            " 73%|#######2  | 364/500 [2:18:49<55:13, 24.37s/episodes]  \u001b[A\n",
            " 73%|#######3  | 365/500 [2:19:12<53:40, 23.85s/episodes]\u001b[A\n",
            " 73%|#######3  | 366/500 [2:19:45<59:29, 26.64s/episodes]\u001b[A\n",
            " 73%|#######3  | 367/500 [2:20:17<1:02:59, 28.41s/episodes]\u001b[A\n",
            " 74%|#######3  | 368/500 [2:21:09<1:17:47, 35.36s/episodes]\u001b[A\n",
            " 74%|#######3  | 369/500 [2:21:49<1:20:38, 36.94s/episodes]\u001b[A"
          ]
        },
        {
          "metadata": {
            "tags": null
          },
          "name": "stdout",
          "output_type": "stream",
          "text": [
            "Episode:  370, frame_number:  79450, avg rew: 1.9, max rew: 4.0, min rew: 0.0, current epsilon:0.29731\n"
          ]
        },
        {
          "metadata": {
            "tags": null
          },
          "name": "stderr",
          "output_type": "stream",
          "text": [
            "\n",
            " 74%|#######4  | 370/500 [2:22:29<1:21:27, 37.60s/episodes]\u001b[A\n",
            " 74%|#######4  | 371/500 [2:23:06<1:20:45, 37.56s/episodes]\u001b[A\n",
            " 74%|#######4  | 372/500 [2:23:54<1:26:58, 40.77s/episodes]\u001b[A\n",
            " 75%|#######4  | 373/500 [2:24:21<1:17:16, 36.51s/episodes]\u001b[A\n",
            " 75%|#######4  | 374/500 [2:25:02<1:19:49, 38.01s/episodes]\u001b[A\n",
            " 75%|#######5  | 375/500 [2:25:36<1:16:35, 36.76s/episodes]\u001b[A\n",
            " 75%|#######5  | 376/500 [2:25:54<1:04:18, 31.12s/episodes]\u001b[A\n",
            " 75%|#######5  | 377/500 [2:26:12<55:35, 27.12s/episodes]  \u001b[A\n",
            " 76%|#######5  | 378/500 [2:26:34<51:54, 25.53s/episodes]\u001b[A\n",
            " 76%|#######5  | 379/500 [2:27:17<1:02:03, 30.78s/episodes]\u001b[A"
          ]
        },
        {
          "metadata": {
            "tags": null
          },
          "name": "stdout",
          "output_type": "stream",
          "text": [
            "Episode:  380, frame_number:  81658, avg rew: 2.0, max rew: 4.0, min rew: 0.0, current epsilon:0.27570\n"
          ]
        },
        {
          "metadata": {
            "tags": null
          },
          "name": "stderr",
          "output_type": "stream",
          "text": [
            "\n",
            " 76%|#######6  | 380/500 [2:27:46<1:00:49, 30.42s/episodes]\u001b[A\n",
            " 76%|#######6  | 381/500 [2:28:14<58:39, 29.58s/episodes]  \u001b[A\n",
            " 76%|#######6  | 382/500 [2:28:51<1:02:29, 31.78s/episodes]\u001b[A\n",
            " 77%|#######6  | 383/500 [2:29:19<59:38, 30.59s/episodes]  \u001b[A\n",
            " 77%|#######6  | 384/500 [2:30:09<1:10:32, 36.48s/episodes]\u001b[A\n",
            " 77%|#######7  | 385/500 [2:30:56<1:16:16, 39.79s/episodes]\u001b[A\n",
            " 77%|#######7  | 386/500 [2:31:49<1:22:54, 43.63s/episodes]\u001b[A\n",
            " 77%|#######7  | 387/500 [2:32:34<1:23:09, 44.15s/episodes]\u001b[A\n",
            " 78%|#######7  | 388/500 [2:33:12<1:18:39, 42.14s/episodes]\u001b[A\n",
            " 78%|#######7  | 389/500 [2:33:52<1:16:35, 41.40s/episodes]\u001b[A"
          ]
        },
        {
          "metadata": {
            "tags": null
          },
          "name": "stdout",
          "output_type": "stream",
          "text": [
            "Episode:  390, frame_number:  84431, avg rew: 3.3, max rew: 5.0, min rew: 1.0, current epsilon:0.25021\n"
          ]
        },
        {
          "metadata": {
            "tags": null
          },
          "name": "stderr",
          "output_type": "stream",
          "text": [
            "\n",
            " 78%|#######8  | 390/500 [2:34:33<1:15:59, 41.45s/episodes]\u001b[A\n",
            " 78%|#######8  | 391/500 [2:35:38<1:27:52, 48.37s/episodes]\u001b[A\n",
            " 78%|#######8  | 392/500 [2:36:25<1:26:26, 48.03s/episodes]\u001b[A\n",
            " 79%|#######8  | 393/500 [2:37:08<1:23:10, 46.64s/episodes]\u001b[A\n",
            " 79%|#######8  | 394/500 [2:37:59<1:24:34, 47.87s/episodes]\u001b[A\n",
            " 79%|#######9  | 395/500 [2:38:53<1:26:55, 49.67s/episodes]\u001b[A\n",
            " 79%|#######9  | 396/500 [2:39:44<1:26:42, 50.03s/episodes]\u001b[A\n",
            " 79%|#######9  | 397/500 [2:40:27<1:22:18, 47.94s/episodes]\u001b[A\n",
            " 80%|#######9  | 398/500 [2:41:12<1:20:02, 47.08s/episodes]\u001b[A\n",
            " 80%|#######9  | 399/500 [2:41:51<1:15:24, 44.80s/episodes]\u001b[A"
          ]
        },
        {
          "metadata": {
            "tags": null
          },
          "name": "stdout",
          "output_type": "stream",
          "text": [
            "Episode:  400, frame_number:  87505, avg rew: 3.8, max rew: 6.0, min rew: 0.0, current epsilon:0.21953\n"
          ]
        },
        {
          "metadata": {
            "tags": null
          },
          "name": "stderr",
          "output_type": "stream",
          "text": [
            "\n",
            " 80%|########  | 400/500 [2:42:10<1:01:25, 36.86s/episodes]\u001b[A\n",
            " 80%|########  | 401/500 [2:42:29<52:05, 31.57s/episodes]  \u001b[A\n",
            " 80%|########  | 402/500 [2:43:10<56:08, 34.38s/episodes]\u001b[A\n",
            " 81%|########  | 403/500 [2:43:56<1:01:31, 38.06s/episodes]\u001b[A\n",
            " 81%|########  | 404/500 [2:44:33<1:00:03, 37.54s/episodes]\u001b[A\n",
            " 81%|########1 | 405/500 [2:45:30<1:08:57, 43.56s/episodes]\u001b[A\n",
            " 81%|########1 | 406/500 [2:46:05<1:03:54, 40.79s/episodes]\u001b[A\n",
            " 81%|########1 | 407/500 [2:46:38<59:47, 38.58s/episodes]  \u001b[A\n",
            " 82%|########1 | 408/500 [2:47:13<57:32, 37.53s/episodes]\u001b[A\n",
            " 82%|########1 | 409/500 [2:48:43<1:20:38, 53.18s/episodes]\u001b[A"
          ]
        },
        {
          "metadata": {
            "tags": null
          },
          "name": "stdout",
          "output_type": "stream",
          "text": [
            "Episode:  410, frame_number:  90567, avg rew: 2.3, max rew: 9.0, min rew: 0.0, current epsilon:0.19372\n"
          ]
        },
        {
          "metadata": {
            "tags": null
          },
          "name": "stderr",
          "output_type": "stream",
          "text": [
            "\n",
            " 82%|########2 | 410/500 [2:49:52<1:27:08, 58.09s/episodes]\u001b[A\n",
            " 82%|########2 | 411/500 [2:50:31<1:17:18, 52.11s/episodes]\u001b[A\n",
            " 82%|########2 | 412/500 [2:51:31<1:19:51, 54.45s/episodes]\u001b[A\n",
            " 83%|########2 | 413/500 [2:52:26<1:19:33, 54.87s/episodes]\u001b[A\n",
            " 83%|########2 | 414/500 [2:53:11<1:14:03, 51.67s/episodes]\u001b[A\n",
            " 83%|########2 | 415/500 [2:54:10<1:16:36, 54.07s/episodes]\u001b[A\n",
            " 83%|########3 | 416/500 [2:54:56<1:12:12, 51.58s/episodes]\u001b[A\n",
            " 83%|########3 | 417/500 [2:55:49<1:12:02, 52.08s/episodes]\u001b[A\n",
            " 84%|########3 | 418/500 [2:56:32<1:07:31, 49.41s/episodes]\u001b[A\n",
            " 84%|########3 | 419/500 [2:57:23<1:07:18, 49.86s/episodes]\u001b[A"
          ]
        },
        {
          "metadata": {
            "tags": null
          },
          "name": "stdout",
          "output_type": "stream",
          "text": [
            "Episode:  420, frame_number:  93937, avg rew: 3.5, max rew: 5.0, min rew: 1.0, current epsilon:0.16107\n"
          ]
        },
        {
          "metadata": {
            "tags": null
          },
          "name": "stderr",
          "output_type": "stream",
          "text": [
            "\n",
            " 84%|########4 | 420/500 [2:58:23<1:10:31, 52.89s/episodes]\u001b[A\n",
            " 84%|########4 | 421/500 [2:59:14<1:08:33, 52.07s/episodes]\u001b[A\n",
            " 84%|########4 | 422/500 [3:00:00<1:05:37, 50.48s/episodes]\u001b[A\n",
            " 85%|########4 | 423/500 [3:00:56<1:06:44, 52.01s/episodes]\u001b[A\n",
            " 85%|########4 | 424/500 [3:01:45<1:04:37, 51.02s/episodes]\u001b[A\n",
            " 85%|########5 | 425/500 [3:02:51<1:09:38, 55.72s/episodes]\u001b[A\n",
            " 85%|########5 | 426/500 [3:03:46<1:08:29, 55.53s/episodes]\u001b[A\n",
            " 85%|########5 | 427/500 [3:04:52<1:11:14, 58.55s/episodes]\u001b[A\n",
            " 86%|########5 | 428/500 [3:05:44<1:07:51, 56.55s/episodes]\u001b[A\n",
            " 86%|########5 | 429/500 [3:06:40<1:06:50, 56.49s/episodes]\u001b[A"
          ]
        },
        {
          "metadata": {
            "tags": null
          },
          "name": "stdout",
          "output_type": "stream",
          "text": [
            "Episode:  430, frame_number:  97370, avg rew: 3.5, max rew: 5.0, min rew: 1.0, current epsilon:0.12713\n"
          ]
        },
        {
          "metadata": {
            "tags": null
          },
          "name": "stderr",
          "output_type": "stream",
          "text": [
            "\n",
            " 86%|########6 | 430/500 [3:07:17<59:05, 50.65s/episodes]  \u001b[A\n",
            " 86%|########6 | 431/500 [3:08:07<58:03, 50.48s/episodes]\u001b[A\n",
            " 86%|########6 | 432/500 [3:08:34<49:03, 43.29s/episodes]\u001b[A\n",
            " 87%|########6 | 433/500 [3:09:01<43:04, 38.57s/episodes]\u001b[A\n",
            " 87%|########6 | 434/500 [3:09:59<48:38, 44.22s/episodes]\u001b[A\n",
            " 87%|########7 | 435/500 [3:10:54<51:27, 47.50s/episodes]\u001b[A\n",
            " 87%|########7 | 436/500 [3:11:27<46:10, 43.29s/episodes]\u001b[A\n",
            " 87%|########7 | 437/500 [3:12:04<43:19, 41.26s/episodes]\u001b[A\n",
            " 88%|########7 | 438/500 [3:13:04<48:27, 46.90s/episodes]\u001b[A\n",
            " 88%|########7 | 439/500 [3:14:24<57:41, 56.74s/episodes]\u001b[A"
          ]
        },
        {
          "metadata": {
            "tags": null
          },
          "name": "stdout",
          "output_type": "stream",
          "text": [
            "Episode:  440, frame_number: 100551, avg rew: 2.3, max rew: 5.0, min rew: 0.0, current epsilon:0.10000\n"
          ]
        },
        {
          "metadata": {
            "tags": null
          },
          "name": "stderr",
          "output_type": "stream",
          "text": [
            "\n",
            " 88%|########8 | 440/500 [3:15:33<1:00:24, 60.42s/episodes]\u001b[A\n",
            " 88%|########8 | 441/500 [3:16:21<55:55, 56.87s/episodes]  \u001b[A\n",
            " 88%|########8 | 442/500 [3:17:43<1:02:17, 64.43s/episodes]\u001b[A\n",
            " 89%|########8 | 443/500 [3:18:34<57:15, 60.27s/episodes]  \u001b[A\n",
            " 89%|########8 | 444/500 [3:19:54<1:01:42, 66.12s/episodes]\u001b[A\n",
            " 89%|########9 | 445/500 [3:21:00<1:00:43, 66.25s/episodes]\u001b[A\n",
            " 89%|########9 | 446/500 [3:21:31<50:09, 55.74s/episodes]  \u001b[A\n",
            " 89%|########9 | 447/500 [3:22:09<44:20, 50.20s/episodes]\u001b[A\n",
            " 90%|########9 | 448/500 [3:22:34<37:04, 42.78s/episodes]\u001b[A\n",
            " 90%|########9 | 449/500 [3:23:26<38:33, 45.37s/episodes]\u001b[A"
          ]
        },
        {
          "metadata": {
            "tags": null
          },
          "name": "stdout",
          "output_type": "stream",
          "text": [
            "Episode:  450, frame_number: 104199, avg rew: 3.0, max rew: 4.0, min rew: 1.0, current epsilon:0.09999\n"
          ]
        },
        {
          "metadata": {
            "tags": null
          },
          "name": "stderr",
          "output_type": "stream",
          "text": [
            "\n",
            " 90%|######### | 450/500 [3:25:03<50:53, 61.07s/episodes]\u001b[A\n",
            " 90%|######### | 451/500 [3:25:41<44:06, 54.01s/episodes]\u001b[A\n",
            " 90%|######### | 452/500 [3:26:43<45:17, 56.61s/episodes]\u001b[A\n",
            " 91%|######### | 453/500 [3:27:34<42:54, 54.78s/episodes]\u001b[A\n",
            " 91%|######### | 454/500 [3:28:21<40:14, 52.49s/episodes]\u001b[A\n",
            " 91%|#########1| 455/500 [3:29:47<46:51, 62.47s/episodes]\u001b[A\n",
            " 91%|#########1| 456/500 [3:30:55<46:58, 64.07s/episodes]\u001b[A\n",
            " 91%|#########1| 457/500 [3:32:02<46:31, 64.91s/episodes]\u001b[A\n",
            " 92%|#########1| 458/500 [3:33:15<47:19, 67.61s/episodes]\u001b[A\n",
            " 92%|#########1| 459/500 [3:34:04<42:13, 61.79s/episodes]\u001b[A"
          ]
        },
        {
          "metadata": {
            "tags": null
          },
          "name": "stdout",
          "output_type": "stream",
          "text": [
            "Episode:  460, frame_number: 107954, avg rew: 2.3, max rew: 5.0, min rew: 0.0, current epsilon:0.09997\n"
          ]
        },
        {
          "metadata": {
            "tags": null
          },
          "name": "stderr",
          "output_type": "stream",
          "text": [
            "\n",
            " 92%|#########2| 460/500 [3:35:05<41:03, 61.60s/episodes]\u001b[A\n",
            " 92%|#########2| 461/500 [3:36:52<48:52, 75.18s/episodes]\u001b[A\n",
            " 92%|#########2| 462/500 [3:38:23<50:41, 80.04s/episodes]\u001b[A\n",
            " 93%|#########2| 463/500 [3:39:38<48:25, 78.51s/episodes]\u001b[A\n",
            " 93%|#########2| 464/500 [3:40:17<40:02, 66.75s/episodes]\u001b[A\n",
            " 93%|#########3| 465/500 [3:41:24<38:51, 66.62s/episodes]\u001b[A\n",
            " 93%|#########3| 466/500 [3:42:03<33:03, 58.32s/episodes]\u001b[A\n",
            " 93%|#########3| 467/500 [3:42:55<31:02, 56.43s/episodes]\u001b[A\n",
            " 94%|#########3| 468/500 [3:44:04<32:08, 60.27s/episodes]\u001b[A\n",
            " 94%|#########3| 469/500 [3:45:02<30:48, 59.61s/episodes]\u001b[A"
          ]
        },
        {
          "metadata": {
            "tags": null
          },
          "name": "stdout",
          "output_type": "stream",
          "text": [
            "Episode:  470, frame_number: 112050, avg rew: 3.3, max rew: 6.0, min rew: 1.0, current epsilon:0.09996\n"
          ]
        },
        {
          "metadata": {
            "tags": null
          },
          "name": "stderr",
          "output_type": "stream",
          "text": [
            "\n",
            " 94%|#########3| 470/500 [3:45:59<29:27, 58.93s/episodes]\u001b[A\n",
            " 94%|#########4| 471/500 [3:46:25<23:43, 49.10s/episodes]\u001b[A\n",
            " 94%|#########4| 472/500 [3:46:50<19:27, 41.68s/episodes]\u001b[A\n",
            " 95%|#########4| 473/500 [3:47:15<16:35, 36.87s/episodes]\u001b[A\n",
            " 95%|#########4| 474/500 [3:47:37<14:02, 32.39s/episodes]\u001b[A\n",
            " 95%|#########5| 475/500 [3:48:09<13:22, 32.09s/episodes]\u001b[A\n",
            " 95%|#########5| 476/500 [3:49:25<18:08, 45.36s/episodes]\u001b[A\n",
            " 95%|#########5| 477/500 [3:50:12<17:37, 45.96s/episodes]\u001b[A\n",
            " 96%|#########5| 478/500 [3:51:25<19:48, 54.02s/episodes]\u001b[A\n",
            " 96%|#########5| 479/500 [3:52:18<18:47, 53.68s/episodes]\u001b[A"
          ]
        },
        {
          "metadata": {
            "tags": null
          },
          "name": "stdout",
          "output_type": "stream",
          "text": [
            "Episode:  480, frame_number: 114871, avg rew: 2.1, max rew: 4.0, min rew: 0.0, current epsilon:0.09995\n"
          ]
        },
        {
          "metadata": {
            "tags": null
          },
          "name": "stderr",
          "output_type": "stream",
          "text": [
            "\n",
            " 96%|#########6| 480/500 [3:53:21<18:47, 56.35s/episodes]\u001b[A\n",
            " 96%|#########6| 481/500 [3:54:39<19:57, 63.03s/episodes]\u001b[A\n",
            " 96%|#########6| 482/500 [3:55:46<19:14, 64.15s/episodes]\u001b[A\n",
            " 97%|#########6| 483/500 [3:56:35<16:50, 59.42s/episodes]\u001b[A\n",
            " 97%|#########6| 484/500 [3:57:34<15:52, 59.56s/episodes]\u001b[A\n",
            " 97%|#########7| 485/500 [3:58:20<13:50, 55.36s/episodes]\u001b[A\n",
            " 97%|#########7| 486/500 [3:58:52<11:17, 48.40s/episodes]\u001b[A\n",
            " 97%|#########7| 487/500 [3:59:43<10:40, 49.25s/episodes]\u001b[A\n",
            " 98%|#########7| 488/500 [4:01:00<11:29, 57.47s/episodes]\u001b[A\n",
            " 98%|#########7| 489/500 [4:02:22<11:52, 64.74s/episodes]\u001b[A"
          ]
        },
        {
          "metadata": {
            "tags": null
          },
          "name": "stdout",
          "output_type": "stream",
          "text": [
            "Episode:  490, frame_number: 118766, avg rew: 2.9, max rew: 5.0, min rew: 0.0, current epsilon:0.09993\n"
          ]
        },
        {
          "metadata": {
            "tags": null
          },
          "name": "stderr",
          "output_type": "stream",
          "text": [
            "\n",
            " 98%|#########8| 490/500 [4:03:23<10:37, 63.77s/episodes]\u001b[A\n",
            " 98%|#########8| 491/500 [4:03:51<07:57, 53.06s/episodes]\u001b[A\n",
            " 98%|#########8| 492/500 [4:04:15<05:54, 44.28s/episodes]\u001b[A\n",
            " 99%|#########8| 493/500 [4:04:57<05:04, 43.52s/episodes]\u001b[A\n",
            " 99%|#########8| 494/500 [4:05:22<03:48, 38.01s/episodes]\u001b[A\n",
            " 99%|#########9| 495/500 [4:06:00<03:09, 37.92s/episodes]\u001b[A\n",
            " 99%|#########9| 496/500 [4:06:48<02:44, 41.15s/episodes]\u001b[A\n",
            " 99%|#########9| 497/500 [4:07:47<02:18, 46.33s/episodes]\u001b[A\n",
            "100%|#########9| 498/500 [4:09:20<02:01, 60.52s/episodes]\u001b[A\n",
            "100%|#########9| 499/500 [4:10:24<01:01, 61.38s/episodes]\u001b[A"
          ]
        },
        {
          "metadata": {
            "tags": null
          },
          "name": "stdout",
          "output_type": "stream",
          "text": [
            "Episode:  500, frame_number: 121849, avg rew: 2.1, max rew: 5.0, min rew: 1.0, current epsilon:0.09992\n"
          ]
        },
        {
          "metadata": {
            "tags": null
          },
          "name": "stderr",
          "output_type": "stream",
          "text": [
            "\n",
            "100%|##########| 500/500 [4:11:23<00:00, 30.17s/episodes]\n"
          ]
        },
        {
          "data": {
            "text/plain": [
              "<Figure size 640x480 with 0 Axes>"
            ]
          },
          "metadata": {},
          "output_type": "display_data"
        },
        {
          "data": {
            "image/png": "[encoded data removed]",
            "text/plain": [
              "<Figure size 640x480 with 1 Axes>"
            ]
          },
          "metadata": {},
          "output_type": "display_data"
        },
        {
          "metadata": {
            "tags": null
          },
          "name": "stderr",
          "output_type": "stream",
          "text": [
            "\r  0%|          | 2/500 [8:01:05<2012:25:49, 14547.69s/episodes]"
          ]
        },
        {
          "metadata": {
            "tags": null
          },
          "name": "stdout",
          "output_type": "stream",
          "text": [
            "main training loop\n"
          ]
        },
        {
          "metadata": {
            "tags": null
          },
          "name": "stderr",
          "output_type": "stream",
          "text": [
            "/usr/local/lib/python3.10/dist-packages/keras/src/layers/convolutional/base_conv.py:107: UserWarning: Do not pass an `input_shape`/`input_dim` argument to a layer. When using Sequential models, prefer using an `Input(shape)` object as the first layer in the model instead.\n",
            "  super().__init__(activity_regularizer=activity_regularizer, **kwargs)\n"
          ]
        },
        {
          "data": {
            "text/html": [
              "<pre style=\"white-space:pre;overflow-x:auto;line-height:normal;font-family:Menlo,'DejaVu Sans Mono',consolas,'Courier New',monospace\"><span style=\"font-weight: bold\">Model: \"sequential_12\"</span>\n",
              "</pre>\n"
            ],
            "text/plain": [
              "\u001b[1mModel: \"sequential_12\"\u001b[0m\n"
            ]
          },
          "metadata": {},
          "output_type": "display_data"
        },
        {
          "data": {
            "text/html": [
              "<pre style=\"white-space:pre;overflow-x:auto;line-height:normal;font-family:Menlo,'DejaVu Sans Mono',consolas,'Courier New',monospace\">┏━━━━━━━━━━━━━━━━━━━━━━━━━━━━━━━━━━━━━━┳━━━━━━━━━━━━━━━━━━━━━━━━━━━━━┳━━━━━━━━━━━━━━━━━┓\n",
              "┃<span style=\"font-weight: bold\"> Layer (type)                         </span>┃<span style=\"font-weight: bold\"> Output Shape                </span>┃<span style=\"font-weight: bold\">         Param # </span>┃\n",
              "┡━━━━━━━━━━━━━━━━━━━━━━━━━━━━━━━━━━━━━━╇━━━━━━━━━━━━━━━━━━━━━━━━━━━━━╇━━━━━━━━━━━━━━━━━┩\n",
              "│ conv2d_36 (<span style=\"color: #0087ff; text-decoration-color: #0087ff\">Conv2D</span>)                   │ (<span style=\"color: #00d7ff; text-decoration-color: #00d7ff\">None</span>, <span style=\"color: #00af00; text-decoration-color: #00af00\">20</span>, <span style=\"color: #00af00; text-decoration-color: #00af00\">20</span>, <span style=\"color: #00af00; text-decoration-color: #00af00\">32</span>)          │           <span style=\"color: #00af00; text-decoration-color: #00af00\">8,224</span> │\n",
              "├──────────────────────────────────────┼─────────────────────────────┼─────────────────┤\n",
              "│ activation_36 (<span style=\"color: #0087ff; text-decoration-color: #0087ff\">Activation</span>)           │ (<span style=\"color: #00d7ff; text-decoration-color: #00d7ff\">None</span>, <span style=\"color: #00af00; text-decoration-color: #00af00\">20</span>, <span style=\"color: #00af00; text-decoration-color: #00af00\">20</span>, <span style=\"color: #00af00; text-decoration-color: #00af00\">32</span>)          │               <span style=\"color: #00af00; text-decoration-color: #00af00\">0</span> │\n",
              "├──────────────────────────────────────┼─────────────────────────────┼─────────────────┤\n",
              "│ dropout_36 (<span style=\"color: #0087ff; text-decoration-color: #0087ff\">Dropout</span>)                 │ (<span style=\"color: #00d7ff; text-decoration-color: #00d7ff\">None</span>, <span style=\"color: #00af00; text-decoration-color: #00af00\">20</span>, <span style=\"color: #00af00; text-decoration-color: #00af00\">20</span>, <span style=\"color: #00af00; text-decoration-color: #00af00\">32</span>)          │               <span style=\"color: #00af00; text-decoration-color: #00af00\">0</span> │\n",
              "├──────────────────────────────────────┼─────────────────────────────┼─────────────────┤\n",
              "│ conv2d_37 (<span style=\"color: #0087ff; text-decoration-color: #0087ff\">Conv2D</span>)                   │ (<span style=\"color: #00d7ff; text-decoration-color: #00d7ff\">None</span>, <span style=\"color: #00af00; text-decoration-color: #00af00\">9</span>, <span style=\"color: #00af00; text-decoration-color: #00af00\">9</span>, <span style=\"color: #00af00; text-decoration-color: #00af00\">64</span>)            │          <span style=\"color: #00af00; text-decoration-color: #00af00\">32,832</span> │\n",
              "├──────────────────────────────────────┼─────────────────────────────┼─────────────────┤\n",
              "│ activation_37 (<span style=\"color: #0087ff; text-decoration-color: #0087ff\">Activation</span>)           │ (<span style=\"color: #00d7ff; text-decoration-color: #00d7ff\">None</span>, <span style=\"color: #00af00; text-decoration-color: #00af00\">9</span>, <span style=\"color: #00af00; text-decoration-color: #00af00\">9</span>, <span style=\"color: #00af00; text-decoration-color: #00af00\">64</span>)            │               <span style=\"color: #00af00; text-decoration-color: #00af00\">0</span> │\n",
              "├──────────────────────────────────────┼─────────────────────────────┼─────────────────┤\n",
              "│ dropout_37 (<span style=\"color: #0087ff; text-decoration-color: #0087ff\">Dropout</span>)                 │ (<span style=\"color: #00d7ff; text-decoration-color: #00d7ff\">None</span>, <span style=\"color: #00af00; text-decoration-color: #00af00\">9</span>, <span style=\"color: #00af00; text-decoration-color: #00af00\">9</span>, <span style=\"color: #00af00; text-decoration-color: #00af00\">64</span>)            │               <span style=\"color: #00af00; text-decoration-color: #00af00\">0</span> │\n",
              "├──────────────────────────────────────┼─────────────────────────────┼─────────────────┤\n",
              "│ conv2d_38 (<span style=\"color: #0087ff; text-decoration-color: #0087ff\">Conv2D</span>)                   │ (<span style=\"color: #00d7ff; text-decoration-color: #00d7ff\">None</span>, <span style=\"color: #00af00; text-decoration-color: #00af00\">7</span>, <span style=\"color: #00af00; text-decoration-color: #00af00\">7</span>, <span style=\"color: #00af00; text-decoration-color: #00af00\">64</span>)            │          <span style=\"color: #00af00; text-decoration-color: #00af00\">36,928</span> │\n",
              "├──────────────────────────────────────┼─────────────────────────────┼─────────────────┤\n",
              "│ activation_38 (<span style=\"color: #0087ff; text-decoration-color: #0087ff\">Activation</span>)           │ (<span style=\"color: #00d7ff; text-decoration-color: #00d7ff\">None</span>, <span style=\"color: #00af00; text-decoration-color: #00af00\">7</span>, <span style=\"color: #00af00; text-decoration-color: #00af00\">7</span>, <span style=\"color: #00af00; text-decoration-color: #00af00\">64</span>)            │               <span style=\"color: #00af00; text-decoration-color: #00af00\">0</span> │\n",
              "├──────────────────────────────────────┼─────────────────────────────┼─────────────────┤\n",
              "│ dropout_38 (<span style=\"color: #0087ff; text-decoration-color: #0087ff\">Dropout</span>)                 │ (<span style=\"color: #00d7ff; text-decoration-color: #00d7ff\">None</span>, <span style=\"color: #00af00; text-decoration-color: #00af00\">7</span>, <span style=\"color: #00af00; text-decoration-color: #00af00\">7</span>, <span style=\"color: #00af00; text-decoration-color: #00af00\">64</span>)            │               <span style=\"color: #00af00; text-decoration-color: #00af00\">0</span> │\n",
              "├──────────────────────────────────────┼─────────────────────────────┼─────────────────┤\n",
              "│ flatten_12 (<span style=\"color: #0087ff; text-decoration-color: #0087ff\">Flatten</span>)                 │ (<span style=\"color: #00d7ff; text-decoration-color: #00d7ff\">None</span>, <span style=\"color: #00af00; text-decoration-color: #00af00\">3136</span>)                │               <span style=\"color: #00af00; text-decoration-color: #00af00\">0</span> │\n",
              "├──────────────────────────────────────┼─────────────────────────────┼─────────────────┤\n",
              "│ dense_24 (<span style=\"color: #0087ff; text-decoration-color: #0087ff\">Dense</span>)                     │ (<span style=\"color: #00d7ff; text-decoration-color: #00d7ff\">None</span>, <span style=\"color: #00af00; text-decoration-color: #00af00\">512</span>)                 │       <span style=\"color: #00af00; text-decoration-color: #00af00\">1,606,144</span> │\n",
              "├──────────────────────────────────────┼─────────────────────────────┼─────────────────┤\n",
              "│ dense_25 (<span style=\"color: #0087ff; text-decoration-color: #0087ff\">Dense</span>)                     │ (<span style=\"color: #00d7ff; text-decoration-color: #00d7ff\">None</span>, <span style=\"color: #00af00; text-decoration-color: #00af00\">4</span>)                   │           <span style=\"color: #00af00; text-decoration-color: #00af00\">2,052</span> │\n",
              "└──────────────────────────────────────┴─────────────────────────────┴─────────────────┘\n",
              "</pre>\n"
            ],
            "text/plain": [
              "┏━━━━━━━━━━━━━━━━━━━━━━━━━━━━━━━━━━━━━━┳━━━━━━━━━━━━━━━━━━━━━━━━━━━━━┳━━━━━━━━━━━━━━━━━┓\n",
              "┃\u001b[1m \u001b[0m\u001b[1mLayer (type)                        \u001b[0m\u001b[1m \u001b[0m┃\u001b[1m \u001b[0m\u001b[1mOutput Shape               \u001b[0m\u001b[1m \u001b[0m┃\u001b[1m \u001b[0m\u001b[1m        Param #\u001b[0m\u001b[1m \u001b[0m┃\n",
              "┡━━━━━━━━━━━━━━━━━━━━━━━━━━━━━━━━━━━━━━╇━━━━━━━━━━━━━━━━━━━━━━━━━━━━━╇━━━━━━━━━━━━━━━━━┩\n",
              "│ conv2d_36 (\u001b[38;5;33mConv2D\u001b[0m)                   │ (\u001b[38;5;45mNone\u001b[0m, \u001b[38;5;34m20\u001b[0m, \u001b[38;5;34m20\u001b[0m, \u001b[38;5;34m32\u001b[0m)          │           \u001b[38;5;34m8,224\u001b[0m │\n",
              "├──────────────────────────────────────┼─────────────────────────────┼─────────────────┤\n",
              "│ activation_36 (\u001b[38;5;33mActivation\u001b[0m)           │ (\u001b[38;5;45mNone\u001b[0m, \u001b[38;5;34m20\u001b[0m, \u001b[38;5;34m20\u001b[0m, \u001b[38;5;34m32\u001b[0m)          │               \u001b[38;5;34m0\u001b[0m │\n",
              "├──────────────────────────────────────┼─────────────────────────────┼─────────────────┤\n",
              "│ dropout_36 (\u001b[38;5;33mDropout\u001b[0m)                 │ (\u001b[38;5;45mNone\u001b[0m, \u001b[38;5;34m20\u001b[0m, \u001b[38;5;34m20\u001b[0m, \u001b[38;5;34m32\u001b[0m)          │               \u001b[38;5;34m0\u001b[0m │\n",
              "├──────────────────────────────────────┼─────────────────────────────┼─────────────────┤\n",
              "│ conv2d_37 (\u001b[38;5;33mConv2D\u001b[0m)                   │ (\u001b[38;5;45mNone\u001b[0m, \u001b[38;5;34m9\u001b[0m, \u001b[38;5;34m9\u001b[0m, \u001b[38;5;34m64\u001b[0m)            │          \u001b[38;5;34m32,832\u001b[0m │\n",
              "├──────────────────────────────────────┼─────────────────────────────┼─────────────────┤\n",
              "│ activation_37 (\u001b[38;5;33mActivation\u001b[0m)           │ (\u001b[38;5;45mNone\u001b[0m, \u001b[38;5;34m9\u001b[0m, \u001b[38;5;34m9\u001b[0m, \u001b[38;5;34m64\u001b[0m)            │               \u001b[38;5;34m0\u001b[0m │\n",
              "├──────────────────────────────────────┼─────────────────────────────┼─────────────────┤\n",
              "│ dropout_37 (\u001b[38;5;33mDropout\u001b[0m)                 │ (\u001b[38;5;45mNone\u001b[0m, \u001b[38;5;34m9\u001b[0m, \u001b[38;5;34m9\u001b[0m, \u001b[38;5;34m64\u001b[0m)            │               \u001b[38;5;34m0\u001b[0m │\n",
              "├──────────────────────────────────────┼─────────────────────────────┼─────────────────┤\n",
              "│ conv2d_38 (\u001b[38;5;33mConv2D\u001b[0m)                   │ (\u001b[38;5;45mNone\u001b[0m, \u001b[38;5;34m7\u001b[0m, \u001b[38;5;34m7\u001b[0m, \u001b[38;5;34m64\u001b[0m)            │          \u001b[38;5;34m36,928\u001b[0m │\n",
              "├──────────────────────────────────────┼─────────────────────────────┼─────────────────┤\n",
              "│ activation_38 (\u001b[38;5;33mActivation\u001b[0m)           │ (\u001b[38;5;45mNone\u001b[0m, \u001b[38;5;34m7\u001b[0m, \u001b[38;5;34m7\u001b[0m, \u001b[38;5;34m64\u001b[0m)            │               \u001b[38;5;34m0\u001b[0m │\n",
              "├──────────────────────────────────────┼─────────────────────────────┼─────────────────┤\n",
              "│ dropout_38 (\u001b[38;5;33mDropout\u001b[0m)                 │ (\u001b[38;5;45mNone\u001b[0m, \u001b[38;5;34m7\u001b[0m, \u001b[38;5;34m7\u001b[0m, \u001b[38;5;34m64\u001b[0m)            │               \u001b[38;5;34m0\u001b[0m │\n",
              "├──────────────────────────────────────┼─────────────────────────────┼─────────────────┤\n",
              "│ flatten_12 (\u001b[38;5;33mFlatten\u001b[0m)                 │ (\u001b[38;5;45mNone\u001b[0m, \u001b[38;5;34m3136\u001b[0m)                │               \u001b[38;5;34m0\u001b[0m │\n",
              "├──────────────────────────────────────┼─────────────────────────────┼─────────────────┤\n",
              "│ dense_24 (\u001b[38;5;33mDense\u001b[0m)                     │ (\u001b[38;5;45mNone\u001b[0m, \u001b[38;5;34m512\u001b[0m)                 │       \u001b[38;5;34m1,606,144\u001b[0m │\n",
              "├──────────────────────────────────────┼─────────────────────────────┼─────────────────┤\n",
              "│ dense_25 (\u001b[38;5;33mDense\u001b[0m)                     │ (\u001b[38;5;45mNone\u001b[0m, \u001b[38;5;34m4\u001b[0m)                   │           \u001b[38;5;34m2,052\u001b[0m │\n",
              "└──────────────────────────────────────┴─────────────────────────────┴─────────────────┘\n"
            ]
          },
          "metadata": {},
          "output_type": "display_data"
        },
        {
          "data": {
            "text/html": [
              "<pre style=\"white-space:pre;overflow-x:auto;line-height:normal;font-family:Menlo,'DejaVu Sans Mono',consolas,'Courier New',monospace\"><span style=\"font-weight: bold\"> Total params: </span><span style=\"color: #00af00; text-decoration-color: #00af00\">1,686,180</span> (6.43 MB)\n",
              "</pre>\n"
            ],
            "text/plain": [
              "\u001b[1m Total params: \u001b[0m\u001b[38;5;34m1,686,180\u001b[0m (6.43 MB)\n"
            ]
          },
          "metadata": {},
          "output_type": "display_data"
        },
        {
          "data": {
            "text/html": [
              "<pre style=\"white-space:pre;overflow-x:auto;line-height:normal;font-family:Menlo,'DejaVu Sans Mono',consolas,'Courier New',monospace\"><span style=\"font-weight: bold\"> Trainable params: </span><span style=\"color: #00af00; text-decoration-color: #00af00\">1,686,180</span> (6.43 MB)\n",
              "</pre>\n"
            ],
            "text/plain": [
              "\u001b[1m Trainable params: \u001b[0m\u001b[38;5;34m1,686,180\u001b[0m (6.43 MB)\n"
            ]
          },
          "metadata": {},
          "output_type": "display_data"
        },
        {
          "data": {
            "text/html": [
              "<pre style=\"white-space:pre;overflow-x:auto;line-height:normal;font-family:Menlo,'DejaVu Sans Mono',consolas,'Courier New',monospace\"><span style=\"font-weight: bold\"> Non-trainable params: </span><span style=\"color: #00af00; text-decoration-color: #00af00\">0</span> (0.00 B)\n",
              "</pre>\n"
            ],
            "text/plain": [
              "\u001b[1m Non-trainable params: \u001b[0m\u001b[38;5;34m0\u001b[0m (0.00 B)\n"
            ]
          },
          "metadata": {},
          "output_type": "display_data"
        },
        {
          "metadata": {
            "tags": null
          },
          "name": "stdout",
          "output_type": "stream",
          "text": [
            "None\n",
            "The environment has the following 4 actions: ['NOOP', 'FIRE', 'RIGHT', 'LEFT']\n"
          ]
        },
        {
          "metadata": {
            "tags": null
          },
          "name": "stderr",
          "output_type": "stream",
          "text": [
            "\n",
            "  0%|          | 0/500 [00:00<?, ?episodes/s]\u001b[A\n",
            "  0%|          | 1/500 [00:00<02:55,  2.84episodes/s]\u001b[A\n",
            "  0%|          | 2/500 [00:00<03:14,  2.56episodes/s]\u001b[A\n",
            "  1%|          | 3/500 [00:01<03:24,  2.43episodes/s]\u001b[A\n",
            "  1%|          | 4/500 [00:01<03:17,  2.51episodes/s]\u001b[A\n",
            "  1%|1         | 5/500 [00:01<03:03,  2.69episodes/s]\u001b[A\n",
            "  1%|1         | 6/500 [00:02<03:11,  2.58episodes/s]\u001b[A\n",
            "  1%|1         | 7/500 [00:02<03:00,  2.73episodes/s]\u001b[A\n",
            "  2%|1         | 8/500 [00:02<02:48,  2.93episodes/s]\u001b[A\n",
            "  2%|1         | 9/500 [00:03<02:57,  2.77episodes/s]\u001b[A\n",
            "  2%|2         | 10/500 [00:03<02:57,  2.76episodes/s]\u001b[A\n",
            "  2%|2         | 11/500 [00:04<03:06,  2.63episodes/s]\u001b[A\n",
            "  2%|2         | 12/500 [00:04<02:50,  2.86episodes/s]\u001b[A\n",
            "  3%|2         | 13/500 [00:04<02:52,  2.82episodes/s]\u001b[A\n",
            "  3%|2         | 14/500 [00:05<02:40,  3.03episodes/s]\u001b[A\n",
            "  3%|3         | 15/500 [00:05<02:31,  3.20episodes/s]\u001b[A\n",
            "  3%|3         | 16/500 [00:05<02:58,  2.70episodes/s]\u001b[A\n",
            "  3%|3         | 17/500 [00:06<02:45,  2.92episodes/s]\u001b[A\n",
            "  4%|3         | 18/500 [00:06<03:07,  2.56episodes/s]\u001b[A\n",
            "  4%|3         | 19/500 [00:07<04:19,  1.86episodes/s]\u001b[A"
          ]
        },
        {
          "metadata": {
            "tags": null
          },
          "name": "stdout",
          "output_type": "stream",
          "text": [
            "Episode:   20, frame_number:   3424, avg rew: 1.0, max rew: 3.0, min rew: 0.0, current epsilon:0.09992\n"
          ]
        },
        {
          "metadata": {
            "tags": null
          },
          "name": "stderr",
          "output_type": "stream",
          "text": [
            "\n",
            "  4%|4         | 20/500 [00:08<04:46,  1.68episodes/s]\u001b[A\n",
            "  4%|4         | 21/500 [00:09<05:27,  1.46episodes/s]\u001b[A\n",
            "  4%|4         | 22/500 [00:09<05:39,  1.41episodes/s]\u001b[A\n",
            "  5%|4         | 23/500 [00:10<04:41,  1.69episodes/s]\u001b[A\n",
            "  5%|4         | 24/500 [00:10<04:19,  1.83episodes/s]\u001b[A\n",
            "  5%|5         | 25/500 [00:11<04:25,  1.79episodes/s]\u001b[A\n",
            "  5%|5         | 26/500 [00:11<04:06,  1.92episodes/s]\u001b[A\n",
            "  5%|5         | 27/500 [00:12<03:50,  2.05episodes/s]\u001b[A\n",
            "  6%|5         | 28/500 [00:48<1:28:43, 11.28s/episodes]\u001b[A\n",
            "  6%|5         | 29/500 [01:08<1:48:10, 13.78s/episodes]\u001b[A"
          ]
        },
        {
          "metadata": {
            "tags": null
          },
          "name": "stdout",
          "output_type": "stream",
          "text": [
            "Episode:   30, frame_number:   5572, avg rew: 1.7, max rew: 4.0, min rew: 0.0, current epsilon:0.99584\n"
          ]
        },
        {
          "metadata": {
            "tags": null
          },
          "name": "stderr",
          "output_type": "stream",
          "text": [
            "\n",
            "  6%|6         | 30/500 [01:19<1:43:04, 13.16s/episodes]\u001b[A\n",
            "  6%|6         | 31/500 [01:44<2:09:26, 16.56s/episodes]\u001b[A\n",
            "  6%|6         | 32/500 [01:57<2:01:14, 15.54s/episodes]\u001b[A\n",
            "  7%|6         | 33/500 [02:11<1:56:22, 14.95s/episodes]\u001b[A\n",
            "  7%|6         | 34/500 [02:23<1:50:36, 14.24s/episodes]\u001b[A\n",
            "  7%|7         | 35/500 [02:36<1:46:03, 13.69s/episodes]\u001b[A\n",
            "  7%|7         | 36/500 [02:49<1:46:02, 13.71s/episodes]\u001b[A\n",
            "  7%|7         | 37/500 [03:10<2:00:49, 15.66s/episodes]\u001b[A\n",
            "  8%|7         | 38/500 [03:29<2:08:30, 16.69s/episodes]\u001b[A\n",
            "  8%|7         | 39/500 [03:44<2:05:33, 16.34s/episodes]\u001b[A"
          ]
        },
        {
          "metadata": {
            "tags": null
          },
          "name": "stdout",
          "output_type": "stream",
          "text": [
            "Episode:   40, frame_number:   7319, avg rew: 1.0, max rew: 3.0, min rew: 0.0, current epsilon:0.97950\n"
          ]
        },
        {
          "metadata": {
            "tags": null
          },
          "name": "stderr",
          "output_type": "stream",
          "text": [
            "\n",
            "  8%|8         | 40/500 [03:58<2:00:27, 15.71s/episodes]\u001b[A\n",
            "  8%|8         | 41/500 [04:16<2:05:35, 16.42s/episodes]\u001b[A\n",
            "  8%|8         | 42/500 [04:34<2:08:04, 16.78s/episodes]\u001b[A\n",
            "  9%|8         | 43/500 [04:47<1:59:51, 15.74s/episodes]\u001b[A\n",
            "  9%|8         | 44/500 [05:08<2:11:20, 17.28s/episodes]\u001b[A\n",
            "  9%|9         | 45/500 [05:21<2:00:21, 15.87s/episodes]\u001b[A\n",
            "  9%|9         | 46/500 [05:41<2:10:44, 17.28s/episodes]\u001b[A\n",
            "  9%|9         | 47/500 [06:01<2:16:13, 18.04s/episodes]\u001b[A\n",
            " 10%|9         | 48/500 [06:28<2:35:04, 20.59s/episodes]\u001b[A\n",
            " 10%|9         | 49/500 [06:46<2:28:39, 19.78s/episodes]\u001b[A"
          ]
        },
        {
          "metadata": {
            "tags": null
          },
          "name": "stdout",
          "output_type": "stream",
          "text": [
            "Episode:   50, frame_number:   9236, avg rew: 1.3, max rew: 3.0, min rew: 0.0, current epsilon:0.96116\n"
          ]
        },
        {
          "metadata": {
            "tags": null
          },
          "name": "stderr",
          "output_type": "stream",
          "text": [
            "\n",
            " 10%|#         | 50/500 [06:59<2:13:11, 17.76s/episodes]\u001b[A\n",
            " 10%|#         | 51/500 [07:11<2:01:26, 16.23s/episodes]\u001b[A\n",
            " 10%|#         | 52/500 [07:24<1:54:12, 15.30s/episodes]\u001b[A\n",
            " 11%|#         | 53/500 [07:45<2:04:42, 16.74s/episodes]\u001b[A\n",
            " 11%|#         | 54/500 [07:58<1:56:01, 15.61s/episodes]\u001b[A\n",
            " 11%|#1        | 55/500 [08:21<2:12:35, 17.88s/episodes]\u001b[A\n",
            " 11%|#1        | 56/500 [08:39<2:13:12, 18.00s/episodes]\u001b[A\n",
            " 11%|#1        | 57/500 [08:53<2:03:31, 16.73s/episodes]\u001b[A\n",
            " 12%|#1        | 58/500 [09:12<2:08:03, 17.38s/episodes]\u001b[A\n",
            " 12%|#1        | 59/500 [09:41<2:33:26, 20.88s/episodes]\u001b[A"
          ]
        },
        {
          "metadata": {
            "tags": null
          },
          "name": "stdout",
          "output_type": "stream",
          "text": [
            "Episode:   60, frame_number:  11195, avg rew: 1.5, max rew: 5.0, min rew: 0.0, current epsilon:0.94333\n"
          ]
        },
        {
          "metadata": {
            "tags": null
          },
          "name": "stderr",
          "output_type": "stream",
          "text": [
            "\n",
            " 12%|#2        | 60/500 [10:01<2:31:17, 20.63s/episodes]\u001b[A\n",
            " 12%|#2        | 61/500 [10:18<2:22:57, 19.54s/episodes]\u001b[A\n",
            " 12%|#2        | 62/500 [10:30<2:06:13, 17.29s/episodes]\u001b[A\n",
            " 13%|#2        | 63/500 [10:44<1:59:45, 16.44s/episodes]\u001b[A\n",
            " 13%|#2        | 64/500 [10:57<1:50:31, 15.21s/episodes]\u001b[A\n",
            " 13%|#3        | 65/500 [11:12<1:51:15, 15.35s/episodes]\u001b[A\n",
            " 13%|#3        | 66/500 [11:29<1:54:16, 15.80s/episodes]\u001b[A\n",
            " 13%|#3        | 67/500 [11:48<2:00:07, 16.64s/episodes]\u001b[A\n",
            " 14%|#3        | 68/500 [12:00<1:49:40, 15.23s/episodes]\u001b[A\n",
            " 14%|#3        | 69/500 [12:15<1:49:21, 15.22s/episodes]\u001b[A"
          ]
        },
        {
          "metadata": {
            "tags": null
          },
          "name": "stdout",
          "output_type": "stream",
          "text": [
            "Episode:   70, frame_number:  12752, avg rew: 0.6, max rew: 2.0, min rew: 0.0, current epsilon:0.92780\n"
          ]
        },
        {
          "metadata": {
            "tags": null
          },
          "name": "stderr",
          "output_type": "stream",
          "text": [
            "\n",
            " 14%|#4        | 70/500 [12:27<1:41:55, 14.22s/episodes]\u001b[A\n",
            " 14%|#4        | 71/500 [12:50<2:01:14, 16.96s/episodes]\u001b[A\n",
            " 14%|#4        | 72/500 [13:09<2:04:27, 17.45s/episodes]\u001b[A\n",
            " 15%|#4        | 73/500 [13:27<2:05:08, 17.58s/episodes]\u001b[A\n",
            " 15%|#4        | 74/500 [13:49<2:14:12, 18.90s/episodes]\u001b[A\n",
            " 15%|#5        | 75/500 [14:11<2:21:10, 19.93s/episodes]\u001b[A\n",
            " 15%|#5        | 76/500 [14:33<2:24:24, 20.43s/episodes]\u001b[A\n",
            " 15%|#5        | 77/500 [14:59<2:36:49, 22.24s/episodes]\u001b[A\n",
            " 16%|#5        | 78/500 [15:15<2:22:55, 20.32s/episodes]\u001b[A\n",
            " 16%|#5        | 79/500 [15:27<2:05:36, 17.90s/episodes]\u001b[A"
          ]
        },
        {
          "metadata": {
            "tags": null
          },
          "name": "stdout",
          "output_type": "stream",
          "text": [
            "Episode:   80, frame_number:  14809, avg rew: 1.9, max rew: 4.0, min rew: 0.0, current epsilon:0.90865\n"
          ]
        },
        {
          "metadata": {
            "tags": null
          },
          "name": "stderr",
          "output_type": "stream",
          "text": [
            "\n",
            " 16%|#6        | 80/500 [15:43<2:02:08, 17.45s/episodes]\u001b[A\n",
            " 16%|#6        | 81/500 [16:04<2:07:28, 18.25s/episodes]\u001b[A\n",
            " 16%|#6        | 82/500 [16:16<1:55:36, 16.60s/episodes]\u001b[A\n",
            " 17%|#6        | 83/500 [16:28<1:44:27, 15.03s/episodes]\u001b[A\n",
            " 17%|#6        | 84/500 [16:56<2:11:38, 18.99s/episodes]\u001b[A\n",
            " 17%|#7        | 85/500 [17:15<2:11:48, 19.06s/episodes]\u001b[A\n",
            " 17%|#7        | 86/500 [17:29<2:00:58, 17.53s/episodes]\u001b[A\n",
            " 17%|#7        | 87/500 [17:43<1:53:34, 16.50s/episodes]\u001b[A\n",
            " 18%|#7        | 88/500 [18:03<2:00:50, 17.60s/episodes]\u001b[A\n",
            " 18%|#7        | 89/500 [18:16<1:49:39, 16.01s/episodes]\u001b[A"
          ]
        },
        {
          "metadata": {
            "tags": null
          },
          "name": "stdout",
          "output_type": "stream",
          "text": [
            "Episode:   90, frame_number:  16590, avg rew: 1.1, max rew: 4.0, min rew: 0.0, current epsilon:0.89215\n"
          ]
        },
        {
          "metadata": {
            "tags": null
          },
          "name": "stderr",
          "output_type": "stream",
          "text": [
            "\n",
            " 18%|#8        | 90/500 [18:36<1:57:42, 17.23s/episodes]\u001b[A\n",
            " 18%|#8        | 91/500 [18:52<1:56:15, 17.06s/episodes]\u001b[A\n",
            " 18%|#8        | 92/500 [19:25<2:27:12, 21.65s/episodes]\u001b[A\n",
            " 19%|#8        | 93/500 [19:44<2:21:18, 20.83s/episodes]\u001b[A\n",
            " 19%|#8        | 94/500 [20:02<2:16:10, 20.12s/episodes]\u001b[A\n",
            " 19%|#9        | 95/500 [20:28<2:28:17, 21.97s/episodes]\u001b[A\n",
            " 19%|#9        | 96/500 [20:46<2:19:16, 20.68s/episodes]\u001b[A\n",
            " 19%|#9        | 97/500 [21:00<2:04:54, 18.60s/episodes]\u001b[A\n",
            " 20%|#9        | 98/500 [21:13<1:53:33, 16.95s/episodes]\u001b[A\n",
            " 20%|#9        | 99/500 [21:38<2:08:51, 19.28s/episodes]\u001b[A"
          ]
        },
        {
          "metadata": {
            "tags": null
          },
          "name": "stdout",
          "output_type": "stream",
          "text": [
            "Episode:  100, frame_number:  18633, avg rew: 1.9, max rew: 5.0, min rew: 0.0, current epsilon:0.87301\n"
          ]
        },
        {
          "metadata": {
            "tags": null
          },
          "name": "stderr",
          "output_type": "stream",
          "text": [
            "\n",
            " 20%|##        | 100/500 [22:01<2:17:10, 20.58s/episodes]\u001b[A\n",
            " 20%|##        | 101/500 [22:19<2:11:18, 19.74s/episodes]\u001b[A\n",
            " 20%|##        | 102/500 [22:32<1:57:36, 17.73s/episodes]\u001b[A\n",
            " 21%|##        | 103/500 [22:52<2:02:26, 18.51s/episodes]\u001b[A\n",
            " 21%|##        | 104/500 [23:17<2:13:38, 20.25s/episodes]\u001b[A\n",
            " 21%|##1       | 105/500 [23:39<2:17:54, 20.95s/episodes]\u001b[A\n",
            " 21%|##1       | 106/500 [23:53<2:03:46, 18.85s/episodes]\u001b[A\n",
            " 21%|##1       | 107/500 [24:08<1:56:06, 17.73s/episodes]\u001b[A\n",
            " 22%|##1       | 108/500 [24:31<2:05:08, 19.15s/episodes]\u001b[A\n",
            " 22%|##1       | 109/500 [24:47<1:58:13, 18.14s/episodes]\u001b[A"
          ]
        },
        {
          "metadata": {
            "tags": null
          },
          "name": "stdout",
          "output_type": "stream",
          "text": [
            "Episode:  110, frame_number:  20534, avg rew: 1.5, max rew: 3.0, min rew: 0.0, current epsilon:0.85501\n"
          ]
        },
        {
          "metadata": {
            "tags": null
          },
          "name": "stderr",
          "output_type": "stream",
          "text": [
            "\n",
            " 22%|##2       | 110/500 [25:10<2:07:48, 19.66s/episodes]\u001b[A\n",
            " 22%|##2       | 111/500 [25:33<2:14:57, 20.81s/episodes]\u001b[A\n",
            " 22%|##2       | 112/500 [25:48<2:03:04, 19.03s/episodes]\u001b[A\n",
            " 23%|##2       | 113/500 [26:09<2:06:17, 19.58s/episodes]\u001b[A\n",
            " 23%|##2       | 114/500 [26:27<2:02:10, 18.99s/episodes]\u001b[A\n",
            " 23%|##3       | 115/500 [26:40<1:51:49, 17.43s/episodes]\u001b[A\n",
            " 23%|##3       | 116/500 [26:55<1:45:51, 16.54s/episodes]\u001b[A\n",
            " 23%|##3       | 117/500 [27:20<2:02:13, 19.15s/episodes]\u001b[A\n",
            " 24%|##3       | 118/500 [27:34<1:50:47, 17.40s/episodes]\u001b[A\n",
            " 24%|##3       | 119/500 [27:58<2:04:08, 19.55s/episodes]\u001b[A"
          ]
        },
        {
          "metadata": {
            "tags": null
          },
          "name": "stdout",
          "output_type": "stream",
          "text": [
            "Episode:  120, frame_number:  22368, avg rew: 1.1, max rew: 3.0, min rew: 0.0, current epsilon:0.83671\n"
          ]
        },
        {
          "metadata": {
            "tags": null
          },
          "name": "stderr",
          "output_type": "stream",
          "text": [
            "\n",
            " 24%|##4       | 120/500 [28:11<1:51:43, 17.64s/episodes]\u001b[A\n",
            " 24%|##4       | 121/500 [28:40<2:11:32, 20.83s/episodes]\u001b[A\n",
            " 24%|##4       | 122/500 [29:01<2:13:05, 21.13s/episodes]\u001b[A\n",
            " 25%|##4       | 123/500 [29:14<1:57:36, 18.72s/episodes]\u001b[A\n",
            " 25%|##4       | 124/500 [29:38<2:06:27, 20.18s/episodes]\u001b[A\n",
            " 25%|##5       | 125/500 [29:53<1:55:56, 18.55s/episodes]\u001b[A\n",
            " 25%|##5       | 126/500 [30:06<1:46:14, 17.04s/episodes]\u001b[A\n",
            " 25%|##5       | 127/500 [30:40<2:17:05, 22.05s/episodes]\u001b[A\n",
            " 26%|##5       | 128/500 [31:11<2:32:21, 24.57s/episodes]\u001b[A\n",
            " 26%|##5       | 129/500 [31:31<2:24:29, 23.37s/episodes]\u001b[A"
          ]
        },
        {
          "metadata": {
            "tags": null
          },
          "name": "stdout",
          "output_type": "stream",
          "text": [
            "Episode:  130, frame_number:  24444, avg rew: 1.8, max rew: 4.0, min rew: 0.0, current epsilon:0.81704\n"
          ]
        },
        {
          "metadata": {
            "tags": null
          },
          "name": "stderr",
          "output_type": "stream",
          "text": [
            "\n",
            " 26%|##6       | 130/500 [31:44<2:04:17, 20.16s/episodes]\u001b[A\n",
            " 26%|##6       | 131/500 [31:57<1:50:45, 18.01s/episodes]\u001b[A\n",
            " 26%|##6       | 132/500 [32:12<1:45:38, 17.22s/episodes]\u001b[A\n",
            " 27%|##6       | 133/500 [32:46<2:15:40, 22.18s/episodes]\u001b[A\n",
            " 27%|##6       | 134/500 [33:00<2:00:30, 19.76s/episodes]\u001b[A\n",
            " 27%|##7       | 135/500 [33:13<1:47:34, 17.68s/episodes]\u001b[A\n",
            " 27%|##7       | 136/500 [33:33<1:51:25, 18.37s/episodes]\u001b[A\n",
            " 27%|##7       | 137/500 [33:46<1:42:08, 16.88s/episodes]\u001b[A\n",
            " 28%|##7       | 138/500 [34:00<1:36:04, 15.93s/episodes]\u001b[A\n",
            " 28%|##7       | 139/500 [34:21<1:46:00, 17.62s/episodes]\u001b[A"
          ]
        },
        {
          "metadata": {
            "tags": null
          },
          "name": "stdout",
          "output_type": "stream",
          "text": [
            "Episode:  140, frame_number:  26188, avg rew: 1.1, max rew: 4.0, min rew: 0.0, current epsilon:0.80121\n"
          ]
        },
        {
          "metadata": {
            "tags": null
          },
          "name": "stderr",
          "output_type": "stream",
          "text": [
            "\n",
            " 28%|##8       | 140/500 [34:42<1:51:21, 18.56s/episodes]\u001b[A\n",
            " 28%|##8       | 141/500 [35:19<2:24:38, 24.17s/episodes]\u001b[A\n",
            " 28%|##8       | 142/500 [35:49<2:34:26, 25.88s/episodes]\u001b[A\n",
            " 29%|##8       | 143/500 [36:19<2:40:28, 26.97s/episodes]\u001b[A\n",
            " 29%|##8       | 144/500 [36:48<2:44:41, 27.76s/episodes]\u001b[A\n",
            " 29%|##9       | 145/500 [37:11<2:34:18, 26.08s/episodes]\u001b[A\n",
            " 29%|##9       | 146/500 [37:26<2:15:43, 23.00s/episodes]\u001b[A\n",
            " 29%|##9       | 147/500 [37:48<2:12:05, 22.45s/episodes]\u001b[A\n",
            " 30%|##9       | 148/500 [38:11<2:12:43, 22.62s/episodes]\u001b[A\n",
            " 30%|##9       | 149/500 [38:24<1:56:51, 19.97s/episodes]\u001b[A"
          ]
        },
        {
          "metadata": {
            "tags": null
          },
          "name": "stdout",
          "output_type": "stream",
          "text": [
            "Episode:  150, frame_number:  28468, avg rew: 2.1, max rew: 5.0, min rew: 0.0, current epsilon:0.77912\n"
          ]
        },
        {
          "metadata": {
            "tags": null
          },
          "name": "stderr",
          "output_type": "stream",
          "text": [
            "\n",
            " 30%|###       | 150/500 [38:42<1:52:17, 19.25s/episodes]\u001b[A\n",
            " 30%|###       | 151/500 [39:24<2:31:57, 26.12s/episodes]\u001b[A\n",
            " 30%|###       | 152/500 [39:40<2:12:51, 22.91s/episodes]\u001b[A\n",
            " 31%|###       | 153/500 [39:56<2:01:39, 21.04s/episodes]\u001b[A\n",
            " 31%|###       | 154/500 [40:21<2:08:03, 22.21s/episodes]\u001b[A\n",
            " 31%|###1      | 155/500 [40:34<1:52:04, 19.49s/episodes]\u001b[A\n",
            " 31%|###1      | 156/500 [40:47<1:40:05, 17.46s/episodes]\u001b[A\n",
            " 31%|###1      | 157/500 [41:09<1:46:53, 18.70s/episodes]\u001b[A\n",
            " 32%|###1      | 158/500 [41:36<2:02:03, 21.41s/episodes]\u001b[A\n",
            " 32%|###1      | 159/500 [42:00<2:04:42, 21.94s/episodes]\u001b[A"
          ]
        },
        {
          "metadata": {
            "tags": null
          },
          "name": "stdout",
          "output_type": "stream",
          "text": [
            "Episode:  160, frame_number:  30561, avg rew: 1.8, max rew: 6.0, min rew: 0.0, current epsilon:0.75994\n"
          ]
        },
        {
          "output_type": "stream",
          "name": "stderr",
          "text": [
            "\n",
            " 32%|###2      | 160/500 [42:23<2:07:06, 22.43s/episodes]\u001b[A\n",
            " 32%|###2      | 161/500 [42:49<2:12:42, 23.49s/episodes]\u001b[A\n",
            " 32%|###2      | 162/500 [43:13<2:13:52, 23.76s/episodes]\u001b[A\n",
            " 33%|###2      | 163/500 [43:43<2:23:39, 25.58s/episodes]\u001b[A\n",
            " 33%|###2      | 164/500 [44:10<2:25:58, 26.07s/episodes]\u001b[A\n",
            " 33%|###3      | 165/500 [44:42<2:34:40, 27.70s/episodes]\u001b[A\n",
            " 33%|###3      | 166/500 [45:02<2:21:54, 25.49s/episodes]\u001b[A\n",
            " 33%|###3      | 167/500 [45:25<2:16:39, 24.62s/episodes]\u001b[A\n",
            " 34%|###3      | 168/500 [45:43<2:05:57, 22.76s/episodes]\u001b[A\n",
            " 34%|###3      | 169/500 [46:08<2:08:53, 23.36s/episodes]\u001b[A"
          ]
        },
        {
          "output_type": "stream",
          "name": "stdout",
          "text": [
            "Episode:  170, frame_number:  32764, avg rew: 2.1, max rew: 3.0, min rew: 0.0, current epsilon:0.73814\n"
          ]
        },
        {
          "output_type": "stream",
          "name": "stderr",
          "text": [
            "\n",
            " 34%|###4      | 170/500 [46:21<1:51:45, 20.32s/episodes]\u001b[A\n",
            " 34%|###4      | 171/500 [46:33<1:37:41, 17.82s/episodes]\u001b[A\n",
            " 34%|###4      | 172/500 [46:52<1:39:29, 18.20s/episodes]\u001b[A\n",
            " 35%|###4      | 173/500 [47:10<1:37:46, 17.94s/episodes]\u001b[A\n",
            " 35%|###4      | 174/500 [47:25<1:33:52, 17.28s/episodes]\u001b[A\n",
            " 35%|###5      | 175/500 [47:40<1:29:24, 16.51s/episodes]\u001b[A\n",
            " 35%|###5      | 176/500 [48:20<2:06:21, 23.40s/episodes]\u001b[A\n",
            " 35%|###5      | 177/500 [48:34<1:51:13, 20.66s/episodes]\u001b[A\n",
            " 36%|###5      | 178/500 [49:02<2:02:15, 22.78s/episodes]\u001b[A\n",
            " 36%|###5      | 179/500 [49:25<2:02:40, 22.93s/episodes]\u001b[A"
          ]
        },
        {
          "output_type": "stream",
          "name": "stdout",
          "text": [
            "Episode:  180, frame_number:  34674, avg rew: 1.3, max rew: 5.0, min rew: 0.0, current epsilon:0.72092\n"
          ]
        },
        {
          "output_type": "stream",
          "name": "stderr",
          "text": [
            "\n",
            " 36%|###6      | 180/500 [49:48<2:02:37, 22.99s/episodes]\u001b[A\n",
            " 36%|###6      | 181/500 [50:15<2:08:10, 24.11s/episodes]\u001b[A\n",
            " 36%|###6      | 182/500 [50:47<2:20:28, 26.51s/episodes]\u001b[A\n",
            " 37%|###6      | 183/500 [51:13<2:19:00, 26.31s/episodes]\u001b[A\n",
            " 37%|###6      | 184/500 [51:49<2:34:58, 29.43s/episodes]\u001b[A\n",
            " 37%|###7      | 185/500 [52:14<2:26:26, 27.89s/episodes]\u001b[A\n",
            " 37%|###7      | 186/500 [52:49<2:37:03, 30.01s/episodes]\u001b[A\n",
            " 37%|###7      | 187/500 [53:11<2:24:01, 27.61s/episodes]\u001b[A\n",
            " 38%|###7      | 188/500 [53:33<2:14:55, 25.95s/episodes]\u001b[A\n",
            " 38%|###7      | 189/500 [53:48<1:58:30, 22.86s/episodes]\u001b[A"
          ]
        },
        {
          "output_type": "stream",
          "name": "stdout",
          "text": [
            "Episode:  190, frame_number:  37229, avg rew: 2.9, max rew: 7.0, min rew: 0.0, current epsilon:0.69850\n"
          ]
        },
        {
          "output_type": "stream",
          "name": "stderr",
          "text": [
            "\n",
            " 38%|###8      | 190/500 [54:34<2:33:24, 29.69s/episodes]\u001b[A\n",
            " 38%|###8      | 191/500 [54:54<2:17:03, 26.61s/episodes]\u001b[A\n",
            " 38%|###8      | 192/500 [55:17<2:12:02, 25.72s/episodes]\u001b[A\n",
            " 39%|###8      | 193/500 [55:46<2:16:21, 26.65s/episodes]\u001b[A\n",
            " 39%|###8      | 194/500 [56:10<2:11:35, 25.80s/episodes]\u001b[A\n",
            " 39%|###9      | 195/500 [56:32<2:06:17, 24.84s/episodes]\u001b[A\n",
            " 39%|###9      | 196/500 [57:07<2:20:45, 27.78s/episodes]\u001b[A\n",
            " 39%|###9      | 197/500 [57:25<2:04:39, 24.69s/episodes]\u001b[A\n",
            " 40%|###9      | 198/500 [57:50<2:05:34, 24.95s/episodes]\u001b[A\n",
            " 40%|###9      | 199/500 [58:12<2:00:54, 24.10s/episodes]\u001b[A"
          ]
        },
        {
          "output_type": "stream",
          "name": "stdout",
          "text": [
            "Episode:  200, frame_number:  39403, avg rew: 1.9, max rew: 4.0, min rew: 0.0, current epsilon:0.67626\n"
          ]
        },
        {
          "output_type": "stream",
          "name": "stderr",
          "text": [
            "\n",
            " 40%|####      | 200/500 [58:38<2:02:21, 24.47s/episodes]\u001b[A\n",
            " 40%|####      | 201/500 [59:06<2:08:05, 25.70s/episodes]\u001b[A\n",
            " 40%|####      | 202/500 [59:21<1:51:41, 22.49s/episodes]\u001b[A\n",
            " 41%|####      | 203/500 [59:45<1:52:45, 22.78s/episodes]\u001b[A\n",
            " 41%|####      | 204/500 [1:00:13<2:01:17, 24.58s/episodes]\u001b[A\n",
            " 41%|####1     | 205/500 [1:00:37<1:59:30, 24.31s/episodes]\u001b[A\n",
            " 41%|####1     | 206/500 [1:00:54<1:48:05, 22.06s/episodes]\u001b[A\n",
            " 41%|####1     | 207/500 [1:01:22<1:56:52, 23.93s/episodes]\u001b[A\n",
            " 42%|####1     | 208/500 [1:01:38<1:44:47, 21.53s/episodes]\u001b[A\n",
            " 42%|####1     | 209/500 [1:01:53<1:35:23, 19.67s/episodes]\u001b[A"
          ]
        },
        {
          "output_type": "stream",
          "name": "stdout",
          "text": [
            "Episode:  210, frame_number:  41275, avg rew: 1.2, max rew: 3.0, min rew: 0.0, current epsilon:0.65779\n"
          ]
        },
        {
          "output_type": "stream",
          "name": "stderr",
          "text": [
            "\n",
            " 42%|####2     | 210/500 [1:02:11<1:31:48, 18.99s/episodes]\u001b[A\n",
            " 42%|####2     | 211/500 [1:02:36<1:40:41, 20.91s/episodes]\u001b[A\n",
            " 42%|####2     | 212/500 [1:03:03<1:49:27, 22.80s/episodes]\u001b[A\n",
            " 43%|####2     | 213/500 [1:03:24<1:46:07, 22.19s/episodes]\u001b[A\n",
            " 43%|####2     | 214/500 [1:03:49<1:50:09, 23.11s/episodes]\u001b[A\n",
            " 43%|####3     | 215/500 [1:04:20<1:59:55, 25.25s/episodes]\u001b[A\n",
            " 43%|####3     | 216/500 [1:04:44<1:58:14, 24.98s/episodes]\u001b[A\n",
            " 43%|####3     | 217/500 [1:05:06<1:54:05, 24.19s/episodes]\u001b[A\n",
            " 44%|####3     | 218/500 [1:05:26<1:47:42, 22.92s/episodes]\u001b[A\n",
            " 44%|####3     | 219/500 [1:05:41<1:35:42, 20.44s/episodes]\u001b[A"
          ]
        },
        {
          "output_type": "stream",
          "name": "stdout",
          "text": [
            "Episode:  220, frame_number:  43392, avg rew: 1.7, max rew: 3.0, min rew: 0.0, current epsilon:0.63891\n"
          ]
        },
        {
          "output_type": "stream",
          "name": "stderr",
          "text": [
            "\n",
            " 44%|####4     | 220/500 [1:06:13<1:51:12, 23.83s/episodes]\u001b[A\n",
            " 44%|####4     | 221/500 [1:06:37<1:51:13, 23.92s/episodes]\u001b[A\n",
            " 44%|####4     | 222/500 [1:06:59<1:48:52, 23.50s/episodes]\u001b[A\n",
            " 45%|####4     | 223/500 [1:07:18<1:41:55, 22.08s/episodes]\u001b[A\n",
            " 45%|####4     | 224/500 [1:07:33<1:31:06, 19.81s/episodes]\u001b[A\n",
            " 45%|####5     | 225/500 [1:08:02<1:43:55, 22.68s/episodes]\u001b[A\n",
            " 45%|####5     | 226/500 [1:08:25<1:44:10, 22.81s/episodes]\u001b[A\n",
            " 45%|####5     | 227/500 [1:08:42<1:35:27, 20.98s/episodes]\u001b[A\n",
            " 46%|####5     | 228/500 [1:09:07<1:40:29, 22.17s/episodes]\u001b[A\n",
            " 46%|####5     | 229/500 [1:09:25<1:34:37, 20.95s/episodes]\u001b[A"
          ]
        },
        {
          "output_type": "stream",
          "name": "stdout",
          "text": [
            "Episode:  230, frame_number:  45211, avg rew: 1.4, max rew: 3.0, min rew: 0.0, current epsilon:0.62060\n"
          ]
        },
        {
          "output_type": "stream",
          "name": "stderr",
          "text": [
            "\n",
            " 46%|####6     | 230/500 [1:09:43<1:31:02, 20.23s/episodes]\u001b[A\n",
            " 46%|####6     | 231/500 [1:10:13<1:43:39, 23.12s/episodes]\u001b[A\n",
            " 46%|####6     | 232/500 [1:10:33<1:38:08, 21.97s/episodes]\u001b[A\n",
            " 47%|####6     | 233/500 [1:10:57<1:40:43, 22.64s/episodes]\u001b[A\n",
            " 47%|####6     | 234/500 [1:11:26<1:48:30, 24.47s/episodes]\u001b[A\n",
            " 47%|####6     | 235/500 [1:11:48<1:45:02, 23.78s/episodes]\u001b[A\n",
            " 47%|####7     | 236/500 [1:12:05<1:35:27, 21.70s/episodes]\u001b[A\n",
            " 47%|####7     | 237/500 [1:12:23<1:31:26, 20.86s/episodes]\u001b[A\n",
            " 48%|####7     | 238/500 [1:12:40<1:24:51, 19.43s/episodes]\u001b[A\n",
            " 48%|####7     | 239/500 [1:12:58<1:23:14, 19.14s/episodes]\u001b[A"
          ]
        },
        {
          "output_type": "stream",
          "name": "stdout",
          "text": [
            "Episode:  240, frame_number:  47222, avg rew: 1.5, max rew: 5.0, min rew: 0.0, current epsilon:0.60316\n"
          ]
        },
        {
          "output_type": "stream",
          "name": "stderr",
          "text": [
            "\n",
            " 48%|####8     | 240/500 [1:13:38<1:49:42, 25.32s/episodes]\u001b[A\n",
            " 48%|####8     | 241/500 [1:13:59<1:44:41, 24.25s/episodes]\u001b[A\n",
            " 48%|####8     | 242/500 [1:14:16<1:33:57, 21.85s/episodes]\u001b[A\n",
            " 49%|####8     | 243/500 [1:14:47<1:45:34, 24.65s/episodes]\u001b[A\n",
            " 49%|####8     | 244/500 [1:15:29<2:07:58, 29.99s/episodes]\u001b[A\n",
            " 49%|####9     | 245/500 [1:15:51<1:57:23, 27.62s/episodes]\u001b[A\n",
            " 49%|####9     | 246/500 [1:16:12<1:47:35, 25.42s/episodes]\u001b[A\n",
            " 49%|####9     | 247/500 [1:16:40<1:51:24, 26.42s/episodes]\u001b[A\n",
            " 50%|####9     | 248/500 [1:17:05<1:48:07, 25.74s/episodes]\u001b[A\n",
            " 50%|####9     | 249/500 [1:17:36<1:54:10, 27.29s/episodes]\u001b[A"
          ]
        },
        {
          "output_type": "stream",
          "name": "stdout",
          "text": [
            "Episode:  250, frame_number:  49411, avg rew: 1.5, max rew: 4.0, min rew: 0.0, current epsilon:0.58104\n"
          ]
        },
        {
          "output_type": "stream",
          "name": "stderr",
          "text": [
            "\n",
            " 50%|#####     | 250/500 [1:17:58<1:48:05, 25.94s/episodes]\u001b[A\n",
            " 50%|#####     | 251/500 [1:18:15<1:35:34, 23.03s/episodes]\u001b[A\n",
            " 50%|#####     | 252/500 [1:18:32<1:28:36, 21.44s/episodes]\u001b[A\n",
            " 51%|#####     | 253/500 [1:18:51<1:25:05, 20.67s/episodes]\u001b[A\n",
            " 51%|#####     | 254/500 [1:19:30<1:46:52, 26.07s/episodes]\u001b[A\n",
            " 51%|#####1    | 255/500 [1:19:47<1:35:43, 23.44s/episodes]\u001b[A\n",
            " 51%|#####1    | 256/500 [1:20:22<1:48:55, 26.79s/episodes]\u001b[A\n",
            " 51%|#####1    | 257/500 [1:20:48<1:48:09, 26.71s/episodes]\u001b[A\n",
            " 52%|#####1    | 258/500 [1:21:29<2:05:04, 31.01s/episodes]\u001b[A\n",
            " 52%|#####1    | 259/500 [1:21:48<1:49:19, 27.22s/episodes]\u001b[A"
          ]
        },
        {
          "output_type": "stream",
          "name": "stdout",
          "text": [
            "Episode:  260, frame_number:  51565, avg rew: 1.8, max rew: 6.0, min rew: 0.0, current epsilon:0.56119\n"
          ]
        },
        {
          "output_type": "stream",
          "name": "stderr",
          "text": [
            "\n",
            " 52%|#####2    | 260/500 [1:22:16<1:50:35, 27.65s/episodes]\u001b[A\n",
            " 52%|#####2    | 261/500 [1:22:44<1:50:19, 27.70s/episodes]\u001b[A\n",
            " 52%|#####2    | 262/500 [1:23:02<1:38:27, 24.82s/episodes]\u001b[A\n",
            " 53%|#####2    | 263/500 [1:23:31<1:42:37, 25.98s/episodes]\u001b[A\n",
            " 53%|#####2    | 264/500 [1:23:48<1:31:33, 23.28s/episodes]\u001b[A\n",
            " 53%|#####3    | 265/500 [1:24:08<1:27:02, 22.22s/episodes]\u001b[A\n",
            " 53%|#####3    | 266/500 [1:24:31<1:27:32, 22.45s/episodes]\u001b[A\n",
            " 53%|#####3    | 267/500 [1:25:01<1:36:53, 24.95s/episodes]\u001b[A\n",
            " 54%|#####3    | 268/500 [1:25:19<1:27:44, 22.69s/episodes]\u001b[A\n",
            " 54%|#####3    | 269/500 [1:25:55<1:43:14, 26.82s/episodes]\u001b[A"
          ]
        },
        {
          "output_type": "stream",
          "name": "stdout",
          "text": [
            "Episode:  270, frame_number:  53675, avg rew: 1.6, max rew: 4.0, min rew: 0.0, current epsilon:0.54155\n"
          ]
        },
        {
          "output_type": "stream",
          "name": "stderr",
          "text": [
            "\n",
            " 54%|#####4    | 270/500 [1:26:32<1:53:53, 29.71s/episodes]\u001b[A\n",
            " 54%|#####4    | 271/500 [1:27:08<2:01:06, 31.73s/episodes]\u001b[A\n",
            " 54%|#####4    | 272/500 [1:27:28<1:46:35, 28.05s/episodes]\u001b[A\n",
            " 55%|#####4    | 273/500 [1:27:56<1:46:44, 28.21s/episodes]\u001b[A\n",
            " 55%|#####4    | 274/500 [1:28:13<1:33:27, 24.81s/episodes]\u001b[A\n",
            " 55%|#####5    | 275/500 [1:28:42<1:37:31, 26.01s/episodes]\u001b[A\n",
            " 55%|#####5    | 276/500 [1:29:13<1:42:41, 27.51s/episodes]\u001b[A\n",
            " 55%|#####5    | 277/500 [1:29:37<1:38:44, 26.57s/episodes]\u001b[A\n",
            " 56%|#####5    | 278/500 [1:29:57<1:30:20, 24.42s/episodes]\u001b[A\n",
            " 56%|#####5    | 279/500 [1:30:30<1:39:40, 27.06s/episodes]\u001b[A"
          ]
        },
        {
          "output_type": "stream",
          "name": "stdout",
          "text": [
            "Episode:  280, frame_number:  55775, avg rew: 1.5, max rew: 3.0, min rew: 0.0, current epsilon:0.52068\n"
          ]
        },
        {
          "output_type": "stream",
          "name": "stderr",
          "text": [
            "\n",
            " 56%|#####6    | 280/500 [1:30:52<1:34:13, 25.70s/episodes]\u001b[A\n",
            " 56%|#####6    | 281/500 [1:31:40<1:57:41, 32.24s/episodes]\u001b[A\n",
            " 56%|#####6    | 282/500 [1:32:04<1:48:27, 29.85s/episodes]\u001b[A\n",
            " 57%|#####6    | 283/500 [1:32:23<1:36:12, 26.60s/episodes]\u001b[A\n",
            " 57%|#####6    | 284/500 [1:32:48<1:33:46, 26.05s/episodes]\u001b[A\n",
            " 57%|#####6    | 285/500 [1:33:12<1:31:27, 25.53s/episodes]\u001b[A\n",
            " 57%|#####7    | 286/500 [1:33:39<1:32:14, 25.86s/episodes]\u001b[A\n",
            " 57%|#####7    | 287/500 [1:34:07<1:34:27, 26.61s/episodes]\u001b[A\n",
            " 58%|#####7    | 288/500 [1:34:28<1:27:38, 24.81s/episodes]\u001b[A\n",
            " 58%|#####7    | 289/500 [1:34:45<1:19:08, 22.51s/episodes]\u001b[A"
          ]
        },
        {
          "output_type": "stream",
          "name": "stdout",
          "text": [
            "Episode:  290, frame_number:  57798, avg rew: 1.3, max rew: 5.0, min rew: 0.0, current epsilon:0.50131\n"
          ]
        },
        {
          "output_type": "stream",
          "name": "stderr",
          "text": [
            "\n",
            " 58%|#####8    | 290/500 [1:35:06<1:17:07, 22.04s/episodes]\u001b[A\n",
            " 58%|#####8    | 291/500 [1:35:25<1:13:38, 21.14s/episodes]\u001b[A\n",
            " 58%|#####8    | 292/500 [1:35:46<1:13:20, 21.15s/episodes]\u001b[A\n",
            " 59%|#####8    | 293/500 [1:36:04<1:09:56, 20.27s/episodes]\u001b[A\n",
            " 59%|#####8    | 294/500 [1:36:29<1:14:20, 21.65s/episodes]\u001b[A\n",
            " 59%|#####8    | 295/500 [1:37:12<1:35:57, 28.08s/episodes]\u001b[A\n",
            " 59%|#####9    | 296/500 [1:37:32<1:27:05, 25.61s/episodes]\u001b[A\n",
            " 59%|#####9    | 297/500 [1:37:50<1:18:24, 23.18s/episodes]\u001b[A\n",
            " 60%|#####9    | 298/500 [1:38:10<1:14:34, 22.15s/episodes]\u001b[A\n",
            " 60%|#####9    | 299/500 [1:38:44<1:26:18, 25.76s/episodes]\u001b[A"
          ]
        },
        {
          "output_type": "stream",
          "name": "stdout",
          "text": [
            "Episode:  300, frame_number:  59657, avg rew: 1.0, max rew: 4.0, min rew: 0.0, current epsilon:0.48364\n"
          ]
        },
        {
          "output_type": "stream",
          "name": "stderr",
          "text": [
            "\n",
            " 60%|######    | 300/500 [1:39:02<1:18:16, 23.48s/episodes]\u001b[A\n",
            " 60%|######    | 301/500 [1:39:20<1:12:22, 21.82s/episodes]\u001b[A\n",
            " 60%|######    | 302/500 [1:39:57<1:27:32, 26.53s/episodes]\u001b[A\n",
            " 61%|######    | 303/500 [1:40:15<1:18:00, 23.76s/episodes]\u001b[A\n",
            " 61%|######    | 304/500 [1:40:34<1:13:05, 22.37s/episodes]\u001b[A\n",
            " 61%|######1   | 305/500 [1:40:57<1:13:31, 22.62s/episodes]\u001b[A\n",
            " 61%|######1   | 306/500 [1:41:18<1:11:06, 21.99s/episodes]\u001b[A\n",
            " 61%|######1   | 307/500 [1:41:46<1:16:51, 23.89s/episodes]\u001b[A\n",
            " 62%|######1   | 308/500 [1:42:13<1:19:22, 24.80s/episodes]\u001b[A\n",
            " 62%|######1   | 309/500 [1:42:42<1:23:03, 26.09s/episodes]\u001b[A"
          ]
        },
        {
          "output_type": "stream",
          "name": "stdout",
          "text": [
            "Episode:  310, frame_number:  61660, avg rew: 1.5, max rew: 4.0, min rew: 0.0, current epsilon:0.46603\n"
          ]
        },
        {
          "output_type": "stream",
          "name": "stderr",
          "text": [
            "\n",
            " 62%|######2   | 310/500 [1:43:20<1:34:06, 29.72s/episodes]\u001b[A\n",
            " 62%|######2   | 311/500 [1:43:47<1:30:59, 28.89s/episodes]\u001b[A\n",
            " 62%|######2   | 312/500 [1:44:23<1:37:12, 31.02s/episodes]\u001b[A\n",
            " 63%|######2   | 313/500 [1:45:03<1:45:07, 33.73s/episodes]\u001b[A\n",
            " 63%|######2   | 314/500 [1:45:37<1:44:57, 33.86s/episodes]\u001b[A\n",
            " 63%|######3   | 315/500 [1:46:07<1:41:05, 32.79s/episodes]\u001b[A\n",
            " 63%|######3   | 316/500 [1:46:48<1:47:56, 35.20s/episodes]\u001b[A\n",
            " 63%|######3   | 317/500 [1:47:14<1:38:54, 32.43s/episodes]\u001b[A\n",
            " 64%|######3   | 318/500 [1:47:31<1:24:28, 27.85s/episodes]\u001b[A\n",
            " 64%|######3   | 319/500 [1:48:06<1:30:03, 29.85s/episodes]\u001b[A"
          ]
        },
        {
          "output_type": "stream",
          "name": "stdout",
          "text": [
            "Episode:  320, frame_number:  64114, avg rew: 2.7, max rew: 5.0, min rew: 0.0, current epsilon:0.44237\n"
          ]
        },
        {
          "output_type": "stream",
          "name": "stderr",
          "text": [
            "\n",
            " 64%|######4   | 320/500 [1:48:41<1:34:06, 31.37s/episodes]\u001b[A\n",
            " 64%|######4   | 321/500 [1:49:09<1:30:38, 30.38s/episodes]\u001b[A\n",
            " 64%|######4   | 322/500 [1:49:45<1:35:03, 32.04s/episodes]\u001b[A\n",
            " 65%|######4   | 323/500 [1:50:13<1:31:09, 30.90s/episodes]\u001b[A\n",
            " 65%|######4   | 324/500 [1:51:13<1:56:09, 39.60s/episodes]\u001b[A\n",
            " 65%|######5   | 325/500 [1:52:05<2:06:17, 43.30s/episodes]\u001b[A\n",
            " 65%|######5   | 326/500 [1:52:45<2:03:08, 42.46s/episodes]\u001b[A\n",
            " 65%|######5   | 327/500 [1:53:29<2:03:23, 42.80s/episodes]\u001b[A\n",
            " 66%|######5   | 328/500 [1:54:06<1:58:01, 41.17s/episodes]\u001b[A\n",
            " 66%|######5   | 329/500 [1:54:41<1:51:58, 39.29s/episodes]\u001b[A"
          ]
        },
        {
          "output_type": "stream",
          "name": "stdout",
          "text": [
            "Episode:  330, frame_number:  67120, avg rew: 3.7, max rew: 7.0, min rew: 2.0, current epsilon:0.41350\n"
          ]
        },
        {
          "output_type": "stream",
          "name": "stderr",
          "text": [
            "\n",
            " 66%|######6   | 330/500 [1:55:10<1:42:22, 36.13s/episodes]\u001b[A\n",
            " 66%|######6   | 331/500 [1:55:44<1:40:07, 35.55s/episodes]\u001b[A\n",
            " 66%|######6   | 332/500 [1:56:06<1:27:35, 31.28s/episodes]\u001b[A\n",
            " 67%|######6   | 333/500 [1:56:25<1:17:03, 27.69s/episodes]\u001b[A\n",
            " 67%|######6   | 334/500 [1:56:51<1:15:05, 27.14s/episodes]\u001b[A\n",
            " 67%|######7   | 335/500 [1:57:11<1:08:48, 25.02s/episodes]\u001b[A\n",
            " 67%|######7   | 336/500 [1:57:36<1:08:13, 24.96s/episodes]\u001b[A\n",
            " 67%|######7   | 337/500 [1:58:01<1:07:51, 24.98s/episodes]\u001b[A\n",
            " 68%|######7   | 338/500 [1:58:36<1:15:30, 27.96s/episodes]\u001b[A\n",
            " 68%|######7   | 339/500 [1:59:00<1:11:52, 26.79s/episodes]\u001b[A"
          ]
        },
        {
          "output_type": "stream",
          "name": "stdout",
          "text": [
            "Episode:  340, frame_number:  69011, avg rew: 1.0, max rew: 5.0, min rew: 0.0, current epsilon:0.39495\n"
          ]
        },
        {
          "output_type": "stream",
          "name": "stderr",
          "text": [
            "\n",
            " 68%|######8   | 340/500 [1:59:18<1:04:50, 24.31s/episodes]\u001b[A\n",
            " 68%|######8   | 341/500 [1:59:41<1:03:35, 24.00s/episodes]\u001b[A\n",
            " 68%|######8   | 342/500 [2:00:13<1:08:53, 26.16s/episodes]\u001b[A\n",
            " 69%|######8   | 343/500 [2:00:40<1:09:12, 26.45s/episodes]\u001b[A\n",
            " 69%|######8   | 344/500 [2:01:02<1:05:49, 25.31s/episodes]\u001b[A\n",
            " 69%|######9   | 345/500 [2:01:26<1:04:24, 24.93s/episodes]\u001b[A\n",
            " 69%|######9   | 346/500 [2:02:00<1:10:32, 27.49s/episodes]\u001b[A\n",
            " 69%|######9   | 347/500 [2:02:26<1:08:57, 27.04s/episodes]\u001b[A\n",
            " 70%|######9   | 348/500 [2:02:48<1:04:39, 25.53s/episodes]\u001b[A\n",
            " 70%|######9   | 349/500 [2:03:23<1:11:15, 28.31s/episodes]\u001b[A"
          ]
        },
        {
          "output_type": "stream",
          "name": "stdout",
          "text": [
            "Episode:  350, frame_number:  71111, avg rew: 1.3, max rew: 3.0, min rew: 0.0, current epsilon:0.37587\n"
          ]
        },
        {
          "output_type": "stream",
          "name": "stderr",
          "text": [
            "\n",
            " 70%|#######   | 350/500 [2:03:53<1:12:30, 29.01s/episodes]\u001b[A\n",
            " 70%|#######   | 351/500 [2:04:21<1:11:03, 28.61s/episodes]\u001b[A\n",
            " 70%|#######   | 352/500 [2:04:59<1:17:15, 31.32s/episodes]\u001b[A\n",
            " 71%|#######   | 353/500 [2:05:43<1:26:26, 35.29s/episodes]\u001b[A\n",
            " 71%|#######   | 354/500 [2:06:07<1:17:35, 31.88s/episodes]\u001b[A\n",
            " 71%|#######1  | 355/500 [2:06:40<1:17:25, 32.04s/episodes]\u001b[A\n",
            " 71%|#######1  | 356/500 [2:07:07<1:13:24, 30.59s/episodes]\u001b[A\n",
            " 71%|#######1  | 357/500 [2:07:35<1:11:21, 29.94s/episodes]\u001b[A\n",
            " 72%|#######1  | 358/500 [2:08:11<1:14:43, 31.57s/episodes]\u001b[A\n",
            " 72%|#######1  | 359/500 [2:08:46<1:17:12, 32.85s/episodes]\u001b[A"
          ]
        },
        {
          "output_type": "stream",
          "name": "stdout",
          "text": [
            "Episode:  360, frame_number:  73555, avg rew: 1.8, max rew: 4.0, min rew: 0.0, current epsilon:0.35307\n"
          ]
        },
        {
          "output_type": "stream",
          "name": "stderr",
          "text": [
            "\n",
            " 72%|#######2  | 360/500 [2:09:22<1:18:37, 33.70s/episodes]\u001b[A\n",
            " 72%|#######2  | 361/500 [2:09:57<1:19:02, 34.12s/episodes]\u001b[A\n",
            " 72%|#######2  | 362/500 [2:10:43<1:26:40, 37.68s/episodes]\u001b[A\n",
            " 73%|#######2  | 363/500 [2:11:06<1:16:07, 33.34s/episodes]\u001b[A\n",
            " 73%|#######2  | 364/500 [2:11:24<1:04:45, 28.57s/episodes]\u001b[A\n",
            " 73%|#######3  | 365/500 [2:11:48<1:01:35, 27.38s/episodes]\u001b[A\n",
            " 73%|#######3  | 366/500 [2:12:15<1:00:39, 27.16s/episodes]\u001b[A\n",
            " 73%|#######3  | 367/500 [2:12:42<59:57, 27.05s/episodes]  \u001b[A\n",
            " 74%|#######3  | 368/500 [2:13:11<1:00:51, 27.67s/episodes]\u001b[A\n",
            " 74%|#######3  | 369/500 [2:13:26<52:19, 23.97s/episodes]  \u001b[A"
          ]
        },
        {
          "output_type": "stream",
          "name": "stdout",
          "text": [
            "Episode:  370, frame_number:  75548, avg rew: 1.6, max rew: 4.0, min rew: 0.0, current epsilon:0.33330\n"
          ]
        },
        {
          "output_type": "stream",
          "name": "stderr",
          "text": [
            "\n",
            " 74%|#######4  | 370/500 [2:13:50<51:32, 23.79s/episodes]\u001b[A\n",
            " 74%|#######4  | 371/500 [2:14:15<51:53, 24.13s/episodes]\u001b[A\n",
            " 74%|#######4  | 372/500 [2:14:31<46:35, 21.84s/episodes]\u001b[A\n",
            " 75%|#######4  | 373/500 [2:14:50<44:22, 20.97s/episodes]\u001b[A\n",
            " 75%|#######4  | 374/500 [2:15:33<58:10, 27.70s/episodes]\u001b[A\n",
            " 75%|#######5  | 375/500 [2:16:12<1:04:28, 30.95s/episodes]\u001b[A\n",
            " 75%|#######5  | 376/500 [2:16:36<59:39, 28.87s/episodes]  \u001b[A\n",
            " 75%|#######5  | 377/500 [2:17:09<1:01:39, 30.07s/episodes]\u001b[A\n",
            " 76%|#######5  | 378/500 [2:17:40<1:01:55, 30.45s/episodes]\u001b[A\n",
            " 76%|#######5  | 379/500 [2:17:58<53:33, 26.55s/episodes]  \u001b[A"
          ]
        },
        {
          "output_type": "stream",
          "name": "stdout",
          "text": [
            "Episode:  380, frame_number:  77513, avg rew: 1.1, max rew: 3.0, min rew: 0.0, current epsilon:0.31446\n"
          ]
        },
        {
          "output_type": "stream",
          "name": "stderr",
          "text": [
            "\n",
            " 76%|#######6  | 380/500 [2:18:19<49:55, 24.96s/episodes]\u001b[A\n",
            " 76%|#######6  | 381/500 [2:18:54<55:26, 27.96s/episodes]\u001b[A\n",
            " 76%|#######6  | 382/500 [2:19:36<1:03:34, 32.33s/episodes]\u001b[A\n",
            " 77%|#######6  | 383/500 [2:19:53<53:38, 27.51s/episodes]  \u001b[A\n",
            " 77%|#######6  | 384/500 [2:20:30<58:48, 30.42s/episodes]\u001b[A\n",
            " 77%|#######7  | 385/500 [2:21:05<1:00:58, 31.82s/episodes]\u001b[A\n",
            " 77%|#######7  | 386/500 [2:21:47<1:06:33, 35.03s/episodes]\u001b[A\n",
            " 77%|#######7  | 387/500 [2:22:14<1:01:21, 32.58s/episodes]\u001b[A\n",
            " 78%|#######7  | 388/500 [2:23:05<1:10:46, 37.91s/episodes]\u001b[A\n",
            " 78%|#######7  | 389/500 [2:23:45<1:11:19, 38.55s/episodes]\u001b[A"
          ]
        },
        {
          "output_type": "stream",
          "name": "stdout",
          "text": [
            "Episode:  390, frame_number:  80205, avg rew: 2.4, max rew: 5.0, min rew: 0.0, current epsilon:0.29025\n"
          ]
        },
        {
          "output_type": "stream",
          "name": "stderr",
          "text": [
            "\n",
            " 78%|#######8  | 390/500 [2:24:25<1:11:32, 39.03s/episodes]\u001b[A\n",
            " 78%|#######8  | 391/500 [2:25:01<1:09:10, 38.08s/episodes]\u001b[A\n",
            " 78%|#######8  | 392/500 [2:25:44<1:11:12, 39.56s/episodes]\u001b[A\n",
            " 79%|#######8  | 393/500 [2:26:18<1:07:28, 37.83s/episodes]\u001b[A\n",
            " 79%|#######8  | 394/500 [2:26:46<1:01:54, 35.04s/episodes]\u001b[A\n",
            " 79%|#######9  | 395/500 [2:27:16<58:51, 33.63s/episodes]  \u001b[A\n",
            " 79%|#######9  | 396/500 [2:27:51<58:43, 33.88s/episodes]\u001b[A\n",
            " 79%|#######9  | 397/500 [2:28:17<54:04, 31.50s/episodes]\u001b[A\n",
            " 80%|#######9  | 398/500 [2:28:53<55:47, 32.82s/episodes]\u001b[A\n",
            " 80%|#######9  | 399/500 [2:29:18<51:37, 30.67s/episodes]\u001b[A"
          ]
        },
        {
          "output_type": "stream",
          "name": "stdout",
          "text": [
            "Episode:  400, frame_number:  82651, avg rew: 2.3, max rew: 5.0, min rew: 0.0, current epsilon:0.26760\n"
          ]
        },
        {
          "output_type": "stream",
          "name": "stderr",
          "text": [
            "\n",
            " 80%|########  | 400/500 [2:30:05<58:58, 35.39s/episodes]\u001b[A\n",
            " 80%|########  | 401/500 [2:30:51<1:03:57, 38.76s/episodes]\u001b[A\n",
            " 80%|########  | 402/500 [2:31:22<59:06, 36.19s/episodes]  \u001b[A\n",
            " 81%|########  | 403/500 [2:31:50<54:36, 33.78s/episodes]\u001b[A\n",
            " 81%|########  | 404/500 [2:32:07<45:58, 28.73s/episodes]\u001b[A\n",
            " 81%|########1 | 405/500 [2:32:35<45:07, 28.50s/episodes]\u001b[A\n",
            " 81%|########1 | 406/500 [2:33:13<49:22, 31.51s/episodes]\u001b[A\n",
            " 81%|########1 | 407/500 [2:34:08<59:51, 38.61s/episodes]\u001b[A\n",
            " 82%|########1 | 408/500 [2:34:34<53:25, 34.85s/episodes]\u001b[A\n",
            " 82%|########1 | 409/500 [2:35:13<54:44, 36.09s/episodes]\u001b[A"
          ]
        },
        {
          "output_type": "stream",
          "name": "stdout",
          "text": [
            "Episode:  410, frame_number:  85142, avg rew: 2.5, max rew: 6.0, min rew: 0.0, current epsilon:0.24394\n"
          ]
        },
        {
          "output_type": "stream",
          "name": "stderr",
          "text": [
            "\n",
            " 82%|########2 | 410/500 [2:36:00<58:46, 39.18s/episodes]\u001b[A\n",
            " 82%|########2 | 411/500 [2:36:32<54:56, 37.04s/episodes]\u001b[A\n",
            " 82%|########2 | 412/500 [2:37:12<55:33, 37.88s/episodes]\u001b[A\n",
            " 83%|########2 | 413/500 [2:37:54<56:54, 39.24s/episodes]\u001b[A\n",
            " 83%|########2 | 414/500 [2:38:44<1:00:49, 42.43s/episodes]\u001b[A\n",
            " 83%|########2 | 415/500 [2:39:27<1:00:15, 42.54s/episodes]\u001b[A\n",
            " 83%|########3 | 416/500 [2:40:05<57:31, 41.09s/episodes]  \u001b[A\n",
            " 83%|########3 | 417/500 [2:40:55<1:00:38, 43.84s/episodes]\u001b[A\n",
            " 84%|########3 | 418/500 [2:41:21<52:43, 38.58s/episodes]  \u001b[A\n",
            " 84%|########3 | 419/500 [2:42:02<53:02, 39.29s/episodes]\u001b[A"
          ]
        },
        {
          "output_type": "stream",
          "name": "stdout",
          "text": [
            "Episode:  420, frame_number:  87971, avg rew: 2.6, max rew: 5.0, min rew: 0.0, current epsilon:0.21684\n"
          ]
        },
        {
          "output_type": "stream",
          "name": "stderr",
          "text": [
            "\n",
            " 84%|########4 | 420/500 [2:42:44<53:18, 39.98s/episodes]\u001b[A\n",
            " 84%|########4 | 421/500 [2:43:14<48:42, 36.99s/episodes]\u001b[A\n",
            " 84%|########4 | 422/500 [2:44:18<58:54, 45.31s/episodes]\u001b[A\n",
            " 85%|########4 | 423/500 [2:44:59<56:15, 43.83s/episodes]\u001b[A\n",
            " 85%|########4 | 424/500 [2:45:26<49:23, 39.00s/episodes]\u001b[A\n",
            " 85%|########5 | 425/500 [2:46:10<50:37, 40.50s/episodes]\u001b[A\n",
            " 85%|########5 | 426/500 [2:46:41<46:10, 37.44s/episodes]\u001b[A\n",
            " 85%|########5 | 427/500 [2:47:03<40:04, 32.94s/episodes]\u001b[A\n",
            " 86%|########5 | 428/500 [2:47:40<41:05, 34.24s/episodes]\u001b[A\n",
            " 86%|########5 | 429/500 [2:48:06<37:35, 31.77s/episodes]\u001b[A"
          ]
        },
        {
          "output_type": "stream",
          "name": "stdout",
          "text": [
            "Episode:  430, frame_number:  90379, avg rew: 1.5, max rew: 5.0, min rew: 0.0, current epsilon:0.19288\n"
          ]
        },
        {
          "output_type": "stream",
          "name": "stderr",
          "text": [
            "\n",
            " 86%|########6 | 430/500 [2:48:33<35:05, 30.08s/episodes]\u001b[A\n",
            " 86%|########6 | 431/500 [2:49:09<36:49, 32.02s/episodes]\u001b[A\n",
            " 86%|########6 | 432/500 [2:49:44<37:06, 32.74s/episodes]\u001b[A\n",
            " 87%|########6 | 433/500 [2:50:45<46:13, 41.39s/episodes]\u001b[A\n",
            " 87%|########6 | 434/500 [2:51:36<48:38, 44.21s/episodes]\u001b[A\n",
            " 87%|########7 | 435/500 [2:52:23<48:54, 45.15s/episodes]\u001b[A\n",
            " 87%|########7 | 436/500 [2:53:33<56:09, 52.66s/episodes]\u001b[A\n",
            " 87%|########7 | 437/500 [2:54:18<52:47, 50.28s/episodes]\u001b[A\n",
            " 88%|########7 | 438/500 [2:55:20<55:33, 53.77s/episodes]\u001b[A\n",
            " 88%|########7 | 439/500 [2:56:12<54:07, 53.23s/episodes]\u001b[A"
          ]
        },
        {
          "output_type": "stream",
          "name": "stdout",
          "text": [
            "Episode:  440, frame_number:  93832, avg rew: 3.6, max rew: 7.0, min rew: 1.0, current epsilon:0.16146\n"
          ]
        },
        {
          "output_type": "stream",
          "name": "stderr",
          "text": [
            "\n",
            " 88%|########8 | 440/500 [2:57:00<51:47, 51.78s/episodes]\u001b[A\n",
            " 88%|########8 | 441/500 [2:57:44<48:28, 49.29s/episodes]\u001b[A\n",
            " 88%|########8 | 442/500 [2:58:22<44:16, 45.80s/episodes]\u001b[A\n",
            " 89%|########8 | 443/500 [2:59:10<44:19, 46.66s/episodes]\u001b[A\n",
            " 89%|########8 | 444/500 [3:00:08<46:35, 49.92s/episodes]\u001b[A\n",
            " 89%|########9 | 445/500 [3:00:46<42:38, 46.52s/episodes]\u001b[A\n",
            " 89%|########9 | 446/500 [3:01:33<41:47, 46.44s/episodes]\u001b[A\n",
            " 89%|########9 | 447/500 [3:02:10<38:40, 43.79s/episodes]\u001b[A\n",
            " 90%|########9 | 448/500 [3:03:28<46:53, 54.11s/episodes]\u001b[A\n",
            " 90%|########9 | 449/500 [3:04:20<45:21, 53.36s/episodes]\u001b[A"
          ]
        },
        {
          "output_type": "stream",
          "name": "stdout",
          "text": [
            "Episode:  450, frame_number:  96891, avg rew: 2.1, max rew: 5.0, min rew: 0.0, current epsilon:0.13108\n"
          ]
        },
        {
          "output_type": "stream",
          "name": "stderr",
          "text": [
            "\n",
            " 90%|######### | 450/500 [3:04:47<37:47, 45.35s/episodes]\u001b[A\n",
            " 90%|######### | 451/500 [3:05:35<37:48, 46.31s/episodes]\u001b[A\n",
            " 90%|######### | 452/500 [3:06:25<37:44, 47.18s/episodes]\u001b[A\n",
            " 91%|######### | 453/500 [3:07:16<38:00, 48.52s/episodes]\u001b[A\n",
            " 91%|######### | 454/500 [3:08:36<44:29, 58.02s/episodes]\u001b[A\n",
            " 91%|#########1| 455/500 [3:09:28<42:11, 56.26s/episodes]\u001b[A\n",
            " 91%|#########1| 456/500 [3:10:28<41:59, 57.25s/episodes]\u001b[A\n",
            " 91%|#########1| 457/500 [3:11:02<35:57, 50.17s/episodes]\u001b[A\n",
            " 92%|#########1| 458/500 [3:11:35<31:34, 45.11s/episodes]\u001b[A\n",
            " 92%|#########1| 459/500 [3:12:35<33:50, 49.52s/episodes]\u001b[A"
          ]
        },
        {
          "output_type": "stream",
          "name": "stdout",
          "text": [
            "Episode:  460, frame_number: 100402, avg rew: 1.9, max rew: 4.0, min rew: 0.0, current epsilon:0.10065\n"
          ]
        },
        {
          "output_type": "stream",
          "name": "stderr",
          "text": [
            "\n",
            " 92%|#########2| 460/500 [3:13:48<37:38, 56.47s/episodes]\u001b[A\n",
            " 92%|#########2| 461/500 [3:14:11<30:11, 46.46s/episodes]\u001b[A\n",
            " 92%|#########2| 462/500 [3:14:55<29:07, 45.97s/episodes]\u001b[A\n",
            " 93%|#########2| 463/500 [3:16:00<31:41, 51.40s/episodes]\u001b[A\n",
            " 93%|#########2| 464/500 [3:17:00<32:27, 54.10s/episodes]\u001b[A\n",
            " 93%|#########3| 465/500 [3:18:22<36:31, 62.62s/episodes]\u001b[A"
          ]
        }
      ],
      "source": [
        "\"\"\"## Main training loop\"\"\"\n",
        "\n",
        "aggr_ep_rewards = {'ep': [], 'avg': [], 'max': [], 'min': []}\n",
        "print('main training loop')\n",
        "# Create models folder\n",
        "if not os.path.isdir('models'):\n",
        "    os.makedirs('models')\n",
        "\n",
        "agent = DQNAgent()\n",
        "print(\"The environment has the following {} actions: {}\".format(env.action_space.n,\n",
        "                                                                env.unwrapped.get_action_meanings()))\n",
        "\n",
        "\n",
        "my_replay_memory = ReplayMemory(size=REPLAY_MEMORY_SIZE, batch_size=MINIBATCH_SIZE)   # (â˜…)\n",
        "frame_number = 0   # total number of step conducted from the first match till the last\n",
        "# Iterate over episodes\n",
        "for episode in tqdm(range(1, EPISODES + 1), ascii=True, unit='episodes'):  #1 episode = 1 match\n",
        "\n",
        "    # Restarting episode - reset episode reward and step number\n",
        "    episode_reward = 0\n",
        "    step = 1\n",
        "\n",
        "    # Reset environment and get initial state\n",
        "#    current_frame,_ = env.reset()   # single frame 84x84\n",
        "    #NEW VERSION : take care, the new format of the result is a tuple ...\n",
        "    current_frame,_ = env.reset()   # single frame 84x84\n",
        "\n",
        "    current_frame = pre_processing(current_frame)\n",
        "    current_state = np.dstack((current_frame, current_frame, current_frame, current_frame)) # create imm 84x84 grouping in 4 frames\n",
        "\n",
        "    # Reset flag and start iterating until episode ends\n",
        "    done = False\n",
        "    while not done:   #in the environment MountainCar-v0 done=False after 200 step\n",
        "                      #in the environment Breakout-v4 done=False after lost all lifes (num life =5)\n",
        "        # Exploration-exploitation trade-off\n",
        "        # Take new action\n",
        "        # train main network\n",
        "        # Set new state\n",
        "        # Add new reward\n",
        "\n",
        "        # Exploration-exploitation trade-off after a number of steps with completely random action\n",
        "        if np.random.random() > epsilon and frame_number > MIN_REPLAY_MEMORY_SIZE:\n",
        "            # Get action from DQN model: exploit\n",
        "            action = np.argmax(agent.get_qs(current_state))\n",
        "        else:\n",
        "            # Get random action: explore\n",
        "            action = np.random.randint(0, env.action_space.n)\n",
        "\n",
        "        # Take new action\n",
        "#        new_frame, reward, done, _ = env.step(action)\n",
        "        #new format\n",
        "        new_frame, reward, done1,done2, _ = env.step(action)\n",
        "        done = done1 |done2\n",
        "        reward = np.clip(reward,-1,1)#clip reward to be between -1,1\n",
        "        # Set and preprocess new state\n",
        "        new_frame = pre_processing(new_frame)  # single frame 84x84 preprocessed\n",
        "        new_state = np.dstack((new_frame, current_state[:, :, 0], current_state[:, :, 1], current_state[:, :, 2]))# create imm 84x84 grouping in 4 frames\n",
        "\n",
        "        episode_reward += reward\n",
        "\n",
        "        if episode % SHOW_EVERY == 0: # and DEBUG: # plot one match every SHOW_EVERY\n",
        "            #time.sleep(0.01)\n",
        "            #print(f'Step: {step}')\n",
        "            env.render()\n",
        "\n",
        "        # Every step/frame we update replay memory with action, new frame, reward due to the action\n",
        "        my_replay_memory.add_experience(action, new_frame, reward, done)\n",
        "\n",
        "        # Every step we evaluate to train main network and/or to update weights of target network\n",
        "        if frame_number % UPDATE_MODEL == 0 and frame_number > MIN_REPLAY_MEMORY_SIZE:  # model update every 4 frame/action\n",
        "            # Get a minibatch of random samples from the replay memory\n",
        "            minibatch = my_replay_memory.get_minibatch()\n",
        "            agent.train(minibatch)                  #\n",
        "            if DEBUG:  # plot of the minibatch used to train (only 1 image over 4 into the frame)\n",
        "                fig = plt.figure(figsize=(8*4, 4*4))\n",
        "                for i in range(my_replay_memory.batch_size):\n",
        "                    plt.subplot(4, 8, i + 1)\n",
        "                    plt.imshow(minibatch[0][i, :, :, 0], cmap='jet')\n",
        "                plt.show()\n",
        "                plt.savefig('minibatch'+str(frame_number)+'.jpg')\n",
        "            del minibatch\n",
        "        if frame_number % UPDATE_TARGET_MODEL == 0 and frame_number > MIN_REPLAY_MEMORY_SIZE: # model target update every 10000 frame/action\n",
        "            agent.update_target_model()    # (9â˜…)\n",
        "        #\n",
        "\n",
        "\n",
        "        # Set new state (9*)\n",
        "        current_state = new_state\n",
        "        step += 1\n",
        "        frame_number += 1\n",
        "\n",
        "                # Inicializa ep_rewards como una lista vacía\n",
        "        ep_rewards = []\n",
        "\n",
        "                # Main training loop\n",
        "        print('main training loop')\n",
        "        # Create models folder\n",
        "        if not os.path.isdir('models'):\n",
        "            os.makedirs('models')\n",
        "\n",
        "        agent = DQNAgent()\n",
        "        print(\"The environment has the following {} actions: {}\".format(env.action_space.n,\n",
        "                                                                        env.unwrapped.get_action_meanings()))\n",
        "\n",
        "        my_replay_memory = ReplayMemory(size=REPLAY_MEMORY_SIZE, batch_size=MINIBATCH_SIZE)   # (★)\n",
        "        frame_number = 0   # total number of step conducted from the first match till the last\n",
        "        # Inicializa ep_rewards como una lista vacía\n",
        "        ep_rewards = []\n",
        "\n",
        "        # Iterate over episodes\n",
        "        for episode in tqdm(range(1, EPISODES + 1), ascii=True, unit='episodes'):  #1 episode = 1 match\n",
        "\n",
        "            # Restarting episode - reset episode reward and step number\n",
        "            episode_reward = 0\n",
        "            step = 1\n",
        "\n",
        "            # Reset environment and get initial state\n",
        "            reset_output = env.reset()\n",
        "\n",
        "            # Handle different possible outputs of env.reset()\n",
        "            if isinstance(reset_output, tuple):\n",
        "                current_frame = reset_output[0]\n",
        "            else:\n",
        "                current_frame = reset_output\n",
        "\n",
        "            # Preprocess the current frame\n",
        "            current_frame = pre_processing(current_frame)\n",
        "            current_state = np.dstack((current_frame, current_frame, current_frame, current_frame))  # create imm 84x84 grouping in 4 frames\n",
        "\n",
        "            # Reset flag and start iterating until episode ends\n",
        "            done = False\n",
        "            while not done:   #in the environment MountainCar-v0 done=False after 200 step\n",
        "                              #in the environment Breakout-v4 done=False after lost all lifes (num life =5)\n",
        "                # Exploration-exploitation trade-off\n",
        "                # Take new action\n",
        "                # train main network\n",
        "                # Set new state\n",
        "                # Add new reward\n",
        "\n",
        "                # Exploration-exploitation trade-off after a number of steps with completely random action\n",
        "                if np.random.random() > epsilon and frame_number > MIN_REPLAY_MEMORY_SIZE:\n",
        "                    # Get action from DQN model: exploit\n",
        "                    action = np.argmax(agent.get_qs(current_state))\n",
        "                else:\n",
        "                    # Get random action: explore\n",
        "                    action = np.random.randint(0, env.action_space.n)\n",
        "\n",
        "                # Take new action\n",
        "                new_frame, reward, done1, done2, _ = env.step(action)\n",
        "                done = done1 | done2\n",
        "                reward = np.clip(reward, -1, 1)  # clip reward to be between -1,1\n",
        "                # Set and preprocess new state\n",
        "                new_frame = pre_processing(new_frame)  # single frame 84x84 preprocessed\n",
        "                new_state = np.dstack((new_frame, current_state[:, :, 0], current_state[:, :, 1], current_state[:, :, 2]))  # create imm 84x84 grouping in 4 frames\n",
        "\n",
        "                episode_reward += reward\n",
        "\n",
        "                if episode % SHOW_EVERY == 0:  # and DEBUG: # plot one match every SHOW_EVERY\n",
        "                    env.render()\n",
        "\n",
        "                # Every step/frame we update replay memory with action, new frame, reward due to the action\n",
        "                my_replay_memory.add_experience(action, new_frame, reward, done)\n",
        "\n",
        "                # Every step we evaluate to train main network and/or to update weights of target network\n",
        "                if frame_number % UPDATE_MODEL == 0 and frame_number > MIN_REPLAY_MEMORY_SIZE:  # model update every 4 frame/action\n",
        "                    # Get a minibatch of random samples from the replay memory\n",
        "                    minibatch = my_replay_memory.get_minibatch()\n",
        "                    agent.train(minibatch)\n",
        "                    if DEBUG:  # plot of the minibatch used to train (only 1 image over 4 into the frame)\n",
        "                        fig = plt.figure(figsize=(8*4, 4*4))\n",
        "                        for i in range(my_replay_memory.batch_size):\n",
        "                            plt.subplot(4, 8, i + 1)\n",
        "                            plt.imshow(minibatch[0][i, :, :, 0], cmap='jet')\n",
        "                        plt.show()\n",
        "                        plt.savefig('minibatch'+str(frame_number)+'.jpg')\n",
        "                    del minibatch\n",
        "                if frame_number % UPDATE_TARGET_MODEL == 0 and frame_number > MIN_REPLAY_MEMORY_SIZE:  # model target update every 10000 frame/action\n",
        "                    agent.update_target_model()\n",
        "\n",
        "                # Set new state\n",
        "                current_state = new_state\n",
        "                step += 1\n",
        "                frame_number += 1\n",
        "\n",
        "                        # Append episode reward to a list and log stats (every given number of episodes)\n",
        "            ep_rewards.append(episode_reward)\n",
        "            if episode % 10 == 0 and episode > AGGREGATE_STATS_EVERY:\n",
        "                average_reward = sum(ep_rewards[-AGGREGATE_STATS_EVERY:]) / len(ep_rewards[-AGGREGATE_STATS_EVERY:])\n",
        "                min_reward = min(ep_rewards[-AGGREGATE_STATS_EVERY:])\n",
        "                max_reward = max(ep_rewards[-AGGREGATE_STATS_EVERY:])\n",
        "                aggr_ep_rewards['ep'].append(episode)\n",
        "                aggr_ep_rewards['avg'].append(average_reward)\n",
        "                aggr_ep_rewards['max'].append(max_reward)\n",
        "                aggr_ep_rewards['min'].append(min_reward)\n",
        "                print(f'Episode:{episode:>5d}, frame_number:{frame_number:>7d}, ' +\n",
        "                      f'avg rew:{average_reward:>4.1f}, ' +\n",
        "                      f'max rew:{max(ep_rewards[-AGGREGATE_STATS_EVERY:]):>4.1f}, ' +\n",
        "                      f'min rew:{min(ep_rewards[-AGGREGATE_STATS_EVERY:]):>4.1f}, ' +\n",
        "                      f'current epsilon:{epsilon:>1.5f}')\n",
        "\n",
        "            # Decay epsilon. Only start after replay memory is over min size\n",
        "            if frame_number > MIN_REPLAY_MEMORY_SIZE:\n",
        "                if frame_number < REPLAY_MEMORY_SIZE:\n",
        "                    epsilon = MID_EPSILON + EPSILON_DECAY_1*(REPLAY_MEMORY_SIZE-frame_number)\n",
        "                else:\n",
        "                    epsilon = MIN_EPSILON + EPSILON_DECAY_2*(MAX_FRAMES-frame_number)\n",
        "            epsilon = np.clip(epsilon, MIN_EPSILON, MAX_EPSILON)\n",
        "\n",
        "            if episode % SAVE_EPISODE_EVERY == 0 and episode > AGGREGATE_STATS_EVERY:\n",
        "                agent.model.save(f'models/{MODEL_NAME}__{max_reward:_>7.2f}' +\n",
        "                                 f'max_{average_reward:_>7.2f}avg_{min_reward:_>7.2f}' +\n",
        "                                 f'min__{int(time.time())}.keras')\n",
        "\n",
        "        env.close()\n",
        "        # Save model\n",
        "        agent.model.save(f'models/{MODEL_NAME}__' +\n",
        "                         f'{max_reward:_>7.2f}max_{average_reward:_>7.2f}avg_' +\n",
        "                         f'{min_reward:_>7.2f}min__{int(time.time())}.keras')\n",
        "\n",
        "        plt.figure('stats')\n",
        "        plt.plot(aggr_ep_rewards['ep'], aggr_ep_rewards['avg'], label=\"average rewards\")\n",
        "        plt.plot(aggr_ep_rewards['ep'], aggr_ep_rewards['max'], label=\"max rewards\")\n",
        "        plt.plot(aggr_ep_rewards['ep'], aggr_ep_rewards['min'], label=\"min rewards\")\n",
        "        plt.legend(loc=2)\n",
        "        plt.grid(True)\n",
        "        plt.show()\n",
        "        plt.savefig('grid.jpg')"
      ]
    },
    {
      "cell_type": "code",
      "execution_count": null,
      "metadata": {
        "colab": {
          "base_uri": "https://localhost:8080/",
          "height": 1000
        },
        "id": "tTUI79P6lSBn",
        "outputId": "163a4690-e69e-4b99-bba8-54e281d12a4b"
      },
      "outputs": [
        {
          "name": "stdout",
          "output_type": "stream",
          "text": [
            "debug and test results\n",
            "play game and draw results\n",
            "best action= NOOP frame= 1\n",
            "best action= NOOP frame= 2\n",
            "best action= NOOP frame= 3\n",
            "best action= NOOP frame= 4\n",
            "best action= NOOP frame= 5\n",
            "best action= NOOP frame= 6\n",
            "best action= NOOP frame= 7\n",
            "best action= NOOP frame= 8\n",
            "best action= NOOP frame= 9\n",
            "best action= NOOP frame= 10\n",
            "best action= NOOP frame= 11\n",
            "best action= NOOP frame= 12\n",
            "best action= NOOP frame= 13\n",
            "best action= NOOP frame= 14\n",
            "best action= NOOP frame= 15\n",
            "best action= NOOP frame= 16\n",
            "best action= NOOP frame= 17\n",
            "best action= NOOP frame= 18\n",
            "best action= NOOP frame= 19\n",
            "best action= NOOP frame= 20\n",
            "make animation\n"
          ]
        },
        {
          "data": {
            "text/plain": [
              "<Figure size 640x480 with 0 Axes>"
            ]
          },
          "metadata": {},
          "output_type": "display_data"
        },
        {
          "data": {
            "image/png": "[encoded data removed]",
            "text/plain": [
              "<Figure size 640x480 with 1 Axes>"
            ]
          },
          "metadata": {},
          "output_type": "display_data"
        },
        {
          "data": {
            "image/gif": "[encoded data removed]",
            "text/plain": [
              "<IPython.core.display.Image object>"
            ]
          },
          "metadata": {},
          "output_type": "display_data"
        }
      ],
      "source": [
        "### Plot some mini-batch at random\n",
        "\n",
        "print('debug and test results')\n",
        "if(False):\n",
        "    print('plot some mini-batch at random')\n",
        "    minibatch = my_replay_memory.get_minibatch()\n",
        "    no_frames = my_replay_memory.agent_history_length\n",
        "    fig = plt.figure(figsize=(MINIBATCH_SIZE*4, no_frames*4))\n",
        "    for ii in range(no_frames):\n",
        "        for iii in range(MINIBATCH_SIZE):\n",
        "            plt.subplot(my_replay_memory.agent_history_length, MINIBATCH_SIZE, iii+ii*MINIBATCH_SIZE+1)\n",
        "            plt.imshow(minibatch[0][iii, :, :, ii], cmap='jet')  # images are in minibatch[0] stored as minibatch[0].shape=(32, 84, 84, 4) ndarray\n",
        "            plt.axis('off')\n",
        "    plt.show()\n",
        "\n",
        "env_test = gym.make(\"ALE/Breakout-v5\", render_mode=\"rgb_array\")\n",
        "action_meanings = env_test.unwrapped.get_action_meanings()\n",
        "\n",
        "if(False):\n",
        "    print('load model from directory model_bak')\n",
        "    loaded_model = keras.models.load_model('model_bak')\n",
        "    agent.model.set_weights(loaded_model.get_weights())\n",
        "\n",
        "print('play game and draw results')\n",
        "import matplotlib.animation as animation\n",
        "images = []  # List to store the generated images\n",
        "\n",
        "current_frame, _ = env_test.reset()  # single frame 84x84\n",
        "current_frame_pre = pre_processing(current_frame)\n",
        "# initialize\n",
        "current_states = np.zeros(current_frame_pre.shape + (4,))\n",
        "current_states[:, :, 0] = current_frame_pre.copy()\n",
        "\n",
        "for jj in range(3):\n",
        "    new_frame, reward, done1, done2, _ = env_test.step(action)\n",
        "    current_states[:, :, jj+1] = pre_processing(new_frame)\n",
        "\n",
        "plt.figure('play')\n",
        "done = False\n",
        "count = 0\n",
        "max_frames_play = 20\n",
        "while (not done) and (count < max_frames_play):\n",
        "    count += 1\n",
        "    current_qs_list = agent.model.predict(current_states[None, ...], verbose=0)  # input_shape=[1,84, 84, 4]\n",
        "    best_action = np.argmax(current_qs_list)\n",
        "    print('best action=', action_meanings[best_action], 'frame=', str(count))\n",
        "    new_current_states = current_states.copy()\n",
        "    new_current_states[:, :, :-1] = current_states[:, :, 1:]  # shift old states down a unit, put new one after\n",
        "    new_frame, reward, done1, done2, _ = env_test.step(best_action)\n",
        "    new_current_states[:, :, -1] = pre_processing(new_frame)\n",
        "    done = done1 | done2\n",
        "    images.append(new_frame)\n",
        "    if(done):\n",
        "        break\n",
        "#  plt.imshow(new_frame)\n",
        "#  plt.savefig(\"play_\"+str(count)+\".jpg\")\n",
        "#  plt.pause(0.1)\n",
        "\n",
        "print('make animation')\n",
        "fig, ax = plt.subplots()\n",
        "# Function to update the plot for each frame of the animation\n",
        "def update(frame):\n",
        "    ax.imshow(images[frame])  # Display the corresponding image for the current frame\n",
        "\n",
        "ani = animation.FuncAnimation(fig, update, frames=len(images), interval=400)\n",
        "ani.save('animation.gif', writer='pillow')  # Requires pillow to be installed\n",
        "plt.show()\n",
        "\n",
        "from IPython.display import Image as Image_Ip\n",
        "from IPython.display import display\n",
        "display(Image_Ip(filename='animation.gif'))\n",
        "#if('ipykernel' in sys.modules):#we are in Jupyter Notebook\n",
        "#if('google.colab' in sys.modules):#we are in google colab"
      ]
    }
  ],
  "metadata": {
    "colab": {
      "provenance": [],
      "include_colab_link": true
    },
    "kernelspec": {
      "display_name": "Python 3",
      "name": "python3"
    },
    "language_info": {
      "codemirror_mode": {
        "name": "ipython",
        "version": 3
      },
      "file_extension": ".py",
      "mimetype": "text/x-python",
      "name": "python",
      "nbconvert_exporter": "python",
      "pygments_lexer": "ipython3",
      "version": "3.12.4"
    }
  },
  "nbformat": 4,
  "nbformat_minor": 0
}