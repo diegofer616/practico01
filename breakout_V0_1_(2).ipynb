{
  "cells": [
    {
      "cell_type": "markdown",
      "metadata": {
        "id": "view-in-github",
        "colab_type": "text"
      },
      "source": [
        "<a href=\"https://colab.research.google.com/github/diegofer616/practico01/blob/main/breakout_V0_1_(2).ipynb\" target=\"_parent\"><img src=\"https://colab.research.google.com/assets/colab-badge.svg\" alt=\"Open In Colab\"/></a>"
      ]
    },
    {
      "cell_type": "code",
      "source": [
        "!pip install gymnasium\n",
        "!pip install ale-py\n",
        "!pip install gym"
      ],
      "metadata": {
        "colab": {
          "base_uri": "https://localhost:8080/"
        },
        "id": "KNKek5QihiHG",
        "outputId": "a4c27e5b-d70d-460a-842d-355b56ba2029"
      },
      "execution_count": 2,
      "outputs": [
        {
          "output_type": "stream",
          "name": "stdout",
          "text": [
            "Collecting gymnasium\n",
            "  Downloading gymnasium-1.0.0-py3-none-any.whl.metadata (9.5 kB)\n",
            "Requirement already satisfied: numpy>=1.21.0 in /usr/local/lib/python3.10/dist-packages (from gymnasium) (1.26.4)\n",
            "Requirement already satisfied: cloudpickle>=1.2.0 in /usr/local/lib/python3.10/dist-packages (from gymnasium) (3.1.0)\n",
            "Requirement already satisfied: typing-extensions>=4.3.0 in /usr/local/lib/python3.10/dist-packages (from gymnasium) (4.12.2)\n",
            "Collecting farama-notifications>=0.0.1 (from gymnasium)\n",
            "  Downloading Farama_Notifications-0.0.4-py3-none-any.whl.metadata (558 bytes)\n",
            "Downloading gymnasium-1.0.0-py3-none-any.whl (958 kB)\n",
            "\u001b[2K   \u001b[90m━━━━━━━━━━━━━━━━━━━━━━━━━━━━━━━━━━━━━━━━\u001b[0m \u001b[32m958.1/958.1 kB\u001b[0m \u001b[31m11.6 MB/s\u001b[0m eta \u001b[36m0:00:00\u001b[0m\n",
            "\u001b[?25hDownloading Farama_Notifications-0.0.4-py3-none-any.whl (2.5 kB)\n",
            "Installing collected packages: farama-notifications, gymnasium\n",
            "Successfully installed farama-notifications-0.0.4 gymnasium-1.0.0\n",
            "Collecting ale-py\n",
            "  Downloading ale_py-0.10.1-cp310-cp310-manylinux_2_17_x86_64.manylinux2014_x86_64.whl.metadata (7.6 kB)\n",
            "Requirement already satisfied: numpy>1.20 in /usr/local/lib/python3.10/dist-packages (from ale-py) (1.26.4)\n",
            "Requirement already satisfied: typing-extensions in /usr/local/lib/python3.10/dist-packages (from ale-py) (4.12.2)\n",
            "Downloading ale_py-0.10.1-cp310-cp310-manylinux_2_17_x86_64.manylinux2014_x86_64.whl (2.1 MB)\n",
            "\u001b[2K   \u001b[90m━━━━━━━━━━━━━━━━━━━━━━━━━━━━━━━━━━━━━━━━\u001b[0m \u001b[32m2.1/2.1 MB\u001b[0m \u001b[31m16.7 MB/s\u001b[0m eta \u001b[36m0:00:00\u001b[0m\n",
            "\u001b[?25hInstalling collected packages: ale-py\n",
            "Successfully installed ale-py-0.10.1\n",
            "Requirement already satisfied: gym in /usr/local/lib/python3.10/dist-packages (0.25.2)\n",
            "Requirement already satisfied: numpy>=1.18.0 in /usr/local/lib/python3.10/dist-packages (from gym) (1.26.4)\n",
            "Requirement already satisfied: cloudpickle>=1.2.0 in /usr/local/lib/python3.10/dist-packages (from gym) (3.1.0)\n",
            "Requirement already satisfied: gym-notices>=0.0.4 in /usr/local/lib/python3.10/dist-packages (from gym) (0.0.8)\n"
          ]
        }
      ]
    },
    {
      "cell_type": "code",
      "execution_count": 3,
      "metadata": {
        "id": "igQC9jj8fXpS"
      },
      "outputs": [],
      "source": [
        "\n",
        "import gymnasium as gym\n",
        "import numpy as np\n",
        "from numpy import asarray\n",
        "import matplotlib.pyplot as plt\n",
        "import datetime\n",
        "from collections import deque\n",
        "import time\n",
        "import random\n",
        "from tqdm import tqdm\n",
        "from PIL import Image\n",
        "import cv2\n",
        "import os\n",
        "import sys\n",
        "\n",
        "\n",
        "import tensorflow as tf\n",
        "from tensorflow import keras\n",
        "import keras.backend as backend\n",
        "\n",
        "from tensorflow.keras.models import Sequential\n",
        "from tensorflow.keras.layers import Dense, Dropout, Conv2D, MaxPooling2D, Activation, Flatten\n",
        "from tensorflow.keras.optimizers import Adam\n",
        "\n",
        "from tensorflow.python.framework.ops import disable_eager_execution\n",
        "from tensorflow.python.framework.ops import enable_eager_execution\n",
        "\n",
        "from functools import partial\n",
        "print= partial(print, flush=True)"
      ]
    },
    {
      "cell_type": "code",
      "execution_count": 4,
      "metadata": {
        "id": "A4ZTunZbgOAa"
      },
      "outputs": [],
      "source": [
        "import ale_py\n",
        "gym.register_envs(ale_py)\n",
        "env = gym.make(\"ALE/Breakout-v5\", render_mode=\"rgb_array\")"
      ]
    },
    {
      "cell_type": "code",
      "execution_count": 16,
      "metadata": {
        "colab": {
          "base_uri": "https://localhost:8080/"
        },
        "id": "4ho7pNoFhCBa",
        "outputId": "7ac6dcd5-9484-45a4-e729-1f789bc6171a"
      },
      "outputs": [
        {
          "output_type": "stream",
          "name": "stdout",
          "text": [
            "Set parameters\n"
          ]
        }
      ],
      "source": [
        "print('Set parameters')\n",
        "DEBUG = False\n",
        "SHOW_EVERY = 200\n",
        "\n",
        "DISCOUNT = 0.99                 # Discount factor gamma used in the Q-learning update\n",
        "LEARNING_RATE = 0.00025         # 0.00001   0.00025 Mnih et all 2015\n",
        "                                  # Hessel et al. 2017 used 0.0000625\n",
        "                                # in Pong use 0.00025\n",
        "REPLAY_MEMORY_SIZE = 1000000      #100000  # How many last steps to keep in memory for model training\n",
        "REPLAY_MEMORY_SIZE = 100000      #100000  # How many last steps to keep in memory for model training\n",
        "MIN_REPLAY_MEMORY_SIZE = 50000   #50000  # Minimum number of random steps before to start training with the memory\n",
        "MIN_REPLAY_MEMORY_SIZE = 5000   #50000  # Minimum number of random steps before to start training with the memory\n",
        "                                # This is also the Number of completely random actions before the agent starts learning\n",
        "MAX_FRAMES = 25000000           #50milion # Total number of frames the agent sees during training\n",
        "MAX_FRAMES = 25000000           # Total number of frames the agent sees during training\n",
        "MINIBATCH_SIZE = 32             # How many steps (samples) to use for training\n",
        "UPDATE_TARGET_MODEL =10000       #10000 # Number of chosen actions between updating the target network.\n",
        "UPDATE_TARGET_MODEL =100       #10000 # Number of chosen actions between updating the target network.\n",
        "\n",
        "                                       # According to Mnih et al. 2015 this is measured in the number of\n",
        "                                       # parameter updates (every four actions), however, in the\n",
        "                                       # DeepMind code, it is clearly measured in the number\n",
        "                                       # of actions the agent choses\n",
        "UPDATE_MODEL = 4\n",
        "\n",
        "MODEL_NAME = 'DQN_DeepMind'\n",
        "MIN_REWARD = -200  # For model save\n",
        "\n",
        "#EPISODES = 20000   # number of match played in total during training\n",
        "EPISODES = 500   # number of match played in total during training\n",
        "\n",
        "SAVE_EPISODE_EVERY= int(EPISODES/10)#save model 10 times in the whole run\n"
      ]
    },
    {
      "cell_type": "code",
      "execution_count": 6,
      "metadata": {
        "id": "eoCvtAi8hFeY"
      },
      "outputs": [],
      "source": [
        "# Exploration annealing settings\n",
        "epsilon = 1  # not a constant, going to be decayed\n",
        "MIN_EPSILON = 0.01\n",
        "MAX_EPSILON = 1.00\n",
        "MID_EPSILON = 0.1\n",
        "\n",
        "EPSILON_DECAY_1 = (MAX_EPSILON-MID_EPSILON)/(REPLAY_MEMORY_SIZE-MIN_REPLAY_MEMORY_SIZE)\n",
        "EPSILON_DECAY_2 = (MID_EPSILON-MIN_EPSILON)/(MAX_FRAMES-REPLAY_MEMORY_SIZE)\n",
        "\n",
        "#  Stats settings\n",
        "AGGREGATE_STATS_EVERY = 10  # episodes/match"
      ]
    },
    {
      "cell_type": "code",
      "execution_count": 7,
      "metadata": {
        "id": "fYakBJtBhZcQ"
      },
      "outputs": [],
      "source": [
        "class DQNAgent():\n",
        "    def __init__(self):\n",
        "        # Main model\n",
        "        self.model = self.create_model()\n",
        "        print(self.model.summary())\n",
        "\n",
        "        # Target network\n",
        "        self.target_model = self.create_model()\n",
        "        self.target_model.set_weights(self.model.get_weights())\n",
        "\n",
        "        # Used to count when to update target network with main network's weights\n",
        "        self.target_update_counter = 0\n",
        "\n",
        "    def create_model(self):\n",
        "        model = Sequential()\n",
        "\n",
        "        model.add(Conv2D(32, (8, 8), input_shape=[84, 84, 4], strides=4,\n",
        "                         kernel_initializer=keras.initializers.VarianceScaling(scale=2.0)))  # 4 frame greyscale 84x84\n",
        "        model.add(Activation('relu'))\n",
        "        #model.add(MaxPooling2D(pool_size=(2, 2)))\n",
        "        model.add(Dropout(0.4))\n",
        "\n",
        "        model.add(Conv2D(64, (4, 4), strides=2, kernel_initializer=keras.initializers.VarianceScaling(scale=2.0)))\n",
        "        model.add(Activation('relu'))\n",
        "        #model.add(MaxPooling2D(pool_size=(2, 2)))\n",
        "        model.add(Dropout(0.2))\n",
        "\n",
        "        model.add(Conv2D(64, (3, 3), strides=1, kernel_initializer=keras.initializers.VarianceScaling(scale=2.0)))\n",
        "        model.add(Activation('relu'))\n",
        "        #model.add(MaxPooling2D(pool_size=(2, 2)))\n",
        "        model.add(Dropout(0.2))\n",
        "\n",
        "        model.add(Flatten())  # this converts our 3D feature maps to 1D feature vectors\n",
        "        model.add(Dense(512, kernel_initializer=keras.initializers.VarianceScaling(scale=2.0), activation='relu'))\n",
        "\n",
        "        model.add(Dense(env.action_space.n, activation='linear',\n",
        "                        kernel_initializer=keras.initializers.VarianceScaling(scale=2.0)))  # action_space = how many choices (2)\n",
        "        #model.compile(loss=\"mse\", optimizer=Adam(lr=0.00025), metrics=['accuracy'])\n",
        "        model.compile(loss=tf.keras.losses.Huber(), optimizer=Adam(learning_rate=LEARNING_RATE), metrics=['accuracy'])\n",
        "        return model\n",
        "\n",
        "    def train(self, minibatch):\n",
        "        # Get current states from minibatch, then query NN model for Q values\n",
        "        current_states = np.array(minibatch[0])/255\n",
        "        current_qs_list = self.model.predict(current_states, verbose=0)\n",
        "\n",
        "        # Get future states from minibatch, then query NN model for Q values\n",
        "        new_current_states = np.array(minibatch[3])/255\n",
        "        future_qs_list = self.target_model.predict(new_current_states, verbose=0)\n",
        "\n",
        "        X = []\n",
        "        Y = []\n",
        "\n",
        "        # Now we need to enumerate our batches\n",
        "        for ii in range(MINIBATCH_SIZE):\n",
        "            current_state = minibatch[0][ii]\n",
        "            action = minibatch[1][ii]\n",
        "            reward = minibatch[2][ii]\n",
        "            new_current_state = minibatch[3][ii]\n",
        "            done = minibatch[4][ii]\n",
        "\n",
        "            # Bellman equation.  Q = r + gamma*max Q',\n",
        "            # If not a terminal state, get new q from future states, otherwise set it to 0\n",
        "            # almost like with Q Learning, but we use just part of equation here\n",
        "            if not done:\n",
        "                new_q = reward + DISCOUNT * np.max(future_qs_list[ii])\n",
        "            else:\n",
        "                new_q = reward\n",
        "\n",
        "            # Update Q value for given state\n",
        "            current_qs = current_qs_list[ii]\n",
        "            current_qs[action] = new_q\n",
        "\n",
        "            # And append to our training data\n",
        "            X.append(current_state)\n",
        "            Y.append(current_qs)\n",
        "\n",
        "        # Fit on all samples as one batch, NO log file saved. Quicker simulation\n",
        "        # Note : not need to shuffle, this is already done in the get_minibatch part\n",
        "        self.model.fit(np.array(X), np.array(Y), batch_size=MINIBATCH_SIZE,\n",
        "                       verbose=0, epochs=1, shuffle=False)\n",
        "\n",
        "    def update_target_model(self):\n",
        "        self.target_model.set_weights(self.model.get_weights())\n",
        "        self.target_update_counter = 0\n",
        "\n",
        "    def get_qs(self, state):\n",
        "        return self.model.predict(np.array(state).reshape(-1, *state.shape)/255, verbose=0)[0]\n",
        "\n"
      ]
    },
    {
      "cell_type": "code",
      "execution_count": 8,
      "metadata": {
        "id": "ylbKdrEZhbqQ"
      },
      "outputs": [],
      "source": [
        " # Trains main network every step during episode\n",
        "def train(self, minibatch):\n",
        "\n",
        "        # Get current states from minibatch, then query NN model for Q values\n",
        "        current_states = np.array(minibatch[0])/255\n",
        "        current_qs_list = self.model.predict(current_states,verbose=0)\n",
        "\n",
        "        # Get future states from minibatch, then query NN model for Q values\n",
        "        new_current_states = np.array(minibatch[3])/255\n",
        "        future_qs_list = self.target_model.predict(new_current_states,verbose=0)\n",
        "\n",
        "        X = []\n",
        "        Y = []\n",
        "\n",
        "        # Now we need to enumerate our batches\n",
        "        for ii in range(MINIBATCH_SIZE):\n",
        "            current_state     = minibatch[0][ii]\n",
        "            action            = minibatch[1][ii]\n",
        "            reward            = minibatch[2][ii]\n",
        "            new_current_state = minibatch[3][ii]\n",
        "            done              = minibatch[4][ii]\n",
        "\n",
        "            # Bellman equation.  Q = r + gamma*max Q',\n",
        "            # If not a terminal state, get new q from future states, otherwise set it to 0\n",
        "            # almost like with Q Learning, but we use just part of equation here\n",
        "            if not done:\n",
        "                new_q = reward + DISCOUNT * np.max(future_qs_list[ii])\n",
        "            else:\n",
        "                new_q = reward\n",
        "\n",
        "            # Update Q value for given state\n",
        "            current_qs = current_qs_list[ii]\n",
        "            current_qs[action] = new_q\n",
        "\n",
        "            # And append to our training data\n",
        "            X.append(current_state)\n",
        "            Y.append(current_qs)\n",
        "\n",
        "        # Fit on all samples as one batch, NO log file saved. Quicker simulation\n",
        "        # Note : not need to shuffle, this is already done in the get_minibatch part\n",
        "        self.model.fit(np.array(X), np.array(Y), batch_size=MINIBATCH_SIZE,\n",
        "                       verbose=0, epochs=1,shuffle=False)\n"
      ]
    },
    {
      "cell_type": "code",
      "execution_count": 9,
      "metadata": {
        "id": "xJmaxzg1h2Xv"
      },
      "outputs": [],
      "source": [
        "# update target model function frames as verified into main (9*)\n",
        "def update_target_model(self):\n",
        "        self.target_model.set_weights(self.model.get_weights())\n",
        "        self.target_update_counter = 0\n"
      ]
    },
    {
      "cell_type": "code",
      "execution_count": 10,
      "metadata": {
        "id": "TuZrYyMjiAYI"
      },
      "outputs": [],
      "source": [
        "# Queries main network for Q values given current observation space (environment state)\n",
        "def get_qs(self, state):\n",
        "        return self.model.predict(np.array(state).reshape(-1, *state.shape)/255,verbose=0)[0]"
      ]
    },
    {
      "cell_type": "code",
      "execution_count": 11,
      "metadata": {
        "id": "lOgqOULvhLho"
      },
      "outputs": [],
      "source": [
        "class ReplayMemory(object):  # derived from https://github.com/fg91/Deep-Q-Learning/blob/master/DQN.ipynb\n",
        "    \"\"\"Replay Memory that stores the last \"size\" transitions\n",
        "    \"\"\"\n",
        "\n",
        "    def __init__(self, size=1000, frame_height=84, frame_width=84,\n",
        "                 agent_history_length=4, batch_size=32):\n",
        "        \"\"\"\n",
        "        Args:\n",
        "            size: Integer, Number of stored transitions\n",
        "            frame_height: Integer, Height of a frame of an Atari game\n",
        "            frame_width: Integer, Width of a frame of an Atari game\n",
        "            agent_history_length: Integer, Number of frames stacked together to create a state\n",
        "            batch_size: Integer, Number if transitions returned in a minibatch\n",
        "        \"\"\"\n",
        "        self.size = size\n",
        "        self.frame_height = frame_height\n",
        "        self.frame_width = frame_width\n",
        "        self.agent_history_length = agent_history_length\n",
        "        self.batch_size = batch_size\n",
        "        self.count = 0\n",
        "        self.current = 0\n",
        "         # Pre-allocate memory\n",
        "        self.actions = np.empty(self.size, dtype=np.int32)\n",
        "        self.rewards = np.empty(self.size, dtype=np.float32)\n",
        "        self.frames = np.empty((self.size, self.frame_height, self.frame_width), dtype=np.uint8)\n",
        "        self.terminal_flags = np.empty(self.size, dtype=bool)\n",
        "\n",
        "        # Pre-allocate memory for the states and new_states in a minibatch\n",
        "        self.states = np.empty((self.batch_size, self.agent_history_length,\n",
        "                                self.frame_height, self.frame_width), dtype=np.uint8)\n",
        "        self.new_states = np.empty((self.batch_size, self.agent_history_length,\n",
        "                                    self.frame_height, self.frame_width), dtype=np.uint8)\n",
        "        self.indices = np.empty(self.batch_size, dtype=np.int32)\n",
        "\n",
        "    def add_experience(self, action, frame, reward, terminal):\n",
        "        \"\"\"\n",
        "        Args:\n",
        "            action: An integer between 0 and env.action_space.n - 1\n",
        "                determining the action the agent performed  [a_t]\n",
        "            frame: A (84, 84, 1) frame of an Atari game in grayscale reached due to the action [s_t+1]\n",
        "            reward: A float determining the reward the agent received for performing an action [r_t]\n",
        "            terminal: A bool stating whether the episode terminated\n",
        "        \"\"\"\n",
        "        if frame.shape != (self.frame_height, self.frame_width):\n",
        "            raise ValueError('Dimension of frame is wrong!')\n",
        "        self.actions[self.current] = action\n",
        "        self.frames[self.current, ...] = frame\n",
        "        self.rewards[self.current] = reward\n",
        "        self.terminal_flags[self.current] = terminal\n",
        "        self.count = max(self.count, self.current + 1)\n",
        "        self.current = (self.current + 1) % self.size  # overwrite replay buffer if necessary\n",
        "\n",
        "    def _get_state(self, index):\n",
        "        if self.count == 0:\n",
        "            raise ValueError(\"The replay memory is empty!\")\n",
        "        if index < self.agent_history_length - 1:\n",
        "            raise ValueError(\"Index must be min 3\")\n",
        "        return self.frames[index - self.agent_history_length + 1:index + 1, ...]\n",
        "\n",
        "    def _get_valid_indices(self):\n",
        "        \"\"\"\n",
        "        We store all frames the agent sees in self.frames.\n",
        "        When a game terminates (terminal=True) at index i, frame at index i belongs\n",
        "        to a different episode than the frame at i+1. We want to avoid creating a state\n",
        "        with frames from two different episodes.\n",
        "        Finally we need to make sure that an index is not smaller than the number of\n",
        "        frames stacked together to create a state (self.agent_history_length=4),\n",
        "        so that a state and new_state can be sliced out of the array.\n",
        "        \"\"\"\n",
        "\n",
        "        for i in range(self.batch_size):\n",
        "            while True:\n",
        "                index = random.randint(self.agent_history_length, self.count - 1)\n",
        "                if index < self.agent_history_length:\n",
        "                    continue\n",
        "                if index >= self.current and index - self.agent_history_length <= self.current:\n",
        "                    continue\n",
        "                if self.terminal_flags[index - self.agent_history_length:index].any():\n",
        "                    continue\n",
        "                break\n",
        "            self.indices[i] = index\n",
        "\n",
        "    def get_minibatch(self):\n",
        "        \"\"\"\n",
        "        Returns a minibatch of self.batch_size = 32 transitions\n",
        "        \"\"\"\n",
        "        if self.count < self.agent_history_length:\n",
        "            raise ValueError('Not enough memories to get a minibatch')\n",
        "\n",
        "        self._get_valid_indices()\n",
        "\n",
        "        for i, idx in enumerate(self.indices):\n",
        "            self.states[i] = self._get_state(idx - 1)\n",
        "            self.new_states[i] = self._get_state(idx)\n",
        "\n",
        "        minibatch = (np.transpose(self.states, axes=(0, 2, 3, 1)), self.actions[self.indices], self.rewards[\n",
        "                     self.indices], np.transpose(self.new_states, axes=(0, 2, 3, 1)), self.terminal_flags[self.indices])\n",
        "        return minibatch"
      ]
    },
    {
      "cell_type": "code",
      "execution_count": 12,
      "metadata": {
        "id": "iC_YIupDjwRI"
      },
      "outputs": [],
      "source": [
        "\"\"\"## Pre-processing utility\"\"\"\n",
        "\n",
        "def pre_processing (frame):\n",
        "    # single Frame Processor from 210x160x3 to 84x84x1\n",
        "    frame_gray = np.dot(frame, [0.299, 0.587, 0.114])  # 210x160  convert gray scale\n",
        "    #plt.imshow(np.array(np.squeeze(frame_gray)), cmap='gray')\n",
        "    #plt.show()\n",
        "    frame_gray = frame_gray[31:195, 0:160]  # crop off upper score (31 lines) and below black area (15 lines)\n",
        "    #resized_img0 = Image.fromarray(frame_gray).resize(size=(84, 84), resample=Image.BILINEAR)  # 84x84x1\n",
        "    resized_img0 = Image.fromarray(frame_gray).resize(size=(84, 84), resample=Image.NEAREST)  # 84x84x1\n",
        "    #plt.imshow(np.array(np.squeeze(resized_img0)), cmap='gray')\n",
        "    #plt.show()\n",
        "    return asarray(resized_img0, dtype=np.uint8)"
      ]
    },
    {
      "cell_type": "code",
      "execution_count": 14,
      "metadata": {
        "id": "oxe2L5K4kb7o"
      },
      "outputs": [],
      "source": [
        "# Reset environment and get initial state\n",
        "reset_output = env.reset()\n",
        "\n",
        "# Handle different possible outputs of env.reset()\n",
        "if isinstance(reset_output, tuple):\n",
        "    current_frame = reset_output[0]\n",
        "else:\n",
        "    current_frame = reset_output\n",
        "\n",
        "# Preprocess the current frame\n",
        "current_frame = pre_processing(current_frame)\n",
        "current_state = np.dstack((current_frame, current_frame, current_frame, current_frame))  # create imm 84x84 grouping in 4 frames"
      ]
    },
    {
      "cell_type": "code",
      "execution_count": null,
      "metadata": {
        "colab": {
          "base_uri": "https://localhost:8080/",
          "height": 1000
        },
        "id": "6M-8mygSlBjQ",
        "outputId": "86c168d8-7db7-419b-d353-a02a9631b160"
      },
      "outputs": [
        {
          "output_type": "stream",
          "name": "stdout",
          "text": [
            "main training loop\n"
          ]
        },
        {
          "output_type": "display_data",
          "data": {
            "text/plain": [
              "\u001b[1mModel: \"sequential_6\"\u001b[0m\n"
            ],
            "text/html": [
              "<pre style=\"white-space:pre;overflow-x:auto;line-height:normal;font-family:Menlo,'DejaVu Sans Mono',consolas,'Courier New',monospace\"><span style=\"font-weight: bold\">Model: \"sequential_6\"</span>\n",
              "</pre>\n"
            ]
          },
          "metadata": {}
        },
        {
          "output_type": "display_data",
          "data": {
            "text/plain": [
              "┏━━━━━━━━━━━━━━━━━━━━━━━━━━━━━━━━━━━━━━┳━━━━━━━━━━━━━━━━━━━━━━━━━━━━━┳━━━━━━━━━━━━━━━━━┓\n",
              "┃\u001b[1m \u001b[0m\u001b[1mLayer (type)                        \u001b[0m\u001b[1m \u001b[0m┃\u001b[1m \u001b[0m\u001b[1mOutput Shape               \u001b[0m\u001b[1m \u001b[0m┃\u001b[1m \u001b[0m\u001b[1m        Param #\u001b[0m\u001b[1m \u001b[0m┃\n",
              "┡━━━━━━━━━━━━━━━━━━━━━━━━━━━━━━━━━━━━━━╇━━━━━━━━━━━━━━━━━━━━━━━━━━━━━╇━━━━━━━━━━━━━━━━━┩\n",
              "│ conv2d_18 (\u001b[38;5;33mConv2D\u001b[0m)                   │ (\u001b[38;5;45mNone\u001b[0m, \u001b[38;5;34m20\u001b[0m, \u001b[38;5;34m20\u001b[0m, \u001b[38;5;34m32\u001b[0m)          │           \u001b[38;5;34m8,224\u001b[0m │\n",
              "├──────────────────────────────────────┼─────────────────────────────┼─────────────────┤\n",
              "│ activation_18 (\u001b[38;5;33mActivation\u001b[0m)           │ (\u001b[38;5;45mNone\u001b[0m, \u001b[38;5;34m20\u001b[0m, \u001b[38;5;34m20\u001b[0m, \u001b[38;5;34m32\u001b[0m)          │               \u001b[38;5;34m0\u001b[0m │\n",
              "├──────────────────────────────────────┼─────────────────────────────┼─────────────────┤\n",
              "│ dropout_18 (\u001b[38;5;33mDropout\u001b[0m)                 │ (\u001b[38;5;45mNone\u001b[0m, \u001b[38;5;34m20\u001b[0m, \u001b[38;5;34m20\u001b[0m, \u001b[38;5;34m32\u001b[0m)          │               \u001b[38;5;34m0\u001b[0m │\n",
              "├──────────────────────────────────────┼─────────────────────────────┼─────────────────┤\n",
              "│ conv2d_19 (\u001b[38;5;33mConv2D\u001b[0m)                   │ (\u001b[38;5;45mNone\u001b[0m, \u001b[38;5;34m9\u001b[0m, \u001b[38;5;34m9\u001b[0m, \u001b[38;5;34m64\u001b[0m)            │          \u001b[38;5;34m32,832\u001b[0m │\n",
              "├──────────────────────────────────────┼─────────────────────────────┼─────────────────┤\n",
              "│ activation_19 (\u001b[38;5;33mActivation\u001b[0m)           │ (\u001b[38;5;45mNone\u001b[0m, \u001b[38;5;34m9\u001b[0m, \u001b[38;5;34m9\u001b[0m, \u001b[38;5;34m64\u001b[0m)            │               \u001b[38;5;34m0\u001b[0m │\n",
              "├──────────────────────────────────────┼─────────────────────────────┼─────────────────┤\n",
              "│ dropout_19 (\u001b[38;5;33mDropout\u001b[0m)                 │ (\u001b[38;5;45mNone\u001b[0m, \u001b[38;5;34m9\u001b[0m, \u001b[38;5;34m9\u001b[0m, \u001b[38;5;34m64\u001b[0m)            │               \u001b[38;5;34m0\u001b[0m │\n",
              "├──────────────────────────────────────┼─────────────────────────────┼─────────────────┤\n",
              "│ conv2d_20 (\u001b[38;5;33mConv2D\u001b[0m)                   │ (\u001b[38;5;45mNone\u001b[0m, \u001b[38;5;34m7\u001b[0m, \u001b[38;5;34m7\u001b[0m, \u001b[38;5;34m64\u001b[0m)            │          \u001b[38;5;34m36,928\u001b[0m │\n",
              "├──────────────────────────────────────┼─────────────────────────────┼─────────────────┤\n",
              "│ activation_20 (\u001b[38;5;33mActivation\u001b[0m)           │ (\u001b[38;5;45mNone\u001b[0m, \u001b[38;5;34m7\u001b[0m, \u001b[38;5;34m7\u001b[0m, \u001b[38;5;34m64\u001b[0m)            │               \u001b[38;5;34m0\u001b[0m │\n",
              "├──────────────────────────────────────┼─────────────────────────────┼─────────────────┤\n",
              "│ dropout_20 (\u001b[38;5;33mDropout\u001b[0m)                 │ (\u001b[38;5;45mNone\u001b[0m, \u001b[38;5;34m7\u001b[0m, \u001b[38;5;34m7\u001b[0m, \u001b[38;5;34m64\u001b[0m)            │               \u001b[38;5;34m0\u001b[0m │\n",
              "├──────────────────────────────────────┼─────────────────────────────┼─────────────────┤\n",
              "│ flatten_6 (\u001b[38;5;33mFlatten\u001b[0m)                  │ (\u001b[38;5;45mNone\u001b[0m, \u001b[38;5;34m3136\u001b[0m)                │               \u001b[38;5;34m0\u001b[0m │\n",
              "├──────────────────────────────────────┼─────────────────────────────┼─────────────────┤\n",
              "│ dense_12 (\u001b[38;5;33mDense\u001b[0m)                     │ (\u001b[38;5;45mNone\u001b[0m, \u001b[38;5;34m512\u001b[0m)                 │       \u001b[38;5;34m1,606,144\u001b[0m │\n",
              "├──────────────────────────────────────┼─────────────────────────────┼─────────────────┤\n",
              "│ dense_13 (\u001b[38;5;33mDense\u001b[0m)                     │ (\u001b[38;5;45mNone\u001b[0m, \u001b[38;5;34m4\u001b[0m)                   │           \u001b[38;5;34m2,052\u001b[0m │\n",
              "└──────────────────────────────────────┴─────────────────────────────┴─────────────────┘\n"
            ],
            "text/html": [
              "<pre style=\"white-space:pre;overflow-x:auto;line-height:normal;font-family:Menlo,'DejaVu Sans Mono',consolas,'Courier New',monospace\">┏━━━━━━━━━━━━━━━━━━━━━━━━━━━━━━━━━━━━━━┳━━━━━━━━━━━━━━━━━━━━━━━━━━━━━┳━━━━━━━━━━━━━━━━━┓\n",
              "┃<span style=\"font-weight: bold\"> Layer (type)                         </span>┃<span style=\"font-weight: bold\"> Output Shape                </span>┃<span style=\"font-weight: bold\">         Param # </span>┃\n",
              "┡━━━━━━━━━━━━━━━━━━━━━━━━━━━━━━━━━━━━━━╇━━━━━━━━━━━━━━━━━━━━━━━━━━━━━╇━━━━━━━━━━━━━━━━━┩\n",
              "│ conv2d_18 (<span style=\"color: #0087ff; text-decoration-color: #0087ff\">Conv2D</span>)                   │ (<span style=\"color: #00d7ff; text-decoration-color: #00d7ff\">None</span>, <span style=\"color: #00af00; text-decoration-color: #00af00\">20</span>, <span style=\"color: #00af00; text-decoration-color: #00af00\">20</span>, <span style=\"color: #00af00; text-decoration-color: #00af00\">32</span>)          │           <span style=\"color: #00af00; text-decoration-color: #00af00\">8,224</span> │\n",
              "├──────────────────────────────────────┼─────────────────────────────┼─────────────────┤\n",
              "│ activation_18 (<span style=\"color: #0087ff; text-decoration-color: #0087ff\">Activation</span>)           │ (<span style=\"color: #00d7ff; text-decoration-color: #00d7ff\">None</span>, <span style=\"color: #00af00; text-decoration-color: #00af00\">20</span>, <span style=\"color: #00af00; text-decoration-color: #00af00\">20</span>, <span style=\"color: #00af00; text-decoration-color: #00af00\">32</span>)          │               <span style=\"color: #00af00; text-decoration-color: #00af00\">0</span> │\n",
              "├──────────────────────────────────────┼─────────────────────────────┼─────────────────┤\n",
              "│ dropout_18 (<span style=\"color: #0087ff; text-decoration-color: #0087ff\">Dropout</span>)                 │ (<span style=\"color: #00d7ff; text-decoration-color: #00d7ff\">None</span>, <span style=\"color: #00af00; text-decoration-color: #00af00\">20</span>, <span style=\"color: #00af00; text-decoration-color: #00af00\">20</span>, <span style=\"color: #00af00; text-decoration-color: #00af00\">32</span>)          │               <span style=\"color: #00af00; text-decoration-color: #00af00\">0</span> │\n",
              "├──────────────────────────────────────┼─────────────────────────────┼─────────────────┤\n",
              "│ conv2d_19 (<span style=\"color: #0087ff; text-decoration-color: #0087ff\">Conv2D</span>)                   │ (<span style=\"color: #00d7ff; text-decoration-color: #00d7ff\">None</span>, <span style=\"color: #00af00; text-decoration-color: #00af00\">9</span>, <span style=\"color: #00af00; text-decoration-color: #00af00\">9</span>, <span style=\"color: #00af00; text-decoration-color: #00af00\">64</span>)            │          <span style=\"color: #00af00; text-decoration-color: #00af00\">32,832</span> │\n",
              "├──────────────────────────────────────┼─────────────────────────────┼─────────────────┤\n",
              "│ activation_19 (<span style=\"color: #0087ff; text-decoration-color: #0087ff\">Activation</span>)           │ (<span style=\"color: #00d7ff; text-decoration-color: #00d7ff\">None</span>, <span style=\"color: #00af00; text-decoration-color: #00af00\">9</span>, <span style=\"color: #00af00; text-decoration-color: #00af00\">9</span>, <span style=\"color: #00af00; text-decoration-color: #00af00\">64</span>)            │               <span style=\"color: #00af00; text-decoration-color: #00af00\">0</span> │\n",
              "├──────────────────────────────────────┼─────────────────────────────┼─────────────────┤\n",
              "│ dropout_19 (<span style=\"color: #0087ff; text-decoration-color: #0087ff\">Dropout</span>)                 │ (<span style=\"color: #00d7ff; text-decoration-color: #00d7ff\">None</span>, <span style=\"color: #00af00; text-decoration-color: #00af00\">9</span>, <span style=\"color: #00af00; text-decoration-color: #00af00\">9</span>, <span style=\"color: #00af00; text-decoration-color: #00af00\">64</span>)            │               <span style=\"color: #00af00; text-decoration-color: #00af00\">0</span> │\n",
              "├──────────────────────────────────────┼─────────────────────────────┼─────────────────┤\n",
              "│ conv2d_20 (<span style=\"color: #0087ff; text-decoration-color: #0087ff\">Conv2D</span>)                   │ (<span style=\"color: #00d7ff; text-decoration-color: #00d7ff\">None</span>, <span style=\"color: #00af00; text-decoration-color: #00af00\">7</span>, <span style=\"color: #00af00; text-decoration-color: #00af00\">7</span>, <span style=\"color: #00af00; text-decoration-color: #00af00\">64</span>)            │          <span style=\"color: #00af00; text-decoration-color: #00af00\">36,928</span> │\n",
              "├──────────────────────────────────────┼─────────────────────────────┼─────────────────┤\n",
              "│ activation_20 (<span style=\"color: #0087ff; text-decoration-color: #0087ff\">Activation</span>)           │ (<span style=\"color: #00d7ff; text-decoration-color: #00d7ff\">None</span>, <span style=\"color: #00af00; text-decoration-color: #00af00\">7</span>, <span style=\"color: #00af00; text-decoration-color: #00af00\">7</span>, <span style=\"color: #00af00; text-decoration-color: #00af00\">64</span>)            │               <span style=\"color: #00af00; text-decoration-color: #00af00\">0</span> │\n",
              "├──────────────────────────────────────┼─────────────────────────────┼─────────────────┤\n",
              "│ dropout_20 (<span style=\"color: #0087ff; text-decoration-color: #0087ff\">Dropout</span>)                 │ (<span style=\"color: #00d7ff; text-decoration-color: #00d7ff\">None</span>, <span style=\"color: #00af00; text-decoration-color: #00af00\">7</span>, <span style=\"color: #00af00; text-decoration-color: #00af00\">7</span>, <span style=\"color: #00af00; text-decoration-color: #00af00\">64</span>)            │               <span style=\"color: #00af00; text-decoration-color: #00af00\">0</span> │\n",
              "├──────────────────────────────────────┼─────────────────────────────┼─────────────────┤\n",
              "│ flatten_6 (<span style=\"color: #0087ff; text-decoration-color: #0087ff\">Flatten</span>)                  │ (<span style=\"color: #00d7ff; text-decoration-color: #00d7ff\">None</span>, <span style=\"color: #00af00; text-decoration-color: #00af00\">3136</span>)                │               <span style=\"color: #00af00; text-decoration-color: #00af00\">0</span> │\n",
              "├──────────────────────────────────────┼─────────────────────────────┼─────────────────┤\n",
              "│ dense_12 (<span style=\"color: #0087ff; text-decoration-color: #0087ff\">Dense</span>)                     │ (<span style=\"color: #00d7ff; text-decoration-color: #00d7ff\">None</span>, <span style=\"color: #00af00; text-decoration-color: #00af00\">512</span>)                 │       <span style=\"color: #00af00; text-decoration-color: #00af00\">1,606,144</span> │\n",
              "├──────────────────────────────────────┼─────────────────────────────┼─────────────────┤\n",
              "│ dense_13 (<span style=\"color: #0087ff; text-decoration-color: #0087ff\">Dense</span>)                     │ (<span style=\"color: #00d7ff; text-decoration-color: #00d7ff\">None</span>, <span style=\"color: #00af00; text-decoration-color: #00af00\">4</span>)                   │           <span style=\"color: #00af00; text-decoration-color: #00af00\">2,052</span> │\n",
              "└──────────────────────────────────────┴─────────────────────────────┴─────────────────┘\n",
              "</pre>\n"
            ]
          },
          "metadata": {}
        },
        {
          "output_type": "display_data",
          "data": {
            "text/plain": [
              "\u001b[1m Total params: \u001b[0m\u001b[38;5;34m1,686,180\u001b[0m (6.43 MB)\n"
            ],
            "text/html": [
              "<pre style=\"white-space:pre;overflow-x:auto;line-height:normal;font-family:Menlo,'DejaVu Sans Mono',consolas,'Courier New',monospace\"><span style=\"font-weight: bold\"> Total params: </span><span style=\"color: #00af00; text-decoration-color: #00af00\">1,686,180</span> (6.43 MB)\n",
              "</pre>\n"
            ]
          },
          "metadata": {}
        },
        {
          "output_type": "display_data",
          "data": {
            "text/plain": [
              "\u001b[1m Trainable params: \u001b[0m\u001b[38;5;34m1,686,180\u001b[0m (6.43 MB)\n"
            ],
            "text/html": [
              "<pre style=\"white-space:pre;overflow-x:auto;line-height:normal;font-family:Menlo,'DejaVu Sans Mono',consolas,'Courier New',monospace\"><span style=\"font-weight: bold\"> Trainable params: </span><span style=\"color: #00af00; text-decoration-color: #00af00\">1,686,180</span> (6.43 MB)\n",
              "</pre>\n"
            ]
          },
          "metadata": {}
        },
        {
          "output_type": "display_data",
          "data": {
            "text/plain": [
              "\u001b[1m Non-trainable params: \u001b[0m\u001b[38;5;34m0\u001b[0m (0.00 B)\n"
            ],
            "text/html": [
              "<pre style=\"white-space:pre;overflow-x:auto;line-height:normal;font-family:Menlo,'DejaVu Sans Mono',consolas,'Courier New',monospace\"><span style=\"font-weight: bold\"> Non-trainable params: </span><span style=\"color: #00af00; text-decoration-color: #00af00\">0</span> (0.00 B)\n",
              "</pre>\n"
            ]
          },
          "metadata": {}
        },
        {
          "output_type": "stream",
          "name": "stdout",
          "text": [
            "None\n",
            "The environment has the following 4 actions: ['NOOP', 'FIRE', 'RIGHT', 'LEFT']\n"
          ]
        },
        {
          "output_type": "stream",
          "name": "stderr",
          "text": [
            "\r  0%|          | 0/500 [00:00<?, ?episodes/s]"
          ]
        },
        {
          "output_type": "stream",
          "name": "stdout",
          "text": [
            "main training loop\n"
          ]
        },
        {
          "output_type": "display_data",
          "data": {
            "text/plain": [
              "\u001b[1mModel: \"sequential_8\"\u001b[0m\n"
            ],
            "text/html": [
              "<pre style=\"white-space:pre;overflow-x:auto;line-height:normal;font-family:Menlo,'DejaVu Sans Mono',consolas,'Courier New',monospace\"><span style=\"font-weight: bold\">Model: \"sequential_8\"</span>\n",
              "</pre>\n"
            ]
          },
          "metadata": {}
        },
        {
          "output_type": "display_data",
          "data": {
            "text/plain": [
              "┏━━━━━━━━━━━━━━━━━━━━━━━━━━━━━━━━━━━━━━┳━━━━━━━━━━━━━━━━━━━━━━━━━━━━━┳━━━━━━━━━━━━━━━━━┓\n",
              "┃\u001b[1m \u001b[0m\u001b[1mLayer (type)                        \u001b[0m\u001b[1m \u001b[0m┃\u001b[1m \u001b[0m\u001b[1mOutput Shape               \u001b[0m\u001b[1m \u001b[0m┃\u001b[1m \u001b[0m\u001b[1m        Param #\u001b[0m\u001b[1m \u001b[0m┃\n",
              "┡━━━━━━━━━━━━━━━━━━━━━━━━━━━━━━━━━━━━━━╇━━━━━━━━━━━━━━━━━━━━━━━━━━━━━╇━━━━━━━━━━━━━━━━━┩\n",
              "│ conv2d_24 (\u001b[38;5;33mConv2D\u001b[0m)                   │ (\u001b[38;5;45mNone\u001b[0m, \u001b[38;5;34m20\u001b[0m, \u001b[38;5;34m20\u001b[0m, \u001b[38;5;34m32\u001b[0m)          │           \u001b[38;5;34m8,224\u001b[0m │\n",
              "├──────────────────────────────────────┼─────────────────────────────┼─────────────────┤\n",
              "│ activation_24 (\u001b[38;5;33mActivation\u001b[0m)           │ (\u001b[38;5;45mNone\u001b[0m, \u001b[38;5;34m20\u001b[0m, \u001b[38;5;34m20\u001b[0m, \u001b[38;5;34m32\u001b[0m)          │               \u001b[38;5;34m0\u001b[0m │\n",
              "├──────────────────────────────────────┼─────────────────────────────┼─────────────────┤\n",
              "│ dropout_24 (\u001b[38;5;33mDropout\u001b[0m)                 │ (\u001b[38;5;45mNone\u001b[0m, \u001b[38;5;34m20\u001b[0m, \u001b[38;5;34m20\u001b[0m, \u001b[38;5;34m32\u001b[0m)          │               \u001b[38;5;34m0\u001b[0m │\n",
              "├──────────────────────────────────────┼─────────────────────────────┼─────────────────┤\n",
              "│ conv2d_25 (\u001b[38;5;33mConv2D\u001b[0m)                   │ (\u001b[38;5;45mNone\u001b[0m, \u001b[38;5;34m9\u001b[0m, \u001b[38;5;34m9\u001b[0m, \u001b[38;5;34m64\u001b[0m)            │          \u001b[38;5;34m32,832\u001b[0m │\n",
              "├──────────────────────────────────────┼─────────────────────────────┼─────────────────┤\n",
              "│ activation_25 (\u001b[38;5;33mActivation\u001b[0m)           │ (\u001b[38;5;45mNone\u001b[0m, \u001b[38;5;34m9\u001b[0m, \u001b[38;5;34m9\u001b[0m, \u001b[38;5;34m64\u001b[0m)            │               \u001b[38;5;34m0\u001b[0m │\n",
              "├──────────────────────────────────────┼─────────────────────────────┼─────────────────┤\n",
              "│ dropout_25 (\u001b[38;5;33mDropout\u001b[0m)                 │ (\u001b[38;5;45mNone\u001b[0m, \u001b[38;5;34m9\u001b[0m, \u001b[38;5;34m9\u001b[0m, \u001b[38;5;34m64\u001b[0m)            │               \u001b[38;5;34m0\u001b[0m │\n",
              "├──────────────────────────────────────┼─────────────────────────────┼─────────────────┤\n",
              "│ conv2d_26 (\u001b[38;5;33mConv2D\u001b[0m)                   │ (\u001b[38;5;45mNone\u001b[0m, \u001b[38;5;34m7\u001b[0m, \u001b[38;5;34m7\u001b[0m, \u001b[38;5;34m64\u001b[0m)            │          \u001b[38;5;34m36,928\u001b[0m │\n",
              "├──────────────────────────────────────┼─────────────────────────────┼─────────────────┤\n",
              "│ activation_26 (\u001b[38;5;33mActivation\u001b[0m)           │ (\u001b[38;5;45mNone\u001b[0m, \u001b[38;5;34m7\u001b[0m, \u001b[38;5;34m7\u001b[0m, \u001b[38;5;34m64\u001b[0m)            │               \u001b[38;5;34m0\u001b[0m │\n",
              "├──────────────────────────────────────┼─────────────────────────────┼─────────────────┤\n",
              "│ dropout_26 (\u001b[38;5;33mDropout\u001b[0m)                 │ (\u001b[38;5;45mNone\u001b[0m, \u001b[38;5;34m7\u001b[0m, \u001b[38;5;34m7\u001b[0m, \u001b[38;5;34m64\u001b[0m)            │               \u001b[38;5;34m0\u001b[0m │\n",
              "├──────────────────────────────────────┼─────────────────────────────┼─────────────────┤\n",
              "│ flatten_8 (\u001b[38;5;33mFlatten\u001b[0m)                  │ (\u001b[38;5;45mNone\u001b[0m, \u001b[38;5;34m3136\u001b[0m)                │               \u001b[38;5;34m0\u001b[0m │\n",
              "├──────────────────────────────────────┼─────────────────────────────┼─────────────────┤\n",
              "│ dense_16 (\u001b[38;5;33mDense\u001b[0m)                     │ (\u001b[38;5;45mNone\u001b[0m, \u001b[38;5;34m512\u001b[0m)                 │       \u001b[38;5;34m1,606,144\u001b[0m │\n",
              "├──────────────────────────────────────┼─────────────────────────────┼─────────────────┤\n",
              "│ dense_17 (\u001b[38;5;33mDense\u001b[0m)                     │ (\u001b[38;5;45mNone\u001b[0m, \u001b[38;5;34m4\u001b[0m)                   │           \u001b[38;5;34m2,052\u001b[0m │\n",
              "└──────────────────────────────────────┴─────────────────────────────┴─────────────────┘\n"
            ],
            "text/html": [
              "<pre style=\"white-space:pre;overflow-x:auto;line-height:normal;font-family:Menlo,'DejaVu Sans Mono',consolas,'Courier New',monospace\">┏━━━━━━━━━━━━━━━━━━━━━━━━━━━━━━━━━━━━━━┳━━━━━━━━━━━━━━━━━━━━━━━━━━━━━┳━━━━━━━━━━━━━━━━━┓\n",
              "┃<span style=\"font-weight: bold\"> Layer (type)                         </span>┃<span style=\"font-weight: bold\"> Output Shape                </span>┃<span style=\"font-weight: bold\">         Param # </span>┃\n",
              "┡━━━━━━━━━━━━━━━━━━━━━━━━━━━━━━━━━━━━━━╇━━━━━━━━━━━━━━━━━━━━━━━━━━━━━╇━━━━━━━━━━━━━━━━━┩\n",
              "│ conv2d_24 (<span style=\"color: #0087ff; text-decoration-color: #0087ff\">Conv2D</span>)                   │ (<span style=\"color: #00d7ff; text-decoration-color: #00d7ff\">None</span>, <span style=\"color: #00af00; text-decoration-color: #00af00\">20</span>, <span style=\"color: #00af00; text-decoration-color: #00af00\">20</span>, <span style=\"color: #00af00; text-decoration-color: #00af00\">32</span>)          │           <span style=\"color: #00af00; text-decoration-color: #00af00\">8,224</span> │\n",
              "├──────────────────────────────────────┼─────────────────────────────┼─────────────────┤\n",
              "│ activation_24 (<span style=\"color: #0087ff; text-decoration-color: #0087ff\">Activation</span>)           │ (<span style=\"color: #00d7ff; text-decoration-color: #00d7ff\">None</span>, <span style=\"color: #00af00; text-decoration-color: #00af00\">20</span>, <span style=\"color: #00af00; text-decoration-color: #00af00\">20</span>, <span style=\"color: #00af00; text-decoration-color: #00af00\">32</span>)          │               <span style=\"color: #00af00; text-decoration-color: #00af00\">0</span> │\n",
              "├──────────────────────────────────────┼─────────────────────────────┼─────────────────┤\n",
              "│ dropout_24 (<span style=\"color: #0087ff; text-decoration-color: #0087ff\">Dropout</span>)                 │ (<span style=\"color: #00d7ff; text-decoration-color: #00d7ff\">None</span>, <span style=\"color: #00af00; text-decoration-color: #00af00\">20</span>, <span style=\"color: #00af00; text-decoration-color: #00af00\">20</span>, <span style=\"color: #00af00; text-decoration-color: #00af00\">32</span>)          │               <span style=\"color: #00af00; text-decoration-color: #00af00\">0</span> │\n",
              "├──────────────────────────────────────┼─────────────────────────────┼─────────────────┤\n",
              "│ conv2d_25 (<span style=\"color: #0087ff; text-decoration-color: #0087ff\">Conv2D</span>)                   │ (<span style=\"color: #00d7ff; text-decoration-color: #00d7ff\">None</span>, <span style=\"color: #00af00; text-decoration-color: #00af00\">9</span>, <span style=\"color: #00af00; text-decoration-color: #00af00\">9</span>, <span style=\"color: #00af00; text-decoration-color: #00af00\">64</span>)            │          <span style=\"color: #00af00; text-decoration-color: #00af00\">32,832</span> │\n",
              "├──────────────────────────────────────┼─────────────────────────────┼─────────────────┤\n",
              "│ activation_25 (<span style=\"color: #0087ff; text-decoration-color: #0087ff\">Activation</span>)           │ (<span style=\"color: #00d7ff; text-decoration-color: #00d7ff\">None</span>, <span style=\"color: #00af00; text-decoration-color: #00af00\">9</span>, <span style=\"color: #00af00; text-decoration-color: #00af00\">9</span>, <span style=\"color: #00af00; text-decoration-color: #00af00\">64</span>)            │               <span style=\"color: #00af00; text-decoration-color: #00af00\">0</span> │\n",
              "├──────────────────────────────────────┼─────────────────────────────┼─────────────────┤\n",
              "│ dropout_25 (<span style=\"color: #0087ff; text-decoration-color: #0087ff\">Dropout</span>)                 │ (<span style=\"color: #00d7ff; text-decoration-color: #00d7ff\">None</span>, <span style=\"color: #00af00; text-decoration-color: #00af00\">9</span>, <span style=\"color: #00af00; text-decoration-color: #00af00\">9</span>, <span style=\"color: #00af00; text-decoration-color: #00af00\">64</span>)            │               <span style=\"color: #00af00; text-decoration-color: #00af00\">0</span> │\n",
              "├──────────────────────────────────────┼─────────────────────────────┼─────────────────┤\n",
              "│ conv2d_26 (<span style=\"color: #0087ff; text-decoration-color: #0087ff\">Conv2D</span>)                   │ (<span style=\"color: #00d7ff; text-decoration-color: #00d7ff\">None</span>, <span style=\"color: #00af00; text-decoration-color: #00af00\">7</span>, <span style=\"color: #00af00; text-decoration-color: #00af00\">7</span>, <span style=\"color: #00af00; text-decoration-color: #00af00\">64</span>)            │          <span style=\"color: #00af00; text-decoration-color: #00af00\">36,928</span> │\n",
              "├──────────────────────────────────────┼─────────────────────────────┼─────────────────┤\n",
              "│ activation_26 (<span style=\"color: #0087ff; text-decoration-color: #0087ff\">Activation</span>)           │ (<span style=\"color: #00d7ff; text-decoration-color: #00d7ff\">None</span>, <span style=\"color: #00af00; text-decoration-color: #00af00\">7</span>, <span style=\"color: #00af00; text-decoration-color: #00af00\">7</span>, <span style=\"color: #00af00; text-decoration-color: #00af00\">64</span>)            │               <span style=\"color: #00af00; text-decoration-color: #00af00\">0</span> │\n",
              "├──────────────────────────────────────┼─────────────────────────────┼─────────────────┤\n",
              "│ dropout_26 (<span style=\"color: #0087ff; text-decoration-color: #0087ff\">Dropout</span>)                 │ (<span style=\"color: #00d7ff; text-decoration-color: #00d7ff\">None</span>, <span style=\"color: #00af00; text-decoration-color: #00af00\">7</span>, <span style=\"color: #00af00; text-decoration-color: #00af00\">7</span>, <span style=\"color: #00af00; text-decoration-color: #00af00\">64</span>)            │               <span style=\"color: #00af00; text-decoration-color: #00af00\">0</span> │\n",
              "├──────────────────────────────────────┼─────────────────────────────┼─────────────────┤\n",
              "│ flatten_8 (<span style=\"color: #0087ff; text-decoration-color: #0087ff\">Flatten</span>)                  │ (<span style=\"color: #00d7ff; text-decoration-color: #00d7ff\">None</span>, <span style=\"color: #00af00; text-decoration-color: #00af00\">3136</span>)                │               <span style=\"color: #00af00; text-decoration-color: #00af00\">0</span> │\n",
              "├──────────────────────────────────────┼─────────────────────────────┼─────────────────┤\n",
              "│ dense_16 (<span style=\"color: #0087ff; text-decoration-color: #0087ff\">Dense</span>)                     │ (<span style=\"color: #00d7ff; text-decoration-color: #00d7ff\">None</span>, <span style=\"color: #00af00; text-decoration-color: #00af00\">512</span>)                 │       <span style=\"color: #00af00; text-decoration-color: #00af00\">1,606,144</span> │\n",
              "├──────────────────────────────────────┼─────────────────────────────┼─────────────────┤\n",
              "│ dense_17 (<span style=\"color: #0087ff; text-decoration-color: #0087ff\">Dense</span>)                     │ (<span style=\"color: #00d7ff; text-decoration-color: #00d7ff\">None</span>, <span style=\"color: #00af00; text-decoration-color: #00af00\">4</span>)                   │           <span style=\"color: #00af00; text-decoration-color: #00af00\">2,052</span> │\n",
              "└──────────────────────────────────────┴─────────────────────────────┴─────────────────┘\n",
              "</pre>\n"
            ]
          },
          "metadata": {}
        },
        {
          "output_type": "display_data",
          "data": {
            "text/plain": [
              "\u001b[1m Total params: \u001b[0m\u001b[38;5;34m1,686,180\u001b[0m (6.43 MB)\n"
            ],
            "text/html": [
              "<pre style=\"white-space:pre;overflow-x:auto;line-height:normal;font-family:Menlo,'DejaVu Sans Mono',consolas,'Courier New',monospace\"><span style=\"font-weight: bold\"> Total params: </span><span style=\"color: #00af00; text-decoration-color: #00af00\">1,686,180</span> (6.43 MB)\n",
              "</pre>\n"
            ]
          },
          "metadata": {}
        },
        {
          "output_type": "display_data",
          "data": {
            "text/plain": [
              "\u001b[1m Trainable params: \u001b[0m\u001b[38;5;34m1,686,180\u001b[0m (6.43 MB)\n"
            ],
            "text/html": [
              "<pre style=\"white-space:pre;overflow-x:auto;line-height:normal;font-family:Menlo,'DejaVu Sans Mono',consolas,'Courier New',monospace\"><span style=\"font-weight: bold\"> Trainable params: </span><span style=\"color: #00af00; text-decoration-color: #00af00\">1,686,180</span> (6.43 MB)\n",
              "</pre>\n"
            ]
          },
          "metadata": {}
        },
        {
          "output_type": "display_data",
          "data": {
            "text/plain": [
              "\u001b[1m Non-trainable params: \u001b[0m\u001b[38;5;34m0\u001b[0m (0.00 B)\n"
            ],
            "text/html": [
              "<pre style=\"white-space:pre;overflow-x:auto;line-height:normal;font-family:Menlo,'DejaVu Sans Mono',consolas,'Courier New',monospace\"><span style=\"font-weight: bold\"> Non-trainable params: </span><span style=\"color: #00af00; text-decoration-color: #00af00\">0</span> (0.00 B)\n",
              "</pre>\n"
            ]
          },
          "metadata": {}
        },
        {
          "output_type": "stream",
          "name": "stdout",
          "text": [
            "None\n",
            "The environment has the following 4 actions: ['NOOP', 'FIRE', 'RIGHT', 'LEFT']\n"
          ]
        },
        {
          "output_type": "stream",
          "name": "stderr",
          "text": [
            "\n",
            "  0%|          | 0/500 [00:00<?, ?episodes/s]\u001b[A\n",
            "  0%|          | 1/500 [00:00<04:20,  1.92episodes/s]\u001b[A\n",
            "  0%|          | 2/500 [00:00<03:04,  2.70episodes/s]\u001b[A\n",
            "  1%|          | 3/500 [00:01<03:44,  2.21episodes/s]\u001b[A\n",
            "  1%|          | 4/500 [00:01<04:22,  1.89episodes/s]\u001b[A\n",
            "  1%|1         | 5/500 [00:02<05:01,  1.64episodes/s]\u001b[A\n",
            "  1%|1         | 6/500 [00:03<04:56,  1.67episodes/s]\u001b[A\n",
            "  1%|1         | 7/500 [00:03<04:39,  1.76episodes/s]\u001b[A\n",
            "  2%|1         | 8/500 [00:04<04:54,  1.67episodes/s]\u001b[A\n",
            "  2%|1         | 9/500 [00:04<04:31,  1.81episodes/s]\u001b[A\n",
            "  2%|2         | 10/500 [00:05<04:00,  2.04episodes/s]\u001b[A\n",
            "  2%|2         | 11/500 [00:05<03:28,  2.35episodes/s]\u001b[A\n",
            "  2%|2         | 12/500 [00:06<03:31,  2.30episodes/s]\u001b[A\n",
            "  3%|2         | 13/500 [00:06<03:32,  2.29episodes/s]\u001b[A\n",
            "  3%|2         | 14/500 [00:06<03:17,  2.46episodes/s]\u001b[A\n",
            "  3%|3         | 15/500 [00:07<03:13,  2.51episodes/s]\u001b[A\n",
            "  3%|3         | 16/500 [00:07<03:10,  2.54episodes/s]\u001b[A\n",
            "  3%|3         | 17/500 [00:07<02:53,  2.78episodes/s]\u001b[A\n",
            "  4%|3         | 18/500 [00:08<03:07,  2.57episodes/s]\u001b[A\n",
            "  4%|3         | 19/500 [00:08<03:00,  2.67episodes/s]\u001b[A"
          ]
        },
        {
          "output_type": "stream",
          "name": "stdout",
          "text": [
            "Episode:   20, frame_number:   3602, avg rew: 1.0, max rew: 2.0, min rew: 0.0, current epsilon:0.97142\n"
          ]
        },
        {
          "output_type": "stream",
          "name": "stderr",
          "text": [
            "\n",
            "  4%|4         | 20/500 [00:08<02:50,  2.81episodes/s]\u001b[A\n",
            "  4%|4         | 21/500 [00:09<02:52,  2.78episodes/s]\u001b[A\n",
            "  4%|4         | 22/500 [00:09<02:46,  2.87episodes/s]\u001b[A\n",
            "  5%|4         | 23/500 [00:09<02:38,  3.01episodes/s]\u001b[A\n",
            "  5%|4         | 24/500 [00:10<03:13,  2.46episodes/s]\u001b[A\n",
            "  5%|5         | 25/500 [00:10<03:20,  2.37episodes/s]\u001b[A\n",
            "  5%|5         | 26/500 [00:11<03:32,  2.23episodes/s]\u001b[A\n",
            "  5%|5         | 27/500 [00:11<03:07,  2.53episodes/s]\u001b[A\n",
            "  6%|5         | 28/500 [00:26<37:23,  4.75s/episodes]\u001b[A\n",
            "  6%|5         | 29/500 [00:45<1:10:05,  8.93s/episodes]\u001b[A"
          ]
        },
        {
          "output_type": "stream",
          "name": "stdout",
          "text": [
            "Episode:   30, frame_number:   5586, avg rew: 1.6, max rew: 4.0, min rew: 0.0, current epsilon:0.99646\n"
          ]
        },
        {
          "output_type": "stream",
          "name": "stderr",
          "text": [
            "\n",
            "  6%|6         | 30/500 [01:02<1:29:20, 11.41s/episodes]\u001b[A\n",
            "  6%|6         | 31/500 [01:20<1:43:35, 13.25s/episodes]\u001b[A\n",
            "  6%|6         | 32/500 [01:41<2:01:54, 15.63s/episodes]\u001b[A\n",
            "  7%|6         | 33/500 [01:56<1:59:33, 15.36s/episodes]\u001b[A\n",
            "  7%|6         | 34/500 [02:07<1:50:26, 14.22s/episodes]\u001b[A\n",
            "  7%|7         | 35/500 [02:31<2:13:32, 17.23s/episodes]\u001b[A\n",
            "  7%|7         | 36/500 [02:50<2:15:48, 17.56s/episodes]\u001b[A\n",
            "  7%|7         | 37/500 [03:06<2:13:45, 17.33s/episodes]\u001b[A\n",
            "  8%|7         | 38/500 [03:17<1:57:56, 15.32s/episodes]\u001b[A\n",
            "  8%|7         | 39/500 [03:37<2:07:30, 16.60s/episodes]\u001b[A"
          ]
        },
        {
          "output_type": "stream",
          "name": "stdout",
          "text": [
            "Episode:   40, frame_number:   7618, avg rew: 1.6, max rew: 3.0, min rew: 0.0, current epsilon:0.97737\n"
          ]
        },
        {
          "output_type": "stream",
          "name": "stderr",
          "text": [
            "\n",
            "  8%|8         | 40/500 [03:57<2:15:53, 17.73s/episodes]\u001b[A\n",
            "  8%|8         | 41/500 [04:14<2:14:12, 17.54s/episodes]\u001b[A\n",
            "  8%|8         | 42/500 [04:26<2:00:29, 15.78s/episodes]\u001b[A\n",
            "  9%|8         | 43/500 [04:42<2:01:48, 15.99s/episodes]\u001b[A\n",
            "  9%|8         | 44/500 [05:04<2:14:59, 17.76s/episodes]\u001b[A\n",
            "  9%|9         | 45/500 [05:18<2:06:02, 16.62s/episodes]\u001b[A\n",
            "  9%|9         | 46/500 [05:31<1:57:43, 15.56s/episodes]\u001b[A\n",
            "  9%|9         | 47/500 [05:42<1:47:15, 14.21s/episodes]\u001b[A\n",
            " 10%|9         | 48/500 [06:00<1:54:19, 15.18s/episodes]\u001b[A\n",
            " 10%|9         | 49/500 [06:18<2:01:35, 16.18s/episodes]\u001b[A"
          ]
        },
        {
          "output_type": "stream",
          "name": "stdout",
          "text": [
            "Episode:   50, frame_number:   9347, avg rew: 1.0, max rew: 3.0, min rew: 0.0, current epsilon:0.96042\n"
          ]
        },
        {
          "output_type": "stream",
          "name": "stderr",
          "text": [
            "\n",
            " 10%|#         | 50/500 [06:34<2:00:24, 16.06s/episodes]\u001b[A\n",
            " 10%|#         | 51/500 [06:52<2:05:11, 16.73s/episodes]\u001b[A\n",
            " 10%|#         | 52/500 [07:04<1:54:09, 15.29s/episodes]\u001b[A\n",
            " 11%|#         | 53/500 [07:20<1:54:25, 15.36s/episodes]\u001b[A\n",
            " 11%|#         | 54/500 [07:42<2:10:12, 17.52s/episodes]\u001b[A\n",
            " 11%|#1        | 55/500 [07:56<2:02:11, 16.47s/episodes]\u001b[A\n",
            " 11%|#1        | 56/500 [08:25<2:29:05, 20.15s/episodes]\u001b[A\n",
            " 11%|#1        | 57/500 [08:41<2:20:25, 19.02s/episodes]\u001b[A\n",
            " 12%|#1        | 58/500 [08:58<2:13:53, 18.17s/episodes]\u001b[A\n",
            " 12%|#1        | 59/500 [09:12<2:06:09, 17.16s/episodes]\u001b[A"
          ]
        },
        {
          "output_type": "stream",
          "name": "stdout",
          "text": [
            "Episode:   60, frame_number:  11289, avg rew: 1.2, max rew: 4.0, min rew: 0.0, current epsilon:0.94262\n"
          ]
        },
        {
          "output_type": "stream",
          "name": "stderr",
          "text": [
            "\n",
            " 12%|#2        | 60/500 [09:33<2:13:18, 18.18s/episodes]\u001b[A\n",
            " 12%|#2        | 61/500 [09:45<1:58:50, 16.24s/episodes]\u001b[A\n",
            " 12%|#2        | 62/500 [10:17<2:34:02, 21.10s/episodes]\u001b[A\n",
            " 13%|#2        | 63/500 [10:32<2:19:39, 19.18s/episodes]\u001b[A\n",
            " 13%|#2        | 64/500 [10:44<2:04:07, 17.08s/episodes]\u001b[A\n",
            " 13%|#3        | 65/500 [10:59<1:59:11, 16.44s/episodes]\u001b[A\n",
            " 13%|#3        | 66/500 [11:25<2:20:47, 19.46s/episodes]\u001b[A\n",
            " 13%|#3        | 67/500 [11:47<2:25:16, 20.13s/episodes]\u001b[A\n",
            " 14%|#3        | 68/500 [12:01<2:12:08, 18.35s/episodes]\u001b[A\n",
            " 14%|#3        | 69/500 [12:16<2:04:26, 17.32s/episodes]\u001b[A"
          ]
        },
        {
          "output_type": "stream",
          "name": "stdout",
          "text": [
            "Episode:   70, frame_number:  13211, avg rew: 1.3, max rew: 5.0, min rew: 0.0, current epsilon:0.92355\n"
          ]
        },
        {
          "output_type": "stream",
          "name": "stderr",
          "text": [
            "\n",
            " 14%|#4        | 70/500 [12:30<1:55:51, 16.17s/episodes]\u001b[A\n",
            " 14%|#4        | 71/500 [12:50<2:03:37, 17.29s/episodes]\u001b[A\n",
            " 14%|#4        | 72/500 [13:09<2:07:33, 17.88s/episodes]\u001b[A\n",
            " 15%|#4        | 73/500 [13:27<2:07:41, 17.94s/episodes]\u001b[A\n",
            " 15%|#4        | 74/500 [13:40<1:57:50, 16.60s/episodes]\u001b[A\n",
            " 15%|#5        | 75/500 [14:01<2:05:53, 17.77s/episodes]\u001b[A\n",
            " 15%|#5        | 76/500 [14:27<2:22:29, 20.16s/episodes]\u001b[A\n",
            " 15%|#5        | 77/500 [14:47<2:22:14, 20.18s/episodes]\u001b[A\n",
            " 16%|#5        | 78/500 [15:02<2:11:12, 18.65s/episodes]\u001b[A\n",
            " 16%|#5        | 79/500 [15:23<2:15:23, 19.30s/episodes]\u001b[A"
          ]
        },
        {
          "output_type": "stream",
          "name": "stdout",
          "text": [
            "Episode:   80, frame_number:  15218, avg rew: 1.7, max rew: 4.0, min rew: 0.0, current epsilon:0.90449\n"
          ]
        },
        {
          "output_type": "stream",
          "name": "stderr",
          "text": [
            "\n",
            " 16%|#6        | 80/500 [15:35<1:59:27, 17.07s/episodes]\u001b[A\n",
            " 16%|#6        | 81/500 [15:46<1:47:38, 15.41s/episodes]\u001b[A\n",
            " 16%|#6        | 82/500 [15:58<1:40:07, 14.37s/episodes]\u001b[A\n",
            " 17%|#6        | 83/500 [16:19<1:52:16, 16.15s/episodes]\u001b[A\n",
            " 17%|#6        | 84/500 [16:36<1:55:30, 16.66s/episodes]\u001b[A\n",
            " 17%|#7        | 85/500 [16:58<2:06:34, 18.30s/episodes]\u001b[A\n",
            " 17%|#7        | 86/500 [17:17<2:06:49, 18.38s/episodes]\u001b[A\n",
            " 17%|#7        | 87/500 [17:30<1:54:26, 16.62s/episodes]\u001b[A\n",
            " 18%|#7        | 88/500 [17:41<1:44:12, 15.18s/episodes]\u001b[A\n",
            " 18%|#7        | 89/500 [18:02<1:54:08, 16.66s/episodes]\u001b[A"
          ]
        },
        {
          "output_type": "stream",
          "name": "stdout",
          "text": [
            "Episode:   90, frame_number:  16901, avg rew: 0.9, max rew: 2.0, min rew: 0.0, current epsilon:0.88850\n"
          ]
        },
        {
          "output_type": "stream",
          "name": "stderr",
          "text": [
            "\n",
            " 18%|#8        | 90/500 [18:13<1:44:02, 15.23s/episodes]\u001b[A\n",
            " 18%|#8        | 91/500 [18:27<1:39:33, 14.61s/episodes]\u001b[A\n",
            " 18%|#8        | 92/500 [18:52<2:02:22, 18.00s/episodes]\u001b[A\n",
            " 19%|#8        | 93/500 [19:14<2:08:38, 18.96s/episodes]\u001b[A\n",
            " 19%|#8        | 94/500 [19:36<2:15:35, 20.04s/episodes]\u001b[A"
          ]
        }
      ],
      "source": [
        "\"\"\"## Main training loop\"\"\"\n",
        "\n",
        "aggr_ep_rewards = {'ep': [], 'avg': [], 'max': [], 'min': []}\n",
        "print('main training loop')\n",
        "# Create models folder\n",
        "if not os.path.isdir('models'):\n",
        "    os.makedirs('models')\n",
        "\n",
        "agent = DQNAgent()\n",
        "print(\"The environment has the following {} actions: {}\".format(env.action_space.n,\n",
        "                                                                env.unwrapped.get_action_meanings()))\n",
        "\n",
        "\n",
        "my_replay_memory = ReplayMemory(size=REPLAY_MEMORY_SIZE, batch_size=MINIBATCH_SIZE)   # (â˜…)\n",
        "frame_number = 0   # total number of step conducted from the first match till the last\n",
        "# Iterate over episodes\n",
        "for episode in tqdm(range(1, EPISODES + 1), ascii=True, unit='episodes'):  #1 episode = 1 match\n",
        "\n",
        "    # Restarting episode - reset episode reward and step number\n",
        "    episode_reward = 0\n",
        "    step = 1\n",
        "\n",
        "    # Reset environment and get initial state\n",
        "#    current_frame,_ = env.reset()   # single frame 84x84\n",
        "    #NEW VERSION : take care, the new format of the result is a tuple ...\n",
        "    current_frame,_ = env.reset()   # single frame 84x84\n",
        "\n",
        "    current_frame = pre_processing(current_frame)\n",
        "    current_state = np.dstack((current_frame, current_frame, current_frame, current_frame)) # create imm 84x84 grouping in 4 frames\n",
        "\n",
        "    # Reset flag and start iterating until episode ends\n",
        "    done = False\n",
        "    while not done:   #in the environment MountainCar-v0 done=False after 200 step\n",
        "                      #in the environment Breakout-v4 done=False after lost all lifes (num life =5)\n",
        "        # Exploration-exploitation trade-off\n",
        "        # Take new action\n",
        "        # train main network\n",
        "        # Set new state\n",
        "        # Add new reward\n",
        "\n",
        "        # Exploration-exploitation trade-off after a number of steps with completely random action\n",
        "        if np.random.random() > epsilon and frame_number > MIN_REPLAY_MEMORY_SIZE:\n",
        "            # Get action from DQN model: exploit\n",
        "            action = np.argmax(agent.get_qs(current_state))\n",
        "        else:\n",
        "            # Get random action: explore\n",
        "            action = np.random.randint(0, env.action_space.n)\n",
        "\n",
        "        # Take new action\n",
        "#        new_frame, reward, done, _ = env.step(action)\n",
        "        #new format\n",
        "        new_frame, reward, done1,done2, _ = env.step(action)\n",
        "        done = done1 |done2\n",
        "        reward = np.clip(reward,-1,1)#clip reward to be between -1,1\n",
        "        # Set and preprocess new state\n",
        "        new_frame = pre_processing(new_frame)  # single frame 84x84 preprocessed\n",
        "        new_state = np.dstack((new_frame, current_state[:, :, 0], current_state[:, :, 1], current_state[:, :, 2]))# create imm 84x84 grouping in 4 frames\n",
        "\n",
        "        episode_reward += reward\n",
        "\n",
        "        if episode % SHOW_EVERY == 0: # and DEBUG: # plot one match every SHOW_EVERY\n",
        "            #time.sleep(0.01)\n",
        "            #print(f'Step: {step}')\n",
        "            env.render()\n",
        "\n",
        "        # Every step/frame we update replay memory with action, new frame, reward due to the action\n",
        "        my_replay_memory.add_experience(action, new_frame, reward, done)\n",
        "\n",
        "        # Every step we evaluate to train main network and/or to update weights of target network\n",
        "        if frame_number % UPDATE_MODEL == 0 and frame_number > MIN_REPLAY_MEMORY_SIZE:  # model update every 4 frame/action\n",
        "            # Get a minibatch of random samples from the replay memory\n",
        "            minibatch = my_replay_memory.get_minibatch()\n",
        "            agent.train(minibatch)                  #\n",
        "            if DEBUG:  # plot of the minibatch used to train (only 1 image over 4 into the frame)\n",
        "                fig = plt.figure(figsize=(8*4, 4*4))\n",
        "                for i in range(my_replay_memory.batch_size):\n",
        "                    plt.subplot(4, 8, i + 1)\n",
        "                    plt.imshow(minibatch[0][i, :, :, 0], cmap='jet')\n",
        "                plt.show()\n",
        "                plt.savefig('minibatch'+str(frame_number)+'.jpg')\n",
        "            del minibatch\n",
        "        if frame_number % UPDATE_TARGET_MODEL == 0 and frame_number > MIN_REPLAY_MEMORY_SIZE: # model target update every 10000 frame/action\n",
        "            agent.update_target_model()    # (9â˜…)\n",
        "        #\n",
        "\n",
        "\n",
        "        # Set new state (9*)\n",
        "        current_state = new_state\n",
        "        step += 1\n",
        "        frame_number += 1\n",
        "\n",
        "                # Inicializa ep_rewards como una lista vacía\n",
        "        ep_rewards = []\n",
        "\n",
        "                # Main training loop\n",
        "        print('main training loop')\n",
        "        # Create models folder\n",
        "        if not os.path.isdir('models'):\n",
        "            os.makedirs('models')\n",
        "\n",
        "        agent = DQNAgent()\n",
        "        print(\"The environment has the following {} actions: {}\".format(env.action_space.n,\n",
        "                                                                        env.unwrapped.get_action_meanings()))\n",
        "\n",
        "        my_replay_memory = ReplayMemory(size=REPLAY_MEMORY_SIZE, batch_size=MINIBATCH_SIZE)   # (★)\n",
        "        frame_number = 0   # total number of step conducted from the first match till the last\n",
        "        # Inicializa ep_rewards como una lista vacía\n",
        "        ep_rewards = []\n",
        "\n",
        "        # Iterate over episodes\n",
        "        for episode in tqdm(range(1, EPISODES + 1), ascii=True, unit='episodes'):  #1 episode = 1 match\n",
        "\n",
        "            # Restarting episode - reset episode reward and step number\n",
        "            episode_reward = 0\n",
        "            step = 1\n",
        "\n",
        "            # Reset environment and get initial state\n",
        "            reset_output = env.reset()\n",
        "\n",
        "            # Handle different possible outputs of env.reset()\n",
        "            if isinstance(reset_output, tuple):\n",
        "                current_frame = reset_output[0]\n",
        "            else:\n",
        "                current_frame = reset_output\n",
        "\n",
        "            # Preprocess the current frame\n",
        "            current_frame = pre_processing(current_frame)\n",
        "            current_state = np.dstack((current_frame, current_frame, current_frame, current_frame))  # create imm 84x84 grouping in 4 frames\n",
        "\n",
        "            # Reset flag and start iterating until episode ends\n",
        "            done = False\n",
        "            while not done:   #in the environment MountainCar-v0 done=False after 200 step\n",
        "                              #in the environment Breakout-v4 done=False after lost all lifes (num life =5)\n",
        "                # Exploration-exploitation trade-off\n",
        "                # Take new action\n",
        "                # train main network\n",
        "                # Set new state\n",
        "                # Add new reward\n",
        "\n",
        "                # Exploration-exploitation trade-off after a number of steps with completely random action\n",
        "                if np.random.random() > epsilon and frame_number > MIN_REPLAY_MEMORY_SIZE:\n",
        "                    # Get action from DQN model: exploit\n",
        "                    action = np.argmax(agent.get_qs(current_state))\n",
        "                else:\n",
        "                    # Get random action: explore\n",
        "                    action = np.random.randint(0, env.action_space.n)\n",
        "\n",
        "                # Take new action\n",
        "                new_frame, reward, done1, done2, _ = env.step(action)\n",
        "                done = done1 | done2\n",
        "                reward = np.clip(reward, -1, 1)  # clip reward to be between -1,1\n",
        "                # Set and preprocess new state\n",
        "                new_frame = pre_processing(new_frame)  # single frame 84x84 preprocessed\n",
        "                new_state = np.dstack((new_frame, current_state[:, :, 0], current_state[:, :, 1], current_state[:, :, 2]))  # create imm 84x84 grouping in 4 frames\n",
        "\n",
        "                episode_reward += reward\n",
        "\n",
        "                if episode % SHOW_EVERY == 0:  # and DEBUG: # plot one match every SHOW_EVERY\n",
        "                    env.render()\n",
        "\n",
        "                # Every step/frame we update replay memory with action, new frame, reward due to the action\n",
        "                my_replay_memory.add_experience(action, new_frame, reward, done)\n",
        "\n",
        "                # Every step we evaluate to train main network and/or to update weights of target network\n",
        "                if frame_number % UPDATE_MODEL == 0 and frame_number > MIN_REPLAY_MEMORY_SIZE:  # model update every 4 frame/action\n",
        "                    # Get a minibatch of random samples from the replay memory\n",
        "                    minibatch = my_replay_memory.get_minibatch()\n",
        "                    agent.train(minibatch)\n",
        "                    if DEBUG:  # plot of the minibatch used to train (only 1 image over 4 into the frame)\n",
        "                        fig = plt.figure(figsize=(8*4, 4*4))\n",
        "                        for i in range(my_replay_memory.batch_size):\n",
        "                            plt.subplot(4, 8, i + 1)\n",
        "                            plt.imshow(minibatch[0][i, :, :, 0], cmap='jet')\n",
        "                        plt.show()\n",
        "                        plt.savefig('minibatch'+str(frame_number)+'.jpg')\n",
        "                    del minibatch\n",
        "                if frame_number % UPDATE_TARGET_MODEL == 0 and frame_number > MIN_REPLAY_MEMORY_SIZE:  # model target update every 10000 frame/action\n",
        "                    agent.update_target_model()\n",
        "\n",
        "                # Set new state\n",
        "                current_state = new_state\n",
        "                step += 1\n",
        "                frame_number += 1\n",
        "\n",
        "                        # Append episode reward to a list and log stats (every given number of episodes)\n",
        "            ep_rewards.append(episode_reward)\n",
        "            if episode % 10 == 0 and episode > AGGREGATE_STATS_EVERY:\n",
        "                average_reward = sum(ep_rewards[-AGGREGATE_STATS_EVERY:]) / len(ep_rewards[-AGGREGATE_STATS_EVERY:])\n",
        "                min_reward = min(ep_rewards[-AGGREGATE_STATS_EVERY:])\n",
        "                max_reward = max(ep_rewards[-AGGREGATE_STATS_EVERY:])\n",
        "                aggr_ep_rewards['ep'].append(episode)\n",
        "                aggr_ep_rewards['avg'].append(average_reward)\n",
        "                aggr_ep_rewards['max'].append(max_reward)\n",
        "                aggr_ep_rewards['min'].append(min_reward)\n",
        "                print(f'Episode:{episode:>5d}, frame_number:{frame_number:>7d}, ' +\n",
        "                      f'avg rew:{average_reward:>4.1f}, ' +\n",
        "                      f'max rew:{max(ep_rewards[-AGGREGATE_STATS_EVERY:]):>4.1f}, ' +\n",
        "                      f'min rew:{min(ep_rewards[-AGGREGATE_STATS_EVERY:]):>4.1f}, ' +\n",
        "                      f'current epsilon:{epsilon:>1.5f}')\n",
        "\n",
        "            # Decay epsilon. Only start after replay memory is over min size\n",
        "            if frame_number > MIN_REPLAY_MEMORY_SIZE:\n",
        "                if frame_number < REPLAY_MEMORY_SIZE:\n",
        "                    epsilon = MID_EPSILON + EPSILON_DECAY_1*(REPLAY_MEMORY_SIZE-frame_number)\n",
        "                else:\n",
        "                    epsilon = MIN_EPSILON + EPSILON_DECAY_2*(MAX_FRAMES-frame_number)\n",
        "            epsilon = np.clip(epsilon, MIN_EPSILON, MAX_EPSILON)\n",
        "\n",
        "            if episode % SAVE_EPISODE_EVERY == 0 and episode > AGGREGATE_STATS_EVERY:\n",
        "                agent.model.save(f'models/{MODEL_NAME}__{max_reward:_>7.2f}' +\n",
        "                                 f'max_{average_reward:_>7.2f}avg_{min_reward:_>7.2f}' +\n",
        "                                 f'min__{int(time.time())}.keras')\n",
        "\n",
        "        env.close()\n",
        "        # Save model\n",
        "        agent.model.save(f'models/{MODEL_NAME}__' +\n",
        "                         f'{max_reward:_>7.2f}max_{average_reward:_>7.2f}avg_' +\n",
        "                         f'{min_reward:_>7.2f}min__{int(time.time())}.keras')\n",
        "\n",
        "        plt.figure('stats')\n",
        "        plt.plot(aggr_ep_rewards['ep'], aggr_ep_rewards['avg'], label=\"average rewards\")\n",
        "        plt.plot(aggr_ep_rewards['ep'], aggr_ep_rewards['max'], label=\"max rewards\")\n",
        "        plt.plot(aggr_ep_rewards['ep'], aggr_ep_rewards['min'], label=\"min rewards\")\n",
        "        plt.legend(loc=2)\n",
        "        plt.grid(True)\n",
        "        plt.show()\n",
        "        plt.savefig('grid.jpg')"
      ]
    },
    {
      "cell_type": "code",
      "execution_count": null,
      "metadata": {
        "colab": {
          "base_uri": "https://localhost:8080/",
          "height": 1000
        },
        "id": "tTUI79P6lSBn",
        "outputId": "163a4690-e69e-4b99-bba8-54e281d12a4b"
      },
      "outputs": [
        {
          "name": "stdout",
          "output_type": "stream",
          "text": [
            "debug and test results\n",
            "play game and draw results\n",
            "best action= NOOP frame= 1\n",
            "best action= NOOP frame= 2\n",
            "best action= NOOP frame= 3\n",
            "best action= NOOP frame= 4\n",
            "best action= NOOP frame= 5\n",
            "best action= NOOP frame= 6\n",
            "best action= NOOP frame= 7\n",
            "best action= NOOP frame= 8\n",
            "best action= NOOP frame= 9\n",
            "best action= NOOP frame= 10\n",
            "best action= NOOP frame= 11\n",
            "best action= NOOP frame= 12\n",
            "best action= NOOP frame= 13\n",
            "best action= NOOP frame= 14\n",
            "best action= NOOP frame= 15\n",
            "best action= NOOP frame= 16\n",
            "best action= NOOP frame= 17\n",
            "best action= NOOP frame= 18\n",
            "best action= NOOP frame= 19\n",
            "best action= NOOP frame= 20\n",
            "make animation\n"
          ]
        },
        {
          "data": {
            "text/plain": [
              "<Figure size 640x480 with 0 Axes>"
            ]
          },
          "metadata": {},
          "output_type": "display_data"
        },
        {
          "data": {
            "image/png": "[encoded data removed]",
            "text/plain": [
              "<Figure size 640x480 with 1 Axes>"
            ]
          },
          "metadata": {},
          "output_type": "display_data"
        },
        {
          "data": {
            "image/gif": "[encoded data removed]",
            "text/plain": [
              "<IPython.core.display.Image object>"
            ]
          },
          "metadata": {},
          "output_type": "display_data"
        }
      ],
      "source": [
        "### Plot some mini-batch at random\n",
        "\n",
        "print('debug and test results')\n",
        "if(False):\n",
        "    print('plot some mini-batch at random')\n",
        "    minibatch = my_replay_memory.get_minibatch()\n",
        "    no_frames = my_replay_memory.agent_history_length\n",
        "    fig = plt.figure(figsize=(MINIBATCH_SIZE*4, no_frames*4))\n",
        "    for ii in range(no_frames):\n",
        "        for iii in range(MINIBATCH_SIZE):\n",
        "            plt.subplot(my_replay_memory.agent_history_length, MINIBATCH_SIZE, iii+ii*MINIBATCH_SIZE+1)\n",
        "            plt.imshow(minibatch[0][iii, :, :, ii], cmap='jet')  # images are in minibatch[0] stored as minibatch[0].shape=(32, 84, 84, 4) ndarray\n",
        "            plt.axis('off')\n",
        "    plt.show()\n",
        "\n",
        "env_test = gym.make(\"ALE/Breakout-v5\", render_mode=\"rgb_array\")\n",
        "action_meanings = env_test.unwrapped.get_action_meanings()\n",
        "\n",
        "if(False):\n",
        "    print('load model from directory model_bak')\n",
        "    loaded_model = keras.models.load_model('model_bak')\n",
        "    agent.model.set_weights(loaded_model.get_weights())\n",
        "\n",
        "print('play game and draw results')\n",
        "import matplotlib.animation as animation\n",
        "images = []  # List to store the generated images\n",
        "\n",
        "current_frame, _ = env_test.reset()  # single frame 84x84\n",
        "current_frame_pre = pre_processing(current_frame)\n",
        "# initialize\n",
        "current_states = np.zeros(current_frame_pre.shape + (4,))\n",
        "current_states[:, :, 0] = current_frame_pre.copy()\n",
        "\n",
        "for jj in range(3):\n",
        "    new_frame, reward, done1, done2, _ = env_test.step(action)\n",
        "    current_states[:, :, jj+1] = pre_processing(new_frame)\n",
        "\n",
        "plt.figure('play')\n",
        "done = False\n",
        "count = 0\n",
        "max_frames_play = 20\n",
        "while (not done) and (count < max_frames_play):\n",
        "    count += 1\n",
        "    current_qs_list = agent.model.predict(current_states[None, ...], verbose=0)  # input_shape=[1,84, 84, 4]\n",
        "    best_action = np.argmax(current_qs_list)\n",
        "    print('best action=', action_meanings[best_action], 'frame=', str(count))\n",
        "    new_current_states = current_states.copy()\n",
        "    new_current_states[:, :, :-1] = current_states[:, :, 1:]  # shift old states down a unit, put new one after\n",
        "    new_frame, reward, done1, done2, _ = env_test.step(best_action)\n",
        "    new_current_states[:, :, -1] = pre_processing(new_frame)\n",
        "    done = done1 | done2\n",
        "    images.append(new_frame)\n",
        "    if(done):\n",
        "        break\n",
        "#  plt.imshow(new_frame)\n",
        "#  plt.savefig(\"play_\"+str(count)+\".jpg\")\n",
        "#  plt.pause(0.1)\n",
        "\n",
        "print('make animation')\n",
        "fig, ax = plt.subplots()\n",
        "# Function to update the plot for each frame of the animation\n",
        "def update(frame):\n",
        "    ax.imshow(images[frame])  # Display the corresponding image for the current frame\n",
        "\n",
        "ani = animation.FuncAnimation(fig, update, frames=len(images), interval=400)\n",
        "ani.save('animation.gif', writer='pillow')  # Requires pillow to be installed\n",
        "plt.show()\n",
        "\n",
        "from IPython.display import Image as Image_Ip\n",
        "from IPython.display import display\n",
        "display(Image_Ip(filename='animation.gif'))\n",
        "#if('ipykernel' in sys.modules):#we are in Jupyter Notebook\n",
        "#if('google.colab' in sys.modules):#we are in google colab"
      ]
    }
  ],
  "metadata": {
    "colab": {
      "provenance": [],
      "include_colab_link": true
    },
    "kernelspec": {
      "display_name": "Python 3",
      "name": "python3"
    },
    "language_info": {
      "codemirror_mode": {
        "name": "ipython",
        "version": 3
      },
      "file_extension": ".py",
      "mimetype": "text/x-python",
      "name": "python",
      "nbconvert_exporter": "python",
      "pygments_lexer": "ipython3",
      "version": "3.12.4"
    }
  },
  "nbformat": 4,
  "nbformat_minor": 0
}