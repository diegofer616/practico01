{
  "cells": [
    {
      "cell_type": "markdown",
      "metadata": {
        "id": "view-in-github",
        "colab_type": "text"
      },
      "source": [
        "<a href=\"https://colab.research.google.com/github/diegofer616/practico01/blob/main/Laboratorio_N2.ipynb\" target=\"_parent\"><img src=\"https://colab.research.google.com/assets/colab-badge.svg\" alt=\"Open In Colab\"/></a>"
      ]
    },
    {
      "cell_type": "markdown",
      "metadata": {
        "id": "OZq2BatOjOeh"
      },
      "source": [
        "REGRESION MULTIVARIABLE"
      ]
    },
    {
      "cell_type": "markdown",
      "source": [
        "importamos las librerias"
      ],
      "metadata": {
        "id": "tTVLBGZb7r93"
      }
    },
    {
      "cell_type": "code",
      "execution_count": 64,
      "metadata": {
        "id": "f0WGMMljlHQz"
      },
      "outputs": [],
      "source": [
        "\n",
        "import os\n",
        "import numpy as np\n",
        "from matplotlib import pyplot\n",
        "%matplotlib inline\n",
        "import pandas as pd"
      ]
    },
    {
      "cell_type": "markdown",
      "source": [
        "Subimos el .csv"
      ],
      "metadata": {
        "id": "kWA2Auv47z_u"
      }
    },
    {
      "cell_type": "code",
      "execution_count": 65,
      "metadata": {
        "id": "6BP5grkxlHQ0"
      },
      "outputs": [],
      "source": [
        "data = pd.read_csv('/content/WeatherJena.csv', delimiter=';')"
      ]
    },
    {
      "cell_type": "markdown",
      "source": [
        "Vemos la información de csv"
      ],
      "metadata": {
        "id": "EMc7YL9r72JY"
      }
    },
    {
      "cell_type": "code",
      "execution_count": 66,
      "metadata": {
        "colab": {
          "base_uri": "https://localhost:8080/"
        },
        "id": "Td8XQgr3jOem",
        "outputId": "ef7180d1-d7d7-420a-d9b7-367b37224f57"
      },
      "outputs": [
        {
          "output_type": "stream",
          "name": "stdout",
          "text": [
            "<class 'pandas.core.frame.DataFrame'>\n",
            "RangeIndex: 200000 entries, 0 to 199999\n",
            "Data columns (total 11 columns):\n",
            " #   Column           Non-Null Count   Dtype\n",
            "---  ------           --------------   -----\n",
            " 0   p (mbar)         200000 non-null  int64\n",
            " 1   T (degC)         200000 non-null  int64\n",
            " 2   Tdew (degC)      200000 non-null  int64\n",
            " 3   rh (%)           200000 non-null  int64\n",
            " 4   VPmax (mbar)     200000 non-null  int64\n",
            " 5   VPact (mbar)     200000 non-null  int64\n",
            " 6   VPdef (mbar)     200000 non-null  int64\n",
            " 7   sh (g/kg)        200000 non-null  int64\n",
            " 8   H2OC (mmol/mol)  200000 non-null  int64\n",
            " 9   rho (g/m**3)     200000 non-null  int64\n",
            " 10  Tlog (degC)      200000 non-null  int64\n",
            "dtypes: int64(11)\n",
            "memory usage: 16.8 MB\n"
          ]
        }
      ],
      "source": [
        "data.info()"
      ]
    },
    {
      "cell_type": "markdown",
      "source": [
        "Tomamos la cantidad de filas, y separamos las columnas en X y Y"
      ],
      "metadata": {
        "id": "0hWbAWXR8Eh9"
      }
    },
    {
      "cell_type": "code",
      "execution_count": 67,
      "metadata": {
        "id": "HL4Fuli6jOen"
      },
      "outputs": [],
      "source": [
        "X = data.iloc[:, :-1]\n",
        "y = data.iloc[:,-1]\n",
        "m = y.size"
      ]
    },
    {
      "cell_type": "markdown",
      "source": [
        "Imprimimos los primeros valores de cada columna"
      ],
      "metadata": {
        "id": "zzfLwtWi8MEu"
      }
    },
    {
      "cell_type": "code",
      "execution_count": 68,
      "metadata": {
        "colab": {
          "base_uri": "https://localhost:8080/"
        },
        "id": "wdL8Lnj7jOen",
        "outputId": "773c24a4-0191-4b42-a05f-91f5050eeaeb"
      },
      "outputs": [
        {
          "output_type": "stream",
          "name": "stdout",
          "text": [
            "   p (mbar)  T (degC)  Tdew (degC)  rh (%)  VPmax (mbar)  VPact (mbar)  \\\n",
            "0     96756      -284         -341     958           495           475   \n",
            "1     96745      -285         -343     957           495           474   \n",
            "2     96745      -288         -346     958           494           473   \n",
            "3     96734      -290         -347     958           493           472   \n",
            "4     96729      -296         -353     958           491            47   \n",
            "\n",
            "   VPdef (mbar)  sh (g/kg)  H2OC (mmol/mol)  rho (g/m**3)  \n",
            "0            21        306              491        124456  \n",
            "1            21        305               49        124448  \n",
            "2            21        305              489        124465  \n",
            "3            21        304              488        124457  \n",
            "4            21        303              486        124481  \n"
          ]
        }
      ],
      "source": [
        "print(X.head())"
      ]
    },
    {
      "cell_type": "markdown",
      "source": [
        "Normalizamos los datos"
      ],
      "metadata": {
        "id": "_5qtPs9n8Ret"
      }
    },
    {
      "cell_type": "code",
      "execution_count": 70,
      "metadata": {
        "id": "7xFD8H3WlHQ1"
      },
      "outputs": [],
      "source": [
        "def  featureNormalize(X):\n",
        "    X_norm = X.copy()\n",
        "    mu = np.zeros(X.shape[1])\n",
        "    sigma = np.zeros(X.shape[1])\n",
        "    mu = np.mean(X, axis = 0)\n",
        "    sigma = np.std(X, axis = 0)\n",
        "    X_norm = (X - mu) / sigma\n",
        "    return X_norm, mu, sigma"
      ]
    },
    {
      "cell_type": "markdown",
      "source": [
        "LLamamos a la función de normalizar"
      ],
      "metadata": {
        "id": "wKEAyV048Ujt"
      }
    },
    {
      "cell_type": "code",
      "execution_count": 71,
      "metadata": {
        "colab": {
          "base_uri": "https://localhost:8080/"
        },
        "id": "ipL_QsTZlHQ2",
        "outputId": "1f9edda2-e93f-4375-8f02-b3b1a801c5b4"
      },
      "outputs": [
        {
          "output_type": "stream",
          "name": "stdout",
          "text": [
            "Media calculada:\n",
            " p (mbar)            89931.516385\n",
            "T (degC)              904.699850\n",
            "Tdew (degC)           446.416535\n",
            "rh (%)               2173.555730\n",
            "VPmax (mbar)         1218.445350\n",
            "VPact (mbar)          849.547060\n",
            "VPdef (mbar)          369.939875\n",
            "sh (g/kg)             536.698985\n",
            "H2OC (mmol/mol)       857.281530\n",
            "rho (g/m**3)       110640.100065\n",
            "dtype: float64\n",
            "Desviación estandar calculada:\n",
            " p (mbar)           26962.061762\n",
            "T (degC)             892.234471\n",
            "Tdew (degC)          724.533554\n",
            "rh (%)              2261.842051\n",
            "VPmax (mbar)         834.450177\n",
            "VPact (mbar)         481.858713\n",
            "VPdef (mbar)         479.967727\n",
            "sh (g/kg)            305.476885\n",
            "H2OC (mmol/mol)      488.095641\n",
            "rho (g/m**3)       33544.180110\n",
            "dtype: float64\n",
            "        p (mbar)  T (degC)  Tdew (degC)    rh (%)  VPmax (mbar)  VPact (mbar)  \\\n",
            "0       0.253114 -1.332273    -1.086791 -0.537418     -0.866972     -0.777296   \n",
            "1       0.252706 -1.333394    -1.089551 -0.537861     -0.866972     -0.779372   \n",
            "2       0.252706 -1.336756    -1.093692 -0.537418     -0.868171     -0.781447   \n",
            "3       0.252298 -1.338998    -1.095072 -0.537418     -0.869369     -0.783522   \n",
            "4       0.252113 -1.345722    -1.103353 -0.537418     -0.871766     -1.665524   \n",
            "...          ...       ...          ...       ...           ...           ...   \n",
            "199995  0.325772  0.501326     0.675722 -0.625400      0.399730      0.681637   \n",
            "199996  0.325883  0.482273     0.668821 -0.622747      0.379357      0.673336   \n",
            "199997  0.326440  0.472185     0.646738 -0.624516      0.368572      0.646357   \n",
            "199998 -2.969265  0.467702     0.646738 -0.623631      0.363778      0.646357   \n",
            "199999  0.326588  0.476669     0.655019 -0.624074     -1.276823      0.654659   \n",
            "\n",
            "        VPdef (mbar)  sh (g/kg)  H2OC (mmol/mol)  rho (g/m**3)  \n",
            "0          -0.727007  -0.755209        -0.750430      0.411872  \n",
            "1          -0.727007  -0.758483        -1.655990      0.411633  \n",
            "2          -0.727007  -0.758483        -0.754527      0.412140  \n",
            "3          -0.727007  -0.761756        -0.756576      0.411902  \n",
            "4          -0.727007  -0.765030        -0.760674      0.412617  \n",
            "...              ...        ...              ...           ...  \n",
            "199995      0.008459   0.681888         0.687813      0.261533  \n",
            "199996     -0.018626   0.675341         0.679618      0.263798  \n",
            "199997     -0.010292   0.649152         0.652984      0.265647  \n",
            "199998     -0.018626   0.649152         0.652984      0.266392  \n",
            "199999     -0.012376   0.658973        -1.514624      0.265229  \n",
            "\n",
            "[200000 rows x 10 columns]\n"
          ]
        }
      ],
      "source": [
        "X_norm, mu, sigma = featureNormalize(X)\n",
        "print('Media calculada:\\n', mu)\n",
        "print('Desviación estandar calculada:\\n', sigma)\n",
        "print(X_norm)"
      ]
    },
    {
      "cell_type": "markdown",
      "source": [
        "Añadimos al X los valores de 1"
      ],
      "metadata": {
        "id": "50c6GZRn8bHu"
      }
    },
    {
      "cell_type": "code",
      "execution_count": 72,
      "metadata": {
        "id": "nNaGVxgolHQ2"
      },
      "outputs": [],
      "source": [
        "X = np.concatenate([np.ones((m, 1)), X_norm], axis=1)"
      ]
    },
    {
      "cell_type": "code",
      "execution_count": 73,
      "metadata": {
        "id": "EQCMN7KqlHQ3"
      },
      "outputs": [],
      "source": [
        "def computeCostMulti(X, y, theta):\n",
        "    m = y.shape[0]\n",
        "    J = 0\n",
        "    J = (1/(2 * m)) * np.sum(np.square(np.dot(X, theta) - y))\n",
        "    return J"
      ]
    },
    {
      "cell_type": "code",
      "execution_count": 74,
      "metadata": {
        "id": "Vdy_aQUklHQ4"
      },
      "outputs": [],
      "source": [
        "def gradientDescentMulti(X, y, theta, alpha, num_iters):\n",
        "    m = y.shape[0]\n",
        "    theta = theta.copy()\n",
        "    J_history = []\n",
        "    for i in range(num_iters):\n",
        "        theta = theta - (alpha / m) * (np.dot(X, theta) - y).dot(X)\n",
        "        J_history.append(computeCostMulti(X, y, theta))\n",
        "    return theta, J_history"
      ]
    },
    {
      "cell_type": "code",
      "execution_count": 76,
      "metadata": {
        "colab": {
          "base_uri": "https://localhost:8080/",
          "height": 472
        },
        "id": "sId0DiH9lHQ4",
        "outputId": "2651f439-60af-499b-daad-307831976c1d"
      },
      "outputs": [
        {
          "output_type": "display_data",
          "data": {
            "text/plain": [
              "<Figure size 640x480 with 1 Axes>"
            ],
            "image/png": "[encoded data removed]"
          },
          "metadata": {}
        }
      ],
      "source": [
        "alpha = 0.0003\n",
        "num_iters = 20000\n",
        "\n",
        "theta = np.zeros(11)\n",
        "theta, J_history = gradientDescentMulti(X, y, theta, alpha, num_iters)\n",
        "\n",
        "pyplot.plot(np.arange(len(J_history)), J_history, lw=2)\n",
        "pyplot.xlabel('Numero de iteraciones')\n",
        "pyplot.ylabel('Costo J')\n",
        "pyplot.title('Convergencia del Descenso por el Gradiente')\n",
        "pyplot.show()\n",
        "\n"
      ]
    },
    {
      "cell_type": "markdown",
      "source": [
        "Ahora subimos un .csv llamado Datos_Prediccion.csv, para que prediga valores"
      ],
      "metadata": {
        "id": "NcVMHcqS41iF"
      }
    },
    {
      "cell_type": "code",
      "source": [
        "X_predic = pd.read_csv('/content/Datos_Prediccion.csv', delimiter=';')\n",
        "tamanho = X_predic.shape[0]\n",
        "X_predic[:] = (X_predic[:] - mu) / sigma\n",
        "X_predic = np.concatenate([np.ones((tamanho, 1)), X_predic], axis=1)\n",
        "\n",
        "for i in range(tamanho):\n",
        "  X_array = X_predic[i, :]\n",
        "  predic = np.dot(X_array, theta)\n",
        "  print('Predicción de Registro de temperatura en grados Celsius N°', i+1, ': {:.0f}'.format(predic))"
      ],
      "metadata": {
        "colab": {
          "base_uri": "https://localhost:8080/"
        },
        "id": "5BE2qJnd5Ac0",
        "outputId": "aa4aecb6-74b8-4b85-d74b-e6e1b11c1fd2"
      },
      "execution_count": 78,
      "outputs": [
        {
          "output_type": "stream",
          "name": "stdout",
          "text": [
            "Predicción de Registro de temperatura en grados Celsius N° 1 : 2142\n",
            "Predicción de Registro de temperatura en grados Celsius N° 2 : 2253\n",
            "Predicción de Registro de temperatura en grados Celsius N° 3 : 2161\n",
            "Predicción de Registro de temperatura en grados Celsius N° 4 : 2210\n",
            "Predicción de Registro de temperatura en grados Celsius N° 5 : 2156\n",
            "Predicción de Registro de temperatura en grados Celsius N° 6 : 2211\n",
            "Predicción de Registro de temperatura en grados Celsius N° 7 : 2105\n",
            "Predicción de Registro de temperatura en grados Celsius N° 8 : 2328\n",
            "Predicción de Registro de temperatura en grados Celsius N° 9 : 2224\n",
            "Predicción de Registro de temperatura en grados Celsius N° 10 : 2359\n",
            "Predicción de Registro de temperatura en grados Celsius N° 11 : 2320\n",
            "Predicción de Registro de temperatura en grados Celsius N° 12 : 2181\n",
            "Predicción de Registro de temperatura en grados Celsius N° 13 : 2250\n",
            "Predicción de Registro de temperatura en grados Celsius N° 14 : 2066\n",
            "Predicción de Registro de temperatura en grados Celsius N° 15 : 2204\n",
            "Predicción de Registro de temperatura en grados Celsius N° 16 : 2360\n",
            "Predicción de Registro de temperatura en grados Celsius N° 17 : 2358\n",
            "Predicción de Registro de temperatura en grados Celsius N° 18 : 2227\n",
            "Predicción de Registro de temperatura en grados Celsius N° 19 : 2305\n",
            "Predicción de Registro de temperatura en grados Celsius N° 20 : 2303\n",
            "Predicción de Registro de temperatura en grados Celsius N° 21 : 2280\n",
            "Predicción de Registro de temperatura en grados Celsius N° 22 : 2317\n",
            "Predicción de Registro de temperatura en grados Celsius N° 23 : 2400\n",
            "Predicción de Registro de temperatura en grados Celsius N° 24 : 2385\n",
            "Predicción de Registro de temperatura en grados Celsius N° 25 : 2275\n",
            "Predicción de Registro de temperatura en grados Celsius N° 26 : 2259\n",
            "Predicción de Registro de temperatura en grados Celsius N° 27 : 2345\n",
            "Predicción de Registro de temperatura en grados Celsius N° 28 : 2247\n",
            "Predicción de Registro de temperatura en grados Celsius N° 29 : 2359\n",
            "Predicción de Registro de temperatura en grados Celsius N° 30 : 2364\n",
            "Predicción de Registro de temperatura en grados Celsius N° 31 : 2364\n",
            "Predicción de Registro de temperatura en grados Celsius N° 32 : 2358\n",
            "Predicción de Registro de temperatura en grados Celsius N° 33 : 2282\n",
            "Predicción de Registro de temperatura en grados Celsius N° 34 : 2356\n",
            "Predicción de Registro de temperatura en grados Celsius N° 35 : 2358\n",
            "Predicción de Registro de temperatura en grados Celsius N° 36 : 2341\n",
            "Predicción de Registro de temperatura en grados Celsius N° 37 : 2355\n",
            "Predicción de Registro de temperatura en grados Celsius N° 38 : 2382\n",
            "Predicción de Registro de temperatura en grados Celsius N° 39 : 2338\n",
            "Predicción de Registro de temperatura en grados Celsius N° 40 : 2379\n",
            "Predicción de Registro de temperatura en grados Celsius N° 41 : 2253\n",
            "Predicción de Registro de temperatura en grados Celsius N° 42 : 2414\n",
            "Predicción de Registro de temperatura en grados Celsius N° 43 : 2403\n",
            "Predicción de Registro de temperatura en grados Celsius N° 44 : 2488\n",
            "Predicción de Registro de temperatura en grados Celsius N° 45 : 2482\n",
            "Predicción de Registro de temperatura en grados Celsius N° 46 : 2459\n",
            "Predicción de Registro de temperatura en grados Celsius N° 47 : 2451\n",
            "Predicción de Registro de temperatura en grados Celsius N° 48 : 2201\n",
            "Predicción de Registro de temperatura en grados Celsius N° 49 : 2424\n",
            "Predicción de Registro de temperatura en grados Celsius N° 50 : 2412\n",
            "Predicción de Registro de temperatura en grados Celsius N° 51 : 2339\n",
            "Predicción de Registro de temperatura en grados Celsius N° 52 : 2398\n",
            "Predicción de Registro de temperatura en grados Celsius N° 53 : 2330\n",
            "Predicción de Registro de temperatura en grados Celsius N° 54 : 2382\n",
            "Predicción de Registro de temperatura en grados Celsius N° 55 : 2359\n",
            "Predicción de Registro de temperatura en grados Celsius N° 56 : 2310\n",
            "Predicción de Registro de temperatura en grados Celsius N° 57 : 2296\n",
            "Predicción de Registro de temperatura en grados Celsius N° 58 : 2301\n",
            "Predicción de Registro de temperatura en grados Celsius N° 59 : 2223\n",
            "Predicción de Registro de temperatura en grados Celsius N° 60 : 2250\n",
            "Predicción de Registro de temperatura en grados Celsius N° 61 : 2303\n",
            "Predicción de Registro de temperatura en grados Celsius N° 62 : 2235\n",
            "Predicción de Registro de temperatura en grados Celsius N° 63 : 2310\n",
            "Predicción de Registro de temperatura en grados Celsius N° 64 : 2315\n",
            "Predicción de Registro de temperatura en grados Celsius N° 65 : 2279\n",
            "Predicción de Registro de temperatura en grados Celsius N° 66 : 2336\n",
            "Predicción de Registro de temperatura en grados Celsius N° 67 : 2208\n",
            "Predicción de Registro de temperatura en grados Celsius N° 68 : 2414\n",
            "Predicción de Registro de temperatura en grados Celsius N° 69 : 2340\n",
            "Predicción de Registro de temperatura en grados Celsius N° 70 : 2466\n",
            "Predicción de Registro de temperatura en grados Celsius N° 71 : 2424\n",
            "Predicción de Registro de temperatura en grados Celsius N° 72 : 2467\n",
            "Predicción de Registro de temperatura en grados Celsius N° 73 : 2598\n",
            "Predicción de Registro de temperatura en grados Celsius N° 74 : 2604\n",
            "Predicción de Registro de temperatura en grados Celsius N° 75 : 2603\n",
            "Predicción de Registro de temperatura en grados Celsius N° 76 : 2623\n",
            "Predicción de Registro de temperatura en grados Celsius N° 77 : 2630\n",
            "Predicción de Registro de temperatura en grados Celsius N° 78 : 2539\n",
            "Predicción de Registro de temperatura en grados Celsius N° 79 : 2573\n",
            "Predicción de Registro de temperatura en grados Celsius N° 80 : 2681\n",
            "Predicción de Registro de temperatura en grados Celsius N° 81 : 2594\n",
            "Predicción de Registro de temperatura en grados Celsius N° 82 : 2397\n",
            "Predicción de Registro de temperatura en grados Celsius N° 83 : 2662\n",
            "Predicción de Registro de temperatura en grados Celsius N° 84 : 2664\n",
            "Predicción de Registro de temperatura en grados Celsius N° 85 : 2648\n",
            "Predicción de Registro de temperatura en grados Celsius N° 86 : 2545\n",
            "Predicción de Registro de temperatura en grados Celsius N° 87 : 2620\n",
            "Predicción de Registro de temperatura en grados Celsius N° 88 : 2536\n",
            "Predicción de Registro de temperatura en grados Celsius N° 89 : 2528\n",
            "Predicción de Registro de temperatura en grados Celsius N° 90 : 2513\n",
            "Predicción de Registro de temperatura en grados Celsius N° 91 : 2566\n",
            "Predicción de Registro de temperatura en grados Celsius N° 92 : 2590\n",
            "Predicción de Registro de temperatura en grados Celsius N° 93 : 2272\n",
            "Predicción de Registro de temperatura en grados Celsius N° 94 : 2602\n",
            "Predicción de Registro de temperatura en grados Celsius N° 95 : 2603\n",
            "Predicción de Registro de temperatura en grados Celsius N° 96 : 2306\n",
            "Predicción de Registro de temperatura en grados Celsius N° 97 : 2613\n",
            "Predicción de Registro de temperatura en grados Celsius N° 98 : 2599\n",
            "Predicción de Registro de temperatura en grados Celsius N° 99 : 2611\n",
            "Predicción de Registro de temperatura en grados Celsius N° 100 : 2606\n"
          ]
        }
      ]
    },
    {
      "cell_type": "markdown",
      "metadata": {
        "id": "CRpj6McMjOes"
      },
      "source": [
        "ECUACION DE LA NORMAL"
      ]
    },
    {
      "cell_type": "code",
      "execution_count": 79,
      "metadata": {
        "id": "VT1kPVS4jOes"
      },
      "outputs": [],
      "source": [
        "import pandas as pd\n",
        "import numpy as np\n",
        "data = pd.read_csv('/content/WeatherJena.csv', delimiter=';')"
      ]
    },
    {
      "cell_type": "code",
      "execution_count": 80,
      "metadata": {
        "colab": {
          "base_uri": "https://localhost:8080/",
          "height": 441
        },
        "id": "BGAuNkR7jOes",
        "outputId": "928dc693-cad4-4036-d6bf-50c22ca3a290"
      },
      "outputs": [
        {
          "output_type": "display_data",
          "data": {
            "text/plain": [
              "        p (mbar)  T (degC)  Tdew (degC)  rh (%)  VPmax (mbar)  VPact (mbar)  \\\n",
              "0          96756      -284         -341     958           495           475   \n",
              "1          96745      -285         -343     957           495           474   \n",
              "2          96745      -288         -346     958           494           473   \n",
              "3          96734      -290         -347     958           493           472   \n",
              "4          96729      -296         -353     958           491            47   \n",
              "...          ...       ...          ...     ...           ...           ...   \n",
              "199995     98715      1352          936     759          1552          1178   \n",
              "199996     98718      1335          931     765          1535          1174   \n",
              "199997     98733      1326          915     761          1526          1161   \n",
              "199998      9874      1322          915     763          1522          1161   \n",
              "199999     98737      1330          921     762           153          1165   \n",
              "\n",
              "        VPdef (mbar)  sh (g/kg)  H2OC (mmol/mol)  rho (g/m**3)  Tlog (degC)  \n",
              "0                 21        306              491        124456          859  \n",
              "1                 21        305               49        124448          853  \n",
              "2                 21        305              489        124465          852  \n",
              "3                 21        304              488        124457          854  \n",
              "4                 21        303              486        124481          855  \n",
              "...              ...        ...              ...           ...          ...  \n",
              "199995           374        745             1193        119413         2158  \n",
              "199996           361        743             1189        119489         2152  \n",
              "199997           365        735             1176        119551          215  \n",
              "199998           361        735             1176        119576         2152  \n",
              "199999           364        738              118        119537         2157  \n",
              "\n",
              "[200000 rows x 11 columns]"
            ],
            "text/html": [
              "\n",
              "  <div id=\"df-73bcbd92-1034-4b88-813b-a7b95182dc69\" class=\"colab-df-container\">\n",
              "    <div>\n",
              "<style scoped>\n",
              "    .dataframe tbody tr th:only-of-type {\n",
              "        vertical-align: middle;\n",
              "    }\n",
              "\n",
              "    .dataframe tbody tr th {\n",
              "        vertical-align: top;\n",
              "    }\n",
              "\n",
              "    .dataframe thead th {\n",
              "        text-align: right;\n",
              "    }\n",
              "</style>\n",
              "<table border=\"1\" class=\"dataframe\">\n",
              "  <thead>\n",
              "    <tr style=\"text-align: right;\">\n",
              "      <th></th>\n",
              "      <th>p (mbar)</th>\n",
              "      <th>T (degC)</th>\n",
              "      <th>Tdew (degC)</th>\n",
              "      <th>rh (%)</th>\n",
              "      <th>VPmax (mbar)</th>\n",
              "      <th>VPact (mbar)</th>\n",
              "      <th>VPdef (mbar)</th>\n",
              "      <th>sh (g/kg)</th>\n",
              "      <th>H2OC (mmol/mol)</th>\n",
              "      <th>rho (g/m**3)</th>\n",
              "      <th>Tlog (degC)</th>\n",
              "    </tr>\n",
              "  </thead>\n",
              "  <tbody>\n",
              "    <tr>\n",
              "      <th>0</th>\n",
              "      <td>96756</td>\n",
              "      <td>-284</td>\n",
              "      <td>-341</td>\n",
              "      <td>958</td>\n",
              "      <td>495</td>\n",
              "      <td>475</td>\n",
              "      <td>21</td>\n",
              "      <td>306</td>\n",
              "      <td>491</td>\n",
              "      <td>124456</td>\n",
              "      <td>859</td>\n",
              "    </tr>\n",
              "    <tr>\n",
              "      <th>1</th>\n",
              "      <td>96745</td>\n",
              "      <td>-285</td>\n",
              "      <td>-343</td>\n",
              "      <td>957</td>\n",
              "      <td>495</td>\n",
              "      <td>474</td>\n",
              "      <td>21</td>\n",
              "      <td>305</td>\n",
              "      <td>49</td>\n",
              "      <td>124448</td>\n",
              "      <td>853</td>\n",
              "    </tr>\n",
              "    <tr>\n",
              "      <th>2</th>\n",
              "      <td>96745</td>\n",
              "      <td>-288</td>\n",
              "      <td>-346</td>\n",
              "      <td>958</td>\n",
              "      <td>494</td>\n",
              "      <td>473</td>\n",
              "      <td>21</td>\n",
              "      <td>305</td>\n",
              "      <td>489</td>\n",
              "      <td>124465</td>\n",
              "      <td>852</td>\n",
              "    </tr>\n",
              "    <tr>\n",
              "      <th>3</th>\n",
              "      <td>96734</td>\n",
              "      <td>-290</td>\n",
              "      <td>-347</td>\n",
              "      <td>958</td>\n",
              "      <td>493</td>\n",
              "      <td>472</td>\n",
              "      <td>21</td>\n",
              "      <td>304</td>\n",
              "      <td>488</td>\n",
              "      <td>124457</td>\n",
              "      <td>854</td>\n",
              "    </tr>\n",
              "    <tr>\n",
              "      <th>4</th>\n",
              "      <td>96729</td>\n",
              "      <td>-296</td>\n",
              "      <td>-353</td>\n",
              "      <td>958</td>\n",
              "      <td>491</td>\n",
              "      <td>47</td>\n",
              "      <td>21</td>\n",
              "      <td>303</td>\n",
              "      <td>486</td>\n",
              "      <td>124481</td>\n",
              "      <td>855</td>\n",
              "    </tr>\n",
              "    <tr>\n",
              "      <th>...</th>\n",
              "      <td>...</td>\n",
              "      <td>...</td>\n",
              "      <td>...</td>\n",
              "      <td>...</td>\n",
              "      <td>...</td>\n",
              "      <td>...</td>\n",
              "      <td>...</td>\n",
              "      <td>...</td>\n",
              "      <td>...</td>\n",
              "      <td>...</td>\n",
              "      <td>...</td>\n",
              "    </tr>\n",
              "    <tr>\n",
              "      <th>199995</th>\n",
              "      <td>98715</td>\n",
              "      <td>1352</td>\n",
              "      <td>936</td>\n",
              "      <td>759</td>\n",
              "      <td>1552</td>\n",
              "      <td>1178</td>\n",
              "      <td>374</td>\n",
              "      <td>745</td>\n",
              "      <td>1193</td>\n",
              "      <td>119413</td>\n",
              "      <td>2158</td>\n",
              "    </tr>\n",
              "    <tr>\n",
              "      <th>199996</th>\n",
              "      <td>98718</td>\n",
              "      <td>1335</td>\n",
              "      <td>931</td>\n",
              "      <td>765</td>\n",
              "      <td>1535</td>\n",
              "      <td>1174</td>\n",
              "      <td>361</td>\n",
              "      <td>743</td>\n",
              "      <td>1189</td>\n",
              "      <td>119489</td>\n",
              "      <td>2152</td>\n",
              "    </tr>\n",
              "    <tr>\n",
              "      <th>199997</th>\n",
              "      <td>98733</td>\n",
              "      <td>1326</td>\n",
              "      <td>915</td>\n",
              "      <td>761</td>\n",
              "      <td>1526</td>\n",
              "      <td>1161</td>\n",
              "      <td>365</td>\n",
              "      <td>735</td>\n",
              "      <td>1176</td>\n",
              "      <td>119551</td>\n",
              "      <td>215</td>\n",
              "    </tr>\n",
              "    <tr>\n",
              "      <th>199998</th>\n",
              "      <td>9874</td>\n",
              "      <td>1322</td>\n",
              "      <td>915</td>\n",
              "      <td>763</td>\n",
              "      <td>1522</td>\n",
              "      <td>1161</td>\n",
              "      <td>361</td>\n",
              "      <td>735</td>\n",
              "      <td>1176</td>\n",
              "      <td>119576</td>\n",
              "      <td>2152</td>\n",
              "    </tr>\n",
              "    <tr>\n",
              "      <th>199999</th>\n",
              "      <td>98737</td>\n",
              "      <td>1330</td>\n",
              "      <td>921</td>\n",
              "      <td>762</td>\n",
              "      <td>153</td>\n",
              "      <td>1165</td>\n",
              "      <td>364</td>\n",
              "      <td>738</td>\n",
              "      <td>118</td>\n",
              "      <td>119537</td>\n",
              "      <td>2157</td>\n",
              "    </tr>\n",
              "  </tbody>\n",
              "</table>\n",
              "<p>200000 rows × 11 columns</p>\n",
              "</div>\n",
              "    <div class=\"colab-df-buttons\">\n",
              "\n",
              "  <div class=\"colab-df-container\">\n",
              "    <button class=\"colab-df-convert\" onclick=\"convertToInteractive('df-73bcbd92-1034-4b88-813b-a7b95182dc69')\"\n",
              "            title=\"Convert this dataframe to an interactive table.\"\n",
              "            style=\"display:none;\">\n",
              "\n",
              "  <svg xmlns=\"http://www.w3.org/2000/svg\" height=\"24px\" viewBox=\"0 -960 960 960\">\n",
              "    <path d=\"M120-120v-720h720v720H120Zm60-500h600v-160H180v160Zm220 220h160v-160H400v160Zm0 220h160v-160H400v160ZM180-400h160v-160H180v160Zm440 0h160v-160H620v160ZM180-180h160v-160H180v160Zm440 0h160v-160H620v160Z\"/>\n",
              "  </svg>\n",
              "    </button>\n",
              "\n",
              "  <style>\n",
              "    .colab-df-container {\n",
              "      display:flex;\n",
              "      gap: 12px;\n",
              "    }\n",
              "\n",
              "    .colab-df-convert {\n",
              "      background-color: #E8F0FE;\n",
              "      border: none;\n",
              "      border-radius: 50%;\n",
              "      cursor: pointer;\n",
              "      display: none;\n",
              "      fill: #1967D2;\n",
              "      height: 32px;\n",
              "      padding: 0 0 0 0;\n",
              "      width: 32px;\n",
              "    }\n",
              "\n",
              "    .colab-df-convert:hover {\n",
              "      background-color: #E2EBFA;\n",
              "      box-shadow: 0px 1px 2px rgba(60, 64, 67, 0.3), 0px 1px 3px 1px rgba(60, 64, 67, 0.15);\n",
              "      fill: #174EA6;\n",
              "    }\n",
              "\n",
              "    .colab-df-buttons div {\n",
              "      margin-bottom: 4px;\n",
              "    }\n",
              "\n",
              "    [theme=dark] .colab-df-convert {\n",
              "      background-color: #3B4455;\n",
              "      fill: #D2E3FC;\n",
              "    }\n",
              "\n",
              "    [theme=dark] .colab-df-convert:hover {\n",
              "      background-color: #434B5C;\n",
              "      box-shadow: 0px 1px 3px 1px rgba(0, 0, 0, 0.15);\n",
              "      filter: drop-shadow(0px 1px 2px rgba(0, 0, 0, 0.3));\n",
              "      fill: #FFFFFF;\n",
              "    }\n",
              "  </style>\n",
              "\n",
              "    <script>\n",
              "      const buttonEl =\n",
              "        document.querySelector('#df-73bcbd92-1034-4b88-813b-a7b95182dc69 button.colab-df-convert');\n",
              "      buttonEl.style.display =\n",
              "        google.colab.kernel.accessAllowed ? 'block' : 'none';\n",
              "\n",
              "      async function convertToInteractive(key) {\n",
              "        const element = document.querySelector('#df-73bcbd92-1034-4b88-813b-a7b95182dc69');\n",
              "        const dataTable =\n",
              "          await google.colab.kernel.invokeFunction('convertToInteractive',\n",
              "                                                    [key], {});\n",
              "        if (!dataTable) return;\n",
              "\n",
              "        const docLinkHtml = 'Like what you see? Visit the ' +\n",
              "          '<a target=\"_blank\" href=https://colab.research.google.com/notebooks/data_table.ipynb>data table notebook</a>'\n",
              "          + ' to learn more about interactive tables.';\n",
              "        element.innerHTML = '';\n",
              "        dataTable['output_type'] = 'display_data';\n",
              "        await google.colab.output.renderOutput(dataTable, element);\n",
              "        const docLink = document.createElement('div');\n",
              "        docLink.innerHTML = docLinkHtml;\n",
              "        element.appendChild(docLink);\n",
              "      }\n",
              "    </script>\n",
              "  </div>\n",
              "\n",
              "\n",
              "<div id=\"df-62f4b7f8-7065-4de1-84d5-2677737f6689\">\n",
              "  <button class=\"colab-df-quickchart\" onclick=\"quickchart('df-62f4b7f8-7065-4de1-84d5-2677737f6689')\"\n",
              "            title=\"Suggest charts\"\n",
              "            style=\"display:none;\">\n",
              "\n",
              "<svg xmlns=\"http://www.w3.org/2000/svg\" height=\"24px\"viewBox=\"0 0 24 24\"\n",
              "     width=\"24px\">\n",
              "    <g>\n",
              "        <path d=\"M19 3H5c-1.1 0-2 .9-2 2v14c0 1.1.9 2 2 2h14c1.1 0 2-.9 2-2V5c0-1.1-.9-2-2-2zM9 17H7v-7h2v7zm4 0h-2V7h2v10zm4 0h-2v-4h2v4z\"/>\n",
              "    </g>\n",
              "</svg>\n",
              "  </button>\n",
              "\n",
              "<style>\n",
              "  .colab-df-quickchart {\n",
              "      --bg-color: #E8F0FE;\n",
              "      --fill-color: #1967D2;\n",
              "      --hover-bg-color: #E2EBFA;\n",
              "      --hover-fill-color: #174EA6;\n",
              "      --disabled-fill-color: #AAA;\n",
              "      --disabled-bg-color: #DDD;\n",
              "  }\n",
              "\n",
              "  [theme=dark] .colab-df-quickchart {\n",
              "      --bg-color: #3B4455;\n",
              "      --fill-color: #D2E3FC;\n",
              "      --hover-bg-color: #434B5C;\n",
              "      --hover-fill-color: #FFFFFF;\n",
              "      --disabled-bg-color: #3B4455;\n",
              "      --disabled-fill-color: #666;\n",
              "  }\n",
              "\n",
              "  .colab-df-quickchart {\n",
              "    background-color: var(--bg-color);\n",
              "    border: none;\n",
              "    border-radius: 50%;\n",
              "    cursor: pointer;\n",
              "    display: none;\n",
              "    fill: var(--fill-color);\n",
              "    height: 32px;\n",
              "    padding: 0;\n",
              "    width: 32px;\n",
              "  }\n",
              "\n",
              "  .colab-df-quickchart:hover {\n",
              "    background-color: var(--hover-bg-color);\n",
              "    box-shadow: 0 1px 2px rgba(60, 64, 67, 0.3), 0 1px 3px 1px rgba(60, 64, 67, 0.15);\n",
              "    fill: var(--button-hover-fill-color);\n",
              "  }\n",
              "\n",
              "  .colab-df-quickchart-complete:disabled,\n",
              "  .colab-df-quickchart-complete:disabled:hover {\n",
              "    background-color: var(--disabled-bg-color);\n",
              "    fill: var(--disabled-fill-color);\n",
              "    box-shadow: none;\n",
              "  }\n",
              "\n",
              "  .colab-df-spinner {\n",
              "    border: 2px solid var(--fill-color);\n",
              "    border-color: transparent;\n",
              "    border-bottom-color: var(--fill-color);\n",
              "    animation:\n",
              "      spin 1s steps(1) infinite;\n",
              "  }\n",
              "\n",
              "  @keyframes spin {\n",
              "    0% {\n",
              "      border-color: transparent;\n",
              "      border-bottom-color: var(--fill-color);\n",
              "      border-left-color: var(--fill-color);\n",
              "    }\n",
              "    20% {\n",
              "      border-color: transparent;\n",
              "      border-left-color: var(--fill-color);\n",
              "      border-top-color: var(--fill-color);\n",
              "    }\n",
              "    30% {\n",
              "      border-color: transparent;\n",
              "      border-left-color: var(--fill-color);\n",
              "      border-top-color: var(--fill-color);\n",
              "      border-right-color: var(--fill-color);\n",
              "    }\n",
              "    40% {\n",
              "      border-color: transparent;\n",
              "      border-right-color: var(--fill-color);\n",
              "      border-top-color: var(--fill-color);\n",
              "    }\n",
              "    60% {\n",
              "      border-color: transparent;\n",
              "      border-right-color: var(--fill-color);\n",
              "    }\n",
              "    80% {\n",
              "      border-color: transparent;\n",
              "      border-right-color: var(--fill-color);\n",
              "      border-bottom-color: var(--fill-color);\n",
              "    }\n",
              "    90% {\n",
              "      border-color: transparent;\n",
              "      border-bottom-color: var(--fill-color);\n",
              "    }\n",
              "  }\n",
              "</style>\n",
              "\n",
              "  <script>\n",
              "    async function quickchart(key) {\n",
              "      const quickchartButtonEl =\n",
              "        document.querySelector('#' + key + ' button');\n",
              "      quickchartButtonEl.disabled = true;  // To prevent multiple clicks.\n",
              "      quickchartButtonEl.classList.add('colab-df-spinner');\n",
              "      try {\n",
              "        const charts = await google.colab.kernel.invokeFunction(\n",
              "            'suggestCharts', [key], {});\n",
              "      } catch (error) {\n",
              "        console.error('Error during call to suggestCharts:', error);\n",
              "      }\n",
              "      quickchartButtonEl.classList.remove('colab-df-spinner');\n",
              "      quickchartButtonEl.classList.add('colab-df-quickchart-complete');\n",
              "    }\n",
              "    (() => {\n",
              "      let quickchartButtonEl =\n",
              "        document.querySelector('#df-62f4b7f8-7065-4de1-84d5-2677737f6689 button');\n",
              "      quickchartButtonEl.style.display =\n",
              "        google.colab.kernel.accessAllowed ? 'block' : 'none';\n",
              "    })();\n",
              "  </script>\n",
              "</div>\n",
              "\n",
              "  <div id=\"id_947ba8e7-c9ad-4b59-843f-0a1b05b54c31\">\n",
              "    <style>\n",
              "      .colab-df-generate {\n",
              "        background-color: #E8F0FE;\n",
              "        border: none;\n",
              "        border-radius: 50%;\n",
              "        cursor: pointer;\n",
              "        display: none;\n",
              "        fill: #1967D2;\n",
              "        height: 32px;\n",
              "        padding: 0 0 0 0;\n",
              "        width: 32px;\n",
              "      }\n",
              "\n",
              "      .colab-df-generate:hover {\n",
              "        background-color: #E2EBFA;\n",
              "        box-shadow: 0px 1px 2px rgba(60, 64, 67, 0.3), 0px 1px 3px 1px rgba(60, 64, 67, 0.15);\n",
              "        fill: #174EA6;\n",
              "      }\n",
              "\n",
              "      [theme=dark] .colab-df-generate {\n",
              "        background-color: #3B4455;\n",
              "        fill: #D2E3FC;\n",
              "      }\n",
              "\n",
              "      [theme=dark] .colab-df-generate:hover {\n",
              "        background-color: #434B5C;\n",
              "        box-shadow: 0px 1px 3px 1px rgba(0, 0, 0, 0.15);\n",
              "        filter: drop-shadow(0px 1px 2px rgba(0, 0, 0, 0.3));\n",
              "        fill: #FFFFFF;\n",
              "      }\n",
              "    </style>\n",
              "    <button class=\"colab-df-generate\" onclick=\"generateWithVariable('data')\"\n",
              "            title=\"Generate code using this dataframe.\"\n",
              "            style=\"display:none;\">\n",
              "\n",
              "  <svg xmlns=\"http://www.w3.org/2000/svg\" height=\"24px\"viewBox=\"0 0 24 24\"\n",
              "       width=\"24px\">\n",
              "    <path d=\"M7,19H8.4L18.45,9,17,7.55,7,17.6ZM5,21V16.75L18.45,3.32a2,2,0,0,1,2.83,0l1.4,1.43a1.91,1.91,0,0,1,.58,1.4,1.91,1.91,0,0,1-.58,1.4L9.25,21ZM18.45,9,17,7.55Zm-12,3A5.31,5.31,0,0,0,4.9,8.1,5.31,5.31,0,0,0,1,6.5,5.31,5.31,0,0,0,4.9,4.9,5.31,5.31,0,0,0,6.5,1,5.31,5.31,0,0,0,8.1,4.9,5.31,5.31,0,0,0,12,6.5,5.46,5.46,0,0,0,6.5,12Z\"/>\n",
              "  </svg>\n",
              "    </button>\n",
              "    <script>\n",
              "      (() => {\n",
              "      const buttonEl =\n",
              "        document.querySelector('#id_947ba8e7-c9ad-4b59-843f-0a1b05b54c31 button.colab-df-generate');\n",
              "      buttonEl.style.display =\n",
              "        google.colab.kernel.accessAllowed ? 'block' : 'none';\n",
              "\n",
              "      buttonEl.onclick = () => {\n",
              "        google.colab.notebook.generateWithVariable('data');\n",
              "      }\n",
              "      })();\n",
              "    </script>\n",
              "  </div>\n",
              "\n",
              "    </div>\n",
              "  </div>\n"
            ],
            "application/vnd.google.colaboratory.intrinsic+json": {
              "type": "dataframe",
              "variable_name": "data"
            }
          },
          "metadata": {}
        }
      ],
      "source": [
        "display(data)"
      ]
    },
    {
      "cell_type": "code",
      "execution_count": 81,
      "metadata": {
        "id": "p4FAD67MjOet"
      },
      "outputs": [],
      "source": [
        "X = data.iloc[:, :-1]\n",
        "y = data.iloc[:, -1]\n",
        "m = y.size"
      ]
    },
    {
      "cell_type": "code",
      "execution_count": 82,
      "metadata": {
        "colab": {
          "base_uri": "https://localhost:8080/"
        },
        "id": "t9Om5Zl5jOet",
        "outputId": "dafa69ae-8c2e-4ecd-e834-158731abde9e"
      },
      "outputs": [
        {
          "output_type": "stream",
          "name": "stdout",
          "text": [
            "   p (mbar)  T (degC)  Tdew (degC)  rh (%)  VPmax (mbar)  VPact (mbar)  \\\n",
            "0     96756      -284         -341     958           495           475   \n",
            "1     96745      -285         -343     957           495           474   \n",
            "2     96745      -288         -346     958           494           473   \n",
            "3     96734      -290         -347     958           493           472   \n",
            "4     96729      -296         -353     958           491            47   \n",
            "\n",
            "   VPdef (mbar)  sh (g/kg)  H2OC (mmol/mol)  rho (g/m**3)  \n",
            "0            21        306              491        124456  \n",
            "1            21        305               49        124448  \n",
            "2            21        305              489        124465  \n",
            "3            21        304              488        124457  \n",
            "4            21        303              486        124481  \n"
          ]
        }
      ],
      "source": [
        "print(X.head())"
      ]
    },
    {
      "cell_type": "code",
      "execution_count": 83,
      "metadata": {
        "id": "fZYdkRotjOet"
      },
      "outputs": [],
      "source": [
        "X = np.concatenate([np.ones((m, 1)), X], axis=1)"
      ]
    },
    {
      "cell_type": "code",
      "execution_count": 84,
      "metadata": {
        "id": "gVZdjjk9lHQ5"
      },
      "outputs": [],
      "source": [
        "# Funcion de la ecuacion de la normal, obtenemos valores optimos\n",
        "def normalEqn(X, y):\n",
        "    theta = np.zeros(X.shape[1])\n",
        "    theta = np.dot(np.dot(np.linalg.inv(np.dot(X.T,X)),X.T),y)\n",
        "    return theta"
      ]
    },
    {
      "cell_type": "markdown",
      "source": [
        "Ahora generamos valores con los datos de entrada del .csv Datos_Prediccion"
      ],
      "metadata": {
        "id": "jyfMLVi08x8W"
      }
    },
    {
      "cell_type": "code",
      "execution_count": 86,
      "metadata": {
        "colab": {
          "base_uri": "https://localhost:8080/"
        },
        "id": "Ybyw-FfolHQ5",
        "outputId": "5c46cff9-7d11-4c48-defc-068f57658190"
      },
      "outputs": [
        {
          "output_type": "stream",
          "name": "stdout",
          "text": [
            "Predicción de Registro de temperatura en grados Celsius N° 1 : 2254\n",
            "Predicción de Registro de temperatura en grados Celsius N° 2 : 2296\n",
            "Predicción de Registro de temperatura en grados Celsius N° 3 : 2192\n",
            "Predicción de Registro de temperatura en grados Celsius N° 4 : 2240\n",
            "Predicción de Registro de temperatura en grados Celsius N° 5 : 2267\n",
            "Predicción de Registro de temperatura en grados Celsius N° 6 : 2257\n",
            "Predicción de Registro de temperatura en grados Celsius N° 7 : 2211\n",
            "Predicción de Registro de temperatura en grados Celsius N° 8 : 2357\n",
            "Predicción de Registro de temperatura en grados Celsius N° 9 : 2354\n",
            "Predicción de Registro de temperatura en grados Celsius N° 10 : 2389\n",
            "Predicción de Registro de temperatura en grados Celsius N° 11 : 2344\n",
            "Predicción de Registro de temperatura en grados Celsius N° 12 : 2289\n",
            "Predicción de Registro de temperatura en grados Celsius N° 13 : 2276\n",
            "Predicción de Registro de temperatura en grados Celsius N° 14 : 2268\n",
            "Predicción de Registro de temperatura en grados Celsius N° 15 : 2312\n",
            "Predicción de Registro de temperatura en grados Celsius N° 16 : 2383\n",
            "Predicción de Registro de temperatura en grados Celsius N° 17 : 2398\n",
            "Predicción de Registro de temperatura en grados Celsius N° 18 : 2257\n",
            "Predicción de Registro de temperatura en grados Celsius N° 19 : 2331\n",
            "Predicción de Registro de temperatura en grados Celsius N° 20 : 2329\n",
            "Predicción de Registro de temperatura en grados Celsius N° 21 : 2320\n",
            "Predicción de Registro de temperatura en grados Celsius N° 22 : 2342\n",
            "Predicción de Registro de temperatura en grados Celsius N° 23 : 2413\n",
            "Predicción de Registro de temperatura en grados Celsius N° 24 : 2393\n",
            "Predicción de Registro de temperatura en grados Celsius N° 25 : 2293\n",
            "Predicción de Registro de temperatura en grados Celsius N° 26 : 2274\n",
            "Predicción de Registro de temperatura en grados Celsius N° 27 : 2356\n",
            "Predicción de Registro de temperatura en grados Celsius N° 28 : 2323\n",
            "Predicción de Registro de temperatura en grados Celsius N° 29 : 2372\n",
            "Predicción de Registro de temperatura en grados Celsius N° 30 : 2377\n",
            "Predicción de Registro de temperatura en grados Celsius N° 31 : 2377\n",
            "Predicción de Registro de temperatura en grados Celsius N° 32 : 2370\n",
            "Predicción de Registro de temperatura en grados Celsius N° 33 : 2296\n",
            "Predicción de Registro de temperatura en grados Celsius N° 34 : 2365\n",
            "Predicción de Registro de temperatura en grados Celsius N° 35 : 2360\n",
            "Predicción de Registro de temperatura en grados Celsius N° 36 : 2347\n",
            "Predicción de Registro de temperatura en grados Celsius N° 37 : 2359\n",
            "Predicción de Registro de temperatura en grados Celsius N° 38 : 2376\n",
            "Predicción de Registro de temperatura en grados Celsius N° 39 : 2344\n",
            "Predicción de Registro de temperatura en grados Celsius N° 40 : 2387\n",
            "Predicción de Registro de temperatura en grados Celsius N° 41 : 2371\n",
            "Predicción de Registro de temperatura en grados Celsius N° 42 : 2425\n",
            "Predicción de Registro de temperatura en grados Celsius N° 43 : 2404\n",
            "Predicción de Registro de temperatura en grados Celsius N° 44 : 2491\n",
            "Predicción de Registro de temperatura en grados Celsius N° 45 : 2483\n",
            "Predicción de Registro de temperatura en grados Celsius N° 46 : 2457\n",
            "Predicción de Registro de temperatura en grados Celsius N° 47 : 2447\n",
            "Predicción de Registro de temperatura en grados Celsius N° 48 : 2264\n",
            "Predicción de Registro de temperatura en grados Celsius N° 49 : 2417\n",
            "Predicción de Registro de temperatura en grados Celsius N° 50 : 2403\n",
            "Predicción de Registro de temperatura en grados Celsius N° 51 : 2371\n",
            "Predicción de Registro de temperatura en grados Celsius N° 52 : 2387\n",
            "Predicción de Registro de temperatura en grados Celsius N° 53 : 2365\n",
            "Predicción de Registro de temperatura en grados Celsius N° 54 : 2389\n",
            "Predicción de Registro de temperatura en grados Celsius N° 55 : 2341\n",
            "Predicción de Registro de temperatura en grados Celsius N° 56 : 2295\n",
            "Predicción de Registro de temperatura en grados Celsius N° 57 : 2277\n",
            "Predicción de Registro de temperatura en grados Celsius N° 58 : 2282\n",
            "Predicción de Registro de temperatura en grados Celsius N° 59 : 2208\n",
            "Predicción de Registro de temperatura en grados Celsius N° 60 : 2238\n",
            "Predicción de Registro de temperatura en grados Celsius N° 61 : 2306\n",
            "Predicción de Registro de temperatura en grados Celsius N° 62 : 2222\n",
            "Predicción de Registro de temperatura en grados Celsius N° 63 : 2291\n",
            "Predicción de Registro de temperatura en grados Celsius N° 64 : 2314\n",
            "Predicción de Registro de temperatura en grados Celsius N° 65 : 2273\n",
            "Predicción de Registro de temperatura en grados Celsius N° 66 : 2321\n",
            "Predicción de Registro de temperatura en grados Celsius N° 67 : 2281\n",
            "Predicción de Registro de temperatura en grados Celsius N° 68 : 2408\n",
            "Predicción de Registro de temperatura en grados Celsius N° 69 : 2339\n",
            "Predicción de Registro de temperatura en grados Celsius N° 70 : 2463\n",
            "Predicción de Registro de temperatura en grados Celsius N° 71 : 2428\n",
            "Predicción de Registro de temperatura en grados Celsius N° 72 : 2556\n",
            "Predicción de Registro de temperatura en grados Celsius N° 73 : 2603\n",
            "Predicción de Registro de temperatura en grados Celsius N° 74 : 2610\n",
            "Predicción de Registro de temperatura en grados Celsius N° 75 : 2611\n",
            "Predicción de Registro de temperatura en grados Celsius N° 76 : 2631\n",
            "Predicción de Registro de temperatura en grados Celsius N° 77 : 2639\n",
            "Predicción de Registro de temperatura en grados Celsius N° 78 : 2553\n",
            "Predicción de Registro de temperatura en grados Celsius N° 79 : 2588\n",
            "Predicción de Registro de temperatura en grados Celsius N° 80 : 2695\n",
            "Predicción de Registro de temperatura en grados Celsius N° 81 : 2612\n",
            "Predicción de Registro de temperatura en grados Celsius N° 82 : 2523\n",
            "Predicción de Registro de temperatura en grados Celsius N° 83 : 2674\n",
            "Predicción de Registro de temperatura en grados Celsius N° 84 : 2676\n",
            "Predicción de Registro de temperatura en grados Celsius N° 85 : 2659\n",
            "Predicción de Registro de temperatura en grados Celsius N° 86 : 2561\n",
            "Predicción de Registro de temperatura en grados Celsius N° 87 : 2629\n",
            "Predicción de Registro de temperatura en grados Celsius N° 88 : 2551\n",
            "Predicción de Registro de temperatura en grados Celsius N° 89 : 2539\n",
            "Predicción de Registro de temperatura en grados Celsius N° 90 : 2523\n",
            "Predicción de Registro de temperatura en grados Celsius N° 91 : 2584\n",
            "Predicción de Registro de temperatura en grados Celsius N° 92 : 2594\n",
            "Predicción de Registro de temperatura en grados Celsius N° 93 : 2390\n",
            "Predicción de Registro de temperatura en grados Celsius N° 94 : 2606\n",
            "Predicción de Registro de temperatura en grados Celsius N° 95 : 2608\n",
            "Predicción de Registro de temperatura en grados Celsius N° 96 : 2412\n",
            "Predicción de Registro de temperatura en grados Celsius N° 97 : 2618\n",
            "Predicción de Registro de temperatura en grados Celsius N° 98 : 2620\n",
            "Predicción de Registro de temperatura en grados Celsius N° 99 : 2615\n",
            "Predicción de Registro de temperatura en grados Celsius N° 100 : 2609\n"
          ]
        }
      ],
      "source": [
        "# Calcula los parametros con la ecuación de la normal\n",
        "theta = normalEqn(X, y)\n",
        "X_predic = pd.read_csv('/content/Datos_Prediccion.csv', delimiter=';')\n",
        "tamanho = X_predic.shape[0]\n",
        "X_predic = np.concatenate([np.ones((tamanho, 1)), X_predic], axis=1)\n",
        "\n",
        "for i in range(tamanho):\n",
        "  X_array = X_predic[i, :]\n",
        "  predic = np.dot(X_array, theta)\n",
        "  print('Predicción de Registro de temperatura en grados Celsius N°', i+1, ': {:.0f}'.format(predic))\n",
        "\n"
      ]
    },
    {
      "cell_type": "markdown",
      "metadata": {
        "id": "iryL413NjOet"
      },
      "source": [
        "REGRESION POLINOMIAL"
      ]
    },
    {
      "cell_type": "code",
      "execution_count": 87,
      "metadata": {
        "id": "Sw-v1DbPjOeu"
      },
      "outputs": [],
      "source": [
        "\n",
        "data = pd.read_csv('/content/WeatherJena.csv', delimiter=\";\")"
      ]
    },
    {
      "cell_type": "code",
      "execution_count": 88,
      "metadata": {
        "colab": {
          "base_uri": "https://localhost:8080/"
        },
        "id": "uYaNgYYQjOeu",
        "outputId": "cab2af0a-3e38-4aa8-d902-830992687226"
      },
      "outputs": [
        {
          "output_type": "stream",
          "name": "stdout",
          "text": [
            "<class 'pandas.core.frame.DataFrame'>\n",
            "RangeIndex: 200000 entries, 0 to 199999\n",
            "Data columns (total 11 columns):\n",
            " #   Column           Non-Null Count   Dtype\n",
            "---  ------           --------------   -----\n",
            " 0   p (mbar)         200000 non-null  int64\n",
            " 1   T (degC)         200000 non-null  int64\n",
            " 2   Tdew (degC)      200000 non-null  int64\n",
            " 3   rh (%)           200000 non-null  int64\n",
            " 4   VPmax (mbar)     200000 non-null  int64\n",
            " 5   VPact (mbar)     200000 non-null  int64\n",
            " 6   VPdef (mbar)     200000 non-null  int64\n",
            " 7   sh (g/kg)        200000 non-null  int64\n",
            " 8   H2OC (mmol/mol)  200000 non-null  int64\n",
            " 9   rho (g/m**3)     200000 non-null  int64\n",
            " 10  Tlog (degC)      200000 non-null  int64\n",
            "dtypes: int64(11)\n",
            "memory usage: 16.8 MB\n"
          ]
        }
      ],
      "source": [
        "data.info()"
      ]
    },
    {
      "cell_type": "code",
      "execution_count": 89,
      "metadata": {
        "id": "zNaTKuUVjOeu"
      },
      "outputs": [],
      "source": [
        "X = data.iloc[:, :-1]\n",
        "y = data.iloc[:, -1]\n",
        "m = y.size"
      ]
    },
    {
      "cell_type": "code",
      "execution_count": 90,
      "metadata": {
        "colab": {
          "base_uri": "https://localhost:8080/"
        },
        "id": "m9aLKOmqjOeu",
        "outputId": "31c2f07e-a75f-4934-c39a-a83e6dadd365"
      },
      "outputs": [
        {
          "output_type": "stream",
          "name": "stdout",
          "text": [
            "        p (mbar)  T (degC)  Tdew (degC)  rh (%)  VPmax (mbar)  VPact (mbar)  \\\n",
            "0          96756      -284         -341     958           495           475   \n",
            "1          96745      -285         -343     957           495           474   \n",
            "2          96745      -288         -346     958           494           473   \n",
            "3          96734      -290         -347     958           493           472   \n",
            "4          96729      -296         -353     958           491            47   \n",
            "...          ...       ...          ...     ...           ...           ...   \n",
            "199995     98715      1352          936     759          1552          1178   \n",
            "199996     98718      1335          931     765          1535          1174   \n",
            "199997     98733      1326          915     761          1526          1161   \n",
            "199998      9874      1322          915     763          1522          1161   \n",
            "199999     98737      1330          921     762           153          1165   \n",
            "\n",
            "        VPdef (mbar)  sh (g/kg)  H2OC (mmol/mol)  rho (g/m**3)  \n",
            "0                 21        306              491        124456  \n",
            "1                 21        305               49        124448  \n",
            "2                 21        305              489        124465  \n",
            "3                 21        304              488        124457  \n",
            "4                 21        303              486        124481  \n",
            "...              ...        ...              ...           ...  \n",
            "199995           374        745             1193        119413  \n",
            "199996           361        743             1189        119489  \n",
            "199997           365        735             1176        119551  \n",
            "199998           361        735             1176        119576  \n",
            "199999           364        738              118        119537  \n",
            "\n",
            "[200000 rows x 10 columns]\n",
            "0          859\n",
            "1          853\n",
            "2          852\n",
            "3          854\n",
            "4          855\n",
            "          ... \n",
            "199995    2158\n",
            "199996    2152\n",
            "199997     215\n",
            "199998    2152\n",
            "199999    2157\n",
            "Name: Tlog (degC), Length: 200000, dtype: int64\n",
            "200000\n"
          ]
        }
      ],
      "source": [
        "print(X)\n",
        "print(y)\n",
        "print(m)"
      ]
    },
    {
      "cell_type": "code",
      "execution_count": 91,
      "metadata": {
        "id": "LKHbXhyjjOeu"
      },
      "outputs": [],
      "source": [
        "X = np.concatenate([X, X * X], axis=1)"
      ]
    },
    {
      "cell_type": "code",
      "execution_count": 92,
      "metadata": {
        "colab": {
          "base_uri": "https://localhost:8080/"
        },
        "id": "L-aofy57jOev",
        "outputId": "3ea7c165-b9bf-42b0-bbbb-8af261458ae6"
      },
      "outputs": [
        {
          "output_type": "stream",
          "name": "stdout",
          "text": [
            "[[      96756        -284        -341 ...       93636      241081\n",
            "  15489295936]\n",
            " [      96745        -285        -343 ...       93025        2401\n",
            "  15487304704]\n",
            " [      96745        -288        -346 ...       93025      239121\n",
            "  15491536225]\n",
            " ...\n",
            " [      98733        1326         915 ...      540225     1382976\n",
            "  14292441601]\n",
            " [       9874        1322         915 ...      540225     1382976\n",
            "  14298419776]\n",
            " [      98737        1330         921 ...      544644       13924\n",
            "  14289094369]]\n"
          ]
        }
      ],
      "source": [
        "print(X)"
      ]
    },
    {
      "cell_type": "code",
      "execution_count": 93,
      "metadata": {
        "colab": {
          "base_uri": "https://localhost:8080/"
        },
        "id": "-_Tk3jxYjOev",
        "outputId": "2520a154-3b8c-463d-cc5f-8e1829f22fb0"
      },
      "outputs": [
        {
          "output_type": "stream",
          "name": "stdout",
          "text": [
            "Número de filas: 200000\n",
            "Número de columnas: 20\n"
          ]
        }
      ],
      "source": [
        "num_filas, num_columnas = X.shape\n",
        "print(\"Número de filas:\", num_filas)\n",
        "print(\"Número de columnas:\", num_columnas)"
      ]
    },
    {
      "cell_type": "code",
      "execution_count": 94,
      "metadata": {
        "id": "jATW9nWfjOev"
      },
      "outputs": [],
      "source": [
        "def  featureNormalize(X):\n",
        "    X_norm = X.copy()\n",
        "    mu = np.zeros(X.shape[1])\n",
        "    sigma = np.zeros(X.shape[1])\n",
        "\n",
        "    mu = np.mean(X, axis = 0)\n",
        "    sigma = np.std(X, axis = 0)\n",
        "    X_norm = (X - mu) / sigma\n",
        "\n",
        "    return X_norm, mu, sigma"
      ]
    },
    {
      "cell_type": "code",
      "execution_count": 95,
      "metadata": {
        "colab": {
          "base_uri": "https://localhost:8080/"
        },
        "id": "NR9__qqnjOev",
        "outputId": "d72df3b6-718e-4704-aa93-444d25fe4b0f"
      },
      "outputs": [
        {
          "output_type": "stream",
          "name": "stdout",
          "text": [
            "[[      96756        -284        -341 ...       93636      241081\n",
            "  15489295936]\n",
            " [      96745        -285        -343 ...       93025        2401\n",
            "  15487304704]\n",
            " [      96745        -288        -346 ...       93025      239121\n",
            "  15491536225]\n",
            " ...\n",
            " [      98733        1326         915 ...      540225     1382976\n",
            "  14292441601]\n",
            " [       9874        1322         915 ...      540225     1382976\n",
            "  14298419776]\n",
            " [      98737        1330         921 ...      544644       13924\n",
            "  14289094369]]\n",
            "Media calculada: [8.99315164e+04 9.04699850e+02 4.46416535e+02 2.17355573e+03\n",
            " 1.21844535e+03 8.49547060e+02 3.69939875e+02 5.36698985e+02\n",
            " 8.57281530e+02 1.10640100e+05 8.81463041e+09 1.61456417e+06\n",
            " 7.24236594e+05 9.84027398e+06 2.18091617e+06 9.53918027e+05\n",
            " 3.67224530e+05 3.81361928e+05 9.73168976e+05 1.33664438e+10]\n",
            "Desviación estandar calculada: [2.69620618e+04 8.92234471e+02 7.24533554e+02 2.26184205e+03\n",
            " 8.34450177e+02 4.81858713e+02 4.79967727e+02 3.05476885e+02\n",
            " 4.88095641e+02 3.35441801e+04 2.90807205e+09 1.84053686e+06\n",
            " 7.86541905e+05 1.53906920e+07 2.97446327e+06 9.33878029e+05\n",
            " 1.00080325e+06 3.75432866e+05 9.56229757e+05 4.53165062e+09]\n",
            "[[ 0.25311431 -1.33227295 -1.08679098 ... -0.7663845  -0.7655984\n",
            "   0.4684501 ]\n",
            " [ 0.25270633 -1.33339373 -1.08955138 ... -0.76801195 -1.01520369\n",
            "   0.46801069]\n",
            " [ 0.25270633 -1.33675608 -1.09369198 ... -0.76801195 -0.76764812\n",
            "   0.46894446]\n",
            " ...\n",
            " [ 0.32643956  0.47218547  0.64673811 ...  0.42314642  0.42856544\n",
            "   0.20434008]\n",
            " [-2.96926537  0.46770234  0.64673811 ...  0.42314642  0.42856544\n",
            "   0.20565928]\n",
            " [ 0.32658792  0.47666859  0.6550193  ...  0.43491683 -1.00315324\n",
            "   0.20360144]]\n"
          ]
        }
      ],
      "source": [
        "\n",
        "X_norm, mu, sigma = featureNormalize(X)\n",
        "\n",
        "print(X)\n",
        "print('Media calculada:', mu)\n",
        "print('Desviación estandar calculada:', sigma)\n",
        "print(X_norm)"
      ]
    },
    {
      "cell_type": "code",
      "execution_count": 96,
      "metadata": {
        "id": "cGCa0X23jOew"
      },
      "outputs": [],
      "source": [
        "X = np.concatenate([np.ones((m, 1)), X_norm], axis=1)"
      ]
    },
    {
      "cell_type": "code",
      "execution_count": 98,
      "metadata": {
        "id": "tbsqNzdGjOew"
      },
      "outputs": [],
      "source": [
        "def computeCostMulti(X, y, theta):\n",
        "\n",
        "    m = y.shape[0]\n",
        "\n",
        "    J = 0\n",
        "\n",
        "    h = np.dot(X, theta)\n",
        "\n",
        "    J = (1/(2 * m)) * np.sum(np.square(np.dot(X, theta) - y))\n",
        "\n",
        "    return J\n"
      ]
    },
    {
      "cell_type": "code",
      "execution_count": 99,
      "metadata": {
        "id": "lW64wpxnjOew"
      },
      "outputs": [],
      "source": [
        "def gradientDescentPoly(X, y, theta, alpha, num_iters):\n",
        "\n",
        "\n",
        "    m = y.shape[0]\n",
        "    theta = theta.copy()\n",
        "\n",
        "    J_history = []\n",
        "\n",
        "    for i in range(num_iters):\n",
        "        theta = theta - (alpha / m) * (np.dot(X, theta) - y).dot(X)\n",
        "        J_history.append(computeCostMulti(X, y, theta))\n",
        "\n",
        "    return theta, J_history"
      ]
    },
    {
      "cell_type": "code",
      "execution_count": 100,
      "metadata": {
        "colab": {
          "base_uri": "https://localhost:8080/"
        },
        "id": "JVC66G8AjOew",
        "outputId": "4ebe9685-01ef-4442-b796-d6f3b49439b3"
      },
      "outputs": [
        {
          "output_type": "stream",
          "name": "stdout",
          "text": [
            "Número de filas: 200000\n",
            "Número de columnas: 21\n"
          ]
        }
      ],
      "source": [
        "num_filas, num_columnas = X.shape\n",
        "print(\"Número de filas:\", num_filas)\n",
        "print(\"Número de columnas:\", num_columnas)"
      ]
    },
    {
      "cell_type": "code",
      "execution_count": 102,
      "metadata": {
        "colab": {
          "base_uri": "https://localhost:8080/",
          "height": 482
        },
        "id": "Gb5TXRXmjOex",
        "outputId": "3d6faf61-6b27-4e66-942e-a6c26a792616"
      },
      "outputs": [
        {
          "output_type": "execute_result",
          "data": {
            "text/plain": [
              "Text(0, 0.5, 'Costo J')"
            ]
          },
          "metadata": {},
          "execution_count": 102
        },
        {
          "output_type": "display_data",
          "data": {
            "text/plain": [
              "<Figure size 640x480 with 1 Axes>"
            ],
            "image/png": "[encoded data removed]"
          },
          "metadata": {}
        }
      ],
      "source": [
        "# Elegir algun valor para alpha (probar varias alternativas)\n",
        "alpha = 0.003\n",
        "num_iters = 5000\n",
        "\n",
        "# inicializa theta y ejecuta el descenso por el gradiente\n",
        "theta = np.zeros(21)\n",
        "theta, J_history = gradientDescentPoly(X, y, theta, alpha, num_iters)\n",
        "\n",
        "# Grafica la convergencia del costo\n",
        "pyplot.plot(np.arange(len(J_history)), J_history, lw=2)\n",
        "pyplot.xlabel('Numero de iteraciones')\n",
        "pyplot.ylabel('Costo J')\n"
      ]
    },
    {
      "cell_type": "markdown",
      "source": [
        "Sacamos valores de predicción con el csv Datos_Prediccion.csv"
      ],
      "metadata": {
        "id": "PvbF3W-17F7D"
      }
    },
    {
      "cell_type": "code",
      "source": [
        "# Calcula los parametros con la ecuación de la normal\n",
        "theta = normalEqn(X, y)\n",
        "X_predic = pd.read_csv('/content/Datos_Prediccion.csv', delimiter=';')\n",
        "tamanho = X_predic.shape[0]\n",
        "X_predic= np.concatenate([X_predic, X_predic * X_predic], axis=1)\n",
        "X_predic[:] = (X_predic[:] - mu) / sigma\n",
        "X_predic = np.concatenate([np.ones((tamanho, 1)), X_predic], axis=1)\n",
        "\n",
        "for i in range(tamanho):\n",
        "  X_array = X_predic[i, :]\n",
        "  predic = np.dot(X_array, theta)\n",
        "  print('Predicción de Registro de temperatura en grados Celsius N°', i+1, ': {:.0f}'.format(predic))"
      ],
      "metadata": {
        "colab": {
          "base_uri": "https://localhost:8080/"
        },
        "id": "euwUQ8gE7Opr",
        "outputId": "b221a7ee-b031-4e8f-c8d7-079d9a45ceaf"
      },
      "execution_count": 103,
      "outputs": [
        {
          "output_type": "stream",
          "name": "stdout",
          "text": [
            "Predicción de Registro de temperatura en grados Celsius N° 1 : 1933\n",
            "Predicción de Registro de temperatura en grados Celsius N° 2 : 1973\n",
            "Predicción de Registro de temperatura en grados Celsius N° 3 : 2000\n",
            "Predicción de Registro de temperatura en grados Celsius N° 4 : 1983\n",
            "Predicción de Registro de temperatura en grados Celsius N° 5 : 1931\n",
            "Predicción de Registro de temperatura en grados Celsius N° 6 : 1986\n",
            "Predicción de Registro de temperatura en grados Celsius N° 7 : 1937\n",
            "Predicción de Registro de temperatura en grados Celsius N° 8 : 1976\n",
            "Predicción de Registro de temperatura en grados Celsius N° 9 : 1976\n",
            "Predicción de Registro de temperatura en grados Celsius N° 10 : 1976\n",
            "Predicción de Registro de temperatura en grados Celsius N° 11 : 1976\n",
            "Predicción de Registro de temperatura en grados Celsius N° 12 : 1930\n",
            "Predicción de Registro de temperatura en grados Celsius N° 13 : 1986\n",
            "Predicción de Registro de temperatura en grados Celsius N° 14 : 1933\n",
            "Predicción de Registro de temperatura en grados Celsius N° 15 : 1931\n",
            "Predicción de Registro de temperatura en grados Celsius N° 16 : 1976\n",
            "Predicción de Registro de temperatura en grados Celsius N° 17 : 1976\n",
            "Predicción de Registro de temperatura en grados Celsius N° 18 : 1944\n",
            "Predicción de Registro de temperatura en grados Celsius N° 19 : 1986\n",
            "Predicción de Registro de temperatura en grados Celsius N° 20 : 1986\n",
            "Predicción de Registro de temperatura en grados Celsius N° 21 : 1986\n",
            "Predicción de Registro de temperatura en grados Celsius N° 22 : 1937\n",
            "Predicción de Registro de temperatura en grados Celsius N° 23 : 1967\n",
            "Predicción de Registro de temperatura en grados Celsius N° 24 : 1969\n",
            "Predicción de Registro de temperatura en grados Celsius N° 25 : 1983\n",
            "Predicción de Registro de temperatura en grados Celsius N° 26 : 1983\n",
            "Predicción de Registro de temperatura en grados Celsius N° 27 : 1976\n",
            "Predicción de Registro de temperatura en grados Celsius N° 28 : 1969\n",
            "Predicción de Registro de temperatura en grados Celsius N° 29 : 1976\n",
            "Predicción de Registro de temperatura en grados Celsius N° 30 : 1976\n",
            "Predicción de Registro de temperatura en grados Celsius N° 31 : 1976\n",
            "Predicción de Registro de temperatura en grados Celsius N° 32 : 1976\n",
            "Predicción de Registro de temperatura en grados Celsius N° 33 : 1934\n",
            "Predicción de Registro de temperatura en grados Celsius N° 34 : 1976\n",
            "Predicción de Registro de temperatura en grados Celsius N° 35 : 1969\n",
            "Predicción de Registro de temperatura en grados Celsius N° 36 : 1976\n",
            "Predicción de Registro de temperatura en grados Celsius N° 37 : 2068\n",
            "Predicción de Registro de temperatura en grados Celsius N° 38 : 2064\n",
            "Predicción de Registro de temperatura en grados Celsius N° 39 : 1859\n",
            "Predicción de Registro de temperatura en grados Celsius N° 40 : 1856\n",
            "Predicción de Registro de temperatura en grados Celsius N° 41 : 1905\n",
            "Predicción de Registro de temperatura en grados Celsius N° 42 : 1937\n",
            "Predicción de Registro de temperatura en grados Celsius N° 43 : 1930\n",
            "Predicción de Registro de temperatura en grados Celsius N° 44 : 1961\n",
            "Predicción de Registro de temperatura en grados Celsius N° 45 : 1961\n",
            "Predicción de Registro de temperatura en grados Celsius N° 46 : 1961\n",
            "Predicción de Registro de temperatura en grados Celsius N° 47 : 1961\n",
            "Predicción de Registro de temperatura en grados Celsius N° 48 : 1929\n",
            "Predicción de Registro de temperatura en grados Celsius N° 49 : 1959\n",
            "Predicción de Registro de temperatura en grados Celsius N° 50 : 1959\n",
            "Predicción de Registro de temperatura en grados Celsius N° 51 : 1955\n",
            "Predicción de Registro de temperatura en grados Celsius N° 52 : 1961\n",
            "Predicción de Registro de temperatura en grados Celsius N° 53 : 1959\n",
            "Predicción de Registro de temperatura en grados Celsius N° 54 : 1961\n",
            "Predicción de Registro de temperatura en grados Celsius N° 55 : 1874\n",
            "Predicción de Registro de temperatura en grados Celsius N° 56 : 1880\n",
            "Predicción de Registro de temperatura en grados Celsius N° 57 : 1880\n",
            "Predicción de Registro de temperatura en grados Celsius N° 58 : 1880\n",
            "Predicción de Registro de temperatura en grados Celsius N° 59 : 1895\n",
            "Predicción de Registro de temperatura en grados Celsius N° 60 : 1866\n",
            "Predicción de Registro de temperatura en grados Celsius N° 61 : 1880\n",
            "Predicción de Registro de temperatura en grados Celsius N° 62 : 1862\n",
            "Predicción de Registro de temperatura en grados Celsius N° 63 : 1880\n",
            "Predicción de Registro de temperatura en grados Celsius N° 64 : 1880\n",
            "Predicción de Registro de temperatura en grados Celsius N° 65 : 1866\n",
            "Predicción de Registro de temperatura en grados Celsius N° 66 : 1880\n",
            "Predicción de Registro de temperatura en grados Celsius N° 67 : 1831\n",
            "Predicción de Registro de temperatura en grados Celsius N° 68 : 1961\n",
            "Predicción de Registro de temperatura en grados Celsius N° 69 : 1937\n",
            "Predicción de Registro de temperatura en grados Celsius N° 70 : 1961\n",
            "Predicción de Registro de temperatura en grados Celsius N° 71 : 1976\n",
            "Predicción de Registro de temperatura en grados Celsius N° 72 : 1961\n",
            "Predicción de Registro de temperatura en grados Celsius N° 73 : 1961\n",
            "Predicción de Registro de temperatura en grados Celsius N° 74 : 1961\n",
            "Predicción de Registro de temperatura en grados Celsius N° 75 : 1961\n",
            "Predicción de Registro de temperatura en grados Celsius N° 76 : 1961\n",
            "Predicción de Registro de temperatura en grados Celsius N° 77 : 1958\n",
            "Predicción de Registro de temperatura en grados Celsius N° 78 : 1937\n",
            "Predicción de Registro de temperatura en grados Celsius N° 79 : 1937\n",
            "Predicción de Registro de temperatura en grados Celsius N° 80 : 1961\n",
            "Predicción de Registro de temperatura en grados Celsius N° 81 : 1947\n",
            "Predicción de Registro de temperatura en grados Celsius N° 82 : 1894\n",
            "Predicción de Registro de temperatura en grados Celsius N° 83 : 1959\n",
            "Predicción de Registro de temperatura en grados Celsius N° 84 : 1961\n",
            "Predicción de Registro de temperatura en grados Celsius N° 85 : 1961\n",
            "Predicción de Registro de temperatura en grados Celsius N° 86 : 1943\n",
            "Predicción de Registro de temperatura en grados Celsius N° 87 : 1961\n",
            "Predicción de Registro de temperatura en grados Celsius N° 88 : 1943\n",
            "Predicción de Registro de temperatura en grados Celsius N° 89 : 1947\n",
            "Predicción de Registro de temperatura en grados Celsius N° 90 : 1947\n",
            "Predicción de Registro de temperatura en grados Celsius N° 91 : 1959\n",
            "Predicción de Registro de temperatura en grados Celsius N° 92 : 1961\n",
            "Predicción de Registro de temperatura en grados Celsius N° 93 : 1886\n",
            "Predicción de Registro de temperatura en grados Celsius N° 94 : 1961\n",
            "Predicción de Registro de temperatura en grados Celsius N° 95 : 1961\n",
            "Predicción de Registro de temperatura en grados Celsius N° 96 : 2142\n",
            "Predicción de Registro de temperatura en grados Celsius N° 97 : 1961\n",
            "Predicción de Registro de temperatura en grados Celsius N° 98 : 1961\n",
            "Predicción de Registro de temperatura en grados Celsius N° 99 : 1961\n",
            "Predicción de Registro de temperatura en grados Celsius N° 100 : 1961\n"
          ]
        }
      ]
    }
  ],
  "metadata": {
    "colab": {
      "provenance": [],
      "include_colab_link": true
    },
    "kernelspec": {
      "display_name": "Python 3",
      "language": "python",
      "name": "python3"
    },
    "language_info": {
      "codemirror_mode": {
        "name": "ipython",
        "version": 3
      },
      "file_extension": ".py",
      "mimetype": "text/x-python",
      "name": "python",
      "nbconvert_exporter": "python",
      "pygments_lexer": "ipython3",
      "version": "3.11.8"
    }
  },
  "nbformat": 4,
  "nbformat_minor": 0
}